{
 "cells": [
  {
   "cell_type": "markdown",
   "id": "6b729dd2-fe59-40c7-bc5c-79c1d7891872",
   "metadata": {},
   "source": [
    "# Titanic Survival Prediction\n",
    "Author: Georg Brandmayr\n",
    "\n",
    "This notebook implements the prediction of titanic survivors. A training dataset `train.csv` with 918 passengers including survival status is used to learn a prediction function. A test set `test.csv` contains 418 passengers and will be used to predict their survival.\n",
    "\n",
    "Your results must be reproducible - please **don't overlook the rules for `random_state`** in the body of this notebook to obtain full credit for your ."
   ]
  },
  {
   "cell_type": "code",
   "execution_count": null,
   "id": "58f93b3b-0f6b-44a5-9bcb-140afe0c96c5",
   "metadata": {},
   "outputs": [],
   "source": [
    "import pandas as pd\n",
    "print('pandas', pd.__version__)\n",
    "import numpy as np\n",
    "print('numpy', np.__version__)\n",
    "import seaborn as sns\n",
    "from pathlib import Path\n"
   ]
  },
  {
   "cell_type": "markdown",
   "id": "e8ad154d-f90d-4e7d-9f3b-924f27c95663",
   "metadata": {},
   "source": [
    "## Obtain and explore"
   ]
  },
  {
   "cell_type": "code",
   "execution_count": null,
   "id": "7be45e07-a582-4521-9c4d-1e2bba2ea1e9",
   "metadata": {},
   "outputs": [],
   "source": [
    "data_path = Path.cwd()\n",
    "\n",
    "df = pd.read_csv(data_path/'train.csv', index_col=0)\n",
    "df[:3]"
   ]
  },
  {
   "cell_type": "code",
   "execution_count": null,
   "id": "0b616566-9711-4319-94bd-df4d5ea8f9cb",
   "metadata": {},
   "outputs": [],
   "source": [
    "df.Survived.value_counts().plot.pie(autopct='%.1f%%', \n",
    "                                    wedgeprops={'linewidth': 3.0, 'edgecolor': 'white'}, \n",
    "                                    textprops=dict(size='x-large', color='white', fontweight='bold')).set_title('Survived');"
   ]
  },
  {
   "cell_type": "code",
   "execution_count": null,
   "id": "152ec791-18d4-4a81-a241-bdb08d9dc767",
   "metadata": {},
   "outputs": [],
   "source": [
    "df.groupby(['Pclass']).Survived.agg(Survivor_ratio='mean', Passengers='size')"
   ]
  },
  {
   "cell_type": "code",
   "execution_count": null,
   "id": "8b7d2004-70e2-4421-a53a-bab1b1a56e60",
   "metadata": {},
   "outputs": [],
   "source": [
    "#df.set_index('Survived', append=True)['Age'].unstack().boxplot()\n",
    "sns.boxplot(df, x='Survived', y='Age');"
   ]
  },
  {
   "cell_type": "markdown",
   "id": "9d8142b4-a60e-4151-8a9b-02712e7b99d2",
   "metadata": {},
   "source": [
    "## Model on prior probability\n"
   ]
  },
  {
   "cell_type": "code",
   "execution_count": null,
   "id": "59eafffc-47cb-4783-8022-254a8d283fe9",
   "metadata": {},
   "outputs": [],
   "source": [
    "import sklearn\n",
    "print('sklearn', sklearn.__version__)\n",
    "from sklearn.base import BaseEstimator, ClassifierMixin\n",
    "from sklearn.ensemble import RandomForestClassifier\n",
    "from sklearn.tree import DecisionTreeClassifier\n",
    "from sklearn.metrics import accuracy_score\n",
    "from sklearn.model_selection import train_test_split, cross_val_score, StratifiedKFold\n"
   ]
  },
  {
   "cell_type": "code",
   "execution_count": null,
   "id": "3b5d2f95-b18e-4990-b8e2-fce4c03f7f55",
   "metadata": {},
   "outputs": [],
   "source": [
    "# a pessimist can never be disappointed\n",
    "class Pessimist(BaseEstimator, ClassifierMixin):\n",
    "    def __init__(self):\n",
    "        self.fit(None, None)\n",
    "    def fit(self, X, y):\n",
    "        return self\n",
    "    def predict(self, X):\n",
    "        return np.zeros(len(X,), dtype='int8')\n",
    "    \n",
    "model = Pessimist()\n",
    "model"
   ]
  },
  {
   "cell_type": "code",
   "execution_count": null,
   "id": "e303af03-c392-45a0-a21a-ae050f749089",
   "metadata": {},
   "outputs": [],
   "source": [
    "y_train = df['Survived']\n",
    "X_train = df[df.columns[1:]]\n",
    "\n",
    "yh = model.predict(X_train)\n",
    "\n",
    "score = accuracy_score(y_train, yh)\n",
    "score"
   ]
  },
  {
   "cell_type": "markdown",
   "id": "a1de31ab-05cf-4d0d-93ab-96c499167afd",
   "metadata": {},
   "source": [
    "## Test model\n",
    "The test targets are not available. To obtain the test score the predictions on the `test data` must be submitted."
   ]
  },
  {
   "cell_type": "code",
   "execution_count": null,
   "id": "c91a1a1a-9e8f-401b-9694-d0242daa0128",
   "metadata": {},
   "outputs": [],
   "source": [
    "# load the test data\n",
    "X_test = pd.read_csv(data_path/'test.csv', index_col=0)\n",
    "X_test"
   ]
  },
  {
   "cell_type": "code",
   "execution_count": null,
   "id": "4f293e55-28ed-444e-885f-f9da2b5fb28f",
   "metadata": {},
   "outputs": [],
   "source": [
    "yh = model.predict(X_test)\n",
    "yh = pd.Series(yh, X_test.index, name='Survived')"
   ]
  },
  {
   "cell_type": "markdown",
   "id": "e2ba9c44-1b93-4fef-92e6-1eabb258cbec",
   "metadata": {},
   "source": [
    "Save the result as CSV for submission."
   ]
  },
  {
   "cell_type": "code",
   "execution_count": null,
   "id": "210bdcc1-1f48-48f8-81f9-f68767a35789",
   "metadata": {},
   "outputs": [],
   "source": [
    "yh.to_csv(data_path/'submission_test.csv')"
   ]
  },
  {
   "cell_type": "markdown",
   "id": "13272bd8-be72-42cc-a583-b8d0281539f7",
   "metadata": {},
   "source": [
    "After submitting `test_submission.csv` online the test score was published under our ID. It is 0.622."
   ]
  },
  {
   "cell_type": "code",
   "execution_count": null,
   "id": "9adc3705-7fff-4fea-8a84-bd4070f8f9c5",
   "metadata": {},
   "outputs": [],
   "source": [
    "scores = pd.DataFrame(dict(train=score, \n",
    "                          test=0.622), \n",
    "                     index=['Pessimist'])\n",
    "scores"
   ]
  },
  {
   "cell_type": "markdown",
   "id": "d7a5201e-621a-4709-8fc9-cab1b4d2e124",
   "metadata": {},
   "source": [
    "Nice, the test score fits well to the training result. "
   ]
  },
  {
   "cell_type": "markdown",
   "id": "f2a9479e-05ed-4eb9-9c79-3fdd8fc01727",
   "metadata": {},
   "source": [
    "## Model on data\n",
    "Result must be reproducible, i.e., multiple runs must result in the same result."
   ]
  },
  {
   "cell_type": "markdown",
   "id": "e8812d3f-0f6c-490a-9175-6b8aed6507d4",
   "metadata": {},
   "source": [
    "All `random_state` parameters (for models, data splitting, etc.) must be fixed - for reproducibility - based on your **random ID in `RandomID.csv`**. "
   ]
  },
  {
   "cell_type": "code",
   "execution_count": null,
   "id": "39eb3e92-5332-421f-9612-b8bb0aeb856b",
   "metadata": {},
   "outputs": [],
   "source": [
    "random_id = 1\n",
    "# a RandomState object or the id may be used, choose a variant\n",
    "random_state = np.random.RandomState(random_id)\n",
    "random_state = random_id\n",
    "#random_state = None"
   ]
  },
  {
   "cell_type": "markdown",
   "id": "51ac4d32-d6fb-4027-a54d-414274d7878a",
   "metadata": {},
   "source": [
    "Let's create another model, based on the data."
   ]
  },
  {
   "cell_type": "code",
   "execution_count": null,
   "id": "84850c39-5262-4747-9f6c-56af3a55d8a9",
   "metadata": {},
   "outputs": [],
   "source": [
    "features = ['Pclass']#, 'Age']"
   ]
  },
  {
   "cell_type": "code",
   "execution_count": null,
   "id": "12e7f9af-fa92-421e-b624-577cfca49c45",
   "metadata": {},
   "outputs": [],
   "source": [
    "y_train = df['Survived']\n",
    "X_train = df[features]\n",
    "X_train"
   ]
  },
  {
   "cell_type": "code",
   "execution_count": null,
   "id": "87b5bba5-ec50-49af-a05b-6fa204fdb521",
   "metadata": {},
   "outputs": [],
   "source": [
    "model = DecisionTreeClassifier(random_state=random_state)\n",
    "model"
   ]
  },
  {
   "cell_type": "markdown",
   "id": "64a3b871-ead0-4f77-a0ab-bfa51e520fc2",
   "metadata": {},
   "source": [
    "Let's train the model. We evaluate it on the train set to assess overfitting."
   ]
  },
  {
   "cell_type": "code",
   "execution_count": null,
   "id": "0bfd4668-0f58-48b3-ac16-44463572678a",
   "metadata": {},
   "outputs": [],
   "source": [
    "model.fit(X_train, y_train)\n",
    "score = accuracy_score(y_train, model.predict(X_train))\n",
    "scores.loc['DT', 'train'] = score\n",
    "score"
   ]
  },
  {
   "cell_type": "markdown",
   "id": "ef5b8ea5-6c99-4f29-9d20-2b981e585ea5",
   "metadata": {},
   "source": [
    "Cross validation can be used as a proxy for test performance"
   ]
  },
  {
   "cell_type": "code",
   "execution_count": null,
   "id": "a0c0d6a5-1253-4b6a-9dcf-637a238a7d50",
   "metadata": {},
   "outputs": [],
   "source": [
    "cv = 7\n",
    "s = cross_val_score(model, X_train, y_train, cv=cv)\n",
    "m = s.mean()\n",
    "sd = s.std()\n",
    "scores.loc['DT', 'cv'] = m\n",
    "# assume a Gaussian dist.\n",
    "l = m - 1.96*sd/(len(s)**.5)\n",
    "u = m + 1.96*sd/(len(s)**.5)\n",
    "print(f'CV score = {m:.3f}±{sd:.3f}, 95% CI [{l:.3f}, {u:.3f}], folds:', s,)\n",
    "#model.fit(X_train, y_train)\n",
    "scores\n"
   ]
  },
  {
   "cell_type": "markdown",
   "id": "8c2616ab-ac5e-4adb-ab1e-497d52ba8a9e",
   "metadata": {},
   "source": [
    "For comparison:"
   ]
  },
  {
   "cell_type": "code",
   "execution_count": null,
   "id": "a04eb265-c6b3-4cc8-84c0-4d9be2a9d356",
   "metadata": {},
   "outputs": [],
   "source": [
    "scores.loc['Pessimist', 'cv'] = cross_val_score(Pessimist(), X_train, y_train, cv=cv).mean()\n",
    "scores"
   ]
  },
  {
   "cell_type": "code",
   "execution_count": null,
   "id": "aa5d4a6d-44a6-4d5b-8e23-c7fdbe468d2c",
   "metadata": {},
   "outputs": [],
   "source": [
    "ax = scores[['train', 'cv', 'test']].T.plot.bar()\n",
    "ax.grid()\n",
    "x, dx = 2, .2\n",
    "ax.hlines(y=0.775, xmin=x - dx, xmax=x + dx, linestyle='--', color='k')\n",
    "ax.set_ylim([.55, 0.85])\n",
    "ax.set_title('Accuracy comparison');\n",
    "ax.legend(['Minimum', *scores.index],);# loc='lower right')"
   ]
  },
  {
   "cell_type": "markdown",
   "id": "3ca151bc-f26b-4f7e-a9f5-835537c1f2d9",
   "metadata": {},
   "source": [
    "The data based model improved in cross validation and no extreme overfitting occurs on the train set. \n",
    "\n",
    "How will it perform on the test set? "
   ]
  },
  {
   "cell_type": "code",
   "execution_count": null,
   "id": "d4c928f1-51d1-4eda-9619-eed061975bcc",
   "metadata": {},
   "outputs": [],
   "source": [
    "yh = model.predict(X_test[features])\n",
    "yh = pd.Series(yh, X_test.index, name='Survived')\n",
    "# save submission\n",
    "yh.to_csv(data_path/'submission_test.csv') "
   ]
  },
  {
   "cell_type": "markdown",
   "id": "7bd24622-b4d4-479c-8bb5-36d2254a9edd",
   "metadata": {},
   "source": [
    "Ready to submit the predictions! Upload submission."
   ]
  },
  {
   "cell_type": "code",
   "execution_count": null,
   "id": "75c9c4e4-2bc5-4e14-b1f0-830f1895c3fb",
   "metadata": {},
   "outputs": [],
   "source": []
  }
 ],
 "metadata": {
  "kernelspec": {
   "display_name": "base",
   "language": "python",
   "name": "python3"
  },
  "language_info": {
   "codemirror_mode": {
    "name": "ipython",
    "version": 3
   },
   "file_extension": ".py",
   "mimetype": "text/x-python",
   "name": "python",
   "nbconvert_exporter": "python",
   "pygments_lexer": "ipython3",
   "version": "3.12.2"
  }
 },
 "nbformat": 4,
 "nbformat_minor": 5
}

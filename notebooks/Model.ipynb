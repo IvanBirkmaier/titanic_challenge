{
 "cells": [
  {
   "cell_type": "markdown",
   "metadata": {},
   "source": [
    "### Imports"
   ]
  },
  {
   "cell_type": "code",
   "execution_count": 74,
   "metadata": {},
   "outputs": [],
   "source": [
    "import pandas as pd\n",
    "from sklearn.model_selection import cross_val_score, KFold\n",
    "from sklearn.ensemble import RandomForestClassifier\n",
    "from sklearn.metrics import accuracy_score\n",
    "from sklearn.preprocessing import StandardScaler\n",
    "from sklearn.pipeline import make_pipeline\n",
    "from pathlib import Path\n"
   ]
  },
  {
   "cell_type": "markdown",
   "metadata": {},
   "source": [
    "### Load Datasets"
   ]
  },
  {
   "cell_type": "code",
   "execution_count": 75,
   "metadata": {},
   "outputs": [],
   "source": [
    "data_path = Path.cwd()\n",
    "\n",
    "# Pfad zur CSV-Datei das Später erstellt wird\n",
    "train = pd.read_csv(data_path/'../csv/feature_data/train_engineered.csv')\n",
    "test = pd.read_csv(data_path/'../csv/feature_data/test_engineered.csv')\n"
   ]
  },
  {
   "cell_type": "code",
   "execution_count": 76,
   "metadata": {},
   "outputs": [
    {
     "name": "stdout",
     "output_type": "stream",
     "text": [
      "891\n",
      "418\n"
     ]
    }
   ],
   "source": [
    "print(len(train))\n",
    "print(len(test))"
   ]
  },
  {
   "cell_type": "markdown",
   "metadata": {},
   "source": [
    "### Modell"
   ]
  },
  {
   "cell_type": "markdown",
   "metadata": {},
   "source": [
    "### Skitlearn RandomForest"
   ]
  },
  {
   "cell_type": "code",
   "execution_count": 84,
   "metadata": {},
   "outputs": [
    {
     "name": "stdout",
     "output_type": "stream",
     "text": [
      "891\n",
      "418\n",
      "Accuracy scores for the 10 folds: [0.83333333 0.82022472 0.82022472 0.78651685 0.85393258 0.86516854\n",
      " 0.80898876 0.78651685 0.84269663 0.87640449]\n",
      "Average accuracy: 0.8294007490636706\n"
     ]
    }
   ],
   "source": [
    "import pandas as pd\n",
    "from sklearn.model_selection import cross_val_score, KFold\n",
    "from sklearn.ensemble import RandomForestClassifier\n",
    "from sklearn.metrics import accuracy_score\n",
    "from sklearn.preprocessing import StandardScaler\n",
    "from sklearn.pipeline import make_pipeline\n",
    "from pathlib import Path\n",
    "\n",
    "\n",
    "data_path = Path.cwd()\n",
    "\n",
    "# Pfad zur CSV-Datei das Später erstellt wird\n",
    "train = pd.read_csv(data_path/'../csv/feature_data/train_engineered.csv')\n",
    "test = pd.read_csv(data_path/'../csv/feature_data/test_engineered.csv')\n",
    "print(len(train))\n",
    "print(len(test))\n",
    "\n",
    "# Überprüfe, ob im Testdatensatz 'Survived' fehlt und setze es auf -1, um die Struktur beizubehalten\n",
    "test['Survived'] = -1\n",
    "\n",
    "# Bereinige die Daten, falls nötig (z.B. fehlende Werte)\n",
    "# Für das Beispiel hier keine Bereinigung angenommen.\n",
    "\n",
    "# train =  train.drop(['Ticket'], axis=1)\n",
    "# test = test.drop(['Ticket'], axis=1)\n",
    "\n",
    "# Feature und Label definieren\n",
    "X_train = train.drop(['PassengerId', 'Survived'], axis=1)\n",
    "y_train = train['Survived']\n",
    "\n",
    "# Modell vorbereiten\n",
    "model = make_pipeline(StandardScaler(), RandomForestClassifier(n_estimators=100, random_state=7))\n",
    "\n",
    "# Cross-Validation\n",
    "cv = KFold(n_splits=10, random_state=42, shuffle=True)\n",
    "scores = cross_val_score(model, X_train, y_train, cv=cv, scoring='accuracy')\n",
    "print(f'Accuracy scores for the 10 folds: {scores}')\n",
    "print(f'Average accuracy: {scores.mean()}')\n",
    "\n",
    "# Modell mit dem gesamten Trainingsdatensatz trainieren\n",
    "model.fit(X_train, y_train)\n",
    "\n",
    "# Vorhersagen für Testdatensatz machen\n",
    "X_test = test.drop(['PassengerId', 'Survived'], axis=1)\n",
    "predictions = model.predict(X_test)\n",
    "\n",
    "# Vorhersagen in den Testdatensatz einfügen und in CSV exportieren\n",
    "test['Survived'] = predictions\n",
    "result = test[['PassengerId', 'Survived']]\n",
    "result.to_csv(data_path/'../csv/submission_test.csv', index=False)"
   ]
  },
  {
   "cell_type": "markdown",
   "metadata": {},
   "source": [
    "### XGBoost-Klassifikator"
   ]
  },
  {
   "cell_type": "code",
   "execution_count": 83,
   "metadata": {},
   "outputs": [
    {
     "name": "stdout",
     "output_type": "stream",
     "text": [
      "891\n",
      "418\n",
      "Accuracy scores for the 10 folds: [0.81666667 0.8        0.81666667 0.78333333 0.8        0.7\n",
      " 0.86440678 0.83050847 0.86440678 0.79661017 0.77966102 0.83050847\n",
      " 0.79661017 0.83050847 0.89830508]\n",
      "Average accuracy: 0.8138794726930321\n"
     ]
    }
   ],
   "source": [
    "import pandas as pd\n",
    "from sklearn.model_selection import KFold, cross_val_score\n",
    "from sklearn.pipeline import make_pipeline\n",
    "from sklearn.preprocessing import StandardScaler\n",
    "from xgboost import XGBClassifier\n",
    "from pathlib import Path\n",
    "\n",
    "\n",
    "data_path = Path.cwd()\n",
    "\n",
    "# Pfad zur CSV-Datei das Später erstellt wird\n",
    "train = pd.read_csv(data_path/'../csv/feature_data/train_engineered.csv')\n",
    "test = pd.read_csv(data_path/'../csv/feature_data/test_engineered.csv')\n",
    "print(len(train))\n",
    "print(len(test))\n",
    "\n",
    "# Angenommen, deine Trainings- und Testdatensätze wurden bereits geladen in `train` und `test`\n",
    "\n",
    "# Setze 'Survived' im Testdatensatz auf -1, um die Struktur beizubehalten\n",
    "test['Survived'] = -1\n",
    "\n",
    "# Entferne die 'Ticket' Spalte aus beiden Datensätzen\n",
    "# train = train.drop(['Ticket'], axis=1)\n",
    "# test = test.drop(['Ticket'], axis=1)\n",
    "\n",
    "# Definiere Features und Label\n",
    "X_train = train.drop(['PassengerId', 'Survived'], axis=1)\n",
    "y_train = train['Survived']\n",
    "\n",
    "# Vorbereitung des Modells\n",
    "# Hier verwenden wir XGBClassifier direkt, da XGBoost seine eigene Methode zur Handhabung von Feature-Skalierung hat,\n",
    "# und es ist nicht zwingend notwendig, StandardScaler in der Pipeline zu verwenden.\n",
    "model = XGBClassifier(n_estimators=100, random_state=7, use_label_encoder=False, eval_metric='logloss')\n",
    "\n",
    "# Cross-Validation\n",
    "cv = KFold(n_splits=15, random_state=42, shuffle=True)\n",
    "scores = cross_val_score(model, X_train, y_train, cv=cv, scoring='accuracy')\n",
    "print(f'Accuracy scores for the 10 folds: {scores}')\n",
    "print(f'Average accuracy: {scores.mean()}')\n",
    "\n",
    "# Trainiere das Modell mit dem gesamten Trainingsdatensatz\n",
    "model.fit(X_train, y_train)\n",
    "\n",
    "# Mache Vorhersagen für den Testdatensatz\n",
    "X_test = test.drop(['PassengerId', 'Survived'], axis=1)\n",
    "predictions = model.predict(X_test)\n",
    "\n",
    "# Füge Vorhersagen in den Testdatensatz ein und exportiere in CSV\n",
    "test['Survived'] = predictions\n",
    "result = test[['PassengerId', 'Survived']]\n",
    "result.to_csv(data_path / '../csv/submission_test.csv', index=False)\n"
   ]
  },
  {
   "cell_type": "markdown",
   "metadata": {},
   "source": [
    "### PCA für Dimensionalitätsreduktion"
   ]
  },
  {
   "cell_type": "code",
   "execution_count": 79,
   "metadata": {},
   "outputs": [
    {
     "name": "stdout",
     "output_type": "stream",
     "text": [
      "891\n",
      "418\n",
      "Accuracy scores for the folds: [0.65       0.61666667 0.78333333 0.7        0.51666667 0.65\n",
      " 0.59322034 0.6440678  0.71186441 0.76271186 0.6779661  0.61016949\n",
      " 0.6779661  0.57627119 0.79661017]\n",
      "Average accuracy: 0.6645009416195857\n"
     ]
    }
   ],
   "source": [
    "from sklearn.decomposition import PCA\n",
    "from sklearn.model_selection import cross_val_score, KFold\n",
    "from sklearn.pipeline import Pipeline\n",
    "from xgboost import XGBClassifier\n",
    "import pandas as pd\n",
    "from pathlib import Path\n",
    "\n",
    "\n",
    "data_path = Path.cwd()\n",
    "\n",
    "# Pfad zur CSV-Datei das Später erstellt wird\n",
    "train = pd.read_csv(data_path/'../csv/feature_data/train_engineered.csv')\n",
    "test = pd.read_csv(data_path/'../csv/feature_data/test_engineered.csv')\n",
    "print(len(train))\n",
    "print(len(test))\n",
    "\n",
    "\n",
    "# # Entferne die 'Ticket' Spalte (wie in Ihrem Code)\n",
    "# train.drop(['Ticket'], axis=1, inplace=True)\n",
    "# test.drop(['Ticket'], axis=1, inplace=True)\n",
    "\n",
    "# Features und Label definieren\n",
    "X_train = train.drop(['PassengerId', 'Survived'], axis=1)\n",
    "y_train = train['Survived']\n",
    "\n",
    "# PCA und XGBoost in einer Pipeline\n",
    "pipeline = Pipeline([\n",
    "    ('pca', PCA(n_components=0.95)),  # behalte 95% der Varianz\n",
    "    ('classifier', XGBClassifier(n_estimators=100, random_state=7, use_label_encoder=False, eval_metric='logloss'))\n",
    "])\n",
    "\n",
    "# Cross-Validation\n",
    "cv = KFold(n_splits=15, random_state=42, shuffle=True)\n",
    "scores = cross_val_score(pipeline, X_train, y_train, cv=cv, scoring='accuracy')\n",
    "\n",
    "print(f'Accuracy scores for the folds: {scores}')\n",
    "print(f'Average accuracy: {scores.mean()}')\n",
    "\n",
    "# Trainieren des Modells mit dem gesamten Trainingsdatensatz\n",
    "pipeline.fit(X_train, y_train)\n",
    "\n",
    "# Vorhersagen für den Testdatensatz\n",
    "X_test = test.drop(['PassengerId', 'Survived'], axis=1)\n",
    "predictions = pipeline.predict(X_test)\n",
    "\n",
    "# Ergebnisse in CSV exportieren\n",
    "test['Survived'] = predictions\n",
    "result = test[['PassengerId', 'Survived']]\n",
    "# result.to_csv('Pfad_für_Ihre_Ergebnisdatei.csv', index=False)  # Pfad aktualisieren\n"
   ]
  },
  {
   "cell_type": "markdown",
   "metadata": {},
   "source": [
    "### Hyperparameter-Tuning mit RandomizedSearchCV"
   ]
  },
  {
   "cell_type": "code",
   "execution_count": 81,
   "metadata": {},
   "outputs": [
    {
     "name": "stdout",
     "output_type": "stream",
     "text": [
      "Beste Parameter: {'subsample': 0.6, 'n_estimators': 100, 'max_depth': 9, 'learning_rate': 0.05, 'colsample_bytree': 0.5}\n",
      "Beste Accuracy: 0.8439708743958321\n"
     ]
    }
   ],
   "source": [
    "import pandas as pd\n",
    "from sklearn.model_selection import RandomizedSearchCV, KFold, cross_val_score\n",
    "from xgboost import XGBClassifier\n",
    "from pathlib import Path\n",
    "import numpy as np\n",
    "\n",
    "data_path = Path.cwd()\n",
    "\n",
    "# Lade die Datensätze\n",
    "train = pd.read_csv(data_path/'../csv/feature_data/train_engineered.csv')\n",
    "test = pd.read_csv(data_path/'../csv/feature_data/test_engineered.csv')\n",
    "\n",
    "# Setze 'Survived' im Testdatensatz auf -1\n",
    "test['Survived'] = -1\n",
    "\n",
    "# Definiere Features und Labels\n",
    "X_train = train.drop(['PassengerId', 'Survived'], axis=1)\n",
    "y_train = train['Survived']\n",
    "\n",
    "# Hyperparameter-Tuning\n",
    "xgb = XGBClassifier(use_label_encoder=False, eval_metric='logloss')\n",
    "\n",
    "param_dist = {\n",
    "    'n_estimators': np.arange(50, 400, 50),\n",
    "    'learning_rate': [0.01, 0.05, 0.1, 0.2, 0.3],\n",
    "    'max_depth': np.arange(3, 10, 1),\n",
    "    'colsample_bytree': [0.3, 0.5, 0.7, 0.9, 1.0],\n",
    "    'subsample': [0.6, 0.7, 0.8, 0.9, 1.0]\n",
    "}\n",
    "\n",
    "random_search = RandomizedSearchCV(xgb, param_distributions=param_dist, n_iter=25, scoring='accuracy', n_jobs=-1, cv=5, random_state=42)\n",
    "random_search.fit(X_train, y_train)\n",
    "\n",
    "print(f\"Beste Parameter: {random_search.best_params_}\")\n",
    "print(f\"Beste Accuracy: {random_search.best_score_}\")\n",
    "\n",
    "# Verwende die besten Parameter, um das Modell zu trainieren\n",
    "model = XGBClassifier(**random_search.best_params_)\n",
    "model.fit(X_train, y_train)\n",
    "\n",
    "# Mache Vorhersagen für den Testdatensatz und exportiere Ergebnisse\n",
    "X_test = test.drop(['PassengerId', 'Survived'], axis=1)\n",
    "predictions = model.predict(X_test)\n",
    "\n",
    "test['Survived'] = predictions\n",
    "result = test[['PassengerId', 'Survived']]\n",
    "result.to_csv(data_path / '../csv/submission_test.csv', index=False)"
   ]
  },
  {
   "cell_type": "markdown",
   "metadata": {},
   "source": [
    "### Ensemble-Modell mit Stacking"
   ]
  },
  {
   "cell_type": "code",
   "execution_count": 82,
   "metadata": {},
   "outputs": [
    {
     "name": "stdout",
     "output_type": "stream",
     "text": [
      "Accuracy des Stacking-Modells: 0.8350072186303434\n"
     ]
    }
   ],
   "source": [
    "from sklearn.ensemble import StackingClassifier, RandomForestClassifier\n",
    "from sklearn.linear_model import LogisticRegression\n",
    "from sklearn.model_selection import cross_val_score\n",
    "\n",
    "import pandas as pd\n",
    "from sklearn.model_selection import RandomizedSearchCV, KFold, cross_val_score\n",
    "from xgboost import XGBClassifier\n",
    "from pathlib import Path\n",
    "import numpy as np\n",
    "\n",
    "data_path = Path.cwd()\n",
    "\n",
    "# Lade die Datensätze\n",
    "train = pd.read_csv(data_path/'../csv/feature_data/train_engineered.csv')\n",
    "test = pd.read_csv(data_path/'../csv/feature_data/test_engineered.csv')\n",
    "\n",
    "# Setze 'Survived' im Testdatensatz auf -1\n",
    "test['Survived'] = -1\n",
    "\n",
    "# Definiere Features und Labels\n",
    "X_train = train.drop(['PassengerId', 'Survived'], axis=1)\n",
    "y_train = train['Survived']\n",
    "\n",
    "# Definiere Basis-Modelle\n",
    "base_models = [\n",
    "    ('rf', RandomForestClassifier(n_estimators=100, random_state=42)),\n",
    "    ('xgb', XGBClassifier(**random_search.best_params_)),\n",
    "]\n",
    "\n",
    "# Definiere das Meta-Modell\n",
    "meta_model = LogisticRegression()\n",
    "\n",
    "# Erstelle den StackingClassifier\n",
    "stacking_model = StackingClassifier(estimators=base_models, final_estimator=meta_model, cv=5)\n",
    "\n",
    "# Trainiere und evaluiere das Modell mit Cross-Validation\n",
    "stacking_model.fit(X_train, y_train)\n",
    "stacking_scores = cross_val_score(stacking_model, X_train, y_train, cv=5, scoring='accuracy')\n",
    "\n",
    "print(f\"Accuracy des Stacking-Modells: {np.mean(stacking_scores)}\")\n",
    "\n",
    "# Vorhersagen für den Testdatensatz und exportiere Ergebnisse\n",
    "predictions = stacking_model.predict(X_test)\n",
    "\n",
    "test['Survived'] = predictions\n",
    "result = test[['PassengerId', 'Survived']]\n",
    "result.to_csv(data_path / '../csv/submission_test.csv', index=False)\n"
   ]
  }
 ],
 "metadata": {
  "kernelspec": {
   "display_name": "datasience_project",
   "language": "python",
   "name": "python3"
  },
  "language_info": {
   "codemirror_mode": {
    "name": "ipython",
    "version": 3
   },
   "file_extension": ".py",
   "mimetype": "text/x-python",
   "name": "python",
   "nbconvert_exporter": "python",
   "pygments_lexer": "ipython3",
   "version": "3.12.2"
  }
 },
 "nbformat": 4,
 "nbformat_minor": 2
}

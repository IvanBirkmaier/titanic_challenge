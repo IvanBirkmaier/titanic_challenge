{
 "cells": [
  {
   "cell_type": "markdown",
   "id": "11b25909",
   "metadata": {},
   "source": [
    "### Imports"
   ]
  },
  {
   "cell_type": "markdown",
   "id": "78c6e794",
   "metadata": {},
   "source": [
    "Alle wichtigen Imports die für dieses Notebook benötigt werden:"
   ]
  },
  {
   "cell_type": "code",
   "execution_count": 8,
   "id": "1824a651",
   "metadata": {},
   "outputs": [
    {
     "name": "stdout",
     "output_type": "stream",
     "text": [
      "Versions of the imported modules:\n",
      "pandas: 2.2.1\n",
      "numpy: 1.26.4\n",
      "seaborn: 0.13.2\n",
      "Regex: 2.2.1\n",
      "Request: 2.31.0\n"
     ]
    }
   ],
   "source": [
    "print(\"Versions of the imported modules:\")\n",
    "import pandas as pd\n",
    "print('pandas:', pd.__version__)\n",
    "import numpy as np\n",
    "print('numpy:', np.__version__)\n",
    "import seaborn as sns\n",
    "print('seaborn:', sns.__version__)\n",
    "import re\n",
    "print('Regex:', re.__version__)\n",
    "import requests\n",
    "print('Request:', requests.__version__)\n",
    "\n",
    "\n",
    "##############################################\n",
    "from pathlib import Path\n",
    "# print('pathlib:', Path.__version__)\n",
    "import matplotlib.pyplot as plt\n",
    "# print('matplotlib:', plt.__version__)\n",
    "\n",
    "\n",
    "import os"
   ]
  },
  {
   "attachments": {},
   "cell_type": "markdown",
   "id": "6f972875",
   "metadata": {},
   "source": [
    "### Introducing"
   ]
  },
  {
   "attachments": {},
   "cell_type": "markdown",
   "id": "7ce07dcd",
   "metadata": {},
   "source": [
    "This notebook implements the prediction of titanic survivors. A training dataset `train.csv` with 918 passengers including survival status is used to learn a prediction function. A test set `test.csv` contains 418 passengers and will be used to predict their survival.\n",
    "\n",
    "Your results must be reproducible - please **don't overlook the rules for `random_state`** in the body of this notebook to obtain full credit for your ."
   ]
  },
  {
   "cell_type": "markdown",
   "id": "1be85897",
   "metadata": {},
   "source": [
    "### Load Datasets"
   ]
  },
  {
   "cell_type": "code",
   "execution_count": 9,
   "id": "d6d05182",
   "metadata": {},
   "outputs": [
    {
     "name": "stdout",
     "output_type": "stream",
     "text": [
      "<class 'pandas.core.frame.DataFrame'>\n",
      "RangeIndex: 1309 entries, 0 to 1308\n",
      "Data columns (total 12 columns):\n",
      " #   Column       Non-Null Count  Dtype  \n",
      "---  ------       --------------  -----  \n",
      " 0   PassengerId  1309 non-null   int64  \n",
      " 1   Survived     1309 non-null   float64\n",
      " 2   Pclass       1309 non-null   int64  \n",
      " 3   Name         1309 non-null   object \n",
      " 4   Age          1046 non-null   float64\n",
      " 5   SibSp        1309 non-null   int64  \n",
      " 6   Parch        1309 non-null   int64  \n",
      " 7   Ticket       1309 non-null   object \n",
      " 8   Fare         1308 non-null   float64\n",
      " 9   Cabin        295 non-null    object \n",
      " 10  Embarked     1307 non-null   object \n",
      " 11  Dataset      1309 non-null   object \n",
      "dtypes: float64(3), int64(4), object(5)\n",
      "memory usage: 122.8+ KB\n"
     ]
    },
    {
     "name": "stderr",
     "output_type": "stream",
     "text": [
      "C:\\Users\\Ivan\\AppData\\Local\\Temp\\ipykernel_387216\\3855825576.py:19: FutureWarning: A value is trying to be set on a copy of a DataFrame or Series through chained assignment using an inplace method.\n",
      "The behavior will change in pandas 3.0. This inplace method will never work because the intermediate object on which we are setting values always behaves as a copy.\n",
      "\n",
      "For example, when doing 'df[col].method(value, inplace=True)', try using 'df.method({col: value}, inplace=True)' or df[col] = df[col].method(value) instead, to perform the operation inplace on the original object.\n",
      "\n",
      "\n",
      "  feature_engineering_df['Survived'].fillna(2, inplace=True)\n"
     ]
    }
   ],
   "source": [
    "data_path = Path.cwd()\n",
    "\n",
    "# Laden der Trainingsdaten\n",
    "train_data = pd.read_csv(data_path/'../csv/original_data/train.csv', index_col=0)\n",
    "train_data = train_data.reset_index() #um Id zu behalten als spalte\n",
    "\n",
    "# Laden der Testdaten\n",
    "test_data = pd.read_csv(data_path/'../csv/original_data/test.csv', index_col=0)\n",
    "test_data = test_data.reset_index() #um Id zu behalten als spalte\n",
    "\n",
    "# Markiere die Datensätze als 'Train' oder 'Test'\n",
    "train_data['Dataset'] = 'Train'\n",
    "test_data['Dataset'] = 'Test'\n",
    "\n",
    "# Kombiniere beide Datensätze\n",
    "feature_engineering_df = pd.concat([train_data, test_data], ignore_index=True)\n",
    "\n",
    "# Ersetze NaN Werte nur in der 'Survived' Spalte mit 2\n",
    "feature_engineering_df['Survived'].fillna(2, inplace=True)\n",
    "\n",
    "feature_engineering_df.info()"
   ]
  },
  {
   "cell_type": "markdown",
   "id": "e8ad154d-f90d-4e7d-9f3b-924f27c95663",
   "metadata": {},
   "source": [
    "### Data Exploration"
   ]
  },
  {
   "cell_type": "code",
   "execution_count": 10,
   "id": "be8146e5",
   "metadata": {},
   "outputs": [
    {
     "data": {
      "text/html": [
       "<div>\n",
       "<style scoped>\n",
       "    .dataframe tbody tr th:only-of-type {\n",
       "        vertical-align: middle;\n",
       "    }\n",
       "\n",
       "    .dataframe tbody tr th {\n",
       "        vertical-align: top;\n",
       "    }\n",
       "\n",
       "    .dataframe thead th {\n",
       "        text-align: right;\n",
       "    }\n",
       "</style>\n",
       "<table border=\"1\" class=\"dataframe\">\n",
       "  <thead>\n",
       "    <tr style=\"text-align: right;\">\n",
       "      <th></th>\n",
       "      <th>PassengerId</th>\n",
       "      <th>Survived</th>\n",
       "      <th>Pclass</th>\n",
       "      <th>Age</th>\n",
       "      <th>SibSp</th>\n",
       "      <th>Parch</th>\n",
       "      <th>Fare</th>\n",
       "    </tr>\n",
       "  </thead>\n",
       "  <tbody>\n",
       "    <tr>\n",
       "      <th>count</th>\n",
       "      <td>1309.000000</td>\n",
       "      <td>1309.000000</td>\n",
       "      <td>1309.000000</td>\n",
       "      <td>1046.000000</td>\n",
       "      <td>1309.000000</td>\n",
       "      <td>1309.000000</td>\n",
       "      <td>1308.000000</td>\n",
       "    </tr>\n",
       "    <tr>\n",
       "      <th>mean</th>\n",
       "      <td>655.000000</td>\n",
       "      <td>0.899924</td>\n",
       "      <td>2.294882</td>\n",
       "      <td>29.881138</td>\n",
       "      <td>0.498854</td>\n",
       "      <td>0.385027</td>\n",
       "      <td>33.295479</td>\n",
       "    </tr>\n",
       "    <tr>\n",
       "      <th>std</th>\n",
       "      <td>378.020061</td>\n",
       "      <td>0.853975</td>\n",
       "      <td>0.837836</td>\n",
       "      <td>14.413493</td>\n",
       "      <td>1.041658</td>\n",
       "      <td>0.865560</td>\n",
       "      <td>51.758668</td>\n",
       "    </tr>\n",
       "    <tr>\n",
       "      <th>min</th>\n",
       "      <td>1.000000</td>\n",
       "      <td>0.000000</td>\n",
       "      <td>1.000000</td>\n",
       "      <td>0.170000</td>\n",
       "      <td>0.000000</td>\n",
       "      <td>0.000000</td>\n",
       "      <td>0.000000</td>\n",
       "    </tr>\n",
       "    <tr>\n",
       "      <th>25%</th>\n",
       "      <td>328.000000</td>\n",
       "      <td>0.000000</td>\n",
       "      <td>2.000000</td>\n",
       "      <td>21.000000</td>\n",
       "      <td>0.000000</td>\n",
       "      <td>0.000000</td>\n",
       "      <td>7.895800</td>\n",
       "    </tr>\n",
       "    <tr>\n",
       "      <th>50%</th>\n",
       "      <td>655.000000</td>\n",
       "      <td>1.000000</td>\n",
       "      <td>3.000000</td>\n",
       "      <td>28.000000</td>\n",
       "      <td>0.000000</td>\n",
       "      <td>0.000000</td>\n",
       "      <td>14.454200</td>\n",
       "    </tr>\n",
       "    <tr>\n",
       "      <th>75%</th>\n",
       "      <td>982.000000</td>\n",
       "      <td>2.000000</td>\n",
       "      <td>3.000000</td>\n",
       "      <td>39.000000</td>\n",
       "      <td>1.000000</td>\n",
       "      <td>0.000000</td>\n",
       "      <td>31.275000</td>\n",
       "    </tr>\n",
       "    <tr>\n",
       "      <th>max</th>\n",
       "      <td>1309.000000</td>\n",
       "      <td>2.000000</td>\n",
       "      <td>3.000000</td>\n",
       "      <td>80.000000</td>\n",
       "      <td>8.000000</td>\n",
       "      <td>9.000000</td>\n",
       "      <td>512.329200</td>\n",
       "    </tr>\n",
       "  </tbody>\n",
       "</table>\n",
       "</div>"
      ],
      "text/plain": [
       "       PassengerId     Survived       Pclass          Age        SibSp  \\\n",
       "count  1309.000000  1309.000000  1309.000000  1046.000000  1309.000000   \n",
       "mean    655.000000     0.899924     2.294882    29.881138     0.498854   \n",
       "std     378.020061     0.853975     0.837836    14.413493     1.041658   \n",
       "min       1.000000     0.000000     1.000000     0.170000     0.000000   \n",
       "25%     328.000000     0.000000     2.000000    21.000000     0.000000   \n",
       "50%     655.000000     1.000000     3.000000    28.000000     0.000000   \n",
       "75%     982.000000     2.000000     3.000000    39.000000     1.000000   \n",
       "max    1309.000000     2.000000     3.000000    80.000000     8.000000   \n",
       "\n",
       "             Parch         Fare  \n",
       "count  1309.000000  1308.000000  \n",
       "mean      0.385027    33.295479  \n",
       "std       0.865560    51.758668  \n",
       "min       0.000000     0.000000  \n",
       "25%       0.000000     7.895800  \n",
       "50%       0.000000    14.454200  \n",
       "75%       0.000000    31.275000  \n",
       "max       9.000000   512.329200  "
      ]
     },
     "execution_count": 10,
     "metadata": {},
     "output_type": "execute_result"
    }
   ],
   "source": [
    "feature_engineering_df.describe()"
   ]
  },
  {
   "cell_type": "markdown",
   "id": "467cea91",
   "metadata": {},
   "source": [
    "Plot survial ratio"
   ]
  },
  {
   "cell_type": "code",
   "execution_count": 11,
   "id": "0b616566-9711-4319-94bd-df4d5ea8f9cb",
   "metadata": {},
   "outputs": [
    {
     "data": {
      "image/png": "[encoded data removed]",
      "text/plain": [
       "<Figure size 640x480 with 1 Axes>"
      ]
     },
     "metadata": {},
     "output_type": "display_data"
    }
   ],
   "source": [
    "# Your existing code for the pie chart\n",
    "pie_chart = feature_engineering_df.Survived.value_counts().plot.pie(autopct='%.1f%%', \n",
    "                                                wedgeprops={'linewidth': 3.0, 'edgecolor': 'white'}, \n",
    "                                                textprops=dict(size='x-large', color='white', fontweight='bold'))\n",
    "pie_chart.set_title('Survived')\n",
    "\n",
    "# Adding the legend\n",
    "# Assuming the index of your series has the meaningful labels you want to use\n",
    "labels = feature_engineering_df.Survived.value_counts().index\n",
    "plt.legend(labels, title=\"Legend\", loc=\"center left\", bbox_to_anchor=(1, 0, 0.5, 1))\n",
    "\n",
    "plt.show()\n"
   ]
  },
  {
   "cell_type": "markdown",
   "id": "13690d1e",
   "metadata": {},
   "source": [
    "Survival ratio per Pclass"
   ]
  },
  {
   "cell_type": "code",
   "execution_count": 12,
   "id": "152ec791-18d4-4a81-a241-bdb08d9dc767",
   "metadata": {},
   "outputs": [
    {
     "data": {
      "text/html": [
       "<div>\n",
       "<style scoped>\n",
       "    .dataframe tbody tr th:only-of-type {\n",
       "        vertical-align: middle;\n",
       "    }\n",
       "\n",
       "    .dataframe tbody tr th {\n",
       "        vertical-align: top;\n",
       "    }\n",
       "\n",
       "    .dataframe thead th {\n",
       "        text-align: right;\n",
       "    }\n",
       "</style>\n",
       "<table border=\"1\" class=\"dataframe\">\n",
       "  <thead>\n",
       "    <tr style=\"text-align: right;\">\n",
       "      <th></th>\n",
       "      <th>Survivor_ratio</th>\n",
       "      <th>Passengers</th>\n",
       "    </tr>\n",
       "    <tr>\n",
       "      <th>Pclass</th>\n",
       "      <th></th>\n",
       "      <th></th>\n",
       "    </tr>\n",
       "  </thead>\n",
       "  <tbody>\n",
       "    <tr>\n",
       "      <th>1</th>\n",
       "      <td>1.083591</td>\n",
       "      <td>323</td>\n",
       "    </tr>\n",
       "    <tr>\n",
       "      <th>2</th>\n",
       "      <td>0.985560</td>\n",
       "      <td>277</td>\n",
       "    </tr>\n",
       "    <tr>\n",
       "      <th>3</th>\n",
       "      <td>0.782793</td>\n",
       "      <td>709</td>\n",
       "    </tr>\n",
       "  </tbody>\n",
       "</table>\n",
       "</div>"
      ],
      "text/plain": [
       "        Survivor_ratio  Passengers\n",
       "Pclass                            \n",
       "1             1.083591         323\n",
       "2             0.985560         277\n",
       "3             0.782793         709"
      ]
     },
     "execution_count": 12,
     "metadata": {},
     "output_type": "execute_result"
    }
   ],
   "source": [
    "feature_engineering_df.groupby(['Pclass']).Survived.agg(Survivor_ratio='mean', Passengers='size')"
   ]
  },
  {
   "cell_type": "markdown",
   "id": "c109e5b3",
   "metadata": {},
   "source": [
    "Boxplot for Age"
   ]
  },
  {
   "cell_type": "code",
   "execution_count": 13,
   "id": "8b7d2004-70e2-4421-a53a-bab1b1a56e60",
   "metadata": {},
   "outputs": [
    {
     "data": {
      "text/plain": [
       "<Axes: xlabel='Survived', ylabel='Age'>"
      ]
     },
     "execution_count": 13,
     "metadata": {},
     "output_type": "execute_result"
    },
    {
     "data": {
      "image/png": "[encoded data removed]",
      "text/plain": [
       "<Figure size 640x480 with 1 Axes>"
      ]
     },
     "metadata": {},
     "output_type": "display_data"
    }
   ],
   "source": [
    "#train_data.set_index('Survived', append=True)['Age'].unstack().boxplot()\n",
    "sns.boxplot(feature_engineering_df, x='Survived', y='Age')"
   ]
  },
  {
   "cell_type": "markdown",
   "id": "7b2930f1",
   "metadata": {},
   "source": [
    "### Prepair Dataframe"
   ]
  },
  {
   "cell_type": "code",
   "execution_count": 14,
   "id": "ebb51419",
   "metadata": {},
   "outputs": [],
   "source": [
    "feature_engineering_df.to_csv(data_path/'../csv/pre_processed_data/train_test.csv', index=False)"
   ]
  }
 ],
 "metadata": {
  "kernelspec": {
   "display_name": "Python 3 (ipykernel)",
   "language": "python",
   "name": "python3"
  },
  "language_info": {
   "codemirror_mode": {
    "name": "ipython",
    "version": 3
   },
   "file_extension": ".py",
   "mimetype": "text/x-python",
   "name": "python",
   "nbconvert_exporter": "python",
   "pygments_lexer": "ipython3",
   "version": "3.12.2"
  },
  "vscode": {
   "interpreter": {
    "hash": "31f40a7c16f96512039a4500689d4c2d9663361f311817d7322060bb869d4158"
   }
  }
 },
 "nbformat": 4,
 "nbformat_minor": 5
}

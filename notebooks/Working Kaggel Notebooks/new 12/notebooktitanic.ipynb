{
 "cells": [
  {
   "cell_type": "code",
   "execution_count": 1,
   "id": "4aa82de2",
   "metadata": {
    "_cell_guid": "b1076dfc-b9ad-4769-8c92-a6c4dae69d19",
    "_uuid": "8f2839f25d086af736a60e9eeb907d3b93b6e0e5",
    "execution": {
     "iopub.execute_input": "2023-06-09T15:07:57.715534Z",
     "iopub.status.busy": "2023-06-09T15:07:57.715010Z",
     "iopub.status.idle": "2023-06-09T15:07:57.733167Z",
     "shell.execute_reply": "2023-06-09T15:07:57.732112Z"
    },
    "papermill": {
     "duration": 0.036817,
     "end_time": "2023-06-09T15:07:57.736227",
     "exception": false,
     "start_time": "2023-06-09T15:07:57.699410",
     "status": "completed"
    },
    "tags": []
   },
   "outputs": [
    {
     "name": "stdout",
     "output_type": "stream",
     "text": [
      "/kaggle/input/titanic/train.csv\n",
      "/kaggle/input/titanic/test.csv\n",
      "/kaggle/input/titanic/gender_submission.csv\n"
     ]
    }
   ],
   "source": [
    "# This Python 3 environment comes with many helpful analytics libraries installed\n",
    "# It is defined by the kaggle/python Docker image: https://github.com/kaggle/docker-python\n",
    "# For example, here's several helpful packages to load\n",
    "\n",
    "import numpy as np # linear algebra\n",
    "import pandas as pd # data processing, CSV file I/O (e.g. pd.read_csv)\n",
    "\n",
    "# Input data files are available in the read-only \"../input/\" directory\n",
    "# For example, running this (by clicking run or pressing Shift+Enter) will list all files under the input directory\n",
    "\n",
    "import os\n",
    "for dirname, _, filenames in os.walk('/kaggle/input'):\n",
    "    for filename in filenames:\n",
    "        print(os.path.join(dirname, filename))\n",
    "\n",
    "# You can write up to 20GB to the current directory (/kaggle/working/) that gets preserved as output when you create a version using \"Save & Run All\" \n",
    "# You can also write temporary files to /kaggle/temp/, but they won't be saved outside of the current session"
   ]
  },
  {
   "cell_type": "code",
   "execution_count": 2,
   "id": "3320624e",
   "metadata": {
    "execution": {
     "iopub.execute_input": "2023-06-09T15:07:57.759921Z",
     "iopub.status.busy": "2023-06-09T15:07:57.759083Z",
     "iopub.status.idle": "2023-06-09T15:07:57.801447Z",
     "shell.execute_reply": "2023-06-09T15:07:57.800495Z"
    },
    "papermill": {
     "duration": 0.057109,
     "end_time": "2023-06-09T15:07:57.804129",
     "exception": false,
     "start_time": "2023-06-09T15:07:57.747020",
     "status": "completed"
    },
    "tags": []
   },
   "outputs": [],
   "source": [
    "train=pd.read_csv('train.csv')\n",
    "test=pd.read_csv('test.csv')"
   ]
  },
  {
   "cell_type": "code",
   "execution_count": 3,
   "id": "dd3d8da8",
   "metadata": {
    "execution": {
     "iopub.execute_input": "2023-06-09T15:07:57.827519Z",
     "iopub.status.busy": "2023-06-09T15:07:57.827129Z",
     "iopub.status.idle": "2023-06-09T15:07:57.881135Z",
     "shell.execute_reply": "2023-06-09T15:07:57.879673Z"
    },
    "papermill": {
     "duration": 0.069283,
     "end_time": "2023-06-09T15:07:57.883992",
     "exception": false,
     "start_time": "2023-06-09T15:07:57.814709",
     "status": "completed"
    },
    "tags": []
   },
   "outputs": [
    {
     "data": {
      "text/html": [
       "<div>\n",
       "<style scoped>\n",
       "    .dataframe tbody tr th:only-of-type {\n",
       "        vertical-align: middle;\n",
       "    }\n",
       "\n",
       "    .dataframe tbody tr th {\n",
       "        vertical-align: top;\n",
       "    }\n",
       "\n",
       "    .dataframe thead th {\n",
       "        text-align: right;\n",
       "    }\n",
       "</style>\n",
       "<table border=\"1\" class=\"dataframe\">\n",
       "  <thead>\n",
       "    <tr style=\"text-align: right;\">\n",
       "      <th></th>\n",
       "      <th>PassengerId</th>\n",
       "      <th>Survived</th>\n",
       "      <th>Pclass</th>\n",
       "      <th>Name</th>\n",
       "      <th>Sex</th>\n",
       "      <th>Age</th>\n",
       "      <th>SibSp</th>\n",
       "      <th>Parch</th>\n",
       "      <th>Ticket</th>\n",
       "      <th>Fare</th>\n",
       "      <th>Cabin</th>\n",
       "      <th>Embarked</th>\n",
       "    </tr>\n",
       "  </thead>\n",
       "  <tbody>\n",
       "    <tr>\n",
       "      <th>0</th>\n",
       "      <td>1</td>\n",
       "      <td>0</td>\n",
       "      <td>3</td>\n",
       "      <td>Braund, Mr. Owen Harris</td>\n",
       "      <td>male</td>\n",
       "      <td>22.0</td>\n",
       "      <td>1</td>\n",
       "      <td>0</td>\n",
       "      <td>A/5 21171</td>\n",
       "      <td>7.2500</td>\n",
       "      <td>NaN</td>\n",
       "      <td>S</td>\n",
       "    </tr>\n",
       "    <tr>\n",
       "      <th>1</th>\n",
       "      <td>2</td>\n",
       "      <td>1</td>\n",
       "      <td>1</td>\n",
       "      <td>Cumings, Mrs. John Bradley (Florence Briggs Th...</td>\n",
       "      <td>female</td>\n",
       "      <td>38.0</td>\n",
       "      <td>1</td>\n",
       "      <td>0</td>\n",
       "      <td>PC 17599</td>\n",
       "      <td>71.2833</td>\n",
       "      <td>C85</td>\n",
       "      <td>C</td>\n",
       "    </tr>\n",
       "    <tr>\n",
       "      <th>2</th>\n",
       "      <td>3</td>\n",
       "      <td>1</td>\n",
       "      <td>3</td>\n",
       "      <td>Heikkinen, Miss. Laina</td>\n",
       "      <td>female</td>\n",
       "      <td>26.0</td>\n",
       "      <td>0</td>\n",
       "      <td>0</td>\n",
       "      <td>STON/O2. 3101282</td>\n",
       "      <td>7.9250</td>\n",
       "      <td>NaN</td>\n",
       "      <td>S</td>\n",
       "    </tr>\n",
       "    <tr>\n",
       "      <th>3</th>\n",
       "      <td>4</td>\n",
       "      <td>1</td>\n",
       "      <td>1</td>\n",
       "      <td>Futrelle, Mrs. Jacques Heath (Lily May Peel)</td>\n",
       "      <td>female</td>\n",
       "      <td>35.0</td>\n",
       "      <td>1</td>\n",
       "      <td>0</td>\n",
       "      <td>113803</td>\n",
       "      <td>53.1000</td>\n",
       "      <td>C123</td>\n",
       "      <td>S</td>\n",
       "    </tr>\n",
       "    <tr>\n",
       "      <th>4</th>\n",
       "      <td>5</td>\n",
       "      <td>0</td>\n",
       "      <td>3</td>\n",
       "      <td>Allen, Mr. William Henry</td>\n",
       "      <td>male</td>\n",
       "      <td>35.0</td>\n",
       "      <td>0</td>\n",
       "      <td>0</td>\n",
       "      <td>373450</td>\n",
       "      <td>8.0500</td>\n",
       "      <td>NaN</td>\n",
       "      <td>S</td>\n",
       "    </tr>\n",
       "    <tr>\n",
       "      <th>...</th>\n",
       "      <td>...</td>\n",
       "      <td>...</td>\n",
       "      <td>...</td>\n",
       "      <td>...</td>\n",
       "      <td>...</td>\n",
       "      <td>...</td>\n",
       "      <td>...</td>\n",
       "      <td>...</td>\n",
       "      <td>...</td>\n",
       "      <td>...</td>\n",
       "      <td>...</td>\n",
       "      <td>...</td>\n",
       "    </tr>\n",
       "    <tr>\n",
       "      <th>886</th>\n",
       "      <td>887</td>\n",
       "      <td>0</td>\n",
       "      <td>2</td>\n",
       "      <td>Montvila, Rev. Juozas</td>\n",
       "      <td>male</td>\n",
       "      <td>27.0</td>\n",
       "      <td>0</td>\n",
       "      <td>0</td>\n",
       "      <td>211536</td>\n",
       "      <td>13.0000</td>\n",
       "      <td>NaN</td>\n",
       "      <td>S</td>\n",
       "    </tr>\n",
       "    <tr>\n",
       "      <th>887</th>\n",
       "      <td>888</td>\n",
       "      <td>1</td>\n",
       "      <td>1</td>\n",
       "      <td>Graham, Miss. Margaret Edith</td>\n",
       "      <td>female</td>\n",
       "      <td>19.0</td>\n",
       "      <td>0</td>\n",
       "      <td>0</td>\n",
       "      <td>112053</td>\n",
       "      <td>30.0000</td>\n",
       "      <td>B42</td>\n",
       "      <td>S</td>\n",
       "    </tr>\n",
       "    <tr>\n",
       "      <th>888</th>\n",
       "      <td>889</td>\n",
       "      <td>0</td>\n",
       "      <td>3</td>\n",
       "      <td>Johnston, Miss. Catherine Helen \"Carrie\"</td>\n",
       "      <td>female</td>\n",
       "      <td>NaN</td>\n",
       "      <td>1</td>\n",
       "      <td>2</td>\n",
       "      <td>W./C. 6607</td>\n",
       "      <td>23.4500</td>\n",
       "      <td>NaN</td>\n",
       "      <td>S</td>\n",
       "    </tr>\n",
       "    <tr>\n",
       "      <th>889</th>\n",
       "      <td>890</td>\n",
       "      <td>1</td>\n",
       "      <td>1</td>\n",
       "      <td>Behr, Mr. Karl Howell</td>\n",
       "      <td>male</td>\n",
       "      <td>26.0</td>\n",
       "      <td>0</td>\n",
       "      <td>0</td>\n",
       "      <td>111369</td>\n",
       "      <td>30.0000</td>\n",
       "      <td>C148</td>\n",
       "      <td>C</td>\n",
       "    </tr>\n",
       "    <tr>\n",
       "      <th>890</th>\n",
       "      <td>891</td>\n",
       "      <td>0</td>\n",
       "      <td>3</td>\n",
       "      <td>Dooley, Mr. Patrick</td>\n",
       "      <td>male</td>\n",
       "      <td>32.0</td>\n",
       "      <td>0</td>\n",
       "      <td>0</td>\n",
       "      <td>370376</td>\n",
       "      <td>7.7500</td>\n",
       "      <td>NaN</td>\n",
       "      <td>Q</td>\n",
       "    </tr>\n",
       "  </tbody>\n",
       "</table>\n",
       "<p>891 rows × 12 columns</p>\n",
       "</div>"
      ],
      "text/plain": [
       "     PassengerId  Survived  Pclass  \\\n",
       "0              1         0       3   \n",
       "1              2         1       1   \n",
       "2              3         1       3   \n",
       "3              4         1       1   \n",
       "4              5         0       3   \n",
       "..           ...       ...     ...   \n",
       "886          887         0       2   \n",
       "887          888         1       1   \n",
       "888          889         0       3   \n",
       "889          890         1       1   \n",
       "890          891         0       3   \n",
       "\n",
       "                                                  Name     Sex   Age  SibSp  \\\n",
       "0                              Braund, Mr. Owen Harris    male  22.0      1   \n",
       "1    Cumings, Mrs. John Bradley (Florence Briggs Th...  female  38.0      1   \n",
       "2                               Heikkinen, Miss. Laina  female  26.0      0   \n",
       "3         Futrelle, Mrs. Jacques Heath (Lily May Peel)  female  35.0      1   \n",
       "4                             Allen, Mr. William Henry    male  35.0      0   \n",
       "..                                                 ...     ...   ...    ...   \n",
       "886                              Montvila, Rev. Juozas    male  27.0      0   \n",
       "887                       Graham, Miss. Margaret Edith  female  19.0      0   \n",
       "888           Johnston, Miss. Catherine Helen \"Carrie\"  female   NaN      1   \n",
       "889                              Behr, Mr. Karl Howell    male  26.0      0   \n",
       "890                                Dooley, Mr. Patrick    male  32.0      0   \n",
       "\n",
       "     Parch            Ticket     Fare Cabin Embarked  \n",
       "0        0         A/5 21171   7.2500   NaN        S  \n",
       "1        0          PC 17599  71.2833   C85        C  \n",
       "2        0  STON/O2. 3101282   7.9250   NaN        S  \n",
       "3        0            113803  53.1000  C123        S  \n",
       "4        0            373450   8.0500   NaN        S  \n",
       "..     ...               ...      ...   ...      ...  \n",
       "886      0            211536  13.0000   NaN        S  \n",
       "887      0            112053  30.0000   B42        S  \n",
       "888      2        W./C. 6607  23.4500   NaN        S  \n",
       "889      0            111369  30.0000  C148        C  \n",
       "890      0            370376   7.7500   NaN        Q  \n",
       "\n",
       "[891 rows x 12 columns]"
      ]
     },
     "execution_count": 3,
     "metadata": {},
     "output_type": "execute_result"
    }
   ],
   "source": [
    "train"
   ]
  },
  {
   "cell_type": "code",
   "execution_count": 4,
   "id": "cd3b0ebd",
   "metadata": {
    "execution": {
     "iopub.execute_input": "2023-06-09T15:07:57.908326Z",
     "iopub.status.busy": "2023-06-09T15:07:57.907870Z",
     "iopub.status.idle": "2023-06-09T15:07:58.395241Z",
     "shell.execute_reply": "2023-06-09T15:07:58.393493Z"
    },
    "papermill": {
     "duration": 0.502702,
     "end_time": "2023-06-09T15:07:58.397990",
     "exception": true,
     "start_time": "2023-06-09T15:07:57.895288",
     "status": "failed"
    },
    "tags": []
   },
   "outputs": [
    {
     "ename": "NameError",
     "evalue": "name 'train_x' is not defined",
     "output_type": "error",
     "traceback": [
      "\u001b[0;31m---------------------------------------------------------------------------\u001b[0m",
      "\u001b[0;31mNameError\u001b[0m                                 Traceback (most recent call last)",
      "Cell \u001b[0;32mIn[4], line 1\u001b[0m\n\u001b[0;32m----> 1\u001b[0m \u001b[43mtrain_x\u001b[49m\n",
      "\u001b[0;31mNameError\u001b[0m: name 'train_x' is not defined"
     ]
    }
   ],
   "source": []
  },
  {
   "cell_type": "code",
   "execution_count": null,
   "id": "98c0d0cf",
   "metadata": {
    "execution": {
     "iopub.execute_input": "2023-06-09T13:10:18.524241Z",
     "iopub.status.busy": "2023-06-09T13:10:18.523751Z",
     "iopub.status.idle": "2023-06-09T13:10:18.532977Z",
     "shell.execute_reply": "2023-06-09T13:10:18.531884Z",
     "shell.execute_reply.started": "2023-06-09T13:10:18.524181Z"
    },
    "papermill": {
     "duration": null,
     "end_time": null,
     "exception": null,
     "start_time": null,
     "status": "pending"
    },
    "tags": []
   },
   "outputs": [],
   "source": [
    "train_x=train.drop(['Survived'],axis=1)\n",
    "train_y=train['Survived']\n",
    "test_x=test.copy()"
   ]
  },
  {
   "cell_type": "code",
   "execution_count": null,
   "id": "6de24e4a",
   "metadata": {
    "execution": {
     "iopub.execute_input": "2023-06-09T13:16:07.055692Z",
     "iopub.status.busy": "2023-06-09T13:16:07.055294Z",
     "iopub.status.idle": "2023-06-09T13:16:07.061892Z",
     "shell.execute_reply": "2023-06-09T13:16:07.060746Z",
     "shell.execute_reply.started": "2023-06-09T13:16:07.055664Z"
    },
    "papermill": {
     "duration": null,
     "end_time": null,
     "exception": null,
     "start_time": null,
     "status": "pending"
    },
    "tags": []
   },
   "outputs": [],
   "source": [
    "from sklearn.preprocessing import LabelEncoder"
   ]
  },
  {
   "cell_type": "code",
   "execution_count": null,
   "id": "83980526",
   "metadata": {
    "execution": {
     "iopub.execute_input": "2023-06-09T13:10:20.941287Z",
     "iopub.status.busy": "2023-06-09T13:10:20.940790Z",
     "iopub.status.idle": "2023-06-09T13:10:20.949705Z",
     "shell.execute_reply": "2023-06-09T13:10:20.948761Z",
     "shell.execute_reply.started": "2023-06-09T13:10:20.941228Z"
    },
    "papermill": {
     "duration": null,
     "end_time": null,
     "exception": null,
     "start_time": null,
     "status": "pending"
    },
    "tags": []
   },
   "outputs": [],
   "source": [
    "train_x = train_x.drop(['PassengerId'],axis=1)\n",
    "test_x = test_x.drop(['PassengerId'],axis=1)"
   ]
  },
  {
   "cell_type": "code",
   "execution_count": null,
   "id": "8821e0be",
   "metadata": {
    "execution": {
     "iopub.execute_input": "2023-06-09T14:26:46.518751Z",
     "iopub.status.busy": "2023-06-09T14:26:46.517863Z",
     "iopub.status.idle": "2023-06-09T14:26:46.523451Z",
     "shell.execute_reply": "2023-06-09T14:26:46.522423Z",
     "shell.execute_reply.started": "2023-06-09T14:26:46.518717Z"
    },
    "papermill": {
     "duration": null,
     "end_time": null,
     "exception": null,
     "start_time": null,
     "status": "pending"
    },
    "tags": []
   },
   "outputs": [],
   "source": [
    "train_x2=train_x\n",
    "test_x2=train_x"
   ]
  },
  {
   "cell_type": "code",
   "execution_count": null,
   "id": "af55e5ef",
   "metadata": {
    "execution": {
     "iopub.execute_input": "2023-06-09T14:28:36.544876Z",
     "iopub.status.busy": "2023-06-09T14:28:36.543869Z",
     "iopub.status.idle": "2023-06-09T14:28:36.549109Z",
     "shell.execute_reply": "2023-06-09T14:28:36.548094Z",
     "shell.execute_reply.started": "2023-06-09T14:28:36.544843Z"
    },
    "papermill": {
     "duration": null,
     "end_time": null,
     "exception": null,
     "start_time": null,
     "status": "pending"
    },
    "tags": []
   },
   "outputs": [],
   "source": [
    "train_x2=train_x\n",
    "test_x2=test_x"
   ]
  },
  {
   "cell_type": "code",
   "execution_count": null,
   "id": "4456ab26",
   "metadata": {
    "execution": {
     "iopub.execute_input": "2023-06-09T14:28:44.326148Z",
     "iopub.status.busy": "2023-06-09T14:28:44.325644Z",
     "iopub.status.idle": "2023-06-09T14:28:44.345294Z",
     "shell.execute_reply": "2023-06-09T14:28:44.344260Z",
     "shell.execute_reply.started": "2023-06-09T14:28:44.326109Z"
    },
    "papermill": {
     "duration": null,
     "end_time": null,
     "exception": null,
     "start_time": null,
     "status": "pending"
    },
    "tags": []
   },
   "outputs": [],
   "source": [
    "train_x2"
   ]
  },
  {
   "cell_type": "code",
   "execution_count": null,
   "id": "5c326b31",
   "metadata": {
    "execution": {
     "iopub.execute_input": "2023-06-09T14:28:51.735244Z",
     "iopub.status.busy": "2023-06-09T14:28:51.734095Z",
     "iopub.status.idle": "2023-06-09T14:28:51.753227Z",
     "shell.execute_reply": "2023-06-09T14:28:51.752037Z",
     "shell.execute_reply.started": "2023-06-09T14:28:51.735207Z"
    },
    "papermill": {
     "duration": null,
     "end_time": null,
     "exception": null,
     "start_time": null,
     "status": "pending"
    },
    "tags": []
   },
   "outputs": [],
   "source": [
    "test_x2"
   ]
  },
  {
   "cell_type": "code",
   "execution_count": null,
   "id": "393db17b",
   "metadata": {
    "execution": {
     "iopub.execute_input": "2023-06-09T13:16:20.648674Z",
     "iopub.status.busy": "2023-06-09T13:16:20.648178Z",
     "iopub.status.idle": "2023-06-09T13:16:20.663093Z",
     "shell.execute_reply": "2023-06-09T13:16:20.661128Z",
     "shell.execute_reply.started": "2023-06-09T13:16:20.648641Z"
    },
    "papermill": {
     "duration": null,
     "end_time": null,
     "exception": null,
     "start_time": null,
     "status": "pending"
    },
    "tags": []
   },
   "outputs": [],
   "source": [
    "for c in ['Sex','Embarked']:\n",
    "    le = LabelEncoder()\n",
    "    le.fit(train_x[c].fillna('NA'))\n",
    "    train_x[c]=le.transform(train_x[c].fillna('NA'))\n",
    "    test_x[c]=le.transform(test_x[c].fillna('NA'))"
   ]
  },
  {
   "cell_type": "code",
   "execution_count": null,
   "id": "fb496b34",
   "metadata": {
    "papermill": {
     "duration": null,
     "end_time": null,
     "exception": null,
     "start_time": null,
     "status": "pending"
    },
    "tags": []
   },
   "outputs": [],
   "source": [
    "model = X"
   ]
  },
  {
   "cell_type": "code",
   "execution_count": null,
   "id": "06235db5",
   "metadata": {
    "execution": {
     "iopub.execute_input": "2023-06-09T13:23:37.150488Z",
     "iopub.status.busy": "2023-06-09T13:23:37.149238Z",
     "iopub.status.idle": "2023-06-09T13:23:37.440893Z",
     "shell.execute_reply": "2023-06-09T13:23:37.439490Z",
     "shell.execute_reply.started": "2023-06-09T13:23:37.150435Z"
    },
    "papermill": {
     "duration": null,
     "end_time": null,
     "exception": null,
     "start_time": null,
     "status": "pending"
    },
    "tags": []
   },
   "outputs": [],
   "source": [
    "from xgboost import XGBClassifier"
   ]
  },
  {
   "cell_type": "code",
   "execution_count": null,
   "id": "f0921597",
   "metadata": {
    "execution": {
     "iopub.execute_input": "2023-06-09T13:25:13.500954Z",
     "iopub.status.busy": "2023-06-09T13:25:13.500553Z",
     "iopub.status.idle": "2023-06-09T13:25:13.577371Z",
     "shell.execute_reply": "2023-06-09T13:25:13.576431Z",
     "shell.execute_reply.started": "2023-06-09T13:25:13.500926Z"
    },
    "papermill": {
     "duration": null,
     "end_time": null,
     "exception": null,
     "start_time": null,
     "status": "pending"
    },
    "tags": []
   },
   "outputs": [],
   "source": [
    "model = XGBClassifier(n_estimators=20,ramdom_state=71)\n",
    "model.fit(train_x,train_y)"
   ]
  },
  {
   "cell_type": "code",
   "execution_count": null,
   "id": "e9a7251b",
   "metadata": {
    "execution": {
     "iopub.execute_input": "2023-06-09T13:26:42.854699Z",
     "iopub.status.busy": "2023-06-09T13:26:42.854243Z",
     "iopub.status.idle": "2023-06-09T13:26:42.872576Z",
     "shell.execute_reply": "2023-06-09T13:26:42.871171Z",
     "shell.execute_reply.started": "2023-06-09T13:26:42.854669Z"
    },
    "papermill": {
     "duration": null,
     "end_time": null,
     "exception": null,
     "start_time": null,
     "status": "pending"
    },
    "tags": []
   },
   "outputs": [],
   "source": [
    "pred = model.predict_proba(test_x)[:,1]\n",
    "pred_label = np.where(pred > 0.5,1,0)"
   ]
  },
  {
   "cell_type": "code",
   "execution_count": null,
   "id": "55b1693b",
   "metadata": {
    "execution": {
     "iopub.execute_input": "2023-06-09T13:29:29.064484Z",
     "iopub.status.busy": "2023-06-09T13:29:29.064014Z",
     "iopub.status.idle": "2023-06-09T13:29:29.078062Z",
     "shell.execute_reply": "2023-06-09T13:29:29.077254Z",
     "shell.execute_reply.started": "2023-06-09T13:29:29.064452Z"
    },
    "papermill": {
     "duration": null,
     "end_time": null,
     "exception": null,
     "start_time": null,
     "status": "pending"
    },
    "tags": []
   },
   "outputs": [],
   "source": [
    "submission = pd.DataFrame({'PassengerId':test['PassengerId'],'Survived':pred_label})\n",
    "submission.to_csv('submission_first.csv',index=False)"
   ]
  },
  {
   "cell_type": "code",
   "execution_count": null,
   "id": "6ad2551b",
   "metadata": {
    "execution": {
     "iopub.execute_input": "2023-06-09T13:32:50.349306Z",
     "iopub.status.busy": "2023-06-09T13:32:50.348817Z",
     "iopub.status.idle": "2023-06-09T13:32:50.355785Z",
     "shell.execute_reply": "2023-06-09T13:32:50.354529Z",
     "shell.execute_reply.started": "2023-06-09T13:32:50.349269Z"
    },
    "papermill": {
     "duration": null,
     "end_time": null,
     "exception": null,
     "start_time": null,
     "status": "pending"
    },
    "tags": []
   },
   "outputs": [],
   "source": [
    "from sklearn.metrics import log_loss, accuracy_score\n",
    "from sklearn.model_selection import KFold"
   ]
  },
  {
   "cell_type": "code",
   "execution_count": null,
   "id": "ed1af4bf",
   "metadata": {
    "execution": {
     "iopub.execute_input": "2023-06-09T13:33:22.859283Z",
     "iopub.status.busy": "2023-06-09T13:33:22.858850Z",
     "iopub.status.idle": "2023-06-09T13:33:22.865199Z",
     "shell.execute_reply": "2023-06-09T13:33:22.863922Z",
     "shell.execute_reply.started": "2023-06-09T13:33:22.859252Z"
    },
    "papermill": {
     "duration": null,
     "end_time": null,
     "exception": null,
     "start_time": null,
     "status": "pending"
    },
    "tags": []
   },
   "outputs": [],
   "source": [
    "scores_accuracy=[]\n",
    "scores_logloss=[]"
   ]
  },
  {
   "cell_type": "code",
   "execution_count": null,
   "id": "f775a4a8",
   "metadata": {
    "execution": {
     "iopub.execute_input": "2023-06-09T13:45:54.177552Z",
     "iopub.status.busy": "2023-06-09T13:45:54.177161Z",
     "iopub.status.idle": "2023-06-09T13:45:54.310021Z",
     "shell.execute_reply": "2023-06-09T13:45:54.309193Z",
     "shell.execute_reply.started": "2023-06-09T13:45:54.177525Z"
    },
    "papermill": {
     "duration": null,
     "end_time": null,
     "exception": null,
     "start_time": null,
     "status": "pending"
    },
    "tags": []
   },
   "outputs": [],
   "source": [
    "kf = KFold(n_splits=4,shuffle=True,random_state=71)\n",
    "for tr_idx, va_idx in kf.split(train_x):\n",
    "    tr_x,va_x = train_x.iloc[tr_idx],train_x.iloc[va_idx]\n",
    "    tr_y,va_y = train_y.iloc[tr_idx],train_y.iloc[va_idx]\n",
    "    \n",
    "    model = XGBClassifier(n_estimators=20,ramdom_state=71)\n",
    "    model.fit(tr_x,tr_y)\n",
    "    \n",
    "    va_pred = model.predict_proba(va_x)[:,1]\n",
    "    \n",
    "    logloss = log_loss(va_y,va_pred)\n",
    "    accuracy = accuracy_score(va_y,va_pred > 0.5)\n",
    "    \n",
    "    scores_logloss.append(logloss)\n",
    "    scores_accuracy.append(accuracy)\n",
    "    \n",
    "logloss = np.mean(scores_logloss)\n",
    "accuracy - np.mean(scores_accuracy)\n",
    "print(f'logloss:{logloss:.4f}, accuracy:{accuracy:.4f}')"
   ]
  },
  {
   "cell_type": "code",
   "execution_count": null,
   "id": "a0e5d2ab",
   "metadata": {
    "execution": {
     "iopub.execute_input": "2023-06-09T13:47:54.692105Z",
     "iopub.status.busy": "2023-06-09T13:47:54.691720Z",
     "iopub.status.idle": "2023-06-09T13:47:54.696693Z",
     "shell.execute_reply": "2023-06-09T13:47:54.695695Z",
     "shell.execute_reply.started": "2023-06-09T13:47:54.692078Z"
    },
    "papermill": {
     "duration": null,
     "end_time": null,
     "exception": null,
     "start_time": null,
     "status": "pending"
    },
    "tags": []
   },
   "outputs": [],
   "source": [
    "import itertools"
   ]
  },
  {
   "cell_type": "code",
   "execution_count": null,
   "id": "56c44e25",
   "metadata": {
    "execution": {
     "iopub.execute_input": "2023-06-09T14:13:28.727235Z",
     "iopub.status.busy": "2023-06-09T14:13:28.726786Z",
     "iopub.status.idle": "2023-06-09T14:13:29.667908Z",
     "shell.execute_reply": "2023-06-09T14:13:29.667113Z",
     "shell.execute_reply.started": "2023-06-09T14:13:28.727172Z"
    },
    "papermill": {
     "duration": null,
     "end_time": null,
     "exception": null,
     "start_time": null,
     "status": "pending"
    },
    "tags": []
   },
   "outputs": [],
   "source": [
    "param_space = {\n",
    "    'max_depth' : [3,5,7],\n",
    "    'min_child_weight':[1.0,2.0,4.0]\n",
    "}\n",
    "\n",
    "param_combinations = itertools.product(param_space['max_depth'],param_space[\"min_child_weight\"])\n",
    "\n",
    "params = []\n",
    "scores = []\n",
    "\n",
    "for max_depth, min_child_weight in param_combinations:\n",
    "    \n",
    "    score_folds=[]\n",
    "    \n",
    "    kf = KFold(n_splits=4,shuffle=True,random_state=123456)\n",
    "    for tr_idx, va_idx,in kf.split(train_x):\n",
    "        tr_x,va_x=train_x.iloc[tr_idx],train_x.iloc[va_idx]\n",
    "        tr_y,va_y=train_y.iloc[tr_idx],train_y.iloc[va_idx]\n",
    "\n",
    "        model = XGBClassifier(n_estimators=20,random_state=71,max_depth=max_depth,min_child_weight=min_child_weight)\n",
    "\n",
    "        model.fit(tr_x,tr_y)\n",
    "\n",
    "        va_pred = model.predict_proba(va_x)[:,1]\n",
    "        logloss = log_loss(va_y, va_pred)\n",
    "        score_folds.append(logloss)\n",
    "        \n",
    "    score_mean = np.mean(score_folds)\n",
    "    \n",
    "    params.append((max_depth,min_child_weight))\n",
    "    scores.append(score_mean)\n",
    "    \n",
    "best_idx = np.argsort(scores)[0]\n",
    "best_param = params[best_idx]\n",
    "print(f'max_depth:{best_param[0]},min_child_weight:{best_param[1]}')\n",
    "\n"
   ]
  },
  {
   "cell_type": "code",
   "execution_count": null,
   "id": "5d45a651",
   "metadata": {
    "execution": {
     "iopub.execute_input": "2023-06-09T14:47:44.789400Z",
     "iopub.status.busy": "2023-06-09T14:47:44.788994Z",
     "iopub.status.idle": "2023-06-09T14:47:44.794402Z",
     "shell.execute_reply": "2023-06-09T14:47:44.793144Z",
     "shell.execute_reply.started": "2023-06-09T14:47:44.789369Z"
    },
    "papermill": {
     "duration": null,
     "end_time": null,
     "exception": null,
     "start_time": null,
     "status": "pending"
    },
    "tags": []
   },
   "outputs": [],
   "source": [
    "from sklearn.linear_model import LogisticRegression\n",
    "from sklearn.preprocessing import OneHotEncoder"
   ]
  },
  {
   "cell_type": "code",
   "execution_count": null,
   "id": "d3ee6a71",
   "metadata": {
    "execution": {
     "iopub.execute_input": "2023-06-09T14:44:23.908319Z",
     "iopub.status.busy": "2023-06-09T14:44:23.907923Z",
     "iopub.status.idle": "2023-06-09T14:44:23.919523Z",
     "shell.execute_reply": "2023-06-09T14:44:23.918768Z",
     "shell.execute_reply.started": "2023-06-09T14:44:23.908291Z"
    },
    "papermill": {
     "duration": null,
     "end_time": null,
     "exception": null,
     "start_time": null,
     "status": "pending"
    },
    "tags": []
   },
   "outputs": [],
   "source": [
    "train_x2 = train.drop(['Survived'],axis=1)\n",
    "test_x2=test.copy()\n",
    "\n",
    "train_x2=train_x2.drop(['PassengerId'],axis=1)\n",
    "test_x2=test_x2.drop(['PassengerId'],axis=1)\n",
    "\n",
    "train_x2 = train_x2.drop(['Name','Ticket','Cabin'],axis=1)\n",
    "test_x2 = test_x2.drop(['Name','Ticket','Cabin'],axis=1)"
   ]
  },
  {
   "cell_type": "code",
   "execution_count": null,
   "id": "1446204e",
   "metadata": {
    "execution": {
     "iopub.execute_input": "2023-06-09T14:48:26.182597Z",
     "iopub.status.busy": "2023-06-09T14:48:26.182243Z",
     "iopub.status.idle": "2023-06-09T14:48:26.196100Z",
     "shell.execute_reply": "2023-06-09T14:48:26.195038Z",
     "shell.execute_reply.started": "2023-06-09T14:48:26.182572Z"
    },
    "papermill": {
     "duration": null,
     "end_time": null,
     "exception": null,
     "start_time": null,
     "status": "pending"
    },
    "tags": []
   },
   "outputs": [],
   "source": [
    "cat_cols=['Sex','Embarked','Pclass']\n",
    "one = OneHotEncoder(categories='auto',sparse=False)\n",
    "one.fit(train_x2[cat_cols].fillna('NA'))"
   ]
  },
  {
   "cell_type": "code",
   "execution_count": null,
   "id": "27389119",
   "metadata": {
    "execution": {
     "iopub.execute_input": "2023-06-09T14:51:25.445742Z",
     "iopub.status.busy": "2023-06-09T14:51:25.445303Z",
     "iopub.status.idle": "2023-06-09T14:51:25.451620Z",
     "shell.execute_reply": "2023-06-09T14:51:25.450336Z",
     "shell.execute_reply.started": "2023-06-09T14:51:25.445712Z"
    },
    "papermill": {
     "duration": null,
     "end_time": null,
     "exception": null,
     "start_time": null,
     "status": "pending"
    },
    "tags": []
   },
   "outputs": [],
   "source": [
    "one_columns=[]\n",
    "for i,c in enumerate(cat_cols):\n",
    "    one_columns += [f'{c}_{v}' for v in one.categories_[i]]"
   ]
  },
  {
   "cell_type": "code",
   "execution_count": null,
   "id": "a044a2a3",
   "metadata": {
    "execution": {
     "iopub.execute_input": "2023-06-09T14:56:01.132820Z",
     "iopub.status.busy": "2023-06-09T14:56:01.132454Z",
     "iopub.status.idle": "2023-06-09T14:56:01.149326Z",
     "shell.execute_reply": "2023-06-09T14:56:01.148160Z",
     "shell.execute_reply.started": "2023-06-09T14:56:01.132793Z"
    },
    "papermill": {
     "duration": null,
     "end_time": null,
     "exception": null,
     "start_time": null,
     "status": "pending"
    },
    "tags": []
   },
   "outputs": [],
   "source": [
    "one_train_x2 = pd.DataFrame(one.transform(train_x2[cat_cols].fillna('NA')),columns=one_columns)\n",
    "one_test_x2 = pd.DataFrame(one.transform(test_x2[cat_cols].fillna('NA')),columns=one_columns)"
   ]
  },
  {
   "cell_type": "code",
   "execution_count": null,
   "id": "f3a2c22a",
   "metadata": {
    "execution": {
     "iopub.execute_input": "2023-06-09T14:57:07.266396Z",
     "iopub.status.busy": "2023-06-09T14:57:07.265354Z",
     "iopub.status.idle": "2023-06-09T14:57:07.272885Z",
     "shell.execute_reply": "2023-06-09T14:57:07.271750Z",
     "shell.execute_reply.started": "2023-06-09T14:57:07.266359Z"
    },
    "papermill": {
     "duration": null,
     "end_time": null,
     "exception": null,
     "start_time": null,
     "status": "pending"
    },
    "tags": []
   },
   "outputs": [],
   "source": [
    "train_x2 = train_x2.drop(cat_cols,axis=1)\n",
    "test_x2 = test_x2.drop(cat_cols,axis=1)"
   ]
  },
  {
   "cell_type": "code",
   "execution_count": null,
   "id": "1d3b4082",
   "metadata": {
    "execution": {
     "iopub.execute_input": "2023-06-09T14:58:27.826676Z",
     "iopub.status.busy": "2023-06-09T14:58:27.826293Z",
     "iopub.status.idle": "2023-06-09T14:58:27.835738Z",
     "shell.execute_reply": "2023-06-09T14:58:27.834569Z",
     "shell.execute_reply.started": "2023-06-09T14:58:27.826649Z"
    },
    "papermill": {
     "duration": null,
     "end_time": null,
     "exception": null,
     "start_time": null,
     "status": "pending"
    },
    "tags": []
   },
   "outputs": [],
   "source": [
    "train_x2 = pd.concat([train_x2,one_train_x2],axis=1)\n",
    "test_x2 = pd.concat([test_x2,one_test_x2],axis=1)"
   ]
  },
  {
   "cell_type": "code",
   "execution_count": null,
   "id": "067df210",
   "metadata": {
    "execution": {
     "iopub.execute_input": "2023-06-09T15:01:43.532412Z",
     "iopub.status.busy": "2023-06-09T15:01:43.531451Z",
     "iopub.status.idle": "2023-06-09T15:01:43.544545Z",
     "shell.execute_reply": "2023-06-09T15:01:43.543268Z",
     "shell.execute_reply.started": "2023-06-09T15:01:43.532379Z"
    },
    "papermill": {
     "duration": null,
     "end_time": null,
     "exception": null,
     "start_time": null,
     "status": "pending"
    },
    "tags": []
   },
   "outputs": [],
   "source": [
    "num_cols = ['Age','SibSp','Parch','Fare']\n",
    "for col in num_cols:\n",
    "    train_x2[col].fillna(train_x2[col].mean(),inplace=True)\n",
    "    test_x2[col].fillna(train_x2[col].mean(),inplace=True)"
   ]
  },
  {
   "cell_type": "code",
   "execution_count": null,
   "id": "b94528e6",
   "metadata": {
    "execution": {
     "iopub.execute_input": "2023-06-09T15:04:59.303591Z",
     "iopub.status.busy": "2023-06-09T15:04:59.303157Z",
     "iopub.status.idle": "2023-06-09T15:04:59.311801Z",
     "shell.execute_reply": "2023-06-09T15:04:59.310552Z",
     "shell.execute_reply.started": "2023-06-09T15:04:59.303563Z"
    },
    "papermill": {
     "duration": null,
     "end_time": null,
     "exception": null,
     "start_time": null,
     "status": "pending"
    },
    "tags": []
   },
   "outputs": [],
   "source": [
    "train_x2['Fare'] = np.log1p(train_x2['Fare'])\n",
    "test_x2['Fare'] = np.log1p(test_x2['Fare'])"
   ]
  },
  {
   "cell_type": "raw",
   "id": "c470d638",
   "metadata": {
    "execution": {
     "iopub.execute_input": "2023-06-09T14:31:55.208944Z",
     "iopub.status.busy": "2023-06-09T14:31:55.208573Z",
     "iopub.status.idle": "2023-06-09T14:31:55.418764Z",
     "shell.execute_reply": "2023-06-09T14:31:55.417257Z",
     "shell.execute_reply.started": "2023-06-09T14:31:55.208917Z"
    },
    "papermill": {
     "duration": null,
     "end_time": null,
     "exception": null,
     "start_time": null,
     "status": "pending"
    },
    "tags": []
   },
   "source": [
    "train_x2 = train_x2.drop(['Survived'],axis=1)\n",
    "test_x2=test.copy()\n",
    "train_x2=train()\n",
    "model_xgb = XGBClassifier(n_estimators=20,random_state=71)\n",
    "model_xgb.fit(train_x,train_y)\n",
    "pred_xgb=model_xgb.predict_proba(test_x)[:,1]\n",
    "\n",
    "model_lr = LogisticRegression(solver='lbfgs',max_iter=300)\n",
    "model_lr=model_lr.fit(train_x2,train_y)\n",
    "pred_lr = model_lr.predict_proba(test_x2)[:,1]\n",
    "\n",
    "pred = pred_xgb*0.8+pred_lr*0.2\n",
    "pred_label = np.where(pred>0.5,1.0)"
   ]
  },
  {
   "cell_type": "code",
   "execution_count": null,
   "id": "22584343",
   "metadata": {
    "papermill": {
     "duration": null,
     "end_time": null,
     "exception": null,
     "start_time": null,
     "status": "pending"
    },
    "tags": []
   },
   "outputs": [],
   "source": []
  }
 ],
 "metadata": {
  "kernelspec": {
   "display_name": "Python 3",
   "language": "python",
   "name": "python3"
  },
  "language_info": {
   "codemirror_mode": {
    "name": "ipython",
    "version": 3
   },
   "file_extension": ".py",
   "mimetype": "text/x-python",
   "name": "python",
   "nbconvert_exporter": "python",
   "pygments_lexer": "ipython3",
   "version": "3.12.2"
  },
  "papermill": {
   "default_parameters": {},
   "duration": 15.549386,
   "end_time": "2023-06-09T15:07:59.434359",
   "environment_variables": {},
   "exception": true,
   "input_path": "__notebook__.ipynb",
   "output_path": "__notebook__.ipynb",
   "parameters": {},
   "start_time": "2023-06-09T15:07:43.884973",
   "version": "2.4.0"
  }
 },
 "nbformat": 4,
 "nbformat_minor": 5
}

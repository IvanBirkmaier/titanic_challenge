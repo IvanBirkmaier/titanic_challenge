{
 "cells": [
  {
   "cell_type": "code",
   "execution_count": 1,
   "id": "cbfcd30f",
   "metadata": {
    "_cell_guid": "b1076dfc-b9ad-4769-8c92-a6c4dae69d19",
    "_uuid": "8f2839f25d086af736a60e9eeb907d3b93b6e0e5",
    "execution": {
     "iopub.execute_input": "2023-10-24T10:50:10.551648Z",
     "iopub.status.busy": "2023-10-24T10:50:10.551180Z",
     "iopub.status.idle": "2023-10-24T10:50:10.988024Z",
     "shell.execute_reply": "2023-10-24T10:50:10.987064Z"
    },
    "papermill": {
     "duration": 0.453448,
     "end_time": "2023-10-24T10:50:10.990589",
     "exception": false,
     "start_time": "2023-10-24T10:50:10.537141",
     "status": "completed"
    },
    "tags": []
   },
   "outputs": [],
   "source": [
    "# This Python 3 environment comes with many helpful analytics libraries installed\n",
    "# It is defined by the kaggle/python Docker image: https://github.com/kaggle/docker-python\n",
    "# For example, here's several helpful packages to load\n",
    "\n",
    "import numpy as np # linear algebra\n",
    "import pandas as pd # data processing, CSV file I/O (e.g. pd.read_csv)\n",
    "\n",
    "# Input data files are available in the read-only \"../input/\" directory\n",
    "# For example, running this (by clicking run or pressing Shift+Enter) will list all files under the input directory\n",
    "\n",
    "import os\n",
    "for dirname, _, filenames in os.walk('/kaggle/input'):\n",
    "    for filename in filenames:\n",
    "        print(os.path.join(dirname, filename))\n",
    "\n",
    "# You can write up to 20GB to the current directory (/kaggle/working/) that gets preserved as output when you create a version using \"Save & Run All\" \n",
    "# You can also write temporary files to /kaggle/temp/, but they won't be saved outside of the current session"
   ]
  },
  {
   "cell_type": "code",
   "execution_count": 2,
   "id": "6fed1fd7",
   "metadata": {
    "execution": {
     "iopub.execute_input": "2023-10-24T10:50:11.017576Z",
     "iopub.status.busy": "2023-10-24T10:50:11.016532Z",
     "iopub.status.idle": "2023-10-24T10:50:23.242167Z",
     "shell.execute_reply": "2023-10-24T10:50:23.240975Z"
    },
    "papermill": {
     "duration": 12.242169,
     "end_time": "2023-10-24T10:50:23.245241",
     "exception": false,
     "start_time": "2023-10-24T10:50:11.003072",
     "status": "completed"
    },
    "tags": []
   },
   "outputs": [
    {
     "ename": "ModuleNotFoundError",
     "evalue": "No module named 'tensorflow_decision_forests'",
     "output_type": "error",
     "traceback": [
      "\u001b[1;31m---------------------------------------------------------------------------\u001b[0m",
      "\u001b[1;31mModuleNotFoundError\u001b[0m                       Traceback (most recent call last)",
      "Cell \u001b[1;32mIn[2], line 6\u001b[0m\n\u001b[0;32m      3\u001b[0m \u001b[38;5;28;01mimport\u001b[39;00m \u001b[38;5;21;01mos\u001b[39;00m\n\u001b[0;32m      5\u001b[0m \u001b[38;5;28;01mimport\u001b[39;00m \u001b[38;5;21;01mtensorflow\u001b[39;00m \u001b[38;5;28;01mas\u001b[39;00m \u001b[38;5;21;01mtf\u001b[39;00m\n\u001b[1;32m----> 6\u001b[0m \u001b[38;5;28;01mimport\u001b[39;00m \u001b[38;5;21;01mtensorflow_decision_forests\u001b[39;00m \u001b[38;5;28;01mas\u001b[39;00m \u001b[38;5;21;01mtfdf\u001b[39;00m\n\u001b[0;32m      7\u001b[0m \u001b[38;5;28;01mfrom\u001b[39;00m \u001b[38;5;21;01mIPython\u001b[39;00m\u001b[38;5;21;01m.\u001b[39;00m\u001b[38;5;21;01mdisplay\u001b[39;00m \u001b[38;5;28;01mimport\u001b[39;00m Markdown \u001b[38;5;28;01mas\u001b[39;00m md, display\n\u001b[0;32m      8\u001b[0m \u001b[38;5;28;01mimport\u001b[39;00m \u001b[38;5;21;01mmatplotlib\u001b[39;00m\u001b[38;5;21;01m.\u001b[39;00m\u001b[38;5;21;01mpyplot\u001b[39;00m \u001b[38;5;28;01mas\u001b[39;00m \u001b[38;5;21;01mplt\u001b[39;00m\n",
      "\u001b[1;31mModuleNotFoundError\u001b[0m: No module named 'tensorflow_decision_forests'"
     ]
    }
   ],
   "source": [
    "import numpy as np\n",
    "import pandas as pd\n",
    "import os\n",
    "\n",
    "import tensorflow as tf\n",
    "import tensorflow_decision_forests as tfdf\n",
    "from IPython.display import Markdown as md, display\n",
    "import matplotlib.pyplot as plt\n",
    "from sklearn.model_selection import cross_validate, GridSearchCV\n",
    "from sklearn.svm import SVC\n",
    "from sklearn.linear_model import LogisticRegression\n",
    "from sklearn.ensemble import GradientBoostingClassifier, VotingClassifier\n",
    "import copy\n",
    "from scipy.stats import chi2_contingency\n",
    "from sklearn.preprocessing import LabelEncoder\n",
    "from sklearn.neural_network import MLPClassifier\n",
    "from sklearn.model_selection import train_test_split\n",
    "from sklearn.metrics import accuracy_score\n",
    "from xgboost import XGBClassifier"
   ]
  },
  {
   "cell_type": "markdown",
   "id": "ebd1ac7f",
   "metadata": {
    "papermill": {
     "duration": 0.011763,
     "end_time": "2023-10-24T10:50:23.269266",
     "exception": false,
     "start_time": "2023-10-24T10:50:23.257503",
     "status": "completed"
    },
    "tags": []
   },
   "source": [
    "# Helper"
   ]
  },
  {
   "cell_type": "code",
   "execution_count": null,
   "id": "d71ad5a3",
   "metadata": {
    "execution": {
     "iopub.execute_input": "2023-10-24T10:50:23.296281Z",
     "iopub.status.busy": "2023-10-24T10:50:23.294768Z",
     "iopub.status.idle": "2023-10-24T10:50:23.303738Z",
     "shell.execute_reply": "2023-10-24T10:50:23.302753Z"
    },
    "papermill": {
     "duration": 0.02482,
     "end_time": "2023-10-24T10:50:23.306127",
     "exception": false,
     "start_time": "2023-10-24T10:50:23.281307",
     "status": "completed"
    },
    "tags": []
   },
   "outputs": [],
   "source": [
    "def display_full(x: pd.DataFrame, n_digits: int = 2):\n",
    "    pd.set_option(\"display.max_rows\", len(x))\n",
    "    pd.set_option(\"display.max_columns\", None)\n",
    "    pd.set_option(\"display.width\", 2000)\n",
    "    pd.set_option(\"display.float_format\", (\"{:20,.\" + str(n_digits) + \"f}\").format)\n",
    "    pd.set_option(\"display.max_colwidth\", None)\n",
    "    pd.set_option(\"display.max_seq_item\", None)\n",
    "    display(x)\n",
    "    pd.reset_option(\"display.max_rows\")\n",
    "    pd.reset_option(\"display.max_columns\")\n",
    "    pd.reset_option(\"display.width\")\n",
    "    pd.reset_option(\"display.float_format\")\n",
    "    pd.reset_option(\"display.max_colwidth\")\n",
    "    pd.reset_option(\"display.max_seq_item\")"
   ]
  },
  {
   "cell_type": "markdown",
   "id": "07e874bb",
   "metadata": {
    "papermill": {
     "duration": 0.011577,
     "end_time": "2023-10-24T10:50:23.330029",
     "exception": false,
     "start_time": "2023-10-24T10:50:23.318452",
     "status": "completed"
    },
    "tags": []
   },
   "source": [
    "# Dataset"
   ]
  },
  {
   "cell_type": "code",
   "execution_count": null,
   "id": "8235680d",
   "metadata": {
    "execution": {
     "iopub.execute_input": "2023-10-24T10:50:23.356243Z",
     "iopub.status.busy": "2023-10-24T10:50:23.355210Z",
     "iopub.status.idle": "2023-10-24T10:50:23.417821Z",
     "shell.execute_reply": "2023-10-24T10:50:23.416590Z"
    },
    "papermill": {
     "duration": 0.078392,
     "end_time": "2023-10-24T10:50:23.420365",
     "exception": false,
     "start_time": "2023-10-24T10:50:23.341973",
     "status": "completed"
    },
    "tags": []
   },
   "outputs": [
    {
     "data": {
      "text/html": [
       "<div>\n",
       "<style scoped>\n",
       "    .dataframe tbody tr th:only-of-type {\n",
       "        vertical-align: middle;\n",
       "    }\n",
       "\n",
       "    .dataframe tbody tr th {\n",
       "        vertical-align: top;\n",
       "    }\n",
       "\n",
       "    .dataframe thead th {\n",
       "        text-align: right;\n",
       "    }\n",
       "</style>\n",
       "<table border=\"1\" class=\"dataframe\">\n",
       "  <thead>\n",
       "    <tr style=\"text-align: right;\">\n",
       "      <th></th>\n",
       "      <th>PassengerId</th>\n",
       "      <th>Survived</th>\n",
       "      <th>Pclass</th>\n",
       "      <th>Name</th>\n",
       "      <th>Sex</th>\n",
       "      <th>Age</th>\n",
       "      <th>SibSp</th>\n",
       "      <th>Parch</th>\n",
       "      <th>Ticket</th>\n",
       "      <th>Fare</th>\n",
       "      <th>Cabin</th>\n",
       "      <th>Embarked</th>\n",
       "    </tr>\n",
       "  </thead>\n",
       "  <tbody>\n",
       "    <tr>\n",
       "      <th>0</th>\n",
       "      <td>1</td>\n",
       "      <td>0</td>\n",
       "      <td>3</td>\n",
       "      <td>Braund, Mr. Owen Harris</td>\n",
       "      <td>male</td>\n",
       "      <td>22.0</td>\n",
       "      <td>1</td>\n",
       "      <td>0</td>\n",
       "      <td>A/5 21171</td>\n",
       "      <td>7.2500</td>\n",
       "      <td>NaN</td>\n",
       "      <td>S</td>\n",
       "    </tr>\n",
       "    <tr>\n",
       "      <th>1</th>\n",
       "      <td>2</td>\n",
       "      <td>1</td>\n",
       "      <td>1</td>\n",
       "      <td>Cumings, Mrs. John Bradley (Florence Briggs Th...</td>\n",
       "      <td>female</td>\n",
       "      <td>38.0</td>\n",
       "      <td>1</td>\n",
       "      <td>0</td>\n",
       "      <td>PC 17599</td>\n",
       "      <td>71.2833</td>\n",
       "      <td>C85</td>\n",
       "      <td>C</td>\n",
       "    </tr>\n",
       "    <tr>\n",
       "      <th>2</th>\n",
       "      <td>3</td>\n",
       "      <td>1</td>\n",
       "      <td>3</td>\n",
       "      <td>Heikkinen, Miss. Laina</td>\n",
       "      <td>female</td>\n",
       "      <td>26.0</td>\n",
       "      <td>0</td>\n",
       "      <td>0</td>\n",
       "      <td>STON/O2. 3101282</td>\n",
       "      <td>7.9250</td>\n",
       "      <td>NaN</td>\n",
       "      <td>S</td>\n",
       "    </tr>\n",
       "    <tr>\n",
       "      <th>3</th>\n",
       "      <td>4</td>\n",
       "      <td>1</td>\n",
       "      <td>1</td>\n",
       "      <td>Futrelle, Mrs. Jacques Heath (Lily May Peel)</td>\n",
       "      <td>female</td>\n",
       "      <td>35.0</td>\n",
       "      <td>1</td>\n",
       "      <td>0</td>\n",
       "      <td>113803</td>\n",
       "      <td>53.1000</td>\n",
       "      <td>C123</td>\n",
       "      <td>S</td>\n",
       "    </tr>\n",
       "    <tr>\n",
       "      <th>4</th>\n",
       "      <td>5</td>\n",
       "      <td>0</td>\n",
       "      <td>3</td>\n",
       "      <td>Allen, Mr. William Henry</td>\n",
       "      <td>male</td>\n",
       "      <td>35.0</td>\n",
       "      <td>0</td>\n",
       "      <td>0</td>\n",
       "      <td>373450</td>\n",
       "      <td>8.0500</td>\n",
       "      <td>NaN</td>\n",
       "      <td>S</td>\n",
       "    </tr>\n",
       "    <tr>\n",
       "      <th>5</th>\n",
       "      <td>6</td>\n",
       "      <td>0</td>\n",
       "      <td>3</td>\n",
       "      <td>Moran, Mr. James</td>\n",
       "      <td>male</td>\n",
       "      <td>NaN</td>\n",
       "      <td>0</td>\n",
       "      <td>0</td>\n",
       "      <td>330877</td>\n",
       "      <td>8.4583</td>\n",
       "      <td>NaN</td>\n",
       "      <td>Q</td>\n",
       "    </tr>\n",
       "    <tr>\n",
       "      <th>6</th>\n",
       "      <td>7</td>\n",
       "      <td>0</td>\n",
       "      <td>1</td>\n",
       "      <td>McCarthy, Mr. Timothy J</td>\n",
       "      <td>male</td>\n",
       "      <td>54.0</td>\n",
       "      <td>0</td>\n",
       "      <td>0</td>\n",
       "      <td>17463</td>\n",
       "      <td>51.8625</td>\n",
       "      <td>E46</td>\n",
       "      <td>S</td>\n",
       "    </tr>\n",
       "    <tr>\n",
       "      <th>7</th>\n",
       "      <td>8</td>\n",
       "      <td>0</td>\n",
       "      <td>3</td>\n",
       "      <td>Palsson, Master. Gosta Leonard</td>\n",
       "      <td>male</td>\n",
       "      <td>2.0</td>\n",
       "      <td>3</td>\n",
       "      <td>1</td>\n",
       "      <td>349909</td>\n",
       "      <td>21.0750</td>\n",
       "      <td>NaN</td>\n",
       "      <td>S</td>\n",
       "    </tr>\n",
       "    <tr>\n",
       "      <th>8</th>\n",
       "      <td>9</td>\n",
       "      <td>1</td>\n",
       "      <td>3</td>\n",
       "      <td>Johnson, Mrs. Oscar W (Elisabeth Vilhelmina Berg)</td>\n",
       "      <td>female</td>\n",
       "      <td>27.0</td>\n",
       "      <td>0</td>\n",
       "      <td>2</td>\n",
       "      <td>347742</td>\n",
       "      <td>11.1333</td>\n",
       "      <td>NaN</td>\n",
       "      <td>S</td>\n",
       "    </tr>\n",
       "    <tr>\n",
       "      <th>9</th>\n",
       "      <td>10</td>\n",
       "      <td>1</td>\n",
       "      <td>2</td>\n",
       "      <td>Nasser, Mrs. Nicholas (Adele Achem)</td>\n",
       "      <td>female</td>\n",
       "      <td>14.0</td>\n",
       "      <td>1</td>\n",
       "      <td>0</td>\n",
       "      <td>237736</td>\n",
       "      <td>30.0708</td>\n",
       "      <td>NaN</td>\n",
       "      <td>C</td>\n",
       "    </tr>\n",
       "  </tbody>\n",
       "</table>\n",
       "</div>"
      ],
      "text/plain": [
       "   PassengerId  Survived  Pclass  \\\n",
       "0            1         0       3   \n",
       "1            2         1       1   \n",
       "2            3         1       3   \n",
       "3            4         1       1   \n",
       "4            5         0       3   \n",
       "5            6         0       3   \n",
       "6            7         0       1   \n",
       "7            8         0       3   \n",
       "8            9         1       3   \n",
       "9           10         1       2   \n",
       "\n",
       "                                                Name     Sex   Age  SibSp  \\\n",
       "0                            Braund, Mr. Owen Harris    male  22.0      1   \n",
       "1  Cumings, Mrs. John Bradley (Florence Briggs Th...  female  38.0      1   \n",
       "2                             Heikkinen, Miss. Laina  female  26.0      0   \n",
       "3       Futrelle, Mrs. Jacques Heath (Lily May Peel)  female  35.0      1   \n",
       "4                           Allen, Mr. William Henry    male  35.0      0   \n",
       "5                                   Moran, Mr. James    male   NaN      0   \n",
       "6                            McCarthy, Mr. Timothy J    male  54.0      0   \n",
       "7                     Palsson, Master. Gosta Leonard    male   2.0      3   \n",
       "8  Johnson, Mrs. Oscar W (Elisabeth Vilhelmina Berg)  female  27.0      0   \n",
       "9                Nasser, Mrs. Nicholas (Adele Achem)  female  14.0      1   \n",
       "\n",
       "   Parch            Ticket     Fare Cabin Embarked  \n",
       "0      0         A/5 21171   7.2500   NaN        S  \n",
       "1      0          PC 17599  71.2833   C85        C  \n",
       "2      0  STON/O2. 3101282   7.9250   NaN        S  \n",
       "3      0            113803  53.1000  C123        S  \n",
       "4      0            373450   8.0500   NaN        S  \n",
       "5      0            330877   8.4583   NaN        Q  \n",
       "6      0             17463  51.8625   E46        S  \n",
       "7      1            349909  21.0750   NaN        S  \n",
       "8      2            347742  11.1333   NaN        S  \n",
       "9      0            237736  30.0708   NaN        C  "
      ]
     },
     "execution_count": 4,
     "metadata": {},
     "output_type": "execute_result"
    }
   ],
   "source": [
    "train_df = pd.read_csv(\"train.csv\")\n",
    "test_df = pd.read_csv(\"test.csv\")\n",
    "#ubmission_df = pd.read_csv(\"/kaggle/input/titanic/gender_submission.csv\")\n",
    "\n",
    "train_df.head(10)"
   ]
  },
  {
   "cell_type": "markdown",
   "id": "b164e2ce",
   "metadata": {
    "papermill": {
     "duration": 0.012274,
     "end_time": "2023-10-24T10:50:23.445220",
     "exception": false,
     "start_time": "2023-10-24T10:50:23.432946",
     "status": "completed"
    },
    "tags": []
   },
   "source": [
    "Data description:\n",
    "\n",
    "1. Survival - Survival (0 = No; 1 = Yes). Not included in test.csv file.\n",
    "2. Pclass - Passenger Class (1 = 1st; 2 = 2nd; 3 = 3rd)\n",
    "3. Name - Name\n",
    "4. Sex - Sex\n",
    "5. Age - Age\n",
    "6. Sibsp - Number of Siblings/Spouses Aboard\n",
    "7. Parch - Number of Parents/Children Aboard\n",
    "8. Ticket - Ticket Number\n",
    "9. Fare - Passenger Fare\n",
    "10. Cabin - Cabin\n",
    "11. Embarked - Port of Embarkation (C = Cherbourg; Q = Queenstown; S = Southampton)"
   ]
  },
  {
   "cell_type": "markdown",
   "id": "b7ef272d",
   "metadata": {
    "papermill": {
     "duration": 0.012229,
     "end_time": "2023-10-24T10:50:23.470109",
     "exception": false,
     "start_time": "2023-10-24T10:50:23.457880",
     "status": "completed"
    },
    "tags": []
   },
   "source": [
    "# Data Visualization Methods"
   ]
  },
  {
   "cell_type": "code",
   "execution_count": null,
   "id": "9fdfde02",
   "metadata": {
    "execution": {
     "iopub.execute_input": "2023-10-24T10:50:23.497514Z",
     "iopub.status.busy": "2023-10-24T10:50:23.497113Z",
     "iopub.status.idle": "2023-10-24T10:50:23.513799Z",
     "shell.execute_reply": "2023-10-24T10:50:23.512668Z"
    },
    "papermill": {
     "duration": 0.033577,
     "end_time": "2023-10-24T10:50:23.516232",
     "exception": false,
     "start_time": "2023-10-24T10:50:23.482655",
     "status": "completed"
    },
    "tags": []
   },
   "outputs": [],
   "source": [
    "target_column = 'Survived'\n",
    "\n",
    "def create_submission_file(passenger_id_to_prediction_map: dict[int, int]):\n",
    "    output = pd.DataFrame({'PassengerId': list(passenger_id_to_prediction_map.keys()), \n",
    "                           target_column: passenger_id_to_prediction_map.values()})\n",
    "    output.to_csv('submission.csv', index=False)\n",
    "    \n",
    "def show_kde(feature_names):\n",
    "    df = train_df[feature_names]\n",
    "    fig, axs = plt.subplots(1,len(feature_names))\n",
    "    \n",
    "    for feature, ax in zip(feature_names, axs):\n",
    "        df[feature].plot(kind='density', ax=ax)\n",
    "        \n",
    "    fig.show()\n",
    "    \n",
    "def show_corr_between_continues_features_and_target(feature_names):\n",
    "    df = train_df[feature_names + [target_column]]\n",
    "    corr_matrix = df.corr()[target_column]\n",
    "    display(corr_matrix)\n",
    "    \n",
    "def show_corr_between_discrete_features_and_target(feature_names):\n",
    "    targets = train_df[target_column]\n",
    "    feature_to_corr = {}\n",
    "    \n",
    "    for feature in feature_names:\n",
    "        feature_values = train_df[feature].to_list()\n",
    "\n",
    "            \n",
    "        # Cramér's V\n",
    "        confusion_matrix = pd.crosstab(feature_values, targets)\n",
    "        chi2 = chi2_contingency(confusion_matrix)[0]\n",
    "        n = confusion_matrix.sum().sum()\n",
    "        phi2 = chi2/n\n",
    "        r, k = confusion_matrix.shape\n",
    "        phi2corr = max(0, phi2 - ((k-1)*(r-1))/(n-1))\n",
    "        rcorr = r - ((r-1)**2)/(n-1)\n",
    "        kcorr = k - ((k-1)**2)/(n-1)\n",
    "        corr = np.sqrt(phi2corr / min((kcorr-1), (rcorr-1)))\n",
    "        \n",
    "        feature_to_corr[feature] = corr\n",
    "    return feature_to_corr\n",
    "    \n",
    "def show_columns_with_nan_values(df):\n",
    "    columns_with_nan_values = df.columns[df.isna().any()].tolist()\n",
    "    column_to_amount_of_values = {\n",
    "      column: np.sum(df[column].isna()) for column in columns_with_nan_values\n",
    "    }\n",
    "    total_length = len(df)\n",
    "    \n",
    "    df = {\n",
    "        \"column\": list(column_to_amount_of_values.keys()),\n",
    "        \"#_without_value\": list(column_to_amount_of_values.values()),\n",
    "        \"%_without_value\": [value / total_length for value in column_to_amount_of_values.values()]\n",
    "    }\n",
    "    display(pd.DataFrame(df))"
   ]
  },
  {
   "cell_type": "code",
   "execution_count": null,
   "id": "eb9c2b63",
   "metadata": {
    "execution": {
     "iopub.execute_input": "2023-10-24T10:50:23.543498Z",
     "iopub.status.busy": "2023-10-24T10:50:23.543063Z",
     "iopub.status.idle": "2023-10-24T10:50:23.563930Z",
     "shell.execute_reply": "2023-10-24T10:50:23.563017Z"
    },
    "papermill": {
     "duration": 0.037161,
     "end_time": "2023-10-24T10:50:23.566078",
     "exception": false,
     "start_time": "2023-10-24T10:50:23.528917",
     "status": "completed"
    },
    "tags": []
   },
   "outputs": [
    {
     "data": {
      "text/markdown": [
       "### train_df"
      ],
      "text/plain": [
       "<IPython.core.display.Markdown object>"
      ]
     },
     "metadata": {},
     "output_type": "display_data"
    },
    {
     "data": {
      "text/html": [
       "<div>\n",
       "<style scoped>\n",
       "    .dataframe tbody tr th:only-of-type {\n",
       "        vertical-align: middle;\n",
       "    }\n",
       "\n",
       "    .dataframe tbody tr th {\n",
       "        vertical-align: top;\n",
       "    }\n",
       "\n",
       "    .dataframe thead th {\n",
       "        text-align: right;\n",
       "    }\n",
       "</style>\n",
       "<table border=\"1\" class=\"dataframe\">\n",
       "  <thead>\n",
       "    <tr style=\"text-align: right;\">\n",
       "      <th></th>\n",
       "      <th>column</th>\n",
       "      <th>#_without_value</th>\n",
       "      <th>%_without_value</th>\n",
       "    </tr>\n",
       "  </thead>\n",
       "  <tbody>\n",
       "    <tr>\n",
       "      <th>0</th>\n",
       "      <td>Age</td>\n",
       "      <td>177</td>\n",
       "      <td>0.198653</td>\n",
       "    </tr>\n",
       "    <tr>\n",
       "      <th>1</th>\n",
       "      <td>Cabin</td>\n",
       "      <td>687</td>\n",
       "      <td>0.771044</td>\n",
       "    </tr>\n",
       "    <tr>\n",
       "      <th>2</th>\n",
       "      <td>Embarked</td>\n",
       "      <td>2</td>\n",
       "      <td>0.002245</td>\n",
       "    </tr>\n",
       "  </tbody>\n",
       "</table>\n",
       "</div>"
      ],
      "text/plain": [
       "     column  #_without_value  %_without_value\n",
       "0       Age              177         0.198653\n",
       "1     Cabin              687         0.771044\n",
       "2  Embarked                2         0.002245"
      ]
     },
     "metadata": {},
     "output_type": "display_data"
    }
   ],
   "source": [
    "display(md('### train_df'))\n",
    "show_columns_with_nan_values(train_df)"
   ]
  },
  {
   "cell_type": "code",
   "execution_count": null,
   "id": "2f532c74",
   "metadata": {
    "execution": {
     "iopub.execute_input": "2023-10-24T10:50:23.593988Z",
     "iopub.status.busy": "2023-10-24T10:50:23.593579Z",
     "iopub.status.idle": "2023-10-24T10:50:23.609785Z",
     "shell.execute_reply": "2023-10-24T10:50:23.608518Z"
    },
    "papermill": {
     "duration": 0.033075,
     "end_time": "2023-10-24T10:50:23.612295",
     "exception": false,
     "start_time": "2023-10-24T10:50:23.579220",
     "status": "completed"
    },
    "tags": []
   },
   "outputs": [
    {
     "data": {
      "text/markdown": [
       "### test_df"
      ],
      "text/plain": [
       "<IPython.core.display.Markdown object>"
      ]
     },
     "metadata": {},
     "output_type": "display_data"
    },
    {
     "data": {
      "text/html": [
       "<div>\n",
       "<style scoped>\n",
       "    .dataframe tbody tr th:only-of-type {\n",
       "        vertical-align: middle;\n",
       "    }\n",
       "\n",
       "    .dataframe tbody tr th {\n",
       "        vertical-align: top;\n",
       "    }\n",
       "\n",
       "    .dataframe thead th {\n",
       "        text-align: right;\n",
       "    }\n",
       "</style>\n",
       "<table border=\"1\" class=\"dataframe\">\n",
       "  <thead>\n",
       "    <tr style=\"text-align: right;\">\n",
       "      <th></th>\n",
       "      <th>column</th>\n",
       "      <th>#_without_value</th>\n",
       "      <th>%_without_value</th>\n",
       "    </tr>\n",
       "  </thead>\n",
       "  <tbody>\n",
       "    <tr>\n",
       "      <th>0</th>\n",
       "      <td>Age</td>\n",
       "      <td>86</td>\n",
       "      <td>0.205742</td>\n",
       "    </tr>\n",
       "    <tr>\n",
       "      <th>1</th>\n",
       "      <td>Fare</td>\n",
       "      <td>1</td>\n",
       "      <td>0.002392</td>\n",
       "    </tr>\n",
       "    <tr>\n",
       "      <th>2</th>\n",
       "      <td>Cabin</td>\n",
       "      <td>327</td>\n",
       "      <td>0.782297</td>\n",
       "    </tr>\n",
       "  </tbody>\n",
       "</table>\n",
       "</div>"
      ],
      "text/plain": [
       "  column  #_without_value  %_without_value\n",
       "0    Age               86         0.205742\n",
       "1   Fare                1         0.002392\n",
       "2  Cabin              327         0.782297"
      ]
     },
     "metadata": {},
     "output_type": "display_data"
    }
   ],
   "source": [
    "display(md('### test_df'))\n",
    "show_columns_with_nan_values(test_df)"
   ]
  },
  {
   "cell_type": "code",
   "execution_count": null,
   "id": "0c985f56",
   "metadata": {
    "execution": {
     "iopub.execute_input": "2023-10-24T10:50:23.641136Z",
     "iopub.status.busy": "2023-10-24T10:50:23.640738Z",
     "iopub.status.idle": "2023-10-24T10:50:24.247928Z",
     "shell.execute_reply": "2023-10-24T10:50:24.246853Z"
    },
    "papermill": {
     "duration": 0.625033,
     "end_time": "2023-10-24T10:50:24.250804",
     "exception": false,
     "start_time": "2023-10-24T10:50:23.625771",
     "status": "completed"
    },
    "tags": []
   },
   "outputs": [
    {
     "data": {
      "image/png": "[encoded data removed]",
      "text/plain": [
       "<Figure size 640x480 with 2 Axes>"
      ]
     },
     "metadata": {},
     "output_type": "display_data"
    }
   ],
   "source": [
    "show_kde(['Age', 'Fare'])"
   ]
  },
  {
   "cell_type": "code",
   "execution_count": null,
   "id": "e4e18618",
   "metadata": {
    "execution": {
     "iopub.execute_input": "2023-10-24T10:50:24.281457Z",
     "iopub.status.busy": "2023-10-24T10:50:24.280259Z",
     "iopub.status.idle": "2023-10-24T10:50:24.293127Z",
     "shell.execute_reply": "2023-10-24T10:50:24.292268Z"
    },
    "papermill": {
     "duration": 0.030342,
     "end_time": "2023-10-24T10:50:24.295263",
     "exception": false,
     "start_time": "2023-10-24T10:50:24.264921",
     "status": "completed"
    },
    "tags": []
   },
   "outputs": [
    {
     "data": {
      "text/plain": [
       "Age        -0.077221\n",
       "Fare        0.257307\n",
       "Survived    1.000000\n",
       "Name: Survived, dtype: float64"
      ]
     },
     "metadata": {},
     "output_type": "display_data"
    }
   ],
   "source": [
    "show_corr_between_continues_features_and_target(['Age', 'Fare'])"
   ]
  },
  {
   "cell_type": "code",
   "execution_count": null,
   "id": "8aba04d2",
   "metadata": {
    "execution": {
     "iopub.execute_input": "2023-10-24T10:50:24.326012Z",
     "iopub.status.busy": "2023-10-24T10:50:24.325020Z",
     "iopub.status.idle": "2023-10-24T10:50:24.392970Z",
     "shell.execute_reply": "2023-10-24T10:50:24.391762Z"
    },
    "papermill": {
     "duration": 0.086345,
     "end_time": "2023-10-24T10:50:24.395760",
     "exception": false,
     "start_time": "2023-10-24T10:50:24.309415",
     "status": "completed"
    },
    "tags": []
   },
   "outputs": [
    {
     "data": {
      "text/plain": [
       "{'Embarked': 0.16605833339661635,\n",
       " 'Pclass': 0.33668387622245516,\n",
       " 'Sex': 0.5401999468101071,\n",
       " 'SibSp': 0.18742816095927223,\n",
       " 'Parch': 0.15693364431605167}"
      ]
     },
     "execution_count": 10,
     "metadata": {},
     "output_type": "execute_result"
    }
   ],
   "source": [
    "show_corr_between_discrete_features_and_target(['Embarked', 'Pclass', 'Sex', 'SibSp', 'Parch'])"
   ]
  },
  {
   "cell_type": "code",
   "execution_count": null,
   "id": "7d9217ca",
   "metadata": {
    "execution": {
     "iopub.execute_input": "2023-10-24T10:50:24.426690Z",
     "iopub.status.busy": "2023-10-24T10:50:24.425837Z",
     "iopub.status.idle": "2023-10-24T10:50:24.443737Z",
     "shell.execute_reply": "2023-10-24T10:50:24.442486Z"
    },
    "papermill": {
     "duration": 0.036182,
     "end_time": "2023-10-24T10:50:24.446378",
     "exception": false,
     "start_time": "2023-10-24T10:50:24.410196",
     "status": "completed"
    },
    "tags": []
   },
   "outputs": [
    {
     "data": {
      "text/html": [
       "<div>\n",
       "<style scoped>\n",
       "    .dataframe tbody tr th:only-of-type {\n",
       "        vertical-align: middle;\n",
       "    }\n",
       "\n",
       "    .dataframe tbody tr th {\n",
       "        vertical-align: top;\n",
       "    }\n",
       "\n",
       "    .dataframe thead th {\n",
       "        text-align: right;\n",
       "    }\n",
       "</style>\n",
       "<table border=\"1\" class=\"dataframe\">\n",
       "  <thead>\n",
       "    <tr style=\"text-align: right;\">\n",
       "      <th></th>\n",
       "      <th>PassengerId</th>\n",
       "      <th>Survived</th>\n",
       "      <th>Pclass</th>\n",
       "      <th>Name</th>\n",
       "      <th>Sex</th>\n",
       "      <th>Age</th>\n",
       "      <th>SibSp</th>\n",
       "      <th>Parch</th>\n",
       "      <th>Ticket</th>\n",
       "      <th>Fare</th>\n",
       "      <th>Cabin</th>\n",
       "      <th>Embarked</th>\n",
       "    </tr>\n",
       "  </thead>\n",
       "  <tbody>\n",
       "    <tr>\n",
       "      <th>0</th>\n",
       "      <td>1</td>\n",
       "      <td>0</td>\n",
       "      <td>3</td>\n",
       "      <td>Braund, Mr. Owen Harris</td>\n",
       "      <td>male</td>\n",
       "      <td>22.0</td>\n",
       "      <td>1</td>\n",
       "      <td>0</td>\n",
       "      <td>A/5 21171</td>\n",
       "      <td>7.2500</td>\n",
       "      <td>NaN</td>\n",
       "      <td>S</td>\n",
       "    </tr>\n",
       "    <tr>\n",
       "      <th>1</th>\n",
       "      <td>2</td>\n",
       "      <td>1</td>\n",
       "      <td>1</td>\n",
       "      <td>Cumings, Mrs. John Bradley (Florence Briggs Th...</td>\n",
       "      <td>female</td>\n",
       "      <td>38.0</td>\n",
       "      <td>1</td>\n",
       "      <td>0</td>\n",
       "      <td>PC 17599</td>\n",
       "      <td>71.2833</td>\n",
       "      <td>C85</td>\n",
       "      <td>C</td>\n",
       "    </tr>\n",
       "    <tr>\n",
       "      <th>2</th>\n",
       "      <td>3</td>\n",
       "      <td>1</td>\n",
       "      <td>3</td>\n",
       "      <td>Heikkinen, Miss. Laina</td>\n",
       "      <td>female</td>\n",
       "      <td>26.0</td>\n",
       "      <td>0</td>\n",
       "      <td>0</td>\n",
       "      <td>STON/O2. 3101282</td>\n",
       "      <td>7.9250</td>\n",
       "      <td>NaN</td>\n",
       "      <td>S</td>\n",
       "    </tr>\n",
       "    <tr>\n",
       "      <th>3</th>\n",
       "      <td>4</td>\n",
       "      <td>1</td>\n",
       "      <td>1</td>\n",
       "      <td>Futrelle, Mrs. Jacques Heath (Lily May Peel)</td>\n",
       "      <td>female</td>\n",
       "      <td>35.0</td>\n",
       "      <td>1</td>\n",
       "      <td>0</td>\n",
       "      <td>113803</td>\n",
       "      <td>53.1000</td>\n",
       "      <td>C123</td>\n",
       "      <td>S</td>\n",
       "    </tr>\n",
       "    <tr>\n",
       "      <th>4</th>\n",
       "      <td>5</td>\n",
       "      <td>0</td>\n",
       "      <td>3</td>\n",
       "      <td>Allen, Mr. William Henry</td>\n",
       "      <td>male</td>\n",
       "      <td>35.0</td>\n",
       "      <td>0</td>\n",
       "      <td>0</td>\n",
       "      <td>373450</td>\n",
       "      <td>8.0500</td>\n",
       "      <td>NaN</td>\n",
       "      <td>S</td>\n",
       "    </tr>\n",
       "  </tbody>\n",
       "</table>\n",
       "</div>"
      ],
      "text/plain": [
       "   PassengerId  Survived  Pclass  \\\n",
       "0            1         0       3   \n",
       "1            2         1       1   \n",
       "2            3         1       3   \n",
       "3            4         1       1   \n",
       "4            5         0       3   \n",
       "\n",
       "                                                Name     Sex   Age  SibSp  \\\n",
       "0                            Braund, Mr. Owen Harris    male  22.0      1   \n",
       "1  Cumings, Mrs. John Bradley (Florence Briggs Th...  female  38.0      1   \n",
       "2                             Heikkinen, Miss. Laina  female  26.0      0   \n",
       "3       Futrelle, Mrs. Jacques Heath (Lily May Peel)  female  35.0      1   \n",
       "4                           Allen, Mr. William Henry    male  35.0      0   \n",
       "\n",
       "   Parch            Ticket     Fare Cabin Embarked  \n",
       "0      0         A/5 21171   7.2500   NaN        S  \n",
       "1      0          PC 17599  71.2833   C85        C  \n",
       "2      0  STON/O2. 3101282   7.9250   NaN        S  \n",
       "3      0            113803  53.1000  C123        S  \n",
       "4      0            373450   8.0500   NaN        S  "
      ]
     },
     "execution_count": 11,
     "metadata": {},
     "output_type": "execute_result"
    }
   ],
   "source": [
    "train_df.head()"
   ]
  },
  {
   "cell_type": "markdown",
   "id": "65d4a5d9",
   "metadata": {
    "papermill": {
     "duration": 0.014177,
     "end_time": "2023-10-24T10:50:24.475151",
     "exception": false,
     "start_time": "2023-10-24T10:50:24.460974",
     "status": "completed"
    },
    "tags": []
   },
   "source": [
    "### What about tickets and Cabin?\n",
    "* it can be possible that passengers with the same ticket shared a cabin or that they died together"
   ]
  },
  {
   "cell_type": "code",
   "execution_count": null,
   "id": "e1cc4824",
   "metadata": {
    "execution": {
     "iopub.execute_input": "2023-10-24T10:50:24.506790Z",
     "iopub.status.busy": "2023-10-24T10:50:24.505981Z",
     "iopub.status.idle": "2023-10-24T10:50:24.513616Z",
     "shell.execute_reply": "2023-10-24T10:50:24.512124Z"
    },
    "papermill": {
     "duration": 0.026188,
     "end_time": "2023-10-24T10:50:24.515990",
     "exception": false,
     "start_time": "2023-10-24T10:50:24.489802",
     "status": "completed"
    },
    "tags": []
   },
   "outputs": [
    {
     "name": "stdout",
     "output_type": "stream",
     "text": [
      "Ticket intersection between test and train:  115\n"
     ]
    }
   ],
   "source": [
    "print(\"Ticket intersection between test and train: \", len(set(train_df['Ticket'].to_list()).intersection(test_df['Ticket'].to_list())))"
   ]
  },
  {
   "cell_type": "code",
   "execution_count": null,
   "id": "554f64d5",
   "metadata": {
    "execution": {
     "iopub.execute_input": "2023-10-24T10:50:24.547497Z",
     "iopub.status.busy": "2023-10-24T10:50:24.547067Z",
     "iopub.status.idle": "2023-10-24T10:50:24.553509Z",
     "shell.execute_reply": "2023-10-24T10:50:24.552278Z"
    },
    "papermill": {
     "duration": 0.025909,
     "end_time": "2023-10-24T10:50:24.556556",
     "exception": false,
     "start_time": "2023-10-24T10:50:24.530647",
     "status": "completed"
    },
    "tags": []
   },
   "outputs": [
    {
     "name": "stdout",
     "output_type": "stream",
     "text": [
      "Cabin intersection between test and train:  38\n"
     ]
    }
   ],
   "source": [
    "print(\"Cabin intersection between test and train: \", len(set(train_df['Cabin'].to_list()).intersection(test_df['Cabin'].to_list())))"
   ]
  },
  {
   "cell_type": "markdown",
   "id": "3010bc62",
   "metadata": {
    "papermill": {
     "duration": 0.014374,
     "end_time": "2023-10-24T10:50:24.585754",
     "exception": false,
     "start_time": "2023-10-24T10:50:24.571380",
     "status": "completed"
    },
    "tags": []
   },
   "source": [
    "# Feature Engineering "
   ]
  },
  {
   "cell_type": "code",
   "execution_count": null,
   "id": "ae310621",
   "metadata": {
    "execution": {
     "iopub.execute_input": "2023-10-24T10:50:24.617790Z",
     "iopub.status.busy": "2023-10-24T10:50:24.617405Z",
     "iopub.status.idle": "2023-10-24T10:50:24.655920Z",
     "shell.execute_reply": "2023-10-24T10:50:24.654798Z"
    },
    "papermill": {
     "duration": 0.058251,
     "end_time": "2023-10-24T10:50:24.658802",
     "exception": false,
     "start_time": "2023-10-24T10:50:24.600551",
     "status": "completed"
    },
    "tags": []
   },
   "outputs": [],
   "source": [
    "UNKNOWN_DECK = 'U'\n",
    "UNINTERESTING_TICKET = '69'\n",
    "    \n",
    "def add_last_name_column(df: pd.DataFrame):\n",
    "    df = df.copy()\n",
    "    df['last_name'] = df['Name'].str.split(pat=',').apply(lambda splitted_name: splitted_name[0])\n",
    "    return df\n",
    "\n",
    "\n",
    "def add_family_size(df: pd.DataFrame):\n",
    "    df = df.copy()\n",
    "    df['family_size'] = df['SibSp'] + df['Parch']\n",
    "    return df\n",
    "\n",
    "def add_deck(df: pd.DataFrame):\n",
    "    df = df.copy()\n",
    "    # replace Nones by UNKNOWN_DECK and get rid of double cabins \n",
    "    df['deck'] = df['Cabin'].fillna(UNKNOWN_DECK).str.split(pat=' ').apply(lambda splitted: splitted[-1])\n",
    "    # get first letter only\n",
    "    df['deck'] = df['deck'].str[0]\n",
    "    return df\n",
    "\n",
    "\n",
    "def try_to_fill_missing_deck_values(train_df: pd.DataFrame, test_df: pd.DataFrame) -> tuple[pd.DataFrame, pd.DataFrame]:\n",
    "    assert 'last_name' in train_df.columns and 'last_name' in test_df.columns\n",
    "    \n",
    "    full_df = pd.concat([train_df, test_df]).reset_index(drop=True)\n",
    "    \n",
    "    last_name_to_deck_map = dict(zip(full_df['last_name'], full_df['deck']))\n",
    "    full_df['deck'] = full_df[['deck','last_name']].apply(lambda row: last_name_to_deck_map.get(row['last_name'], UNKNOWN_DECK) \n",
    "                                                          if row['deck'] == UNKNOWN_DECK else row['deck'], axis=1)\n",
    "    \n",
    "    \n",
    "    ticket_to_deck_map = dict(zip(full_df['Ticket'], full_df['deck']))\n",
    "    full_df['deck'] = full_df[['deck','Ticket']].apply(lambda row: ticket_to_deck_map.get(row['Ticket'], UNKNOWN_DECK) \n",
    "                                                      if row['deck'] == UNKNOWN_DECK else row['deck'], axis=1)\n",
    "    \n",
    "    \n",
    "    \n",
    "    full_df['deck'] = predict_deck_value_using_model(full_df)\n",
    "    \n",
    "    train_df = full_df[full_df['PassengerId'].isin(train_df['PassengerId'].to_list())].copy()\n",
    "    test_df = full_df[full_df['PassengerId'].isin(test_df['PassengerId'].to_list())].copy()\n",
    "    \n",
    "    return train_df, test_df\n",
    "\n",
    "def predict_deck_value_using_model(df: pd.DataFrame):\n",
    "    feature_to_use = ['complete_title', 'Fare', 'SibSp', 'Parch','Embarked']\n",
    "\n",
    "    input_features = pd.DataFrame(columns=feature_to_use)\n",
    "    \n",
    "    input_features['Fare'] = fill_nans_with_mean(df, ['Fare'])['Fare']\n",
    "    \n",
    "    features_to_encode = [feature for feature in feature_to_use if feature != 'Fare']\n",
    "    for feature in features_to_encode:\n",
    "        input_features[feature] = LabelEncoder().fit_transform(df[feature])\n",
    "        \n",
    "    \n",
    "    gboost = GradientBoostingClassifier()\n",
    "    gboost_params = {\n",
    "        'n_estimators': [5, 10, 20, 50],\n",
    "        #'learning_rate': [0.001, 0.01, 0.1, 0.5],\n",
    "        'max_depth': [2, 3, 4, 5],\n",
    "        #'min_samples_split': [2, 4, 6],\n",
    "        'min_samples_leaf': [1, 2, 4],\n",
    "        #'subsample': [0.8, 0.9, 1.0]\n",
    "    }\n",
    "    gboost = GridSearchCV(gboost, param_grid=gboost_params, scoring='accuracy', cv=3, n_jobs=4)\n",
    "    \n",
    "    \n",
    "    samples_to_use = df[df['deck'] != UNKNOWN_DECK].index\n",
    "    \n",
    "    training_input = input_features.iloc[samples_to_use]\n",
    "    y = df.iloc[samples_to_use]['deck'].to_list()\n",
    "    \n",
    "    gboost = gboost.fit(training_input, y).best_estimator_\n",
    "    \n",
    "    predictions = gboost.predict(input_features)\n",
    "    \n",
    "    corrected_predictions = []\n",
    "    for pred, target_or_unknown in zip(predictions, df['deck'].to_list()):\n",
    "        if target_or_unknown == UNKNOWN_DECK:\n",
    "            corrected_predictions.append(pred)\n",
    "        else:\n",
    "            corrected_predictions.append(target_or_unknown)\n",
    "    \n",
    "    return corrected_predictions\n",
    "\n",
    "def add_ticket_group_size(train_df: pd.DataFrame, test_df: pd.DataFrame):\n",
    "    full_data = pd.concat([train_df, test_df], ignore_index=True)\n",
    "    \n",
    "    grouped_by_ticket = full_data[['Ticket', 'Survived']].groupby('Ticket').agg(list)\n",
    "    ticket_to_survived = dict(zip(grouped_by_ticket.index, grouped_by_ticket['Survived']))\n",
    "    full_data['ticket_group_size'] = full_data['Ticket'].apply(lambda ticket: len(ticket_to_survived[ticket]))\n",
    "    \n",
    "    \n",
    "    ticket_group_to_rel_amount_survived = {}\n",
    "    for ticket_group, survived in ticket_to_survived.items():\n",
    "        amount_survived = sum([s for s in survived if not np.isnan(s)])\n",
    "        if len(survived) < 3:\n",
    "            ticket_group_to_rel_amount_survived[ticket_group] = -1\n",
    "        else:\n",
    "            ticket_group_to_rel_amount_survived[ticket_group] = amount_survived / len(survived)\n",
    "    \n",
    "    full_data['ticket_group_survived'] = full_data['Ticket'].apply(\n",
    "        lambda ticket: ticket_group_to_rel_amount_survived[ticket])\n",
    "    \n",
    "    return ( full_data[full_data['PassengerId'].isin(train_df['PassengerId'])].copy(), \n",
    "            full_data[full_data['PassengerId'].isin(test_df['PassengerId'])].reset_index(drop=True))\n",
    "\n",
    "\n",
    "def add_title(df: pd.DataFrame):\n",
    "    df = df.copy()\n",
    "    df['complete_title'] = df['Name'].str.extract('(\\w+\\.)')\n",
    "    df['title'] = df['Name'].str.extract('(\\w+\\.)')\n",
    "\n",
    "    titles_to_merge = {\n",
    "        \"Mr.\": [\"Capt.\", \"Col.\", \"Don.\", \"Jonkheer.\", \"Major.\", \"Sir.\", \"Master.\"],\n",
    "        \"Mrs.\": [\"Lady.\", \"Ms.\", \"Countess.\", \"Dona.\"],\n",
    "        \"Miss.\": [\"Mme.\", \"Mlle.\"]\n",
    "    }\n",
    "    \n",
    "    merged_titles = {}\n",
    "    for key, values in titles_to_merge.items():\n",
    "        for value in values:\n",
    "            merged_titles[value] = key\n",
    "            \n",
    "    df['title'] = df['title'].apply(lambda current_title: merged_titles[current_title] \n",
    "                                    if current_title in merged_titles else current_title)\n",
    "    \n",
    "    # also map Dr.\n",
    "    df['title'] = df[['title', 'Sex']].apply(lambda row: \"Mr.\" if row['Sex'] == \"male\" and row['title'] == 'Dr.'\n",
    "                                             else row['title'], axis=1)\n",
    "    df['title'] = df[['title', 'Sex']].apply(lambda row: \"Mrs.\" if row['Sex'] == \"female\" and row['title'] == 'Dr.'\n",
    "                                         else row['title'], axis=1)\n",
    "    return df\n",
    "\n",
    "            \n",
    "def fill_nans_with_mean_and_standardize(df: pd.DataFrame, feature_names: list[str]):    \n",
    "    df_copy = df.copy()\n",
    "    for feature in feature_names:\n",
    "        mean = df_copy[feature].mean()\n",
    "        df_copy[feature] = df_copy[feature].fillna(value=mean)\n",
    "        df_copy[feature] = (df_copy[feature] - df_copy[feature].mean()) / (df_copy[feature].std() + 1e-5)\n",
    "        \n",
    "    return df_copy\n",
    "\n",
    "\n",
    "def fill_nans_with_mean(df: pd.DataFrame, feature_names: list[str]):    \n",
    "    df_copy = df.copy()\n",
    "    for feature in feature_names:\n",
    "        mean = df_copy[feature].mean()\n",
    "        df_copy[feature] = df_copy[feature].fillna(value=mean)\n",
    "        \n",
    "    return df_copy\n",
    "\n",
    "def show_title_distribution_to_survived(df: pd.DataFrame, column='title'):\n",
    "    assert column in df.columns\n",
    "    display(df[[column, 'Survived', 'PassengerId']].groupby([column, 'Survived']).count())\n",
    "    "
   ]
  },
  {
   "cell_type": "code",
   "execution_count": null,
   "id": "b2d27125",
   "metadata": {
    "execution": {
     "iopub.execute_input": "2023-10-24T10:50:24.690688Z",
     "iopub.status.busy": "2023-10-24T10:50:24.690260Z",
     "iopub.status.idle": "2023-10-24T10:50:24.695245Z",
     "shell.execute_reply": "2023-10-24T10:50:24.694152Z"
    },
    "papermill": {
     "duration": 0.023868,
     "end_time": "2023-10-24T10:50:24.697891",
     "exception": false,
     "start_time": "2023-10-24T10:50:24.674023",
     "status": "completed"
    },
    "tags": []
   },
   "outputs": [],
   "source": [
    "train_df_augmented = train_df\n",
    "test_df_augmented = test_df"
   ]
  },
  {
   "cell_type": "code",
   "execution_count": null,
   "id": "bf751432",
   "metadata": {
    "execution": {
     "iopub.execute_input": "2023-10-24T10:50:24.729925Z",
     "iopub.status.busy": "2023-10-24T10:50:24.729507Z",
     "iopub.status.idle": "2023-10-24T10:50:24.872550Z",
     "shell.execute_reply": "2023-10-24T10:50:24.871449Z"
    },
    "papermill": {
     "duration": 0.16237,
     "end_time": "2023-10-24T10:50:24.875276",
     "exception": false,
     "start_time": "2023-10-24T10:50:24.712906",
     "status": "completed"
    },
    "tags": []
   },
   "outputs": [],
   "source": [
    "train_df_augmented = add_last_name_column(train_df_augmented)\n",
    "test_df_augmented = add_last_name_column(test_df_augmented)\n",
    "\n",
    "train_df_augmented = add_family_size(train_df_augmented)\n",
    "test_df_augmented = add_family_size(test_df_augmented)\n",
    "\n",
    "train_df_augmented = add_deck(train_df_augmented)\n",
    "test_df_augmented = add_deck(test_df_augmented)\n",
    "\n",
    "train_df_augmented = add_title(train_df_augmented)\n",
    "test_df_augmented = add_title(test_df_augmented)\n",
    "\n",
    "train_df_augmented, test_df_augmented = add_ticket_group_size(train_df_augmented, test_df_augmented)"
   ]
  },
  {
   "cell_type": "markdown",
   "id": "649822c9",
   "metadata": {
    "papermill": {
     "duration": 0.01433,
     "end_time": "2023-10-24T10:50:24.904787",
     "exception": false,
     "start_time": "2023-10-24T10:50:24.890457",
     "status": "completed"
    },
    "tags": []
   },
   "source": [
    "# Model Code"
   ]
  },
  {
   "cell_type": "code",
   "execution_count": null,
   "id": "b6c93214",
   "metadata": {
    "execution": {
     "iopub.execute_input": "2023-10-24T10:50:24.936587Z",
     "iopub.status.busy": "2023-10-24T10:50:24.936127Z",
     "iopub.status.idle": "2023-10-24T10:50:24.960877Z",
     "shell.execute_reply": "2023-10-24T10:50:24.959506Z"
    },
    "papermill": {
     "duration": 0.043854,
     "end_time": "2023-10-24T10:50:24.963450",
     "exception": false,
     "start_time": "2023-10-24T10:50:24.919596",
     "status": "completed"
    },
    "tags": []
   },
   "outputs": [],
   "source": [
    "COLUMNS_WITH_DISCRETE = ['Pclass', 'Sex', 'deck', 'Embarked', 'title', 'Ticket', 'Cabin', \"ticket_group_size\"]\n",
    "COLUMNS_WITH_CONTINUES = ['Age', 'Fare', 'Parch', 'SibSp', \"ticket_group_survived\", \"family_size\"]\n",
    "\n",
    "def get_cross_validation_results(model, X, y):\n",
    "    cv_results = cross_validate(model, X, y, cv=4, scoring=['accuracy'], return_estimator=True)\n",
    "    mean_acc = np.mean(cv_results['test_accuracy'])\n",
    "    \n",
    "    for estimator in cv_results[\"estimator\"]:\n",
    "        print(estimator.best_params_)\n",
    "    \n",
    "    print(f\"Accuracy: {mean_acc}\")\n",
    "    return \n",
    "    \n",
    "    \n",
    "def get_ensemble_classifier():\n",
    "    svm = SVC(probability=True)\n",
    "    gboost = GradientBoostingClassifier()\n",
    "    \n",
    "    svm_params = {'C': [0.01, 0.1, 1, 10, 100]}\n",
    "    gboost_params = {\n",
    "        'n_estimators': np.arange(5,35, 5),\n",
    "        'max_depth': [2, 3, 4],\n",
    "        'learning_rate': [0.01, 0.1],\n",
    "    }\n",
    "\n",
    "    svm = GridSearchCV(svm, param_grid=svm_params, scoring='accuracy', cv=5, n_jobs=4)\n",
    "    gboost = GridSearchCV(gboost, param_grid=gboost_params, scoring='accuracy', cv=5, n_jobs=4)\n",
    "    \n",
    "    ensemble = VotingClassifier(estimators=[\n",
    "        ('gboost', gboost),\n",
    "        ('svm', svm)\n",
    "    ], voting='soft')\n",
    "    return ensemble\n",
    "\n",
    "\n",
    "def get_xgb_boost_classifier():\n",
    "    model = XGBClassifier(objective='binary:logistic')\n",
    "    param_grid = {\n",
    "        'n_estimators': np.arange(5,50, 5),\n",
    "        'learning_rate': [0.01, 0.1],\n",
    "        'max_depth': [2, 3],\n",
    "        'alpha': [1, 10, 100],\n",
    "        'lambda': [1, 10, 100],\n",
    "    }\n",
    "    grid_search = GridSearchCV(model, param_grid, cv=5, scoring='accuracy', n_jobs=-1, verbose=0, refit=True)\n",
    "\n",
    "    return grid_search\n",
    "\n",
    "def preprocess_df_ordinal_encoded(df: pd.DataFrame, features: list[str]):    \n",
    "    feature_df = df.copy()[features  + ['PassengerId']]\n",
    "    \n",
    "    for feature in COLUMNS_WITH_CONTINUES:\n",
    "        if feature in features:\n",
    "            feature_df = fill_nans_with_mean(feature_df, [feature])\n",
    "           \n",
    "    for feature in COLUMNS_WITH_DISCRETE:\n",
    "        if feature in features:\n",
    "            encoder = LabelEncoder().fit(feature_df[feature])\n",
    "            feature_df[feature] = encoder.transform(feature_df[feature])\n",
    "\n",
    "        \n",
    "    feature_df = feature_df.drop(columns=['PassengerId'])\n",
    "    return feature_df\n",
    "\n",
    "\n",
    "def preprocess_df_one_hot_encoded(df: pd.DataFrame, features: list[str]):\n",
    "    feature_df = df.copy()[features  + ['PassengerId']]\n",
    "    \n",
    "    for feature in COLUMNS_WITH_CONTINUES:\n",
    "        if feature in features:\n",
    "            feature_df = fill_nans_with_mean(feature_df, [feature])\n",
    "\n",
    "    discrete_features_to_encode = [feature for feature in COLUMNS_WITH_DISCRETE if feature in features]\n",
    "    one_hot_encoded = pd.get_dummies(feature_df, columns=discrete_features_to_encode)\n",
    "    \n",
    "    one_hot_encoded = one_hot_encoded.drop(columns=['PassengerId'])\n",
    "    return one_hot_encoded\n",
    "\n",
    "\n",
    "def get_optimal_threshold_using_train_val_split(input_features: pd.DataFrame, input_targets: np.ndarray, classifier_constructor, repetition_amount = 5) -> float:\n",
    "    all_thresholds = []\n",
    "    for exp_index in list(range(repetition_amount)):\n",
    "        classifier = classifier_constructor()\n",
    "        tr_input_features, val_input_features, y_tr, y_val = train_test_split(input_features, input_targets, test_size=0.1, random_state=exp_index)\n",
    "\n",
    "        classifier.fit(tr_input_features, y_tr)\n",
    "        y_prob = classifier.predict_proba(val_input_features)[:, 1]\n",
    "\n",
    "        thresholds = np.linspace(0, 1, 100)\n",
    "        acc_to_threshold = {}\n",
    "\n",
    "        for t in thresholds:\n",
    "            y_pred = (y_prob > t).astype(int)\n",
    "            acc = accuracy_score(y_val, y_pred)\n",
    "            acc_to_threshold[acc] = t\n",
    "\n",
    "        max_acc_index = np.argmax(list(acc_to_threshold.keys()))\n",
    "        threshold_to_use = list(acc_to_threshold.values())[max_acc_index]\n",
    "        \n",
    "        all_thresholds.append(round(threshold_to_use, 4))\n",
    "    return np.mean(all_thresholds).item()"
   ]
  },
  {
   "cell_type": "code",
   "execution_count": null,
   "id": "c161507c",
   "metadata": {
    "execution": {
     "iopub.execute_input": "2023-10-24T10:50:24.995025Z",
     "iopub.status.busy": "2023-10-24T10:50:24.994557Z",
     "iopub.status.idle": "2023-10-24T10:50:25.007902Z",
     "shell.execute_reply": "2023-10-24T10:50:25.006646Z"
    },
    "papermill": {
     "duration": 0.031891,
     "end_time": "2023-10-24T10:50:25.010196",
     "exception": false,
     "start_time": "2023-10-24T10:50:24.978305",
     "status": "completed"
    },
    "tags": []
   },
   "outputs": [],
   "source": [
    "def test_xgb_model(train_df, features):\n",
    "    features_to_use = features\n",
    "    y = train_df['Survived']\n",
    "    \n",
    "    print('ordinal encoded')\n",
    "    preprocessed_data = preprocess_df_ordinal_encoded(train_df,features_to_use)\n",
    "    ordinal_model = get_xgb_boost_classifier()\n",
    "    ordinal_model_score = get_cross_validation_results(ordinal_model, preprocessed_data, y)\n",
    "    \n",
    "    print('one_hot encoded')\n",
    "    preprocessed_data = preprocess_df_one_hot_encoded(train_df,features_to_use)\n",
    "    one_hot_model = get_xgb_boost_classifier()\n",
    "    one_hot_model_score = get_cross_validation_results(one_hot_model, preprocessed_data, y)\n",
    "    \n",
    "    \n",
    "\n",
    "\n",
    "def test_ensemble(train_df, features):\n",
    "    features_to_use = features\n",
    "    y = train_df['Survived']\n",
    "    \n",
    "    print('ordinal encoded')\n",
    "    preprocessed_data = preprocess_df_ordinal_encoded(train_df,features_to_use)\n",
    "    classifier = get_ensemble_classifier()\n",
    "    get_cross_validation_results(classifier, preprocessed_data, y)\n",
    "    \n",
    "    print('one_hot encoded')\n",
    "    preprocessed_data = preprocess_df_one_hot_encoded(train_df,features_to_use)\n",
    "    classifier = get_xgb_boost_classifier()\n",
    "    get_cross_validation_results(classifier, preprocessed_data, y)\n",
    "    \n",
    "\n",
    "def test_different_configurations():\n",
    "    display(md(\"## Test All Features\"))\n",
    "    features_to_use = list(set(train_df.columns) - {'PassengerId', 'Survived', 'Name'})\n",
    "    y = train_df['Survived']\n",
    "    \n",
    "    print(f\"Features: {features_to_use}\")\n",
    "    print(\"preprocess_df_one_hot_encoded\")\n",
    "    train_input_features, test_input_features = preprocess_df_one_hot_encoded(train_df, test_df, features_to_use)\n",
    "    classifier = get_ensemble_classifier()\n",
    "    get_cross_validation_results(classifier, train_input_features, y)\n",
    "\n",
    "    \n",
    "    display(md(\"## Test On Some Features\"))\n",
    "    \n",
    "    features_to_use = ['Sex', 'Pclass', 'Fare', 'Ticket']\n",
    "    \n",
    "    print(f\"Features: {features_to_use}\")\n",
    "    print(\"preprocess_df_one_hot_encoded\")\n",
    "    train_input_features, test_input_features = preprocess_df_one_hot_encoded(train_df, test_df, features_to_use)\n",
    "    classifier = get_ensemble_classifier()\n",
    "    get_cross_validation_results(classifier, train_input_features, y)"
   ]
  },
  {
   "cell_type": "code",
   "execution_count": null,
   "id": "f78d3b3b",
   "metadata": {
    "execution": {
     "iopub.execute_input": "2023-10-24T10:50:25.107244Z",
     "iopub.status.busy": "2023-10-24T10:50:25.106852Z",
     "iopub.status.idle": "2023-10-24T10:50:25.114667Z",
     "shell.execute_reply": "2023-10-24T10:50:25.113361Z"
    },
    "papermill": {
     "duration": 0.027151,
     "end_time": "2023-10-24T10:50:25.117152",
     "exception": false,
     "start_time": "2023-10-24T10:50:25.090001",
     "status": "completed"
    },
    "tags": []
   },
   "outputs": [],
   "source": [
    "def go_through_all_features(train_df, features_to_evaluate):\n",
    "    all_features = features_to_evaluate\n",
    "    \n",
    "    \n",
    "    best_score = 0\n",
    "    best_features = []\n",
    "    y = train_df['Survived']\n",
    "    \n",
    "    for feature in all_features:\n",
    "        features_to_evaluate_on = [*best_features, feature]\n",
    "        \n",
    "        model = get_xgb_boost_classifier()\n",
    "        preprocessed_train = preprocess_df_ordinal_encoded(train_df,features_to_evaluate_on)\n",
    "        model = model.fit(preprocessed_train, y)\n",
    "        \n",
    "        if model.best_score_ > best_score:\n",
    "            best_score = model.best_score_\n",
    "            best_features = features_to_evaluate_on\n",
    "            print(best_score, best_features, model.best_estimator_.feature_importances_)"
   ]
  },
  {
   "cell_type": "markdown",
   "id": "182add5e",
   "metadata": {
    "papermill": {
     "duration": 0.014685,
     "end_time": "2023-10-24T10:50:25.147097",
     "exception": false,
     "start_time": "2023-10-24T10:50:25.132412",
     "status": "completed"
    },
    "tags": []
   },
   "source": [
    "## Train on All and Predict"
   ]
  },
  {
   "cell_type": "code",
   "execution_count": null,
   "id": "fee9fb2e",
   "metadata": {
    "execution": {
     "iopub.execute_input": "2023-10-24T10:50:25.179283Z",
     "iopub.status.busy": "2023-10-24T10:50:25.178832Z",
     "iopub.status.idle": "2023-10-24T10:50:25.205201Z",
     "shell.execute_reply": "2023-10-24T10:50:25.203981Z"
    },
    "papermill": {
     "duration": 0.045881,
     "end_time": "2023-10-24T10:50:25.207909",
     "exception": false,
     "start_time": "2023-10-24T10:50:25.162028",
     "status": "completed"
    },
    "tags": []
   },
   "outputs": [],
   "source": [
    "y = train_df[\"Survived\"]\n",
    "features_to_use =['Pclass', 'Sex', 'family_size', 'Fare', \"ticket_group_survived\", \"ticket_group_size\", 'Age','SibSp', 'deck']\n",
    "\n",
    "all_data = pd.concat([train_df_augmented, test_df_augmented], ignore_index=True)\n",
    "all_data_features = preprocess_df_ordinal_encoded(all_data, features_to_use)"
   ]
  },
  {
   "cell_type": "code",
   "execution_count": null,
   "id": "836ae2c1",
   "metadata": {
    "execution": {
     "iopub.execute_input": "2023-10-24T10:50:25.240093Z",
     "iopub.status.busy": "2023-10-24T10:50:25.239352Z",
     "iopub.status.idle": "2023-10-24T10:50:25.246245Z",
     "shell.execute_reply": "2023-10-24T10:50:25.245397Z"
    },
    "papermill": {
     "duration": 0.025733,
     "end_time": "2023-10-24T10:50:25.248633",
     "exception": false,
     "start_time": "2023-10-24T10:50:25.222900",
     "status": "completed"
    },
    "tags": []
   },
   "outputs": [],
   "source": [
    "train_features = all_data_features.loc[train_df_augmented['PassengerId'].to_numpy() - 1]\n",
    "test_features = all_data_features.iloc[test_df_augmented['PassengerId'].to_numpy() - 1]"
   ]
  },
  {
   "cell_type": "code",
   "execution_count": null,
   "id": "a838a4e3",
   "metadata": {
    "execution": {
     "iopub.execute_input": "2023-10-24T10:50:25.282509Z",
     "iopub.status.busy": "2023-10-24T10:50:25.281717Z",
     "iopub.status.idle": "2023-10-24T10:50:41.885064Z",
     "shell.execute_reply": "2023-10-24T10:50:41.883799Z"
    },
    "papermill": {
     "duration": 16.624378,
     "end_time": "2023-10-24T10:50:41.887952",
     "exception": false,
     "start_time": "2023-10-24T10:50:25.263574",
     "status": "completed"
    },
    "tags": []
   },
   "outputs": [],
   "source": [
    "classifier = get_xgb_boost_classifier()\n",
    "classifier = classifier.fit(train_features, y)"
   ]
  },
  {
   "cell_type": "code",
   "execution_count": null,
   "id": "8d744cc7",
   "metadata": {
    "execution": {
     "iopub.execute_input": "2023-10-24T10:50:41.920802Z",
     "iopub.status.busy": "2023-10-24T10:50:41.920382Z",
     "iopub.status.idle": "2023-10-24T10:50:41.929632Z",
     "shell.execute_reply": "2023-10-24T10:50:41.928543Z"
    },
    "papermill": {
     "duration": 0.028026,
     "end_time": "2023-10-24T10:50:41.932069",
     "exception": false,
     "start_time": "2023-10-24T10:50:41.904043",
     "status": "completed"
    },
    "tags": []
   },
   "outputs": [
    {
     "data": {
      "text/plain": [
       "array([0.18908738, 0.45705637, 0.06397626, 0.03152733, 0.10467324,\n",
       "       0.03760784, 0.04007234, 0.00576191, 0.07023731], dtype=float32)"
      ]
     },
     "execution_count": 23,
     "metadata": {},
     "output_type": "execute_result"
    }
   ],
   "source": [
    "classifier.best_estimator_.feature_importances_"
   ]
  },
  {
   "cell_type": "code",
   "execution_count": null,
   "id": "7d9c2cc8",
   "metadata": {
    "execution": {
     "iopub.execute_input": "2023-10-24T10:50:41.964749Z",
     "iopub.status.busy": "2023-10-24T10:50:41.963542Z",
     "iopub.status.idle": "2023-10-24T10:50:41.970941Z",
     "shell.execute_reply": "2023-10-24T10:50:41.970132Z"
    },
    "papermill": {
     "duration": 0.026156,
     "end_time": "2023-10-24T10:50:41.973124",
     "exception": false,
     "start_time": "2023-10-24T10:50:41.946968",
     "status": "completed"
    },
    "tags": []
   },
   "outputs": [
    {
     "data": {
      "text/plain": [
       "{'alpha': 1,\n",
       " 'lambda': 1,\n",
       " 'learning_rate': 0.1,\n",
       " 'max_depth': 3,\n",
       " 'n_estimators': 40}"
      ]
     },
     "execution_count": 24,
     "metadata": {},
     "output_type": "execute_result"
    }
   ],
   "source": [
    "classifier.best_params_"
   ]
  },
  {
   "cell_type": "code",
   "execution_count": null,
   "id": "6e5f0377",
   "metadata": {
    "execution": {
     "iopub.execute_input": "2023-10-24T10:50:42.005576Z",
     "iopub.status.busy": "2023-10-24T10:50:42.004847Z",
     "iopub.status.idle": "2023-10-24T10:50:42.009759Z",
     "shell.execute_reply": "2023-10-24T10:50:42.008846Z"
    },
    "papermill": {
     "duration": 0.023689,
     "end_time": "2023-10-24T10:50:42.011915",
     "exception": false,
     "start_time": "2023-10-24T10:50:41.988226",
     "status": "completed"
    },
    "tags": []
   },
   "outputs": [],
   "source": [
    "prediction_classifier = classifier.best_estimator_"
   ]
  },
  {
   "cell_type": "code",
   "execution_count": null,
   "id": "66ddb12a",
   "metadata": {
    "execution": {
     "iopub.execute_input": "2023-10-24T10:50:42.044652Z",
     "iopub.status.busy": "2023-10-24T10:50:42.043921Z",
     "iopub.status.idle": "2023-10-24T10:50:42.050186Z",
     "shell.execute_reply": "2023-10-24T10:50:42.049064Z"
    },
    "papermill": {
     "duration": 0.025596,
     "end_time": "2023-10-24T10:50:42.052669",
     "exception": false,
     "start_time": "2023-10-24T10:50:42.027073",
     "status": "completed"
    },
    "tags": []
   },
   "outputs": [],
   "source": [
    "def accuracy_on_train(classifier, threshold = 0.5):\n",
    "    predictions = (classifier.predict_proba(train_features)[:,1] >= threshold).astype(int)\n",
    "    print(accuracy_score(y, predictions))"
   ]
  },
  {
   "cell_type": "code",
   "execution_count": null,
   "id": "46bb7a27",
   "metadata": {
    "execution": {
     "iopub.execute_input": "2023-10-24T10:50:42.084935Z",
     "iopub.status.busy": "2023-10-24T10:50:42.084552Z",
     "iopub.status.idle": "2023-10-24T10:50:42.099932Z",
     "shell.execute_reply": "2023-10-24T10:50:42.099043Z"
    },
    "papermill": {
     "duration": 0.034831,
     "end_time": "2023-10-24T10:50:42.102745",
     "exception": false,
     "start_time": "2023-10-24T10:50:42.067914",
     "status": "completed"
    },
    "tags": []
   },
   "outputs": [
    {
     "name": "stdout",
     "output_type": "stream",
     "text": [
      "0.8698092031425365\n"
     ]
    }
   ],
   "source": [
    "accuracy_on_train(prediction_classifier)"
   ]
  },
  {
   "cell_type": "code",
   "execution_count": null,
   "id": "7414536c",
   "metadata": {
    "execution": {
     "iopub.execute_input": "2023-10-24T10:50:42.136192Z",
     "iopub.status.busy": "2023-10-24T10:50:42.135798Z",
     "iopub.status.idle": "2023-10-24T10:50:42.144940Z",
     "shell.execute_reply": "2023-10-24T10:50:42.144036Z"
    },
    "papermill": {
     "duration": 0.029084,
     "end_time": "2023-10-24T10:50:42.148343",
     "exception": false,
     "start_time": "2023-10-24T10:50:42.119259",
     "status": "completed"
    },
    "tags": []
   },
   "outputs": [],
   "source": [
    "threshold = 0.5\n",
    "predictions = (prediction_classifier.predict_proba(test_features)[:,1] >= threshold).astype(int)\n",
    "passenger_id_to_prediction = {passenger_id: prediction  for passenger_id, prediction in zip(test_df['PassengerId'], predictions)}"
   ]
  },
  {
   "cell_type": "code",
   "execution_count": null,
   "id": "7b23a9b6",
   "metadata": {
    "execution": {
     "iopub.execute_input": "2023-10-24T10:50:42.182174Z",
     "iopub.status.busy": "2023-10-24T10:50:42.181648Z",
     "iopub.status.idle": "2023-10-24T10:50:42.195212Z",
     "shell.execute_reply": "2023-10-24T10:50:42.194023Z"
    },
    "papermill": {
     "duration": 0.033091,
     "end_time": "2023-10-24T10:50:42.197924",
     "exception": false,
     "start_time": "2023-10-24T10:50:42.164833",
     "status": "completed"
    },
    "tags": []
   },
   "outputs": [],
   "source": [
    "create_submission_file(passenger_id_to_prediction)"
   ]
  },
  {
   "cell_type": "markdown",
   "id": "a0363389",
   "metadata": {
    "papermill": {
     "duration": 0.015074,
     "end_time": "2023-10-24T10:50:42.228452",
     "exception": false,
     "start_time": "2023-10-24T10:50:42.213378",
     "status": "completed"
    },
    "tags": []
   },
   "source": [
    "## TODO: \n",
    "* Could lastnames also incorporate some relation information\n",
    "* check Cabin in more detail\n",
    "* reevalute threshold"
   ]
  }
 ],
 "metadata": {
  "kernelspec": {
   "display_name": "Python 3",
   "language": "python",
   "name": "python3"
  },
  "language_info": {
   "codemirror_mode": {
    "name": "ipython",
    "version": 3
   },
   "file_extension": ".py",
   "mimetype": "text/x-python",
   "name": "python",
   "nbconvert_exporter": "python",
   "pygments_lexer": "ipython3",
   "version": "3.12.2"
  },
  "papermill": {
   "default_parameters": {},
   "duration": 38.068269,
   "end_time": "2023-10-24T10:50:44.865060",
   "environment_variables": {},
   "exception": null,
   "input_path": "__notebook__.ipynb",
   "output_path": "__notebook__.ipynb",
   "parameters": {},
   "start_time": "2023-10-24T10:50:06.796791",
   "version": "2.4.0"
  }
 },
 "nbformat": 4,
 "nbformat_minor": 5
}

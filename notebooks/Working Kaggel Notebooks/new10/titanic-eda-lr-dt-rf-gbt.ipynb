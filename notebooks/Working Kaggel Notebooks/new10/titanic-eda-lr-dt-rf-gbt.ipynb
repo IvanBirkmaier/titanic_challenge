{
 "cells": [
  {
   "cell_type": "markdown",
   "id": "fa7bdfb9",
   "metadata": {
    "papermill": {
     "duration": 0.007384,
     "end_time": "2024-01-23T05:14:44.028262",
     "exception": false,
     "start_time": "2024-01-23T05:14:44.020878",
     "status": "completed"
    },
    "tags": []
   },
   "source": [
    "# Preface\n",
    "\n",
    "This version focuses on the logistic regression model. For a comprehensive overview of all models and detailed analyses, refer to versions 1-3"
   ]
  },
  {
   "cell_type": "markdown",
   "id": "c37562c4",
   "metadata": {},
   "source": [
    "80.8 https://www.kaggle.com/code/escape2free/titanic-eda-lr-dt-rf-gbt"
   ]
  },
  {
   "cell_type": "markdown",
   "id": "d3c6bfa0",
   "metadata": {
    "papermill": {
     "duration": 0.006282,
     "end_time": "2024-01-23T05:14:44.042226",
     "exception": false,
     "start_time": "2024-01-23T05:14:44.035944",
     "status": "completed"
    },
    "tags": []
   },
   "source": [
    "# Step 1: Import Dependencies"
   ]
  },
  {
   "cell_type": "code",
   "execution_count": 23,
   "id": "b6858dcd",
   "metadata": {
    "execution": {
     "iopub.execute_input": "2024-01-23T05:14:44.057698Z",
     "iopub.status.busy": "2024-01-23T05:14:44.057081Z",
     "iopub.status.idle": "2024-01-23T05:14:46.724781Z",
     "shell.execute_reply": "2024-01-23T05:14:46.723031Z"
    },
    "papermill": {
     "duration": 2.679483,
     "end_time": "2024-01-23T05:14:46.728257",
     "exception": false,
     "start_time": "2024-01-23T05:14:44.048774",
     "status": "completed"
    },
    "tags": []
   },
   "outputs": [],
   "source": [
    "import warnings\n",
    "warnings.filterwarnings(\"ignore\")\n",
    "\n",
    "import pandas as pd\n",
    "from matplotlib import pyplot as plt\n",
    "import seaborn as sns\n",
    "from sklearn.compose import ColumnTransformer\n",
    "from sklearn.pipeline import Pipeline\n",
    "from sklearn.feature_extraction.text import TfidfVectorizer\n",
    "from sklearn.preprocessing import OneHotEncoder, StandardScaler\n",
    "from sklearn.compose import make_column_selector as selector\n",
    "from sklearn.model_selection import train_test_split\n",
    "from sklearn.linear_model import LogisticRegression\n",
    "from sklearn.model_selection import GridSearchCV\n",
    "from sklearn.metrics import make_scorer, accuracy_score, classification_report\n",
    "from sklearn.metrics import roc_curve, roc_auc_score\n",
    "from sklearn.metrics import confusion_matrix\n",
    "import numpy as np\n",
    "import re"
   ]
  },
  {
   "cell_type": "markdown",
   "id": "fca30e96",
   "metadata": {
    "papermill": {
     "duration": 0.006332,
     "end_time": "2024-01-23T05:14:46.741388",
     "exception": false,
     "start_time": "2024-01-23T05:14:46.735056",
     "status": "completed"
    },
    "tags": []
   },
   "source": [
    "# Step 2: Load Dataset"
   ]
  },
  {
   "cell_type": "code",
   "execution_count": 24,
   "id": "528dd092",
   "metadata": {
    "execution": {
     "iopub.execute_input": "2024-01-23T05:14:46.757665Z",
     "iopub.status.busy": "2024-01-23T05:14:46.756939Z",
     "iopub.status.idle": "2024-01-23T05:14:46.814342Z",
     "shell.execute_reply": "2024-01-23T05:14:46.812714Z"
    },
    "papermill": {
     "duration": 0.069021,
     "end_time": "2024-01-23T05:14:46.817544",
     "exception": false,
     "start_time": "2024-01-23T05:14:46.748523",
     "status": "completed"
    },
    "tags": []
   },
   "outputs": [
    {
     "data": {
      "text/html": [
       "<div>\n",
       "<style scoped>\n",
       "    .dataframe tbody tr th:only-of-type {\n",
       "        vertical-align: middle;\n",
       "    }\n",
       "\n",
       "    .dataframe tbody tr th {\n",
       "        vertical-align: top;\n",
       "    }\n",
       "\n",
       "    .dataframe thead th {\n",
       "        text-align: right;\n",
       "    }\n",
       "</style>\n",
       "<table border=\"1\" class=\"dataframe\">\n",
       "  <thead>\n",
       "    <tr style=\"text-align: right;\">\n",
       "      <th></th>\n",
       "      <th>PassengerId</th>\n",
       "      <th>Survived</th>\n",
       "      <th>Pclass</th>\n",
       "      <th>Name</th>\n",
       "      <th>Sex</th>\n",
       "      <th>Age</th>\n",
       "      <th>SibSp</th>\n",
       "      <th>Parch</th>\n",
       "      <th>Ticket</th>\n",
       "      <th>Fare</th>\n",
       "      <th>Cabin</th>\n",
       "      <th>Embarked</th>\n",
       "    </tr>\n",
       "  </thead>\n",
       "  <tbody>\n",
       "    <tr>\n",
       "      <th>0</th>\n",
       "      <td>1</td>\n",
       "      <td>0</td>\n",
       "      <td>3</td>\n",
       "      <td>Braund, Mr. Owen Harris</td>\n",
       "      <td>male</td>\n",
       "      <td>22.0</td>\n",
       "      <td>1</td>\n",
       "      <td>0</td>\n",
       "      <td>A/5 21171</td>\n",
       "      <td>7.2500</td>\n",
       "      <td>NaN</td>\n",
       "      <td>S</td>\n",
       "    </tr>\n",
       "    <tr>\n",
       "      <th>1</th>\n",
       "      <td>2</td>\n",
       "      <td>1</td>\n",
       "      <td>1</td>\n",
       "      <td>Cumings, Mrs. John Bradley (Florence Briggs Th...</td>\n",
       "      <td>female</td>\n",
       "      <td>38.0</td>\n",
       "      <td>1</td>\n",
       "      <td>0</td>\n",
       "      <td>PC 17599</td>\n",
       "      <td>71.2833</td>\n",
       "      <td>C85</td>\n",
       "      <td>C</td>\n",
       "    </tr>\n",
       "    <tr>\n",
       "      <th>2</th>\n",
       "      <td>3</td>\n",
       "      <td>1</td>\n",
       "      <td>3</td>\n",
       "      <td>Heikkinen, Miss. Laina</td>\n",
       "      <td>female</td>\n",
       "      <td>26.0</td>\n",
       "      <td>0</td>\n",
       "      <td>0</td>\n",
       "      <td>STON/O2. 3101282</td>\n",
       "      <td>7.9250</td>\n",
       "      <td>NaN</td>\n",
       "      <td>S</td>\n",
       "    </tr>\n",
       "    <tr>\n",
       "      <th>3</th>\n",
       "      <td>4</td>\n",
       "      <td>1</td>\n",
       "      <td>1</td>\n",
       "      <td>Futrelle, Mrs. Jacques Heath (Lily May Peel)</td>\n",
       "      <td>female</td>\n",
       "      <td>35.0</td>\n",
       "      <td>1</td>\n",
       "      <td>0</td>\n",
       "      <td>113803</td>\n",
       "      <td>53.1000</td>\n",
       "      <td>C123</td>\n",
       "      <td>S</td>\n",
       "    </tr>\n",
       "    <tr>\n",
       "      <th>4</th>\n",
       "      <td>5</td>\n",
       "      <td>0</td>\n",
       "      <td>3</td>\n",
       "      <td>Allen, Mr. William Henry</td>\n",
       "      <td>male</td>\n",
       "      <td>35.0</td>\n",
       "      <td>0</td>\n",
       "      <td>0</td>\n",
       "      <td>373450</td>\n",
       "      <td>8.0500</td>\n",
       "      <td>NaN</td>\n",
       "      <td>S</td>\n",
       "    </tr>\n",
       "  </tbody>\n",
       "</table>\n",
       "</div>"
      ],
      "text/plain": [
       "   PassengerId  Survived  Pclass  \\\n",
       "0            1         0       3   \n",
       "1            2         1       1   \n",
       "2            3         1       3   \n",
       "3            4         1       1   \n",
       "4            5         0       3   \n",
       "\n",
       "                                                Name     Sex   Age  SibSp  \\\n",
       "0                            Braund, Mr. Owen Harris    male  22.0      1   \n",
       "1  Cumings, Mrs. John Bradley (Florence Briggs Th...  female  38.0      1   \n",
       "2                             Heikkinen, Miss. Laina  female  26.0      0   \n",
       "3       Futrelle, Mrs. Jacques Heath (Lily May Peel)  female  35.0      1   \n",
       "4                           Allen, Mr. William Henry    male  35.0      0   \n",
       "\n",
       "   Parch            Ticket     Fare Cabin Embarked  \n",
       "0      0         A/5 21171   7.2500   NaN        S  \n",
       "1      0          PC 17599  71.2833   C85        C  \n",
       "2      0  STON/O2. 3101282   7.9250   NaN        S  \n",
       "3      0            113803  53.1000  C123        S  \n",
       "4      0            373450   8.0500   NaN        S  "
      ]
     },
     "execution_count": 24,
     "metadata": {},
     "output_type": "execute_result"
    }
   ],
   "source": [
    "df = pd.read_csv(\"train.csv\")\n",
    "df.head()"
   ]
  },
  {
   "cell_type": "markdown",
   "id": "49841078",
   "metadata": {
    "papermill": {
     "duration": 0.006665,
     "end_time": "2024-01-23T05:14:46.831810",
     "exception": false,
     "start_time": "2024-01-23T05:14:46.825145",
     "status": "completed"
    },
    "tags": []
   },
   "source": [
    "# Step 3: Data Preprocessing\n",
    "\n",
    "- Strategies for handling missing values\n",
    "    - As Age approximates a normal distribution, assign the mean value to Age based on the titles in the Name column.\n",
    "    - Cabin has a missing value percentage of 77%, which is too much. Delete that column.\n",
    "    - There are 2 missing values in Embarked. Fill them with the most common value 'S' based on its percentage.\n",
    "- Text Data Processing\n",
    "    - For the \"Name\" column, perform feature extraction using TF-IDF (Term Frequency-Inverse Document Frequency).\n",
    "    - Encode features for \"Sex,\" \"Embarked,\" and \"TicketPref\" using one-hot encoding."
   ]
  },
  {
   "cell_type": "code",
   "execution_count": 25,
   "id": "0a03d603",
   "metadata": {
    "execution": {
     "iopub.execute_input": "2024-01-23T05:14:46.847600Z",
     "iopub.status.busy": "2024-01-23T05:14:46.847128Z",
     "iopub.status.idle": "2024-01-23T05:14:46.856771Z",
     "shell.execute_reply": "2024-01-23T05:14:46.855313Z"
    },
    "papermill": {
     "duration": 0.020662,
     "end_time": "2024-01-23T05:14:46.859349",
     "exception": false,
     "start_time": "2024-01-23T05:14:46.838687",
     "status": "completed"
    },
    "tags": []
   },
   "outputs": [],
   "source": [
    "def name_title(x):\n",
    "    return x.split('.')[0].split(' ')[-1]\n",
    "\n",
    "def remove_noise(x):\n",
    "    return re.sub(r'[\".,()]+', '', x)\n",
    "\n",
    "def ticket_pref(x):\n",
    "    if len(x.split(' ')) == 1:\n",
    "        return 'nan'\n",
    "    else:\n",
    "        x = \".\".join(x.split(' ')[:-1])\n",
    "        return re.sub(r'[./]+', '', x).lower()\n",
    "\n",
    "def ticket_ID(x):\n",
    "    x = x.split(' ')[-1]\n",
    "    return int(x) if x.isdigit() else 0"
   ]
  },
  {
   "cell_type": "code",
   "execution_count": 26,
   "id": "be3eb527",
   "metadata": {
    "execution": {
     "iopub.execute_input": "2024-01-23T05:14:46.876063Z",
     "iopub.status.busy": "2024-01-23T05:14:46.875595Z",
     "iopub.status.idle": "2024-01-23T05:14:46.929812Z",
     "shell.execute_reply": "2024-01-23T05:14:46.928913Z"
    },
    "papermill": {
     "duration": 0.06568,
     "end_time": "2024-01-23T05:14:46.932180",
     "exception": false,
     "start_time": "2024-01-23T05:14:46.866500",
     "status": "completed"
    },
    "tags": []
   },
   "outputs": [
    {
     "data": {
      "text/html": [
       "<div>\n",
       "<style scoped>\n",
       "    .dataframe tbody tr th:only-of-type {\n",
       "        vertical-align: middle;\n",
       "    }\n",
       "\n",
       "    .dataframe tbody tr th {\n",
       "        vertical-align: top;\n",
       "    }\n",
       "\n",
       "    .dataframe thead th {\n",
       "        text-align: right;\n",
       "    }\n",
       "</style>\n",
       "<table border=\"1\" class=\"dataframe\">\n",
       "  <thead>\n",
       "    <tr style=\"text-align: right;\">\n",
       "      <th></th>\n",
       "      <th>Pclass</th>\n",
       "      <th>Name</th>\n",
       "      <th>Sex</th>\n",
       "      <th>Age</th>\n",
       "      <th>SibSp</th>\n",
       "      <th>Parch</th>\n",
       "      <th>Fare</th>\n",
       "      <th>Embarked</th>\n",
       "      <th>TicketPref</th>\n",
       "      <th>TicketID</th>\n",
       "    </tr>\n",
       "  </thead>\n",
       "  <tbody>\n",
       "    <tr>\n",
       "      <th>0</th>\n",
       "      <td>3</td>\n",
       "      <td>Braund Mr Owen Harris</td>\n",
       "      <td>male</td>\n",
       "      <td>22.0</td>\n",
       "      <td>1</td>\n",
       "      <td>0</td>\n",
       "      <td>7.2500</td>\n",
       "      <td>S</td>\n",
       "      <td>a5</td>\n",
       "      <td>21171</td>\n",
       "    </tr>\n",
       "    <tr>\n",
       "      <th>1</th>\n",
       "      <td>1</td>\n",
       "      <td>Cumings Mrs John Bradley Florence Briggs Thayer</td>\n",
       "      <td>female</td>\n",
       "      <td>38.0</td>\n",
       "      <td>1</td>\n",
       "      <td>0</td>\n",
       "      <td>71.2833</td>\n",
       "      <td>C</td>\n",
       "      <td>pc</td>\n",
       "      <td>17599</td>\n",
       "    </tr>\n",
       "    <tr>\n",
       "      <th>2</th>\n",
       "      <td>3</td>\n",
       "      <td>Heikkinen Miss Laina</td>\n",
       "      <td>female</td>\n",
       "      <td>26.0</td>\n",
       "      <td>0</td>\n",
       "      <td>0</td>\n",
       "      <td>7.9250</td>\n",
       "      <td>S</td>\n",
       "      <td>stono2</td>\n",
       "      <td>3101282</td>\n",
       "    </tr>\n",
       "    <tr>\n",
       "      <th>3</th>\n",
       "      <td>1</td>\n",
       "      <td>Futrelle Mrs Jacques Heath Lily May Peel</td>\n",
       "      <td>female</td>\n",
       "      <td>35.0</td>\n",
       "      <td>1</td>\n",
       "      <td>0</td>\n",
       "      <td>53.1000</td>\n",
       "      <td>S</td>\n",
       "      <td>nan</td>\n",
       "      <td>113803</td>\n",
       "    </tr>\n",
       "    <tr>\n",
       "      <th>4</th>\n",
       "      <td>3</td>\n",
       "      <td>Allen Mr William Henry</td>\n",
       "      <td>male</td>\n",
       "      <td>35.0</td>\n",
       "      <td>0</td>\n",
       "      <td>0</td>\n",
       "      <td>8.0500</td>\n",
       "      <td>S</td>\n",
       "      <td>nan</td>\n",
       "      <td>373450</td>\n",
       "    </tr>\n",
       "  </tbody>\n",
       "</table>\n",
       "</div>"
      ],
      "text/plain": [
       "   Pclass                                             Name     Sex   Age  \\\n",
       "0       3                            Braund Mr Owen Harris    male  22.0   \n",
       "1       1  Cumings Mrs John Bradley Florence Briggs Thayer  female  38.0   \n",
       "2       3                             Heikkinen Miss Laina  female  26.0   \n",
       "3       1         Futrelle Mrs Jacques Heath Lily May Peel  female  35.0   \n",
       "4       3                           Allen Mr William Henry    male  35.0   \n",
       "\n",
       "   SibSp  Parch     Fare Embarked TicketPref  TicketID  \n",
       "0      1      0   7.2500        S         a5     21171  \n",
       "1      1      0  71.2833        C         pc     17599  \n",
       "2      0      0   7.9250        S     stono2   3101282  \n",
       "3      1      0  53.1000        S        nan    113803  \n",
       "4      0      0   8.0500        S        nan    373450  "
      ]
     },
     "execution_count": 26,
     "metadata": {},
     "output_type": "execute_result"
    }
   ],
   "source": [
    "# Data Preprocessing\n",
    "def preprocessing(df):\n",
    "    df = df.copy()\n",
    "    \n",
    "    # Missing Data Handling\n",
    "    df['NameTitle'] = df['Name'].apply(name_title)\n",
    "    \n",
    "    # Fill in missing values\n",
    "    df['Age'].fillna(df['NameTitle'].map(df.groupby('NameTitle')['Age'].mean()), inplace=True)\n",
    "    df['Embarked'].fillna('S', inplace=True)\n",
    "\n",
    "    # Remove Noise\n",
    "    df['Name'] = df['Name'].apply(remove_noise)\n",
    "\n",
    "    # Standardize Text Content\n",
    "    df['TicketPref'] = df['Ticket'].apply(ticket_pref)\n",
    "    df['TicketID'] = df['Ticket'].apply(ticket_ID)\n",
    "\n",
    "    return df\n",
    "\n",
    "train_df = preprocessing(df)\n",
    "y = train_df['Survived']\n",
    "X = train_df.drop(['PassengerId', 'Survived', 'Ticket', 'NameTitle', 'Cabin'], axis=1)\n",
    "X.head()"
   ]
  },
  {
   "cell_type": "code",
   "execution_count": 27,
   "id": "91a5f721",
   "metadata": {
    "execution": {
     "iopub.execute_input": "2024-01-23T05:14:46.949850Z",
     "iopub.status.busy": "2024-01-23T05:14:46.948782Z",
     "iopub.status.idle": "2024-01-23T05:14:47.006266Z",
     "shell.execute_reply": "2024-01-23T05:14:47.004592Z"
    },
    "papermill": {
     "duration": 0.069565,
     "end_time": "2024-01-23T05:14:47.009418",
     "exception": false,
     "start_time": "2024-01-23T05:14:46.939853",
     "status": "completed"
    },
    "tags": []
   },
   "outputs": [],
   "source": [
    "# Data Transformation\n",
    "# Extracting columns with numerical features\n",
    "numeric_columns = selector(dtype_include='number')\n",
    "\n",
    "# Define each step in the pipeline\n",
    "text_transformer = Pipeline(steps=[\n",
    "    ('tfidf', TfidfVectorizer())\n",
    "])\n",
    "\n",
    "categorical_transformer = Pipeline(steps=[\n",
    "    ('onehot', OneHotEncoder(handle_unknown='ignore'))\n",
    "])\n",
    "\n",
    "numeric_transformer = Pipeline(steps=[\n",
    "    ('scaler', StandardScaler())\n",
    "])\n",
    "\n",
    "# Use ColumnTransformer to specify the processing method for each column\n",
    "preprocessor = ColumnTransformer(\n",
    "    transformers=[\n",
    "        ('text', text_transformer, 'Name'),\n",
    "        ('categorical', categorical_transformer, ['Sex', 'Embarked', 'TicketPref']),\n",
    "        ('numeric', numeric_transformer, numeric_columns)\n",
    "    ])\n",
    "\n",
    "# Create a complete pipeline\n",
    "pipeline = Pipeline(steps=[('preprocessor', preprocessor)])\n",
    "\n",
    "# Use a pipeline to process data\n",
    "X_processed = pipeline.fit_transform(X)"
   ]
  },
  {
   "cell_type": "markdown",
   "id": "0c87ad0d",
   "metadata": {
    "papermill": {
     "duration": 0.00703,
     "end_time": "2024-01-23T05:14:47.024248",
     "exception": false,
     "start_time": "2024-01-23T05:14:47.017218",
     "status": "completed"
    },
    "tags": []
   },
   "source": [
    "# Step 4: Data Splitting"
   ]
  },
  {
   "cell_type": "code",
   "execution_count": 28,
   "id": "952bdda4",
   "metadata": {
    "execution": {
     "iopub.execute_input": "2024-01-23T05:14:47.041638Z",
     "iopub.status.busy": "2024-01-23T05:14:47.041247Z",
     "iopub.status.idle": "2024-01-23T05:14:47.050106Z",
     "shell.execute_reply": "2024-01-23T05:14:47.048894Z"
    },
    "papermill": {
     "duration": 0.020585,
     "end_time": "2024-01-23T05:14:47.052861",
     "exception": false,
     "start_time": "2024-01-23T05:14:47.032276",
     "status": "completed"
    },
    "tags": []
   },
   "outputs": [],
   "source": [
    "# Splitting the training set and test set\n",
    "X_train, X_test, y_train, y_test = train_test_split(X_processed, y, test_size=0.2, random_state=0)"
   ]
  },
  {
   "cell_type": "markdown",
   "id": "2ad513df",
   "metadata": {
    "papermill": {
     "duration": 0.006985,
     "end_time": "2024-01-23T05:14:47.067048",
     "exception": false,
     "start_time": "2024-01-23T05:14:47.060063",
     "status": "completed"
    },
    "tags": []
   },
   "source": [
    "# Step 5: Modeling (Logistic Regression)"
   ]
  },
  {
   "cell_type": "code",
   "execution_count": 29,
   "id": "4e08e7a8",
   "metadata": {
    "execution": {
     "iopub.execute_input": "2024-01-23T05:14:47.084267Z",
     "iopub.status.busy": "2024-01-23T05:14:47.083656Z",
     "iopub.status.idle": "2024-01-23T05:15:19.503332Z",
     "shell.execute_reply": "2024-01-23T05:15:19.501802Z"
    },
    "papermill": {
     "duration": 32.438261,
     "end_time": "2024-01-23T05:15:19.512540",
     "exception": false,
     "start_time": "2024-01-23T05:14:47.074279",
     "status": "completed"
    },
    "tags": []
   },
   "outputs": [
    {
     "name": "stdout",
     "output_type": "stream",
     "text": [
      "Best Parameters:  {'C': 10.0, 'max_iter': 38}\n",
      "Accuracy: 0.8379888268156425\n",
      "              precision    recall  f1-score   support\n",
      "\n",
      "           0       0.86      0.88      0.87       110\n",
      "           1       0.80      0.77      0.79        69\n",
      "\n",
      "    accuracy                           0.84       179\n",
      "   macro avg       0.83      0.82      0.83       179\n",
      "weighted avg       0.84      0.84      0.84       179\n",
      "\n"
     ]
    }
   ],
   "source": [
    "# Create Logistic Regression \n",
    "lr = LogisticRegression()\n",
    "\n",
    "# Define parameter grid\n",
    "param_grid = {\n",
    "    'C': np.logspace(-3, 3, 7),\n",
    "    'max_iter': list(range(5, 50, 1)),\n",
    "}\n",
    "\n",
    "# Set the scoring metric\n",
    "scorer = make_scorer(accuracy_score)\n",
    "\n",
    "# Create GridSearchCV object\n",
    "grid_search = GridSearchCV(\n",
    "    estimator=lr,\n",
    "    param_grid=param_grid,\n",
    "    scoring=scorer,\n",
    "    cv=5 # Using 5-fold cross-validation\n",
    ")\n",
    "\n",
    "# Run grid search\n",
    "grid_search.fit(X_train, y_train)\n",
    "\n",
    "# Output the best parameters\n",
    "print(\"Best Parameters: \", grid_search.best_params_)\n",
    "\n",
    "# Evaluate the model on the test set\n",
    "lr_model = grid_search.best_estimator_\n",
    "y_pred = lr_model.predict(X_test)\n",
    "\n",
    "# Evaluation\n",
    "accuracy = accuracy_score(y_test, y_pred)\n",
    "print(f\"Accuracy: {accuracy}\")\n",
    "print(classification_report(y_test, y_pred))"
   ]
  },
  {
   "cell_type": "code",
   "execution_count": 30,
   "id": "677debca",
   "metadata": {
    "execution": {
     "iopub.execute_input": "2024-01-23T05:15:19.528527Z",
     "iopub.status.busy": "2024-01-23T05:15:19.528106Z",
     "iopub.status.idle": "2024-01-23T05:15:20.173533Z",
     "shell.execute_reply": "2024-01-23T05:15:20.172257Z"
    },
    "papermill": {
     "duration": 0.657232,
     "end_time": "2024-01-23T05:15:20.176592",
     "exception": false,
     "start_time": "2024-01-23T05:15:19.519360",
     "status": "completed"
    },
    "tags": []
   },
   "outputs": [
    {
     "data": {
      "image/png": "[encoded data removed]",
      "text/plain": [
       "<Figure size 900x400 with 3 Axes>"
      ]
     },
     "metadata": {},
     "output_type": "display_data"
    }
   ],
   "source": [
    "# Predicted probability scores\n",
    "y_scores = lr_model.predict_proba(X_test)[:, 1]\n",
    "\n",
    "fig, axes = plt.subplots(1, 2, figsize=(9, 4), gridspec_kw={'wspace': 0.3, 'top':0.85})\n",
    "fig.suptitle('ROC Curve & Confusion matrix')\n",
    "\n",
    "# Calculate the values of the ROC curve\n",
    "fpr, tpr, thresholds = roc_curve(y_test, y_scores)\n",
    "# Calculate AUC（Area Under the Curve）\n",
    "auc = roc_auc_score(y_test, y_scores)\n",
    "\n",
    "plt.sca(axes[0])\n",
    "plt.plot(fpr, tpr, label=f'AUC = {auc:.2f}')\n",
    "plt.plot([0, 1], [0, 1], 'k--', label='Random')\n",
    "plt.xlabel('False Positive Rate')\n",
    "plt.ylabel('True Positive Rate')\n",
    "plt.title('Logistic Regression ')\n",
    "plt.legend()\n",
    "\n",
    "plt.sca(axes[1])\n",
    "y_pred = lr_model.predict(X_test)\n",
    "cm = confusion_matrix(y_test, y_pred)\n",
    "sns.heatmap(cm, annot=True, cmap='Blues', fmt='g', linewidths=.5)\n",
    "plt.title('Logistic Regression ')\n",
    "plt.xlabel('Predicted Labels')\n",
    "plt.ylabel('Real Labels')\n",
    "plt.show()"
   ]
  },
  {
   "cell_type": "markdown",
   "id": "64d16bf2",
   "metadata": {
    "papermill": {
     "duration": 0.007838,
     "end_time": "2024-01-23T05:15:20.192629",
     "exception": false,
     "start_time": "2024-01-23T05:15:20.184791",
     "status": "completed"
    },
    "tags": []
   },
   "source": [
    "# Step 6: Predicting"
   ]
  },
  {
   "cell_type": "code",
   "execution_count": 31,
   "id": "53a5a70c",
   "metadata": {
    "execution": {
     "iopub.execute_input": "2024-01-23T05:15:20.212209Z",
     "iopub.status.busy": "2024-01-23T05:15:20.210919Z",
     "iopub.status.idle": "2024-01-23T05:15:20.240032Z",
     "shell.execute_reply": "2024-01-23T05:15:20.238786Z"
    },
    "papermill": {
     "duration": 0.041767,
     "end_time": "2024-01-23T05:15:20.242774",
     "exception": false,
     "start_time": "2024-01-23T05:15:20.201007",
     "status": "completed"
    },
    "tags": []
   },
   "outputs": [
    {
     "data": {
      "text/html": [
       "<div>\n",
       "<style scoped>\n",
       "    .dataframe tbody tr th:only-of-type {\n",
       "        vertical-align: middle;\n",
       "    }\n",
       "\n",
       "    .dataframe tbody tr th {\n",
       "        vertical-align: top;\n",
       "    }\n",
       "\n",
       "    .dataframe thead th {\n",
       "        text-align: right;\n",
       "    }\n",
       "</style>\n",
       "<table border=\"1\" class=\"dataframe\">\n",
       "  <thead>\n",
       "    <tr style=\"text-align: right;\">\n",
       "      <th></th>\n",
       "      <th>PassengerId</th>\n",
       "      <th>Pclass</th>\n",
       "      <th>Name</th>\n",
       "      <th>Sex</th>\n",
       "      <th>Age</th>\n",
       "      <th>SibSp</th>\n",
       "      <th>Parch</th>\n",
       "      <th>Ticket</th>\n",
       "      <th>Fare</th>\n",
       "      <th>Cabin</th>\n",
       "      <th>Embarked</th>\n",
       "    </tr>\n",
       "  </thead>\n",
       "  <tbody>\n",
       "    <tr>\n",
       "      <th>0</th>\n",
       "      <td>892</td>\n",
       "      <td>3</td>\n",
       "      <td>Kelly, Mr. James</td>\n",
       "      <td>male</td>\n",
       "      <td>34.5</td>\n",
       "      <td>0</td>\n",
       "      <td>0</td>\n",
       "      <td>330911</td>\n",
       "      <td>7.8292</td>\n",
       "      <td>NaN</td>\n",
       "      <td>Q</td>\n",
       "    </tr>\n",
       "    <tr>\n",
       "      <th>1</th>\n",
       "      <td>893</td>\n",
       "      <td>3</td>\n",
       "      <td>Wilkes, Mrs. James (Ellen Needs)</td>\n",
       "      <td>female</td>\n",
       "      <td>47.0</td>\n",
       "      <td>1</td>\n",
       "      <td>0</td>\n",
       "      <td>363272</td>\n",
       "      <td>7.0000</td>\n",
       "      <td>NaN</td>\n",
       "      <td>S</td>\n",
       "    </tr>\n",
       "    <tr>\n",
       "      <th>2</th>\n",
       "      <td>894</td>\n",
       "      <td>2</td>\n",
       "      <td>Myles, Mr. Thomas Francis</td>\n",
       "      <td>male</td>\n",
       "      <td>62.0</td>\n",
       "      <td>0</td>\n",
       "      <td>0</td>\n",
       "      <td>240276</td>\n",
       "      <td>9.6875</td>\n",
       "      <td>NaN</td>\n",
       "      <td>Q</td>\n",
       "    </tr>\n",
       "    <tr>\n",
       "      <th>3</th>\n",
       "      <td>895</td>\n",
       "      <td>3</td>\n",
       "      <td>Wirz, Mr. Albert</td>\n",
       "      <td>male</td>\n",
       "      <td>27.0</td>\n",
       "      <td>0</td>\n",
       "      <td>0</td>\n",
       "      <td>315154</td>\n",
       "      <td>8.6625</td>\n",
       "      <td>NaN</td>\n",
       "      <td>S</td>\n",
       "    </tr>\n",
       "    <tr>\n",
       "      <th>4</th>\n",
       "      <td>896</td>\n",
       "      <td>3</td>\n",
       "      <td>Hirvonen, Mrs. Alexander (Helga E Lindqvist)</td>\n",
       "      <td>female</td>\n",
       "      <td>22.0</td>\n",
       "      <td>1</td>\n",
       "      <td>1</td>\n",
       "      <td>3101298</td>\n",
       "      <td>12.2875</td>\n",
       "      <td>NaN</td>\n",
       "      <td>S</td>\n",
       "    </tr>\n",
       "  </tbody>\n",
       "</table>\n",
       "</div>"
      ],
      "text/plain": [
       "   PassengerId  Pclass                                          Name     Sex  \\\n",
       "0          892       3                              Kelly, Mr. James    male   \n",
       "1          893       3              Wilkes, Mrs. James (Ellen Needs)  female   \n",
       "2          894       2                     Myles, Mr. Thomas Francis    male   \n",
       "3          895       3                              Wirz, Mr. Albert    male   \n",
       "4          896       3  Hirvonen, Mrs. Alexander (Helga E Lindqvist)  female   \n",
       "\n",
       "    Age  SibSp  Parch   Ticket     Fare Cabin Embarked  \n",
       "0  34.5      0      0   330911   7.8292   NaN        Q  \n",
       "1  47.0      1      0   363272   7.0000   NaN        S  \n",
       "2  62.0      0      0   240276   9.6875   NaN        Q  \n",
       "3  27.0      0      0   315154   8.6625   NaN        S  \n",
       "4  22.0      1      1  3101298  12.2875   NaN        S  "
      ]
     },
     "execution_count": 31,
     "metadata": {},
     "output_type": "execute_result"
    }
   ],
   "source": [
    "test_data = pd.read_csv(\"test.csv\")\n",
    "test_data.head()"
   ]
  },
  {
   "cell_type": "code",
   "execution_count": 32,
   "id": "f6a20129",
   "metadata": {
    "execution": {
     "iopub.execute_input": "2024-01-23T05:15:20.263217Z",
     "iopub.status.busy": "2024-01-23T05:15:20.262768Z",
     "iopub.status.idle": "2024-01-23T05:15:20.299603Z",
     "shell.execute_reply": "2024-01-23T05:15:20.298209Z"
    },
    "papermill": {
     "duration": 0.051796,
     "end_time": "2024-01-23T05:15:20.303639",
     "exception": false,
     "start_time": "2024-01-23T05:15:20.251843",
     "status": "completed"
    },
    "tags": []
   },
   "outputs": [
    {
     "data": {
      "text/html": [
       "<div>\n",
       "<style scoped>\n",
       "    .dataframe tbody tr th:only-of-type {\n",
       "        vertical-align: middle;\n",
       "    }\n",
       "\n",
       "    .dataframe tbody tr th {\n",
       "        vertical-align: top;\n",
       "    }\n",
       "\n",
       "    .dataframe thead th {\n",
       "        text-align: right;\n",
       "    }\n",
       "</style>\n",
       "<table border=\"1\" class=\"dataframe\">\n",
       "  <thead>\n",
       "    <tr style=\"text-align: right;\">\n",
       "      <th></th>\n",
       "      <th>Pclass</th>\n",
       "      <th>Name</th>\n",
       "      <th>Sex</th>\n",
       "      <th>Age</th>\n",
       "      <th>SibSp</th>\n",
       "      <th>Parch</th>\n",
       "      <th>Fare</th>\n",
       "      <th>Embarked</th>\n",
       "      <th>TicketPref</th>\n",
       "      <th>TicketID</th>\n",
       "    </tr>\n",
       "  </thead>\n",
       "  <tbody>\n",
       "    <tr>\n",
       "      <th>0</th>\n",
       "      <td>3</td>\n",
       "      <td>Kelly Mr James</td>\n",
       "      <td>male</td>\n",
       "      <td>34.5</td>\n",
       "      <td>0</td>\n",
       "      <td>0</td>\n",
       "      <td>7.8292</td>\n",
       "      <td>Q</td>\n",
       "      <td>nan</td>\n",
       "      <td>330911</td>\n",
       "    </tr>\n",
       "    <tr>\n",
       "      <th>1</th>\n",
       "      <td>3</td>\n",
       "      <td>Wilkes Mrs James Ellen Needs</td>\n",
       "      <td>female</td>\n",
       "      <td>47.0</td>\n",
       "      <td>1</td>\n",
       "      <td>0</td>\n",
       "      <td>7.0000</td>\n",
       "      <td>S</td>\n",
       "      <td>nan</td>\n",
       "      <td>363272</td>\n",
       "    </tr>\n",
       "    <tr>\n",
       "      <th>2</th>\n",
       "      <td>2</td>\n",
       "      <td>Myles Mr Thomas Francis</td>\n",
       "      <td>male</td>\n",
       "      <td>62.0</td>\n",
       "      <td>0</td>\n",
       "      <td>0</td>\n",
       "      <td>9.6875</td>\n",
       "      <td>Q</td>\n",
       "      <td>nan</td>\n",
       "      <td>240276</td>\n",
       "    </tr>\n",
       "    <tr>\n",
       "      <th>3</th>\n",
       "      <td>3</td>\n",
       "      <td>Wirz Mr Albert</td>\n",
       "      <td>male</td>\n",
       "      <td>27.0</td>\n",
       "      <td>0</td>\n",
       "      <td>0</td>\n",
       "      <td>8.6625</td>\n",
       "      <td>S</td>\n",
       "      <td>nan</td>\n",
       "      <td>315154</td>\n",
       "    </tr>\n",
       "    <tr>\n",
       "      <th>4</th>\n",
       "      <td>3</td>\n",
       "      <td>Hirvonen Mrs Alexander Helga E Lindqvist</td>\n",
       "      <td>female</td>\n",
       "      <td>22.0</td>\n",
       "      <td>1</td>\n",
       "      <td>1</td>\n",
       "      <td>12.2875</td>\n",
       "      <td>S</td>\n",
       "      <td>nan</td>\n",
       "      <td>3101298</td>\n",
       "    </tr>\n",
       "  </tbody>\n",
       "</table>\n",
       "</div>"
      ],
      "text/plain": [
       "   Pclass                                      Name     Sex   Age  SibSp  \\\n",
       "0       3                            Kelly Mr James    male  34.5      0   \n",
       "1       3              Wilkes Mrs James Ellen Needs  female  47.0      1   \n",
       "2       2                   Myles Mr Thomas Francis    male  62.0      0   \n",
       "3       3                            Wirz Mr Albert    male  27.0      0   \n",
       "4       3  Hirvonen Mrs Alexander Helga E Lindqvist  female  22.0      1   \n",
       "\n",
       "   Parch     Fare Embarked TicketPref  TicketID  \n",
       "0      0   7.8292        Q        nan    330911  \n",
       "1      0   7.0000        S        nan    363272  \n",
       "2      0   9.6875        Q        nan    240276  \n",
       "3      0   8.6625        S        nan    315154  \n",
       "4      1  12.2875        S        nan   3101298  "
      ]
     },
     "execution_count": 32,
     "metadata": {},
     "output_type": "execute_result"
    }
   ],
   "source": [
    "def preprocess_data(df):\n",
    "    df = df.copy()\n",
    "\n",
    "    # Missing Data Handling\n",
    "    df['NameTitle'] = df['Name'].apply(name_title)\n",
    "\n",
    "    # Fill in missing values\n",
    "    df['Age'].fillna(train_df['NameTitle'].map(train_df.groupby('NameTitle')['Age'].mean()), inplace=True)\n",
    "    df['Fare'].fillna(df['Fare'].mean(), inplace=True)\n",
    "\n",
    "    # Remove Noise\n",
    "    df['Name'] = df['Name'].apply(remove_noise)\n",
    "\n",
    "    # Standardize Text Content\n",
    "    df['TicketPref'] = df['Ticket'].apply(ticket_pref)\n",
    "    df['TicketID'] = df['Ticket'].apply(ticket_ID)\n",
    "    \n",
    "    df = df.drop(['PassengerId', 'Ticket', 'NameTitle', 'Cabin'], axis=1)\n",
    "    return df\n",
    "\n",
    "# Data preprocessing\n",
    "test = preprocess_data(test_data)\n",
    "test.head()"
   ]
  },
  {
   "cell_type": "code",
   "execution_count": 33,
   "id": "4bac0c13",
   "metadata": {
    "execution": {
     "iopub.execute_input": "2024-01-23T05:15:20.324409Z",
     "iopub.status.busy": "2024-01-23T05:15:20.323988Z",
     "iopub.status.idle": "2024-01-23T05:15:20.358005Z",
     "shell.execute_reply": "2024-01-23T05:15:20.356521Z"
    },
    "papermill": {
     "duration": 0.049406,
     "end_time": "2024-01-23T05:15:20.362234",
     "exception": false,
     "start_time": "2024-01-23T05:15:20.312828",
     "status": "completed"
    },
    "tags": []
   },
   "outputs": [
    {
     "name": "stdout",
     "output_type": "stream",
     "text": [
      "Your submission was successfully saved!\n"
     ]
    }
   ],
   "source": [
    "# Data Transformation\n",
    "X_test_processed = pipeline.transform(test)\n",
    "\n",
    "# Predicting\n",
    "val = lr_model.predict(X_test_processed)\n",
    "sub = pd.read_csv(\"gender_submission.csv\")\n",
    "sub['Survived'] = val\n",
    "sub.to_csv('submission_csv.csv', index=False)\n",
    "print(\"Your submission was successfully saved!\")"
   ]
  }
 ],
 "metadata": {
  "kaggle": {
   "accelerator": "none",
   "dataSources": [
    {
     "databundleVersionId": 26502,
     "sourceId": 3136,
     "sourceType": "competition"
    }
   ],
   "dockerImageVersionId": 30635,
   "isGpuEnabled": false,
   "isInternetEnabled": true,
   "language": "python",
   "sourceType": "notebook"
  },
  "kernelspec": {
   "display_name": "Python 3",
   "language": "python",
   "name": "python3"
  },
  "language_info": {
   "codemirror_mode": {
    "name": "ipython",
    "version": 3
   },
   "file_extension": ".py",
   "mimetype": "text/x-python",
   "name": "python",
   "nbconvert_exporter": "python",
   "pygments_lexer": "ipython3",
   "version": "3.12.2"
  },
  "papermill": {
   "default_parameters": {},
   "duration": 41.170672,
   "end_time": "2024-01-23T05:15:21.298121",
   "environment_variables": {},
   "exception": null,
   "input_path": "__notebook__.ipynb",
   "output_path": "__notebook__.ipynb",
   "parameters": {},
   "start_time": "2024-01-23T05:14:40.127449",
   "version": "2.4.0"
  }
 },
 "nbformat": 4,
 "nbformat_minor": 5
}

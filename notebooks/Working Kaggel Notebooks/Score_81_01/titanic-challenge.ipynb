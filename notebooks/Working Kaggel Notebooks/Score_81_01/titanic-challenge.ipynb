{
 "cells": [
  {
   "cell_type": "markdown",
   "id": "4218cea0",
   "metadata": {
    "papermill": {
     "duration": 0.033538,
     "end_time": "2024-03-12T08:18:48.041233",
     "exception": false,
     "start_time": "2024-03-12T08:18:48.007695",
     "status": "completed"
    },
    "tags": []
   },
   "source": [
    "Many beginners comparing their result with the leaderboard have the impression that they are doing something wrong, but a result of about 77% is a normal one, the problem is to push it a few percents higher.\n",
    "\n",
    "This notebook used the standard dataset and scored 0.81578 on the leaderboard that puts it in top 1% if we don't take into account the top positions that scored greater than 0.86 and are based on cheating or used an extended dataset. If somebody find a shared notebook with a real score of 0.86 send a link in comments please.\n",
    "\n",
    "Have fun!"
   ]
  },
  {
   "cell_type": "markdown",
   "id": "8958faac",
   "metadata": {},
   "source": [
    "https://www.kaggle.com/code/alisalee/titanic-challenge"
   ]
  },
  {
   "cell_type": "code",
   "execution_count": 5,
   "id": "ed1b4163",
   "metadata": {
    "execution": {
     "iopub.execute_input": "2024-03-12T08:18:48.112257Z",
     "iopub.status.busy": "2024-03-12T08:18:48.111584Z",
     "iopub.status.idle": "2024-03-12T08:18:53.647404Z",
     "shell.execute_reply": "2024-03-12T08:18:53.645175Z"
    },
    "papermill": {
     "duration": 5.57649,
     "end_time": "2024-03-12T08:18:53.651152",
     "exception": false,
     "start_time": "2024-03-12T08:18:48.074662",
     "status": "completed"
    },
    "tags": []
   },
   "outputs": [],
   "source": [
    "import pandas as pd\n",
    "import numpy as np\n",
    "\n",
    "import matplotlib.pyplot as plt\n",
    "import seaborn as sns\n",
    "\n",
    "from sklearn.experimental import enable_iterative_imputer\n",
    "from sklearn.impute import (SimpleImputer, IterativeImputer)\n",
    "from sklearn.preprocessing import (OneHotEncoder, StandardScaler)\n",
    "from sklearn.model_selection import (GridSearchCV, cross_val_score)\n",
    "from sklearn.feature_selection import SequentialFeatureSelector\n",
    "from catboost import CatBoostClassifier"
   ]
  },
  {
   "cell_type": "markdown",
   "id": "37f56ffd",
   "metadata": {
    "papermill": {
     "duration": 0.033507,
     "end_time": "2024-03-12T08:18:53.717784",
     "exception": false,
     "start_time": "2024-03-12T08:18:53.684277",
     "status": "completed"
    },
    "tags": []
   },
   "source": [
    "# Load data and first look"
   ]
  },
  {
   "cell_type": "code",
   "execution_count": 6,
   "id": "d2e4c8da",
   "metadata": {
    "execution": {
     "iopub.execute_input": "2024-03-12T08:18:53.788652Z",
     "iopub.status.busy": "2024-03-12T08:18:53.787831Z",
     "iopub.status.idle": "2024-03-12T08:18:53.852530Z",
     "shell.execute_reply": "2024-03-12T08:18:53.850879Z"
    },
    "papermill": {
     "duration": 0.103992,
     "end_time": "2024-03-12T08:18:53.856416",
     "exception": false,
     "start_time": "2024-03-12T08:18:53.752424",
     "status": "completed"
    },
    "tags": []
   },
   "outputs": [
    {
     "data": {
      "text/html": [
       "<div>\n",
       "<style scoped>\n",
       "    .dataframe tbody tr th:only-of-type {\n",
       "        vertical-align: middle;\n",
       "    }\n",
       "\n",
       "    .dataframe tbody tr th {\n",
       "        vertical-align: top;\n",
       "    }\n",
       "\n",
       "    .dataframe thead th {\n",
       "        text-align: right;\n",
       "    }\n",
       "</style>\n",
       "<table border=\"1\" class=\"dataframe\">\n",
       "  <thead>\n",
       "    <tr style=\"text-align: right;\">\n",
       "      <th></th>\n",
       "      <th>PassengerId</th>\n",
       "      <th>Survived</th>\n",
       "      <th>Pclass</th>\n",
       "      <th>Name</th>\n",
       "      <th>Sex</th>\n",
       "      <th>Age</th>\n",
       "      <th>SibSp</th>\n",
       "      <th>Parch</th>\n",
       "      <th>Ticket</th>\n",
       "      <th>Fare</th>\n",
       "      <th>Cabin</th>\n",
       "      <th>Embarked</th>\n",
       "    </tr>\n",
       "  </thead>\n",
       "  <tbody>\n",
       "    <tr>\n",
       "      <th>0</th>\n",
       "      <td>1</td>\n",
       "      <td>0</td>\n",
       "      <td>3</td>\n",
       "      <td>Braund, Mr. Owen Harris</td>\n",
       "      <td>male</td>\n",
       "      <td>22.0</td>\n",
       "      <td>1</td>\n",
       "      <td>0</td>\n",
       "      <td>A/5 21171</td>\n",
       "      <td>7.2500</td>\n",
       "      <td>NaN</td>\n",
       "      <td>S</td>\n",
       "    </tr>\n",
       "    <tr>\n",
       "      <th>1</th>\n",
       "      <td>2</td>\n",
       "      <td>1</td>\n",
       "      <td>1</td>\n",
       "      <td>Cumings, Mrs. John Bradley (Florence Briggs Th...</td>\n",
       "      <td>female</td>\n",
       "      <td>38.0</td>\n",
       "      <td>1</td>\n",
       "      <td>0</td>\n",
       "      <td>PC 17599</td>\n",
       "      <td>71.2833</td>\n",
       "      <td>C85</td>\n",
       "      <td>C</td>\n",
       "    </tr>\n",
       "    <tr>\n",
       "      <th>2</th>\n",
       "      <td>3</td>\n",
       "      <td>1</td>\n",
       "      <td>3</td>\n",
       "      <td>Heikkinen, Miss. Laina</td>\n",
       "      <td>female</td>\n",
       "      <td>26.0</td>\n",
       "      <td>0</td>\n",
       "      <td>0</td>\n",
       "      <td>STON/O2. 3101282</td>\n",
       "      <td>7.9250</td>\n",
       "      <td>NaN</td>\n",
       "      <td>S</td>\n",
       "    </tr>\n",
       "    <tr>\n",
       "      <th>3</th>\n",
       "      <td>4</td>\n",
       "      <td>1</td>\n",
       "      <td>1</td>\n",
       "      <td>Futrelle, Mrs. Jacques Heath (Lily May Peel)</td>\n",
       "      <td>female</td>\n",
       "      <td>35.0</td>\n",
       "      <td>1</td>\n",
       "      <td>0</td>\n",
       "      <td>113803</td>\n",
       "      <td>53.1000</td>\n",
       "      <td>C123</td>\n",
       "      <td>S</td>\n",
       "    </tr>\n",
       "    <tr>\n",
       "      <th>4</th>\n",
       "      <td>5</td>\n",
       "      <td>0</td>\n",
       "      <td>3</td>\n",
       "      <td>Allen, Mr. William Henry</td>\n",
       "      <td>male</td>\n",
       "      <td>35.0</td>\n",
       "      <td>0</td>\n",
       "      <td>0</td>\n",
       "      <td>373450</td>\n",
       "      <td>8.0500</td>\n",
       "      <td>NaN</td>\n",
       "      <td>S</td>\n",
       "    </tr>\n",
       "  </tbody>\n",
       "</table>\n",
       "</div>"
      ],
      "text/plain": [
       "   PassengerId  Survived  Pclass  \\\n",
       "0            1         0       3   \n",
       "1            2         1       1   \n",
       "2            3         1       3   \n",
       "3            4         1       1   \n",
       "4            5         0       3   \n",
       "\n",
       "                                                Name     Sex   Age  SibSp  \\\n",
       "0                            Braund, Mr. Owen Harris    male  22.0      1   \n",
       "1  Cumings, Mrs. John Bradley (Florence Briggs Th...  female  38.0      1   \n",
       "2                             Heikkinen, Miss. Laina  female  26.0      0   \n",
       "3       Futrelle, Mrs. Jacques Heath (Lily May Peel)  female  35.0      1   \n",
       "4                           Allen, Mr. William Henry    male  35.0      0   \n",
       "\n",
       "   Parch            Ticket     Fare Cabin Embarked  \n",
       "0      0         A/5 21171   7.2500   NaN        S  \n",
       "1      0          PC 17599  71.2833   C85        C  \n",
       "2      0  STON/O2. 3101282   7.9250   NaN        S  \n",
       "3      0            113803  53.1000  C123        S  \n",
       "4      0            373450   8.0500   NaN        S  "
      ]
     },
     "execution_count": 6,
     "metadata": {},
     "output_type": "execute_result"
    }
   ],
   "source": [
    "# Load data\n",
    "full_df = pd.read_csv('train.csv')\n",
    "test_df = pd.read_csv('test.csv')\n",
    "full_df.head()"
   ]
  },
  {
   "cell_type": "markdown",
   "id": "498704eb",
   "metadata": {
    "papermill": {
     "duration": 0.034784,
     "end_time": "2024-03-12T08:18:53.924347",
     "exception": false,
     "start_time": "2024-03-12T08:18:53.889563",
     "status": "completed"
    },
    "tags": []
   },
   "source": [
    "# Prepare dataframe for further manipulations"
   ]
  },
  {
   "cell_type": "code",
   "execution_count": 7,
   "id": "859a5d91",
   "metadata": {
    "execution": {
     "iopub.execute_input": "2024-03-12T08:18:53.992827Z",
     "iopub.status.busy": "2024-03-12T08:18:53.992328Z",
     "iopub.status.idle": "2024-03-12T08:18:54.050450Z",
     "shell.execute_reply": "2024-03-12T08:18:54.048412Z"
    },
    "papermill": {
     "duration": 0.095689,
     "end_time": "2024-03-12T08:18:54.054055",
     "exception": false,
     "start_time": "2024-03-12T08:18:53.958366",
     "status": "completed"
    },
    "tags": []
   },
   "outputs": [
    {
     "name": "stdout",
     "output_type": "stream",
     "text": [
      "<class 'pandas.core.frame.DataFrame'>\n",
      "RangeIndex: 1309 entries, 0 to 1308\n",
      "Data columns (total 10 columns):\n",
      " #   Column    Non-Null Count  Dtype  \n",
      "---  ------    --------------  -----  \n",
      " 0   Pclass    1309 non-null   int64  \n",
      " 1   Name      1309 non-null   object \n",
      " 2   Sex       1309 non-null   object \n",
      " 3   Age       1046 non-null   float64\n",
      " 4   SibSp     1309 non-null   int64  \n",
      " 5   Parch     1309 non-null   int64  \n",
      " 6   Ticket    1309 non-null   object \n",
      " 7   Fare      1308 non-null   float64\n",
      " 8   Cabin     295 non-null    object \n",
      " 9   Embarked  1307 non-null   object \n",
      "dtypes: float64(2), int64(3), object(5)\n",
      "memory usage: 102.4+ KB\n"
     ]
    }
   ],
   "source": [
    "# Separate test_df PassengerId (will need it for submission)\n",
    "test_pass_id = test_df.pop('PassengerId')\n",
    "\n",
    "# Keep max index that will be used to back split training and test data\n",
    "X_max_index = full_df.shape[0]\n",
    "\n",
    "# Separate features and target\n",
    "y = full_df.Survived\n",
    "\n",
    "df = full_df.drop(['Survived', 'PassengerId'], axis=1)\n",
    "df = pd.concat([df, test_df], axis=0).reset_index(drop=True)\n",
    "\n",
    "df.info()"
   ]
  },
  {
   "cell_type": "code",
   "execution_count": 8,
   "id": "6b30d550",
   "metadata": {
    "execution": {
     "iopub.execute_input": "2024-03-12T08:18:54.124384Z",
     "iopub.status.busy": "2024-03-12T08:18:54.123846Z",
     "iopub.status.idle": "2024-03-12T08:18:54.135311Z",
     "shell.execute_reply": "2024-03-12T08:18:54.133346Z"
    },
    "papermill": {
     "duration": 0.050943,
     "end_time": "2024-03-12T08:18:54.138988",
     "exception": false,
     "start_time": "2024-03-12T08:18:54.088045",
     "status": "completed"
    },
    "tags": []
   },
   "outputs": [],
   "source": [
    "most_common_embarked = df['Embarked'].mode()[0]\n",
    "df['Embarked'] = df['Embarked'].fillna(most_common_embarked)"
   ]
  },
  {
   "cell_type": "code",
   "execution_count": 9,
   "id": "0ac38db3",
   "metadata": {
    "execution": {
     "iopub.execute_input": "2024-03-12T08:18:54.211125Z",
     "iopub.status.busy": "2024-03-12T08:18:54.209255Z",
     "iopub.status.idle": "2024-03-12T08:18:54.223253Z",
     "shell.execute_reply": "2024-03-12T08:18:54.221270Z"
    },
    "papermill": {
     "duration": 0.052988,
     "end_time": "2024-03-12T08:18:54.226420",
     "exception": false,
     "start_time": "2024-03-12T08:18:54.173432",
     "status": "completed"
    },
    "tags": []
   },
   "outputs": [
    {
     "data": {
      "text/plain": [
       "array([25, 40, 28, 15, 20, 32, 39, 23, 24, 22, 23, 30, 17, 39, 18, 43, 43,\n",
       "       33, 42, 34, 21, 40, 38, 38, 43, 30, 36, 31, 40, 31, 34, 32, 24, 22,\n",
       "       17, 31, 22, 41, 20, 38, 37, 24, 23, 32, 39, 41, 15, 38, 23, 34, 41,\n",
       "       36, 23, 21, 29, 25, 35, 27, 30, 30, 33, 23, 35, 28, 34, 31, 19, 39,\n",
       "       22, 24, 23, 36, 33, 30, 42, 27, 39, 39, 32, 43, 26, 20, 39, 31, 35,\n",
       "       35, 37, 33, 36, 38, 19, 41, 20, 24, 19, 40, 24, 20, 21, 33, 15, 38,\n",
       "       28, 40, 20, 43, 19, 17, 19, 40, 29, 25, 19, 42, 39, 39, 41, 32, 37,\n",
       "       33, 27, 28, 41, 37, 15, 20, 27, 24, 18, 29, 20, 23, 32, 27, 41, 38,\n",
       "       26, 29, 39, 31, 23, 17, 39, 35, 28, 40, 23, 19, 38, 23, 27, 30, 16,\n",
       "       23, 19, 29, 36, 35, 20, 41, 27, 41, 37, 18, 41, 43, 43, 26, 19, 20,\n",
       "       32, 31, 16, 39, 41, 21, 36])"
      ]
     },
     "execution_count": 9,
     "metadata": {},
     "output_type": "execute_result"
    }
   ],
   "source": [
    "np.random.randint(df['Age'].mean()-df['Age'].std(),df['Age'].mean() + df['Age'].std(),177)"
   ]
  },
  {
   "cell_type": "code",
   "execution_count": 10,
   "id": "366383ab",
   "metadata": {
    "execution": {
     "iopub.execute_input": "2024-03-12T08:18:54.298855Z",
     "iopub.status.busy": "2024-03-12T08:18:54.297714Z",
     "iopub.status.idle": "2024-03-12T08:18:54.307441Z",
     "shell.execute_reply": "2024-03-12T08:18:54.305919Z"
    },
    "papermill": {
     "duration": 0.048863,
     "end_time": "2024-03-12T08:18:54.310376",
     "exception": false,
     "start_time": "2024-03-12T08:18:54.261513",
     "status": "completed"
    },
    "tags": []
   },
   "outputs": [],
   "source": [
    "df_age = np.random.randint(df['Age'].mean()-df['Age'].std(),df['Age'].mean() + df['Age'].std(),177)"
   ]
  },
  {
   "cell_type": "code",
   "execution_count": 11,
   "id": "038726bb",
   "metadata": {
    "execution": {
     "iopub.execute_input": "2024-03-12T08:18:54.378811Z",
     "iopub.status.busy": "2024-03-12T08:18:54.378234Z",
     "iopub.status.idle": "2024-03-12T08:18:54.387846Z",
     "shell.execute_reply": "2024-03-12T08:18:54.386328Z"
    },
    "papermill": {
     "duration": 0.047594,
     "end_time": "2024-03-12T08:18:54.391252",
     "exception": false,
     "start_time": "2024-03-12T08:18:54.343658",
     "status": "completed"
    },
    "tags": []
   },
   "outputs": [],
   "source": [
    "df_age = df['Age'].mean()\n",
    "\n",
    "# Use this mean value to fill all NaN values in the 'Age' column\n",
    "df.loc[df['Age'].isnull(), 'Age'] = df_age"
   ]
  },
  {
   "cell_type": "code",
   "execution_count": null,
   "id": "0f2c8acb",
   "metadata": {
    "papermill": {
     "duration": 0.141889,
     "end_time": "2024-03-12T08:18:54.566061",
     "exception": false,
     "start_time": "2024-03-12T08:18:54.424172",
     "status": "completed"
    },
    "tags": []
   },
   "outputs": [],
   "source": []
  },
  {
   "cell_type": "markdown",
   "id": "04c07a93",
   "metadata": {
    "papermill": {
     "duration": 0.031536,
     "end_time": "2024-03-12T08:18:54.632380",
     "exception": false,
     "start_time": "2024-03-12T08:18:54.600844",
     "status": "completed"
    },
    "tags": []
   },
   "source": [
    "- Some features need imputation\n",
    "- Cabin column has a lot of missing values, we will use the availble \n",
    "  values to create a new feature and will drop Cabin\n",
    "- We will create the feature Deck level, using the correlation between\n",
    "  Pclass and info deducted from Cabin column. We suppose that the deck \n",
    "  level could take a role in survivability of the people as the lifeboats \n",
    "  were on the top level.\n",
    "- From Name we will keep just the lastname and use it during creation \n",
    "  of Deck_level.\n",
    "- We will create the feature Title, extracting the title from Name column, \n",
    "  supposing that some category of people had priority to embark the lifeboats."
   ]
  },
  {
   "cell_type": "markdown",
   "id": "10358c0f",
   "metadata": {
    "papermill": {
     "duration": 0.029642,
     "end_time": "2024-03-12T08:18:54.696418",
     "exception": false,
     "start_time": "2024-03-12T08:18:54.666776",
     "status": "completed"
    },
    "tags": []
   },
   "source": [
    "# Unprocessed data correlation\n",
    "\n"
   ]
  },
  {
   "cell_type": "code",
   "execution_count": 12,
   "id": "09b91d5f",
   "metadata": {
    "execution": {
     "iopub.execute_input": "2024-03-12T08:18:54.763897Z",
     "iopub.status.busy": "2024-03-12T08:18:54.763398Z",
     "iopub.status.idle": "2024-03-12T08:18:54.770661Z",
     "shell.execute_reply": "2024-03-12T08:18:54.768880Z"
    },
    "papermill": {
     "duration": 0.046294,
     "end_time": "2024-03-12T08:18:54.774661",
     "exception": false,
     "start_time": "2024-03-12T08:18:54.728367",
     "status": "completed"
    },
    "tags": []
   },
   "outputs": [],
   "source": [
    "#full_df.corr()['Survived'].sort_values(ascending=False)"
   ]
  },
  {
   "cell_type": "markdown",
   "id": "397ebf0d",
   "metadata": {
    "papermill": {
     "duration": 0.033671,
     "end_time": "2024-03-12T08:18:54.841719",
     "exception": false,
     "start_time": "2024-03-12T08:18:54.808048",
     "status": "completed"
    },
    "tags": []
   },
   "source": [
    "- Fare and Pclass have the highest correlation to Survived, it seams higher class (also higher Fare) had priority to embarc the lifeboats.\n",
    "- Pclass has negative correlation because Pclass is numbered 1, 2, 3 (high, medium, low), but results to an invers survivability (class 3 = lower chance to survive, class 1 = higher chance)."
   ]
  },
  {
   "cell_type": "markdown",
   "id": "38bac036",
   "metadata": {
    "papermill": {
     "duration": 0.034712,
     "end_time": "2024-03-12T08:18:54.910248",
     "exception": false,
     "start_time": "2024-03-12T08:18:54.875536",
     "status": "completed"
    },
    "tags": []
   },
   "source": [
    "# Surviving distribution by Age and Sex"
   ]
  },
  {
   "cell_type": "code",
   "execution_count": 13,
   "id": "f84e3b68",
   "metadata": {
    "execution": {
     "iopub.execute_input": "2024-03-12T08:18:54.981333Z",
     "iopub.status.busy": "2024-03-12T08:18:54.980230Z",
     "iopub.status.idle": "2024-03-12T08:18:55.581648Z",
     "shell.execute_reply": "2024-03-12T08:18:55.579905Z"
    },
    "papermill": {
     "duration": 0.642709,
     "end_time": "2024-03-12T08:18:55.586383",
     "exception": false,
     "start_time": "2024-03-12T08:18:54.943674",
     "status": "completed"
    },
    "tags": []
   },
   "outputs": [
    {
     "data": {
      "image/png": "[encoded data removed]",
      "text/plain": [
       "<Figure size 1000x500 with 2 Axes>"
      ]
     },
     "metadata": {},
     "output_type": "display_data"
    }
   ],
   "source": [
    "fig, axs = plt.subplots(1, 2, figsize=(10, 5), sharey=True)\n",
    "sns.histplot(x='Age', hue='Survived', data=full_df, bins=5, ax=axs[0])\n",
    "sns.countplot(x='Sex', hue='Survived', data=full_df, ax=axs[1])\n",
    "plt.show()"
   ]
  },
  {
   "cell_type": "markdown",
   "id": "7e413380",
   "metadata": {
    "papermill": {
     "duration": 0.0359,
     "end_time": "2024-03-12T08:18:55.657833",
     "exception": false,
     "start_time": "2024-03-12T08:18:55.621933",
     "status": "completed"
    },
    "tags": []
   },
   "source": [
    "Women and children definetely had more chances to survive"
   ]
  },
  {
   "cell_type": "markdown",
   "id": "9df2cb59",
   "metadata": {
    "papermill": {
     "duration": 0.036684,
     "end_time": "2024-03-12T08:18:55.731474",
     "exception": false,
     "start_time": "2024-03-12T08:18:55.694790",
     "status": "completed"
    },
    "tags": []
   },
   "source": [
    "# Features' instances"
   ]
  },
  {
   "cell_type": "code",
   "execution_count": 14,
   "id": "faa0059c",
   "metadata": {
    "execution": {
     "iopub.execute_input": "2024-03-12T08:18:55.806671Z",
     "iopub.status.busy": "2024-03-12T08:18:55.806141Z",
     "iopub.status.idle": "2024-03-12T08:18:57.326500Z",
     "shell.execute_reply": "2024-03-12T08:18:57.324500Z"
    },
    "papermill": {
     "duration": 1.563561,
     "end_time": "2024-03-12T08:18:57.330518",
     "exception": false,
     "start_time": "2024-03-12T08:18:55.766957",
     "status": "completed"
    },
    "tags": []
   },
   "outputs": [
    {
     "data": {
      "image/png": "[encoded data removed]",
      "text/plain": [
       "<Figure size 1200x800 with 6 Axes>"
      ]
     },
     "metadata": {},
     "output_type": "display_data"
    }
   ],
   "source": [
    "df.hist(bins=30, figsize=(12, 8))\n",
    "plt.show()"
   ]
  },
  {
   "cell_type": "markdown",
   "id": "2d082987",
   "metadata": {
    "papermill": {
     "duration": 0.032498,
     "end_time": "2024-03-12T08:18:57.400388",
     "exception": false,
     "start_time": "2024-03-12T08:18:57.367890",
     "status": "completed"
    },
    "tags": []
   },
   "source": [
    "- Attributes have different scales\n",
    "- Some features are skewed right, we should check for outliers and normalize data\n",
    "- Fare has values of 0 that looks weird"
   ]
  },
  {
   "cell_type": "code",
   "execution_count": 15,
   "id": "628048d1",
   "metadata": {
    "execution": {
     "iopub.execute_input": "2024-03-12T08:18:57.474246Z",
     "iopub.status.busy": "2024-03-12T08:18:57.473665Z",
     "iopub.status.idle": "2024-03-12T08:18:57.482846Z",
     "shell.execute_reply": "2024-03-12T08:18:57.481015Z"
    },
    "papermill": {
     "duration": 0.050974,
     "end_time": "2024-03-12T08:18:57.486535",
     "exception": false,
     "start_time": "2024-03-12T08:18:57.435561",
     "status": "completed"
    },
    "tags": []
   },
   "outputs": [],
   "source": [
    "# Zero values in Fare we will consider as an error or outlier and will delete for further imputation\n",
    "df.loc[df.Fare.eq(0), 'Fare'] = np.nan"
   ]
  },
  {
   "cell_type": "markdown",
   "id": "f1928c78",
   "metadata": {
    "papermill": {
     "duration": 0.036793,
     "end_time": "2024-03-12T08:18:57.560310",
     "exception": false,
     "start_time": "2024-03-12T08:18:57.523517",
     "status": "completed"
    },
    "tags": []
   },
   "source": [
    "# Create Lastname"
   ]
  },
  {
   "cell_type": "code",
   "execution_count": 16,
   "id": "20bec9d9",
   "metadata": {
    "execution": {
     "iopub.execute_input": "2024-03-12T08:18:57.632965Z",
     "iopub.status.busy": "2024-03-12T08:18:57.632451Z",
     "iopub.status.idle": "2024-03-12T08:18:57.646392Z",
     "shell.execute_reply": "2024-03-12T08:18:57.644687Z"
    },
    "papermill": {
     "duration": 0.055102,
     "end_time": "2024-03-12T08:18:57.650096",
     "exception": false,
     "start_time": "2024-03-12T08:18:57.594994",
     "status": "completed"
    },
    "tags": []
   },
   "outputs": [],
   "source": [
    "df['Lastname'] = df.Name.str.split(', ').str[0]"
   ]
  },
  {
   "cell_type": "markdown",
   "id": "77dd5881",
   "metadata": {
    "execution": {
     "iopub.execute_input": "2023-01-11T15:59:25.339772Z",
     "iopub.status.busy": "2023-01-11T15:59:25.336617Z",
     "iopub.status.idle": "2023-01-11T15:59:25.372076Z",
     "shell.execute_reply": "2023-01-11T15:59:25.371041Z",
     "shell.execute_reply.started": "2023-01-11T15:59:25.339713Z"
    },
    "papermill": {
     "duration": 0.035934,
     "end_time": "2024-03-12T08:18:57.720777",
     "exception": false,
     "start_time": "2024-03-12T08:18:57.684843",
     "status": "completed"
    },
    "tags": []
   },
   "source": [
    "# Create Title"
   ]
  },
  {
   "cell_type": "code",
   "execution_count": 17,
   "id": "d88c1e59",
   "metadata": {
    "execution": {
     "iopub.execute_input": "2024-03-12T08:18:57.791875Z",
     "iopub.status.busy": "2024-03-12T08:18:57.791342Z",
     "iopub.status.idle": "2024-03-12T08:18:57.809128Z",
     "shell.execute_reply": "2024-03-12T08:18:57.807416Z"
    },
    "papermill": {
     "duration": 0.057736,
     "end_time": "2024-03-12T08:18:57.812351",
     "exception": false,
     "start_time": "2024-03-12T08:18:57.754615",
     "status": "completed"
    },
    "tags": []
   },
   "outputs": [],
   "source": [
    "# Extracting the Title from Name column\n",
    "df['Title'] = df.Name.str.split(', ').str[1]\n",
    "df['Title'] = df.Title.str.split('.').str[0]"
   ]
  },
  {
   "cell_type": "code",
   "execution_count": 18,
   "id": "b58f9cd2",
   "metadata": {
    "execution": {
     "iopub.execute_input": "2024-03-12T08:18:57.883940Z",
     "iopub.status.busy": "2024-03-12T08:18:57.883405Z",
     "iopub.status.idle": "2024-03-12T08:18:57.895588Z",
     "shell.execute_reply": "2024-03-12T08:18:57.893952Z"
    },
    "papermill": {
     "duration": 0.05149,
     "end_time": "2024-03-12T08:18:57.899009",
     "exception": false,
     "start_time": "2024-03-12T08:18:57.847519",
     "status": "completed"
    },
    "tags": []
   },
   "outputs": [
    {
     "data": {
      "text/plain": [
       "Title\n",
       "Mr              757\n",
       "Miss            260\n",
       "Mrs             197\n",
       "Master           61\n",
       "Rev               8\n",
       "Dr                8\n",
       "Col               4\n",
       "Mlle              2\n",
       "Major             2\n",
       "Ms                2\n",
       "Lady              1\n",
       "Sir               1\n",
       "Mme               1\n",
       "Don               1\n",
       "Capt              1\n",
       "the Countess      1\n",
       "Jonkheer          1\n",
       "Dona              1\n",
       "Name: count, dtype: int64"
      ]
     },
     "execution_count": 18,
     "metadata": {},
     "output_type": "execute_result"
    }
   ],
   "source": [
    "# Analyze titles\n",
    "df.Title.value_counts()"
   ]
  },
  {
   "cell_type": "markdown",
   "id": "5cd4ca12",
   "metadata": {
    "papermill": {
     "duration": 0.034639,
     "end_time": "2024-03-12T08:18:57.968226",
     "exception": false,
     "start_time": "2024-03-12T08:18:57.933587",
     "status": "completed"
    },
    "tags": []
   },
   "source": [
    "We will simplify the titles to the same meaning ones"
   ]
  },
  {
   "cell_type": "code",
   "execution_count": 19,
   "id": "e2c7274c",
   "metadata": {
    "execution": {
     "iopub.execute_input": "2024-03-12T08:18:58.040888Z",
     "iopub.status.busy": "2024-03-12T08:18:58.040326Z",
     "iopub.status.idle": "2024-03-12T08:18:58.063910Z",
     "shell.execute_reply": "2024-03-12T08:18:58.061862Z"
    },
    "papermill": {
     "duration": 0.06414,
     "end_time": "2024-03-12T08:18:58.067208",
     "exception": false,
     "start_time": "2024-03-12T08:18:58.003068",
     "status": "completed"
    },
    "tags": []
   },
   "outputs": [
    {
     "data": {
      "text/plain": [
       "count    757.000000\n",
       "mean      31.700899\n",
       "std       10.926534\n",
       "min       11.000000\n",
       "25%       25.000000\n",
       "50%       29.881138\n",
       "75%       35.000000\n",
       "max       80.000000\n",
       "Name: Age, dtype: float64"
      ]
     },
     "execution_count": 19,
     "metadata": {},
     "output_type": "execute_result"
    }
   ],
   "source": [
    "# Analyze the title Mr by Age\n",
    "df[df.Title.eq('Mr')].Age.describe()"
   ]
  },
  {
   "cell_type": "code",
   "execution_count": 20,
   "id": "84ba0f0d",
   "metadata": {
    "execution": {
     "iopub.execute_input": "2024-03-12T08:18:58.138592Z",
     "iopub.status.busy": "2024-03-12T08:18:58.137727Z",
     "iopub.status.idle": "2024-03-12T08:18:58.158573Z",
     "shell.execute_reply": "2024-03-12T08:18:58.156419Z"
    },
    "papermill": {
     "duration": 0.062006,
     "end_time": "2024-03-12T08:18:58.162926",
     "exception": false,
     "start_time": "2024-03-12T08:18:58.100920",
     "status": "completed"
    },
    "tags": []
   },
   "outputs": [
    {
     "data": {
      "text/plain": [
       "count    61.000000\n",
       "mean      8.682444\n",
       "std       9.163600\n",
       "min       0.330000\n",
       "25%       2.000000\n",
       "50%       6.000000\n",
       "75%      11.000000\n",
       "max      29.881138\n",
       "Name: Age, dtype: float64"
      ]
     },
     "execution_count": 20,
     "metadata": {},
     "output_type": "execute_result"
    }
   ],
   "source": [
    "# Analyze the title Master by Age\n",
    "df[df.Title.eq('Master')].Age.describe()"
   ]
  },
  {
   "cell_type": "code",
   "execution_count": 21,
   "id": "8ab8bf48",
   "metadata": {
    "execution": {
     "iopub.execute_input": "2024-03-12T08:18:58.245039Z",
     "iopub.status.busy": "2024-03-12T08:18:58.244400Z",
     "iopub.status.idle": "2024-03-12T08:18:58.263638Z",
     "shell.execute_reply": "2024-03-12T08:18:58.261429Z"
    },
    "papermill": {
     "duration": 0.063699,
     "end_time": "2024-03-12T08:18:58.267467",
     "exception": false,
     "start_time": "2024-03-12T08:18:58.203768",
     "status": "completed"
    },
    "tags": []
   },
   "outputs": [
    {
     "data": {
      "text/plain": [
       "count    197.000000\n",
       "mean      36.019242\n",
       "std       12.228651\n",
       "min       14.000000\n",
       "25%       28.000000\n",
       "50%       33.000000\n",
       "75%       45.000000\n",
       "max       76.000000\n",
       "Name: Age, dtype: float64"
      ]
     },
     "execution_count": 21,
     "metadata": {},
     "output_type": "execute_result"
    }
   ],
   "source": [
    "# Analyze the title Master by Age\n",
    "df[df.Title.eq('Mrs')].Age.describe()"
   ]
  },
  {
   "cell_type": "markdown",
   "id": "f6d94621",
   "metadata": {
    "papermill": {
     "duration": 0.035405,
     "end_time": "2024-03-12T08:18:58.339237",
     "exception": false,
     "start_time": "2024-03-12T08:18:58.303832",
     "status": "completed"
    },
    "tags": []
   },
   "source": [
    "In the dataset title Mr is used from 11 years old and Master to maximum 15 years old.\n",
    "\n",
    "Master is an antiquated title for an underage male.\n",
    "\n",
    "We will join them together and then split again at age 18 to have a clean delimeter between minor and adult male titles.\n",
    "\n",
    "Miss is used for young ladies and also for unmarried ones\n",
    "\n",
    "Title Mrs younger than 18 years we will change to Miss as more apropriate"
   ]
  },
  {
   "cell_type": "code",
   "execution_count": 22,
   "id": "dac5c8d1",
   "metadata": {
    "execution": {
     "iopub.execute_input": "2024-03-12T08:18:58.413575Z",
     "iopub.status.busy": "2024-03-12T08:18:58.412997Z",
     "iopub.status.idle": "2024-03-12T08:18:58.439285Z",
     "shell.execute_reply": "2024-03-12T08:18:58.437070Z"
    },
    "papermill": {
     "duration": 0.068008,
     "end_time": "2024-03-12T08:18:58.442768",
     "exception": false,
     "start_time": "2024-03-12T08:18:58.374760",
     "status": "completed"
    },
    "tags": []
   },
   "outputs": [],
   "source": [
    "# Grouping the same type titles \n",
    "mrs = ['Mrs', 'Mme']\n",
    "df.loc[df.Title.isin(mrs), 'Title'] = 'Mrs'\n",
    "\n",
    "miss = ['Ms', 'Miss', 'Mlle']\n",
    "df.loc[df.Title.isin(miss), 'Title'] = 'Miss'\n",
    "\n",
    "# Change minor Mr title to Master\n",
    "df.loc[(df.Title.eq('Mr') & df.Age.le(18)), 'Title'] = 'Master'\n",
    "\n",
    "# Change minor Mrs title to Miss\n",
    "df.loc[(df.Title.eq('Mrs') & df.Age.le(18)), 'Title'] = 'Miss'\n",
    "\n",
    "# Separate other titles by sex\n",
    "df.loc[(~df.Title.isin(['Mrs', 'Miss', 'Mr', 'Master']) \n",
    "        & df.Sex.eq('male')), 'Title'] = 'Mr'\n",
    "\n",
    "df.loc[(~df.Title.isin(['Mrs', 'Miss', 'Mr', 'Master']) \n",
    "        & df.Sex.eq('female')), 'Title'] = 'Mrs'"
   ]
  },
  {
   "cell_type": "markdown",
   "id": "514e0f25",
   "metadata": {
    "papermill": {
     "duration": 0.036253,
     "end_time": "2024-03-12T08:18:58.515021",
     "exception": false,
     "start_time": "2024-03-12T08:18:58.478768",
     "status": "completed"
    },
    "tags": []
   },
   "source": [
    "# Create Status\n",
    "This feature will separate mothers and children from other adults"
   ]
  },
  {
   "cell_type": "code",
   "execution_count": 23,
   "id": "885717fe",
   "metadata": {
    "execution": {
     "iopub.execute_input": "2024-03-12T08:18:58.592659Z",
     "iopub.status.busy": "2024-03-12T08:18:58.592008Z",
     "iopub.status.idle": "2024-03-12T08:18:58.613051Z",
     "shell.execute_reply": "2024-03-12T08:18:58.611518Z"
    },
    "papermill": {
     "duration": 0.065695,
     "end_time": "2024-03-12T08:18:58.617400",
     "exception": false,
     "start_time": "2024-03-12T08:18:58.551705",
     "status": "completed"
    },
    "tags": []
   },
   "outputs": [],
   "source": [
    "# Create Child status\n",
    "df.loc[df.Age.le(18), 'Status'] = 'Child'\n",
    "df.loc[df.Title.eq('Master'), 'Status'] = 'Child'\n",
    "\n",
    "# Create Mother status\n",
    "df.loc[(df.Title.eq('Mrs') & df.Parch.gt(0)), 'Status'] = 'Mother'\n",
    "\n",
    "# Create Woman status\n",
    "df.loc[(df.Status.isna() & df.Sex.eq('female')), 'Status'] = 'Woman'\n",
    "\n",
    "# Create Man status\n",
    "df.loc[(df.Status.isna() & df.Sex.eq('male')), 'Status'] = 'Man'"
   ]
  },
  {
   "cell_type": "markdown",
   "id": "884f0bdc",
   "metadata": {
    "papermill": {
     "duration": 0.033245,
     "end_time": "2024-03-12T08:18:58.685677",
     "exception": false,
     "start_time": "2024-03-12T08:18:58.652432",
     "status": "completed"
    },
    "tags": []
   },
   "source": [
    "# Create Price\n",
    "\n",
    "We should divide the Fare by number of passengers on the same ticket"
   ]
  },
  {
   "cell_type": "code",
   "execution_count": 24,
   "id": "e9cb859f",
   "metadata": {
    "execution": {
     "iopub.execute_input": "2024-03-12T08:18:58.759994Z",
     "iopub.status.busy": "2024-03-12T08:18:58.759449Z",
     "iopub.status.idle": "2024-03-12T08:18:58.796394Z",
     "shell.execute_reply": "2024-03-12T08:18:58.793883Z"
    },
    "papermill": {
     "duration": 0.079141,
     "end_time": "2024-03-12T08:18:58.800196",
     "exception": false,
     "start_time": "2024-03-12T08:18:58.721055",
     "status": "completed"
    },
    "tags": []
   },
   "outputs": [
    {
     "data": {
      "text/plain": [
       "1"
      ]
     },
     "execution_count": 24,
     "metadata": {},
     "output_type": "execute_result"
    }
   ],
   "source": [
    "# Analyze Fare by ticket number to be sure that the Fare represents \n",
    "# the full price of the ticket and not the price per person\n",
    "\n",
    "# Split Ticket by series and number\n",
    "df['Ticket_series'] = [i[0] if len(i) > 1 else 0 for i in df.Ticket.str.split()]\n",
    "df['Ticket_nr'] = [i[-1] for i in df.Ticket.str.split()]\n",
    "\n",
    "# Check if Fare min and Fare max of the same ticket number are the same\n",
    "df_fare = df[~df.Fare.isna()]\n",
    "multi_tickets = df_fare.groupby(df_fare.Ticket_nr[df_fare.Ticket_nr.duplicated()])\n",
    "(multi_tickets.Fare.min() != multi_tickets.Fare.max()).sum()"
   ]
  },
  {
   "cell_type": "markdown",
   "id": "e2bcb83b",
   "metadata": {
    "execution": {
     "iopub.execute_input": "2023-02-04T20:10:52.855161Z",
     "iopub.status.busy": "2023-02-04T20:10:52.854685Z",
     "iopub.status.idle": "2023-02-04T20:10:52.865727Z",
     "shell.execute_reply": "2023-02-04T20:10:52.864764Z",
     "shell.execute_reply.started": "2023-02-04T20:10:52.85512Z"
    },
    "papermill": {
     "duration": 0.035688,
     "end_time": "2024-03-12T08:18:58.870346",
     "exception": false,
     "start_time": "2024-03-12T08:18:58.834658",
     "status": "completed"
    },
    "tags": []
   },
   "source": [
    "There is just 1 ticket where min and max don't corespond, we will ignore it as a mistake"
   ]
  },
  {
   "cell_type": "code",
   "execution_count": 25,
   "id": "3c72b271",
   "metadata": {
    "execution": {
     "iopub.execute_input": "2024-03-12T08:18:58.945305Z",
     "iopub.status.busy": "2024-03-12T08:18:58.944751Z",
     "iopub.status.idle": "2024-03-12T08:18:58.960924Z",
     "shell.execute_reply": "2024-03-12T08:18:58.959066Z"
    },
    "papermill": {
     "duration": 0.057957,
     "end_time": "2024-03-12T08:18:58.964317",
     "exception": false,
     "start_time": "2024-03-12T08:18:58.906360",
     "status": "completed"
    },
    "tags": []
   },
   "outputs": [],
   "source": [
    "# Create a column with the passengers number by ticket \n",
    "ticket_dict = df.groupby('Ticket_nr').Lastname.count().to_dict()\n",
    "df['Passengers_ticket'] = df.Ticket_nr.map(ticket_dict)\n",
    "\n",
    "# Create Price column\n",
    "df['Price'] = (df.Fare / df.Passengers_ticket).round(1)"
   ]
  },
  {
   "cell_type": "markdown",
   "id": "5577f55e",
   "metadata": {
    "papermill": {
     "duration": 0.035132,
     "end_time": "2024-03-12T08:18:59.034962",
     "exception": false,
     "start_time": "2024-03-12T08:18:58.999830",
     "status": "completed"
    },
    "tags": []
   },
   "source": [
    "# Create Deck\n",
    "\n",
    "This will have the deck letter"
   ]
  },
  {
   "cell_type": "code",
   "execution_count": 26,
   "id": "c9b25c02",
   "metadata": {
    "execution": {
     "iopub.execute_input": "2024-03-12T08:18:59.109027Z",
     "iopub.status.busy": "2024-03-12T08:18:59.108451Z",
     "iopub.status.idle": "2024-03-12T08:18:59.124245Z",
     "shell.execute_reply": "2024-03-12T08:18:59.122411Z"
    },
    "papermill": {
     "duration": 0.057106,
     "end_time": "2024-03-12T08:18:59.128374",
     "exception": false,
     "start_time": "2024-03-12T08:18:59.071268",
     "status": "completed"
    },
    "tags": []
   },
   "outputs": [
    {
     "data": {
      "text/plain": [
       "1014"
      ]
     },
     "execution_count": 26,
     "metadata": {},
     "output_type": "execute_result"
    }
   ],
   "source": [
    "# Extract Deck letter from Cabin column\n",
    "df['Deck'] = df.Cabin.str[0]\n",
    "\n",
    "# Check how many missing values we have at this step\n",
    "df.Deck.isna().sum()"
   ]
  },
  {
   "cell_type": "code",
   "execution_count": 27,
   "id": "14be5d81",
   "metadata": {
    "execution": {
     "iopub.execute_input": "2024-03-12T08:18:59.204773Z",
     "iopub.status.busy": "2024-03-12T08:18:59.204253Z",
     "iopub.status.idle": "2024-03-12T08:18:59.224145Z",
     "shell.execute_reply": "2024-03-12T08:18:59.221869Z"
    },
    "papermill": {
     "duration": 0.064276,
     "end_time": "2024-03-12T08:18:59.228180",
     "exception": false,
     "start_time": "2024-03-12T08:18:59.163904",
     "status": "completed"
    },
    "tags": []
   },
   "outputs": [
    {
     "data": {
      "text/plain": [
       "Pclass  Deck\n",
       "1       C       94\n",
       "        B       65\n",
       "        D       40\n",
       "        E       34\n",
       "        A       22\n",
       "        T        1\n",
       "2       F       13\n",
       "        D        6\n",
       "        E        4\n",
       "3       F        8\n",
       "        G        5\n",
       "        E        3\n",
       "Name: count, dtype: int64"
      ]
     },
     "execution_count": 27,
     "metadata": {},
     "output_type": "execute_result"
    }
   ],
   "source": [
    "# Deck distribution by Pclass\n",
    "df.groupby('Pclass').Deck.value_counts()"
   ]
  },
  {
   "cell_type": "code",
   "execution_count": 28,
   "id": "e7923aa2",
   "metadata": {
    "execution": {
     "iopub.execute_input": "2024-03-12T08:18:59.304242Z",
     "iopub.status.busy": "2024-03-12T08:18:59.303541Z",
     "iopub.status.idle": "2024-03-12T08:18:59.315953Z",
     "shell.execute_reply": "2024-03-12T08:18:59.314752Z"
    },
    "papermill": {
     "duration": 0.054701,
     "end_time": "2024-03-12T08:18:59.318829",
     "exception": false,
     "start_time": "2024-03-12T08:18:59.264128",
     "status": "completed"
    },
    "tags": []
   },
   "outputs": [
    {
     "data": {
      "text/plain": [
       "Pclass\n",
       "3    693\n",
       "2    254\n",
       "1     67\n",
       "Name: count, dtype: int64"
      ]
     },
     "execution_count": 28,
     "metadata": {},
     "output_type": "execute_result"
    }
   ],
   "source": [
    "# Deck missing values by Pclass\n",
    "df.loc[df.Deck.isna(), 'Pclass'].value_counts()"
   ]
  },
  {
   "cell_type": "markdown",
   "id": "8dbe6e0f",
   "metadata": {
    "papermill": {
     "duration": 0.036011,
     "end_time": "2024-03-12T08:18:59.390511",
     "exception": false,
     "start_time": "2024-03-12T08:18:59.354500",
     "status": "completed"
    },
    "tags": []
   },
   "source": [
    "- On the 1st step we will impute the Deck letter based on Ticket_nr, if the same Ticket_nr has already an available \n",
    "  value for Deck in other rows\n",
    "  \n",
    "- On the 2nd step we will impute based on Lastname using the same method as in the first step, but to be sure that \n",
    "  the passengers are not from different families with the same Lastname we will use some filters in the process.\n",
    "\n",
    "- On the 3rd step we will impute based on Pclass, as every Pclass was on separate Deck with some intersections between \n",
    "  (some googling confirms that class-deck distribution corresponds to our Deck distribution by Pclass analysis). \n",
    "  To improve the accuracy we will check also the mean Price for each Pclass-Deck group to determine the Deck. "
   ]
  },
  {
   "cell_type": "code",
   "execution_count": 29,
   "id": "6ae4f781",
   "metadata": {
    "execution": {
     "iopub.execute_input": "2024-03-12T08:18:59.466948Z",
     "iopub.status.busy": "2024-03-12T08:18:59.466385Z",
     "iopub.status.idle": "2024-03-12T08:18:59.477644Z",
     "shell.execute_reply": "2024-03-12T08:18:59.475913Z"
    },
    "papermill": {
     "duration": 0.052556,
     "end_time": "2024-03-12T08:18:59.480789",
     "exception": false,
     "start_time": "2024-03-12T08:18:59.428233",
     "status": "completed"
    },
    "tags": []
   },
   "outputs": [],
   "source": [
    "# Function for imputing Deck\n",
    "def impute_deck_by(feature):\n",
    "    for pclass in range(1, 4):\n",
    "        # Create a mapping dictionary\n",
    "        map_dic = (df[~df.Deck.isna() & df.Pclass.eq(pclass)]\n",
    "                   .groupby(feature).Deck.unique()\n",
    "                   .apply(list).to_dict())\n",
    "\n",
    "        # Keep just the keys with a single deck to avoid \n",
    "        # the same key on different decks\n",
    "        map_dic = {i:j[0] for i, j in map_dic.items() \n",
    "                   if len(j) == 1}\n",
    "\n",
    "        # Imputing Deck from map_dic\n",
    "        df.loc[df.Deck.isna() & df.Pclass.eq(pclass), \n",
    "               'Deck'] = df[feature].map(map_dic)\n",
    "\n",
    "    # Check how many missing values we have at this step\n",
    "    print(df.Deck.isna().sum())"
   ]
  },
  {
   "cell_type": "code",
   "execution_count": 30,
   "id": "db0a1056",
   "metadata": {
    "execution": {
     "iopub.execute_input": "2024-03-12T08:18:59.555796Z",
     "iopub.status.busy": "2024-03-12T08:18:59.555228Z",
     "iopub.status.idle": "2024-03-12T08:18:59.595080Z",
     "shell.execute_reply": "2024-03-12T08:18:59.593106Z"
    },
    "papermill": {
     "duration": 0.081149,
     "end_time": "2024-03-12T08:18:59.598469",
     "exception": false,
     "start_time": "2024-03-12T08:18:59.517320",
     "status": "completed"
    },
    "tags": []
   },
   "outputs": [
    {
     "name": "stdout",
     "output_type": "stream",
     "text": [
      "997\n"
     ]
    }
   ],
   "source": [
    "impute_deck_by('Ticket_nr')"
   ]
  },
  {
   "cell_type": "code",
   "execution_count": 31,
   "id": "b99f8d6b",
   "metadata": {
    "execution": {
     "iopub.execute_input": "2024-03-12T08:18:59.670737Z",
     "iopub.status.busy": "2024-03-12T08:18:59.670213Z",
     "iopub.status.idle": "2024-03-12T08:18:59.719862Z",
     "shell.execute_reply": "2024-03-12T08:18:59.717833Z"
    },
    "papermill": {
     "duration": 0.091536,
     "end_time": "2024-03-12T08:18:59.723625",
     "exception": false,
     "start_time": "2024-03-12T08:18:59.632089",
     "status": "completed"
    },
    "tags": []
   },
   "outputs": [
    {
     "name": "stdout",
     "output_type": "stream",
     "text": [
      "989\n"
     ]
    }
   ],
   "source": [
    "impute_deck_by('Lastname')"
   ]
  },
  {
   "cell_type": "markdown",
   "id": "db988eca",
   "metadata": {
    "papermill": {
     "duration": 0.040049,
     "end_time": "2024-03-12T08:18:59.800512",
     "exception": false,
     "start_time": "2024-03-12T08:18:59.760463",
     "status": "completed"
    },
    "tags": []
   },
   "source": [
    "We have recovered 25 values, not much, but they correspond to reality,\n",
    "the rest we will impute later based on Pclass and Price as mentioned earlier."
   ]
  },
  {
   "cell_type": "markdown",
   "id": "0a168767",
   "metadata": {
    "papermill": {
     "duration": 0.036382,
     "end_time": "2024-03-12T08:18:59.873692",
     "exception": false,
     "start_time": "2024-03-12T08:18:59.837310",
     "status": "completed"
    },
    "tags": []
   },
   "source": [
    "# Create Deck_survive_ratio\n",
    "\n",
    "Surviving probability by Deck, before imputing Deck and add noise"
   ]
  },
  {
   "cell_type": "code",
   "execution_count": 32,
   "id": "9beea7d1",
   "metadata": {
    "execution": {
     "iopub.execute_input": "2024-03-12T08:18:59.953027Z",
     "iopub.status.busy": "2024-03-12T08:18:59.952453Z",
     "iopub.status.idle": "2024-03-12T08:18:59.974275Z",
     "shell.execute_reply": "2024-03-12T08:18:59.971791Z"
    },
    "papermill": {
     "duration": 0.066119,
     "end_time": "2024-03-12T08:18:59.978338",
     "exception": false,
     "start_time": "2024-03-12T08:18:59.912219",
     "status": "completed"
    },
    "tags": []
   },
   "outputs": [],
   "source": [
    "# Extract Deck letter from Cabin column\n",
    "full_df['Deck'] = full_df.Cabin.str[0]\n",
    "\n",
    "# Total Survived by available Deck data\n",
    "deck_total_survived = full_df.groupby('Deck').Survived.sum()\n",
    "\n",
    "# Total passengers by available Deck data\n",
    "deck_people = full_df.groupby('Deck').Deck.count()\n",
    "\n",
    "# Deck and surviving chance pairs \n",
    "deck_survived_dict = (deck_total_survived / deck_people).round(2).to_dict()\n",
    "\n",
    "# Total Survived where Deck data is missing\n",
    "deck_nan_survived = full_df.loc[full_df.Deck.isna(), 'Survived']\n",
    "\n",
    "# Add to dictionary an additional entry for missing Deck surviving chance\n",
    "deck_survived_dict['M'] = (deck_nan_survived.value_counts() / deck_nan_survived.count()).round(2)[1]\n",
    "\n",
    "# Create Deck_survive_ratio\n",
    "df['Deck_survive_ratio'] = df.Deck.fillna('M')\n",
    "\n",
    "df.Deck_survive_ratio = df.Deck_survive_ratio.map(deck_survived_dict).astype('float')"
   ]
  },
  {
   "cell_type": "markdown",
   "id": "899300e0",
   "metadata": {
    "papermill": {
     "duration": 0.038303,
     "end_time": "2024-03-12T08:19:00.055152",
     "exception": false,
     "start_time": "2024-03-12T08:19:00.016849",
     "status": "completed"
    },
    "tags": []
   },
   "source": [
    "# Analyze and impute missing prices\n",
    "\n",
    "We impute prices first as there are less missing values in Price than in Deck and we use them both for imputation"
   ]
  },
  {
   "cell_type": "code",
   "execution_count": 33,
   "id": "d3dc90f9",
   "metadata": {
    "execution": {
     "iopub.execute_input": "2024-03-12T08:19:00.140379Z",
     "iopub.status.busy": "2024-03-12T08:19:00.139586Z",
     "iopub.status.idle": "2024-03-12T08:19:00.231742Z",
     "shell.execute_reply": "2024-03-12T08:19:00.230116Z"
    },
    "papermill": {
     "duration": 0.136472,
     "end_time": "2024-03-12T08:19:00.235684",
     "exception": false,
     "start_time": "2024-03-12T08:19:00.099212",
     "status": "completed"
    },
    "tags": []
   },
   "outputs": [
    {
     "data": {
      "text/html": [
       "<div>\n",
       "<style scoped>\n",
       "    .dataframe tbody tr th:only-of-type {\n",
       "        vertical-align: middle;\n",
       "    }\n",
       "\n",
       "    .dataframe tbody tr th {\n",
       "        vertical-align: top;\n",
       "    }\n",
       "\n",
       "    .dataframe thead th {\n",
       "        text-align: right;\n",
       "    }\n",
       "</style>\n",
       "<table border=\"1\" class=\"dataframe\">\n",
       "  <thead>\n",
       "    <tr style=\"text-align: right;\">\n",
       "      <th></th>\n",
       "      <th></th>\n",
       "      <th>count</th>\n",
       "      <th>mean</th>\n",
       "      <th>std</th>\n",
       "      <th>min</th>\n",
       "      <th>25%</th>\n",
       "      <th>50%</th>\n",
       "      <th>75%</th>\n",
       "      <th>max</th>\n",
       "    </tr>\n",
       "    <tr>\n",
       "      <th>Pclass</th>\n",
       "      <th>Deck</th>\n",
       "      <th></th>\n",
       "      <th></th>\n",
       "      <th></th>\n",
       "      <th></th>\n",
       "      <th></th>\n",
       "      <th></th>\n",
       "      <th></th>\n",
       "      <th></th>\n",
       "    </tr>\n",
       "  </thead>\n",
       "  <tbody>\n",
       "    <tr>\n",
       "      <th rowspan=\"6\" valign=\"top\">1</th>\n",
       "      <th>A</th>\n",
       "      <td>21.0</td>\n",
       "      <td>32.823810</td>\n",
       "      <td>7.056125</td>\n",
       "      <td>26.0</td>\n",
       "      <td>27.700</td>\n",
       "      <td>30.50</td>\n",
       "      <td>35.500</td>\n",
       "      <td>50.5</td>\n",
       "    </tr>\n",
       "    <tr>\n",
       "      <th>B</th>\n",
       "      <td>65.0</td>\n",
       "      <td>42.983077</td>\n",
       "      <td>25.865606</td>\n",
       "      <td>5.0</td>\n",
       "      <td>29.000</td>\n",
       "      <td>37.50</td>\n",
       "      <td>45.500</td>\n",
       "      <td>128.1</td>\n",
       "    </tr>\n",
       "    <tr>\n",
       "      <th>C</th>\n",
       "      <td>105.0</td>\n",
       "      <td>35.783810</td>\n",
       "      <td>9.732540</td>\n",
       "      <td>25.3</td>\n",
       "      <td>27.700</td>\n",
       "      <td>33.90</td>\n",
       "      <td>42.300</td>\n",
       "      <td>68.4</td>\n",
       "    </tr>\n",
       "    <tr>\n",
       "      <th>D</th>\n",
       "      <td>42.0</td>\n",
       "      <td>31.776190</td>\n",
       "      <td>9.698650</td>\n",
       "      <td>19.7</td>\n",
       "      <td>26.000</td>\n",
       "      <td>27.15</td>\n",
       "      <td>37.750</td>\n",
       "      <td>66.8</td>\n",
       "    </tr>\n",
       "    <tr>\n",
       "      <th>E</th>\n",
       "      <td>35.0</td>\n",
       "      <td>26.177143</td>\n",
       "      <td>5.033715</td>\n",
       "      <td>8.8</td>\n",
       "      <td>26.450</td>\n",
       "      <td>26.90</td>\n",
       "      <td>27.700</td>\n",
       "      <td>38.5</td>\n",
       "    </tr>\n",
       "    <tr>\n",
       "      <th>T</th>\n",
       "      <td>1.0</td>\n",
       "      <td>35.500000</td>\n",
       "      <td>NaN</td>\n",
       "      <td>35.5</td>\n",
       "      <td>35.500</td>\n",
       "      <td>35.50</td>\n",
       "      <td>35.500</td>\n",
       "      <td>35.5</td>\n",
       "    </tr>\n",
       "    <tr>\n",
       "      <th rowspan=\"3\" valign=\"top\">2</th>\n",
       "      <th>D</th>\n",
       "      <td>6.0</td>\n",
       "      <td>13.600000</td>\n",
       "      <td>0.812404</td>\n",
       "      <td>12.9</td>\n",
       "      <td>13.000</td>\n",
       "      <td>13.40</td>\n",
       "      <td>13.875</td>\n",
       "      <td>15.0</td>\n",
       "    </tr>\n",
       "    <tr>\n",
       "      <th>E</th>\n",
       "      <td>6.0</td>\n",
       "      <td>9.783333</td>\n",
       "      <td>3.648790</td>\n",
       "      <td>5.2</td>\n",
       "      <td>6.525</td>\n",
       "      <td>11.45</td>\n",
       "      <td>12.400</td>\n",
       "      <td>13.0</td>\n",
       "    </tr>\n",
       "    <tr>\n",
       "      <th>F</th>\n",
       "      <td>16.0</td>\n",
       "      <td>10.925000</td>\n",
       "      <td>1.756701</td>\n",
       "      <td>8.7</td>\n",
       "      <td>9.800</td>\n",
       "      <td>10.50</td>\n",
       "      <td>13.000</td>\n",
       "      <td>13.0</td>\n",
       "    </tr>\n",
       "    <tr>\n",
       "      <th rowspan=\"3\" valign=\"top\">3</th>\n",
       "      <th>E</th>\n",
       "      <td>3.0</td>\n",
       "      <td>6.800000</td>\n",
       "      <td>1.039230</td>\n",
       "      <td>6.2</td>\n",
       "      <td>6.200</td>\n",
       "      <td>6.20</td>\n",
       "      <td>7.100</td>\n",
       "      <td>8.0</td>\n",
       "    </tr>\n",
       "    <tr>\n",
       "      <th>F</th>\n",
       "      <td>11.0</td>\n",
       "      <td>7.518182</td>\n",
       "      <td>0.177866</td>\n",
       "      <td>7.2</td>\n",
       "      <td>7.500</td>\n",
       "      <td>7.60</td>\n",
       "      <td>7.600</td>\n",
       "      <td>7.8</td>\n",
       "    </tr>\n",
       "    <tr>\n",
       "      <th>G</th>\n",
       "      <td>5.0</td>\n",
       "      <td>5.440000</td>\n",
       "      <td>0.219089</td>\n",
       "      <td>5.2</td>\n",
       "      <td>5.200</td>\n",
       "      <td>5.60</td>\n",
       "      <td>5.600</td>\n",
       "      <td>5.6</td>\n",
       "    </tr>\n",
       "  </tbody>\n",
       "</table>\n",
       "</div>"
      ],
      "text/plain": [
       "             count       mean        std   min     25%    50%     75%    max\n",
       "Pclass Deck                                                                 \n",
       "1      A      21.0  32.823810   7.056125  26.0  27.700  30.50  35.500   50.5\n",
       "       B      65.0  42.983077  25.865606   5.0  29.000  37.50  45.500  128.1\n",
       "       C     105.0  35.783810   9.732540  25.3  27.700  33.90  42.300   68.4\n",
       "       D      42.0  31.776190   9.698650  19.7  26.000  27.15  37.750   66.8\n",
       "       E      35.0  26.177143   5.033715   8.8  26.450  26.90  27.700   38.5\n",
       "       T       1.0  35.500000        NaN  35.5  35.500  35.50  35.500   35.5\n",
       "2      D       6.0  13.600000   0.812404  12.9  13.000  13.40  13.875   15.0\n",
       "       E       6.0   9.783333   3.648790   5.2   6.525  11.45  12.400   13.0\n",
       "       F      16.0  10.925000   1.756701   8.7   9.800  10.50  13.000   13.0\n",
       "3      E       3.0   6.800000   1.039230   6.2   6.200   6.20   7.100    8.0\n",
       "       F      11.0   7.518182   0.177866   7.2   7.500   7.60   7.600    7.8\n",
       "       G       5.0   5.440000   0.219089   5.2   5.200   5.60   5.600    5.6"
      ]
     },
     "execution_count": 33,
     "metadata": {},
     "output_type": "execute_result"
    }
   ],
   "source": [
    "# Analyze Price by Deck and Pclass\n",
    "df.groupby(['Pclass', 'Deck']).Price.describe()"
   ]
  },
  {
   "cell_type": "markdown",
   "id": "a5857584",
   "metadata": {
    "papermill": {
     "duration": 0.051877,
     "end_time": "2024-03-12T08:19:00.333655",
     "exception": false,
     "start_time": "2024-03-12T08:19:00.281778",
     "status": "completed"
    },
    "tags": []
   },
   "source": [
    "Very large standard deviation in Pclass 1, Deck B comparing to others, we should analyze this."
   ]
  },
  {
   "cell_type": "code",
   "execution_count": 34,
   "id": "c7fb914f",
   "metadata": {
    "execution": {
     "iopub.execute_input": "2024-03-12T08:19:00.415508Z",
     "iopub.status.busy": "2024-03-12T08:19:00.413499Z",
     "iopub.status.idle": "2024-03-12T08:19:00.423172Z",
     "shell.execute_reply": "2024-03-12T08:19:00.421465Z"
    },
    "papermill": {
     "duration": 0.053654,
     "end_time": "2024-03-12T08:19:00.426601",
     "exception": false,
     "start_time": "2024-03-12T08:19:00.372947",
     "status": "completed"
    },
    "tags": []
   },
   "outputs": [],
   "source": [
    "# Cabin T was on the upper deck (google helps), \n",
    "# so we will replace it with A deck as it has just a single value\n",
    "df.loc[df.Deck.eq('T'), 'Deck'] = 'A'"
   ]
  },
  {
   "cell_type": "code",
   "execution_count": 35,
   "id": "a224bf56",
   "metadata": {
    "execution": {
     "iopub.execute_input": "2024-03-12T08:19:00.507237Z",
     "iopub.status.busy": "2024-03-12T08:19:00.506121Z",
     "iopub.status.idle": "2024-03-12T08:19:00.538824Z",
     "shell.execute_reply": "2024-03-12T08:19:00.537328Z"
    },
    "papermill": {
     "duration": 0.08001,
     "end_time": "2024-03-12T08:19:00.543318",
     "exception": false,
     "start_time": "2024-03-12T08:19:00.463308",
     "status": "completed"
    },
    "tags": []
   },
   "outputs": [
    {
     "data": {
      "text/html": [
       "<div>\n",
       "<style scoped>\n",
       "    .dataframe tbody tr th:only-of-type {\n",
       "        vertical-align: middle;\n",
       "    }\n",
       "\n",
       "    .dataframe tbody tr th {\n",
       "        vertical-align: top;\n",
       "    }\n",
       "\n",
       "    .dataframe thead th {\n",
       "        text-align: right;\n",
       "    }\n",
       "</style>\n",
       "<table border=\"1\" class=\"dataframe\">\n",
       "  <thead>\n",
       "    <tr style=\"text-align: right;\">\n",
       "      <th></th>\n",
       "      <th>Pclass</th>\n",
       "      <th>Name</th>\n",
       "      <th>Sex</th>\n",
       "      <th>Age</th>\n",
       "      <th>SibSp</th>\n",
       "      <th>Parch</th>\n",
       "      <th>Ticket</th>\n",
       "      <th>Fare</th>\n",
       "      <th>Cabin</th>\n",
       "      <th>Embarked</th>\n",
       "      <th>Lastname</th>\n",
       "      <th>Title</th>\n",
       "      <th>Status</th>\n",
       "      <th>Ticket_series</th>\n",
       "      <th>Ticket_nr</th>\n",
       "      <th>Passengers_ticket</th>\n",
       "      <th>Price</th>\n",
       "      <th>Deck</th>\n",
       "      <th>Deck_survive_ratio</th>\n",
       "    </tr>\n",
       "  </thead>\n",
       "  <tbody>\n",
       "    <tr>\n",
       "      <th>872</th>\n",
       "      <td>1</td>\n",
       "      <td>Carlsson, Mr. Frans Olof</td>\n",
       "      <td>male</td>\n",
       "      <td>33.0</td>\n",
       "      <td>0</td>\n",
       "      <td>0</td>\n",
       "      <td>695</td>\n",
       "      <td>5.0</td>\n",
       "      <td>B51 B53 B55</td>\n",
       "      <td>S</td>\n",
       "      <td>Carlsson</td>\n",
       "      <td>Mr</td>\n",
       "      <td>Man</td>\n",
       "      <td>0</td>\n",
       "      <td>695</td>\n",
       "      <td>1</td>\n",
       "      <td>5.0</td>\n",
       "      <td>B</td>\n",
       "      <td>0.74</td>\n",
       "    </tr>\n",
       "    <tr>\n",
       "      <th>690</th>\n",
       "      <td>1</td>\n",
       "      <td>Dick, Mr. Albert Adrian</td>\n",
       "      <td>male</td>\n",
       "      <td>31.0</td>\n",
       "      <td>1</td>\n",
       "      <td>0</td>\n",
       "      <td>17474</td>\n",
       "      <td>57.0</td>\n",
       "      <td>B20</td>\n",
       "      <td>S</td>\n",
       "      <td>Dick</td>\n",
       "      <td>Mr</td>\n",
       "      <td>Man</td>\n",
       "      <td>0</td>\n",
       "      <td>17474</td>\n",
       "      <td>3</td>\n",
       "      <td>19.0</td>\n",
       "      <td>B</td>\n",
       "      <td>0.74</td>\n",
       "    </tr>\n",
       "    <tr>\n",
       "      <th>781</th>\n",
       "      <td>1</td>\n",
       "      <td>Dick, Mrs. Albert Adrian (Vera Gillespie)</td>\n",
       "      <td>female</td>\n",
       "      <td>17.0</td>\n",
       "      <td>1</td>\n",
       "      <td>0</td>\n",
       "      <td>17474</td>\n",
       "      <td>57.0</td>\n",
       "      <td>B20</td>\n",
       "      <td>S</td>\n",
       "      <td>Dick</td>\n",
       "      <td>Miss</td>\n",
       "      <td>Child</td>\n",
       "      <td>0</td>\n",
       "      <td>17474</td>\n",
       "      <td>3</td>\n",
       "      <td>19.0</td>\n",
       "      <td>B</td>\n",
       "      <td>0.74</td>\n",
       "    </tr>\n",
       "    <tr>\n",
       "      <th>1199</th>\n",
       "      <td>1</td>\n",
       "      <td>Hays, Mr. Charles Melville</td>\n",
       "      <td>male</td>\n",
       "      <td>55.0</td>\n",
       "      <td>1</td>\n",
       "      <td>1</td>\n",
       "      <td>12749</td>\n",
       "      <td>93.5</td>\n",
       "      <td>B69</td>\n",
       "      <td>S</td>\n",
       "      <td>Hays</td>\n",
       "      <td>Mr</td>\n",
       "      <td>Man</td>\n",
       "      <td>0</td>\n",
       "      <td>12749</td>\n",
       "      <td>4</td>\n",
       "      <td>23.4</td>\n",
       "      <td>B</td>\n",
       "      <td>0.74</td>\n",
       "    </tr>\n",
       "    <tr>\n",
       "      <th>1281</th>\n",
       "      <td>1</td>\n",
       "      <td>Payne, Mr. Vivian Ponsonby</td>\n",
       "      <td>male</td>\n",
       "      <td>23.0</td>\n",
       "      <td>0</td>\n",
       "      <td>0</td>\n",
       "      <td>12749</td>\n",
       "      <td>93.5</td>\n",
       "      <td>B24</td>\n",
       "      <td>S</td>\n",
       "      <td>Payne</td>\n",
       "      <td>Mr</td>\n",
       "      <td>Man</td>\n",
       "      <td>0</td>\n",
       "      <td>12749</td>\n",
       "      <td>4</td>\n",
       "      <td>23.4</td>\n",
       "      <td>B</td>\n",
       "      <td>0.74</td>\n",
       "    </tr>\n",
       "  </tbody>\n",
       "</table>\n",
       "</div>"
      ],
      "text/plain": [
       "      Pclass                                       Name     Sex   Age  SibSp  \\\n",
       "872        1                   Carlsson, Mr. Frans Olof    male  33.0      0   \n",
       "690        1                    Dick, Mr. Albert Adrian    male  31.0      1   \n",
       "781        1  Dick, Mrs. Albert Adrian (Vera Gillespie)  female  17.0      1   \n",
       "1199       1                 Hays, Mr. Charles Melville    male  55.0      1   \n",
       "1281       1                 Payne, Mr. Vivian Ponsonby    male  23.0      0   \n",
       "\n",
       "      Parch Ticket  Fare        Cabin Embarked  Lastname Title Status  \\\n",
       "872       0    695   5.0  B51 B53 B55        S  Carlsson    Mr    Man   \n",
       "690       0  17474  57.0          B20        S      Dick    Mr    Man   \n",
       "781       0  17474  57.0          B20        S      Dick  Miss  Child   \n",
       "1199      1  12749  93.5          B69        S      Hays    Mr    Man   \n",
       "1281      0  12749  93.5          B24        S     Payne    Mr    Man   \n",
       "\n",
       "     Ticket_series Ticket_nr  Passengers_ticket  Price Deck  \\\n",
       "872              0       695                  1    5.0    B   \n",
       "690              0     17474                  3   19.0    B   \n",
       "781              0     17474                  3   19.0    B   \n",
       "1199             0     12749                  4   23.4    B   \n",
       "1281             0     12749                  4   23.4    B   \n",
       "\n",
       "      Deck_survive_ratio  \n",
       "872                 0.74  \n",
       "690                 0.74  \n",
       "781                 0.74  \n",
       "1199                0.74  \n",
       "1281                0.74  "
      ]
     },
     "execution_count": 35,
     "metadata": {},
     "output_type": "execute_result"
    }
   ],
   "source": [
    "# Check the cheapest prices for Deck B\n",
    "df[df.Deck.eq('B')].sort_values('Price').head()"
   ]
  },
  {
   "cell_type": "code",
   "execution_count": 36,
   "id": "edb9481c",
   "metadata": {
    "execution": {
     "iopub.execute_input": "2024-03-12T08:19:00.624607Z",
     "iopub.status.busy": "2024-03-12T08:19:00.624116Z",
     "iopub.status.idle": "2024-03-12T08:19:00.633471Z",
     "shell.execute_reply": "2024-03-12T08:19:00.631535Z"
    },
    "papermill": {
     "duration": 0.052756,
     "end_time": "2024-03-12T08:19:00.636709",
     "exception": false,
     "start_time": "2024-03-12T08:19:00.583953",
     "status": "completed"
    },
    "tags": []
   },
   "outputs": [],
   "source": [
    "# Maybe Mr Carlsson paid just 5 pounds for that 1st class ticket, \n",
    "# but this value is an outlier that we will replace with the next min\n",
    "df.loc[(df.Deck.eq('B') & df.Price.lt(19)), 'Price'] = 19"
   ]
  },
  {
   "cell_type": "code",
   "execution_count": 37,
   "id": "47cd6e3f",
   "metadata": {
    "execution": {
     "iopub.execute_input": "2024-03-12T08:19:00.716516Z",
     "iopub.status.busy": "2024-03-12T08:19:00.715642Z",
     "iopub.status.idle": "2024-03-12T08:19:00.754672Z",
     "shell.execute_reply": "2024-03-12T08:19:00.752147Z"
    },
    "papermill": {
     "duration": 0.084755,
     "end_time": "2024-03-12T08:19:00.758931",
     "exception": false,
     "start_time": "2024-03-12T08:19:00.674176",
     "status": "completed"
    },
    "tags": []
   },
   "outputs": [
    {
     "data": {
      "text/html": [
       "<div>\n",
       "<style scoped>\n",
       "    .dataframe tbody tr th:only-of-type {\n",
       "        vertical-align: middle;\n",
       "    }\n",
       "\n",
       "    .dataframe tbody tr th {\n",
       "        vertical-align: top;\n",
       "    }\n",
       "\n",
       "    .dataframe thead th {\n",
       "        text-align: right;\n",
       "    }\n",
       "</style>\n",
       "<table border=\"1\" class=\"dataframe\">\n",
       "  <thead>\n",
       "    <tr style=\"text-align: right;\">\n",
       "      <th></th>\n",
       "      <th>Pclass</th>\n",
       "      <th>Name</th>\n",
       "      <th>Sex</th>\n",
       "      <th>Age</th>\n",
       "      <th>SibSp</th>\n",
       "      <th>Parch</th>\n",
       "      <th>Ticket</th>\n",
       "      <th>Fare</th>\n",
       "      <th>Cabin</th>\n",
       "      <th>Embarked</th>\n",
       "      <th>Lastname</th>\n",
       "      <th>Title</th>\n",
       "      <th>Status</th>\n",
       "      <th>Ticket_series</th>\n",
       "      <th>Ticket_nr</th>\n",
       "      <th>Passengers_ticket</th>\n",
       "      <th>Price</th>\n",
       "      <th>Deck</th>\n",
       "      <th>Deck_survive_ratio</th>\n",
       "    </tr>\n",
       "  </thead>\n",
       "  <tbody>\n",
       "    <tr>\n",
       "      <th>1234</th>\n",
       "      <td>1</td>\n",
       "      <td>Cardeza, Mrs. James Warburton Martinez (Charlo...</td>\n",
       "      <td>female</td>\n",
       "      <td>58.0</td>\n",
       "      <td>0</td>\n",
       "      <td>1</td>\n",
       "      <td>PC 17755</td>\n",
       "      <td>512.3292</td>\n",
       "      <td>B51 B53 B55</td>\n",
       "      <td>C</td>\n",
       "      <td>Cardeza</td>\n",
       "      <td>Mrs</td>\n",
       "      <td>Mother</td>\n",
       "      <td>PC</td>\n",
       "      <td>17755</td>\n",
       "      <td>4</td>\n",
       "      <td>128.1</td>\n",
       "      <td>B</td>\n",
       "      <td>0.74</td>\n",
       "    </tr>\n",
       "    <tr>\n",
       "      <th>258</th>\n",
       "      <td>1</td>\n",
       "      <td>Ward, Miss. Anna</td>\n",
       "      <td>female</td>\n",
       "      <td>35.0</td>\n",
       "      <td>0</td>\n",
       "      <td>0</td>\n",
       "      <td>PC 17755</td>\n",
       "      <td>512.3292</td>\n",
       "      <td>NaN</td>\n",
       "      <td>C</td>\n",
       "      <td>Ward</td>\n",
       "      <td>Miss</td>\n",
       "      <td>Woman</td>\n",
       "      <td>PC</td>\n",
       "      <td>17755</td>\n",
       "      <td>4</td>\n",
       "      <td>128.1</td>\n",
       "      <td>B</td>\n",
       "      <td>0.74</td>\n",
       "    </tr>\n",
       "    <tr>\n",
       "      <th>737</th>\n",
       "      <td>1</td>\n",
       "      <td>Lesurer, Mr. Gustave J</td>\n",
       "      <td>male</td>\n",
       "      <td>35.0</td>\n",
       "      <td>0</td>\n",
       "      <td>0</td>\n",
       "      <td>PC 17755</td>\n",
       "      <td>512.3292</td>\n",
       "      <td>B101</td>\n",
       "      <td>C</td>\n",
       "      <td>Lesurer</td>\n",
       "      <td>Mr</td>\n",
       "      <td>Man</td>\n",
       "      <td>PC</td>\n",
       "      <td>17755</td>\n",
       "      <td>4</td>\n",
       "      <td>128.1</td>\n",
       "      <td>B</td>\n",
       "      <td>0.74</td>\n",
       "    </tr>\n",
       "    <tr>\n",
       "      <th>679</th>\n",
       "      <td>1</td>\n",
       "      <td>Cardeza, Mr. Thomas Drake Martinez</td>\n",
       "      <td>male</td>\n",
       "      <td>36.0</td>\n",
       "      <td>0</td>\n",
       "      <td>1</td>\n",
       "      <td>PC 17755</td>\n",
       "      <td>512.3292</td>\n",
       "      <td>B51 B53 B55</td>\n",
       "      <td>C</td>\n",
       "      <td>Cardeza</td>\n",
       "      <td>Mr</td>\n",
       "      <td>Man</td>\n",
       "      <td>PC</td>\n",
       "      <td>17755</td>\n",
       "      <td>4</td>\n",
       "      <td>128.1</td>\n",
       "      <td>B</td>\n",
       "      <td>0.74</td>\n",
       "    </tr>\n",
       "    <tr>\n",
       "      <th>118</th>\n",
       "      <td>1</td>\n",
       "      <td>Baxter, Mr. Quigg Edmond</td>\n",
       "      <td>male</td>\n",
       "      <td>24.0</td>\n",
       "      <td>0</td>\n",
       "      <td>1</td>\n",
       "      <td>PC 17558</td>\n",
       "      <td>247.5208</td>\n",
       "      <td>B58 B60</td>\n",
       "      <td>C</td>\n",
       "      <td>Baxter</td>\n",
       "      <td>Mr</td>\n",
       "      <td>Man</td>\n",
       "      <td>PC</td>\n",
       "      <td>17558</td>\n",
       "      <td>3</td>\n",
       "      <td>82.5</td>\n",
       "      <td>B</td>\n",
       "      <td>0.74</td>\n",
       "    </tr>\n",
       "    <tr>\n",
       "      <th>1075</th>\n",
       "      <td>1</td>\n",
       "      <td>Douglas, Mrs. Frederick Charles (Mary Helene B...</td>\n",
       "      <td>female</td>\n",
       "      <td>27.0</td>\n",
       "      <td>1</td>\n",
       "      <td>1</td>\n",
       "      <td>PC 17558</td>\n",
       "      <td>247.5208</td>\n",
       "      <td>B58 B60</td>\n",
       "      <td>C</td>\n",
       "      <td>Douglas</td>\n",
       "      <td>Mrs</td>\n",
       "      <td>Mother</td>\n",
       "      <td>PC</td>\n",
       "      <td>17558</td>\n",
       "      <td>3</td>\n",
       "      <td>82.5</td>\n",
       "      <td>B</td>\n",
       "      <td>0.74</td>\n",
       "    </tr>\n",
       "    <tr>\n",
       "      <th>299</th>\n",
       "      <td>1</td>\n",
       "      <td>Baxter, Mrs. James (Helene DeLaudeniere Chaput)</td>\n",
       "      <td>female</td>\n",
       "      <td>50.0</td>\n",
       "      <td>0</td>\n",
       "      <td>1</td>\n",
       "      <td>PC 17558</td>\n",
       "      <td>247.5208</td>\n",
       "      <td>B58 B60</td>\n",
       "      <td>C</td>\n",
       "      <td>Baxter</td>\n",
       "      <td>Mrs</td>\n",
       "      <td>Mother</td>\n",
       "      <td>PC</td>\n",
       "      <td>17558</td>\n",
       "      <td>3</td>\n",
       "      <td>82.5</td>\n",
       "      <td>B</td>\n",
       "      <td>0.74</td>\n",
       "    </tr>\n",
       "    <tr>\n",
       "      <th>730</th>\n",
       "      <td>1</td>\n",
       "      <td>Allen, Miss. Elisabeth Walton</td>\n",
       "      <td>female</td>\n",
       "      <td>29.0</td>\n",
       "      <td>0</td>\n",
       "      <td>0</td>\n",
       "      <td>24160</td>\n",
       "      <td>211.3375</td>\n",
       "      <td>B5</td>\n",
       "      <td>S</td>\n",
       "      <td>Allen</td>\n",
       "      <td>Miss</td>\n",
       "      <td>Woman</td>\n",
       "      <td>0</td>\n",
       "      <td>24160</td>\n",
       "      <td>4</td>\n",
       "      <td>52.8</td>\n",
       "      <td>B</td>\n",
       "      <td>0.74</td>\n",
       "    </tr>\n",
       "    <tr>\n",
       "      <th>1215</th>\n",
       "      <td>1</td>\n",
       "      <td>Kreuchen, Miss. Emilie</td>\n",
       "      <td>female</td>\n",
       "      <td>39.0</td>\n",
       "      <td>0</td>\n",
       "      <td>0</td>\n",
       "      <td>24160</td>\n",
       "      <td>211.3375</td>\n",
       "      <td>NaN</td>\n",
       "      <td>S</td>\n",
       "      <td>Kreuchen</td>\n",
       "      <td>Miss</td>\n",
       "      <td>Woman</td>\n",
       "      <td>0</td>\n",
       "      <td>24160</td>\n",
       "      <td>4</td>\n",
       "      <td>52.8</td>\n",
       "      <td>B</td>\n",
       "      <td>0.74</td>\n",
       "    </tr>\n",
       "    <tr>\n",
       "      <th>779</th>\n",
       "      <td>1</td>\n",
       "      <td>Robert, Mrs. Edward Scott (Elisabeth Walton Mc...</td>\n",
       "      <td>female</td>\n",
       "      <td>43.0</td>\n",
       "      <td>0</td>\n",
       "      <td>1</td>\n",
       "      <td>24160</td>\n",
       "      <td>211.3375</td>\n",
       "      <td>B3</td>\n",
       "      <td>S</td>\n",
       "      <td>Robert</td>\n",
       "      <td>Mrs</td>\n",
       "      <td>Mother</td>\n",
       "      <td>0</td>\n",
       "      <td>24160</td>\n",
       "      <td>4</td>\n",
       "      <td>52.8</td>\n",
       "      <td>B</td>\n",
       "      <td>0.74</td>\n",
       "    </tr>\n",
       "  </tbody>\n",
       "</table>\n",
       "</div>"
      ],
      "text/plain": [
       "      Pclass                                               Name     Sex   Age  \\\n",
       "1234       1  Cardeza, Mrs. James Warburton Martinez (Charlo...  female  58.0   \n",
       "258        1                                   Ward, Miss. Anna  female  35.0   \n",
       "737        1                             Lesurer, Mr. Gustave J    male  35.0   \n",
       "679        1                 Cardeza, Mr. Thomas Drake Martinez    male  36.0   \n",
       "118        1                           Baxter, Mr. Quigg Edmond    male  24.0   \n",
       "1075       1  Douglas, Mrs. Frederick Charles (Mary Helene B...  female  27.0   \n",
       "299        1    Baxter, Mrs. James (Helene DeLaudeniere Chaput)  female  50.0   \n",
       "730        1                      Allen, Miss. Elisabeth Walton  female  29.0   \n",
       "1215       1                             Kreuchen, Miss. Emilie  female  39.0   \n",
       "779        1  Robert, Mrs. Edward Scott (Elisabeth Walton Mc...  female  43.0   \n",
       "\n",
       "      SibSp  Parch    Ticket      Fare        Cabin Embarked  Lastname Title  \\\n",
       "1234      0      1  PC 17755  512.3292  B51 B53 B55        C   Cardeza   Mrs   \n",
       "258       0      0  PC 17755  512.3292          NaN        C      Ward  Miss   \n",
       "737       0      0  PC 17755  512.3292         B101        C   Lesurer    Mr   \n",
       "679       0      1  PC 17755  512.3292  B51 B53 B55        C   Cardeza    Mr   \n",
       "118       0      1  PC 17558  247.5208      B58 B60        C    Baxter    Mr   \n",
       "1075      1      1  PC 17558  247.5208      B58 B60        C   Douglas   Mrs   \n",
       "299       0      1  PC 17558  247.5208      B58 B60        C    Baxter   Mrs   \n",
       "730       0      0     24160  211.3375           B5        S     Allen  Miss   \n",
       "1215      0      0     24160  211.3375          NaN        S  Kreuchen  Miss   \n",
       "779       0      1     24160  211.3375           B3        S    Robert   Mrs   \n",
       "\n",
       "      Status Ticket_series Ticket_nr  Passengers_ticket  Price Deck  \\\n",
       "1234  Mother            PC     17755                  4  128.1    B   \n",
       "258    Woman            PC     17755                  4  128.1    B   \n",
       "737      Man            PC     17755                  4  128.1    B   \n",
       "679      Man            PC     17755                  4  128.1    B   \n",
       "118      Man            PC     17558                  3   82.5    B   \n",
       "1075  Mother            PC     17558                  3   82.5    B   \n",
       "299   Mother            PC     17558                  3   82.5    B   \n",
       "730    Woman             0     24160                  4   52.8    B   \n",
       "1215   Woman             0     24160                  4   52.8    B   \n",
       "779   Mother             0     24160                  4   52.8    B   \n",
       "\n",
       "      Deck_survive_ratio  \n",
       "1234                0.74  \n",
       "258                 0.74  \n",
       "737                 0.74  \n",
       "679                 0.74  \n",
       "118                 0.74  \n",
       "1075                0.74  \n",
       "299                 0.74  \n",
       "730                 0.74  \n",
       "1215                0.74  \n",
       "779                 0.74  "
      ]
     },
     "execution_count": 37,
     "metadata": {},
     "output_type": "execute_result"
    }
   ],
   "source": [
    "# Check the most expensive prices for Deck B\n",
    "df[df.Deck.eq('B')].sort_values('Price', ascending=False).head(10)"
   ]
  },
  {
   "cell_type": "code",
   "execution_count": 38,
   "id": "f5565e8a",
   "metadata": {
    "execution": {
     "iopub.execute_input": "2024-03-12T08:19:00.838888Z",
     "iopub.status.busy": "2024-03-12T08:19:00.838315Z",
     "iopub.status.idle": "2024-03-12T08:19:00.847963Z",
     "shell.execute_reply": "2024-03-12T08:19:00.846396Z"
    },
    "papermill": {
     "duration": 0.052994,
     "end_time": "2024-03-12T08:19:00.851556",
     "exception": false,
     "start_time": "2024-03-12T08:19:00.798562",
     "status": "completed"
    },
    "tags": []
   },
   "outputs": [],
   "source": [
    "# Two most expensive tickets are outliers,\n",
    "# we will cap them at the next overall highest Price \n",
    "df.loc[(df.Deck.eq('B') & df.Price.gt(68)), 'Price'] = 68"
   ]
  },
  {
   "cell_type": "code",
   "execution_count": 39,
   "id": "2fb4e9ca",
   "metadata": {
    "execution": {
     "iopub.execute_input": "2024-03-12T08:19:00.931421Z",
     "iopub.status.busy": "2024-03-12T08:19:00.930854Z",
     "iopub.status.idle": "2024-03-12T08:19:00.977356Z",
     "shell.execute_reply": "2024-03-12T08:19:00.975705Z"
    },
    "papermill": {
     "duration": 0.091123,
     "end_time": "2024-03-12T08:19:00.980962",
     "exception": false,
     "start_time": "2024-03-12T08:19:00.889839",
     "status": "completed"
    },
    "tags": []
   },
   "outputs": [],
   "source": [
    "# Create a data frame of mean prices by Pclass and Deck \n",
    "class_deck_price = pd.DataFrame(df.groupby(['Pclass', 'Deck'])\n",
    "                                .Price.mean().round(2)).reset_index()\n",
    "\n",
    "# Impute missing prices \n",
    "# Where Deck is missing we will use the mean price by Pclass only\n",
    "for index, row in df.loc[df.Price.isna(), \n",
    "                         ['Pclass', 'Deck']].iterrows():\n",
    "    if not pd.isna(row.Deck):\n",
    "        new_price = class_deck_price.loc[\n",
    "            (class_deck_price.Pclass.eq(row.Pclass) \n",
    "            & class_deck_price.Deck.eq(row.Deck)), 'Price'].mean()\n",
    "    else:\n",
    "        new_price = class_deck_price[\n",
    "            class_deck_price.Pclass.eq(row.Pclass)].Price.mean()\n",
    "\n",
    "    df.loc[[index], 'Price'] = new_price"
   ]
  },
  {
   "cell_type": "markdown",
   "id": "a01a748a",
   "metadata": {
    "papermill": {
     "duration": 0.035998,
     "end_time": "2024-03-12T08:19:01.053179",
     "exception": false,
     "start_time": "2024-03-12T08:19:01.017181",
     "status": "completed"
    },
    "tags": []
   },
   "source": [
    "# Analyze and impute missing Deck"
   ]
  },
  {
   "cell_type": "code",
   "execution_count": 40,
   "id": "167f22ed",
   "metadata": {
    "execution": {
     "iopub.execute_input": "2024-03-12T08:19:01.137525Z",
     "iopub.status.busy": "2024-03-12T08:19:01.136861Z",
     "iopub.status.idle": "2024-03-12T08:19:01.823813Z",
     "shell.execute_reply": "2024-03-12T08:19:01.821661Z"
    },
    "papermill": {
     "duration": 0.735925,
     "end_time": "2024-03-12T08:19:01.828045",
     "exception": false,
     "start_time": "2024-03-12T08:19:01.092120",
     "status": "completed"
    },
    "tags": []
   },
   "outputs": [
    {
     "name": "stderr",
     "output_type": "stream",
     "text": [
      "C:\\Users\\Ivan\\AppData\\Local\\Temp\\ipykernel_47284\\3365692807.py:33: FutureWarning: Downcasting behavior in `replace` is deprecated and will be removed in a future version. To retain the old behavior, explicitly call `result.infer_objects(copy=False)`. To opt-in to the future behavior, set `pd.set_option('future.no_silent_downcasting', True)`\n",
      "  df.Deck = df.Deck.replace(deck_level)\n"
     ]
    }
   ],
   "source": [
    "# Create dictionaries with aproximative price ranges by deck \n",
    "# concluded from previous analisys\n",
    "first_cl = {'A': [25, 30],\n",
    "            'B': [35, 70],\n",
    "            'C': [30, 35],\n",
    "            'D': [19, 25],\n",
    "            'E': [9, 19]}\n",
    "\n",
    "second_cl = {'D': [13, 17],\n",
    "             'E': [5, 9],\n",
    "             'F': [9, 13]}\n",
    "\n",
    "third_cl = {'E': [8, 9],\n",
    "            'F': [9, 21],\n",
    "            'G': [0, 8]}\n",
    "\n",
    "# Create a dictionary pairing Pclass and respective price dictionary\n",
    "class_dict = {1: first_cl,\n",
    "              2: second_cl,\n",
    "              3: third_cl}\n",
    "\n",
    "# Impute missing Deck values \n",
    "for index, row in df.loc[df.Deck.isna(), ['Pclass', 'Price']].iterrows():\n",
    "    for c, d in class_dict.items():\n",
    "        if row.Pclass == c:\n",
    "            for i, j in d.items():\n",
    "                if max(j) > row.Price >= min(j):\n",
    "                    df.loc[[index], 'Deck'] = i\n",
    "\n",
    "# Encode Deck with it's deck level number counting from the bottom\n",
    "deck_level = {'G': 1, 'F': 2, 'E': 3, 'D': 4, 'C': 5, 'B': 6, 'A': 7}\n",
    "\n",
    "df.Deck = df.Deck.replace(deck_level)"
   ]
  },
  {
   "cell_type": "markdown",
   "id": "947db07f",
   "metadata": {
    "papermill": {
     "duration": 0.039133,
     "end_time": "2024-03-12T08:19:01.907305",
     "exception": false,
     "start_time": "2024-03-12T08:19:01.868172",
     "status": "completed"
    },
    "tags": []
   },
   "source": [
    "# Create Escape_density\n",
    "\n",
    "Crowded decks could lead to jams and chaos when everybody wanted to go to the upper deck as the lifeboats were there.\n",
    "This feature will show through which amount of people each deck passenger needed to pass to arrive on top. \n",
    "Basically for each deck we will have a number of people equal to the summ of its own value and all the decks that are upper from it."
   ]
  },
  {
   "cell_type": "code",
   "execution_count": 41,
   "id": "95baa245",
   "metadata": {
    "execution": {
     "iopub.execute_input": "2024-03-12T08:19:01.987612Z",
     "iopub.status.busy": "2024-03-12T08:19:01.987069Z",
     "iopub.status.idle": "2024-03-12T08:19:02.000768Z",
     "shell.execute_reply": "2024-03-12T08:19:01.999353Z"
    },
    "papermill": {
     "duration": 0.05822,
     "end_time": "2024-03-12T08:19:02.003883",
     "exception": false,
     "start_time": "2024-03-12T08:19:01.945663",
     "status": "completed"
    },
    "tags": []
   },
   "outputs": [
    {
     "data": {
      "text/plain": [
       "{1: 537, 2: 167, 3: 193, 4: 172, 5: 112, 6: 76, 7: 52}"
      ]
     },
     "execution_count": 41,
     "metadata": {},
     "output_type": "execute_result"
    }
   ],
   "source": [
    "# Analyse how many people were on each deck.\n",
    "# Many values were imputed with aproximation,but at least we will have \n",
    "# an aproximative crowd mass each passenger has to pass going up\n",
    "deck_people = df.Deck.value_counts().sort_index()\n",
    "deck_people_dic = deck_people.to_dict()\n",
    "deck_people_dic"
   ]
  },
  {
   "cell_type": "code",
   "execution_count": 42,
   "id": "932afb84",
   "metadata": {
    "execution": {
     "iopub.execute_input": "2024-03-12T08:19:02.088754Z",
     "iopub.status.busy": "2024-03-12T08:19:02.088161Z",
     "iopub.status.idle": "2024-03-12T08:19:02.099862Z",
     "shell.execute_reply": "2024-03-12T08:19:02.097852Z"
    },
    "papermill": {
     "duration": 0.058131,
     "end_time": "2024-03-12T08:19:02.103918",
     "exception": false,
     "start_time": "2024-03-12T08:19:02.045787",
     "status": "completed"
    },
    "tags": []
   },
   "outputs": [
    {
     "data": {
      "text/plain": [
       "{1: 1309, 2: 772, 3: 605, 4: 412, 5: 240, 6: 128, 7: 52}"
      ]
     },
     "execution_count": 42,
     "metadata": {},
     "output_type": "execute_result"
    }
   ],
   "source": [
    "# Create an escape density dictionary from which we will impute data to our new feature\n",
    "escape_density = {}\n",
    "for i in range(1, 8):\n",
    "    escape_density[i] = sum(deck_people_dic.values())\n",
    "    del deck_people_dic[i]\n",
    "    \n",
    "escape_density"
   ]
  },
  {
   "cell_type": "code",
   "execution_count": 43,
   "id": "0389d110",
   "metadata": {
    "execution": {
     "iopub.execute_input": "2024-03-12T08:19:02.192145Z",
     "iopub.status.busy": "2024-03-12T08:19:02.191515Z",
     "iopub.status.idle": "2024-03-12T08:19:02.201598Z",
     "shell.execute_reply": "2024-03-12T08:19:02.200200Z"
    },
    "papermill": {
     "duration": 0.057057,
     "end_time": "2024-03-12T08:19:02.206044",
     "exception": false,
     "start_time": "2024-03-12T08:19:02.148987",
     "status": "completed"
    },
    "tags": []
   },
   "outputs": [],
   "source": [
    "# Create Escape_density column\n",
    "df['Escape_density'] = df.Deck.replace(escape_density)"
   ]
  },
  {
   "cell_type": "markdown",
   "id": "66220bab",
   "metadata": {
    "papermill": {
     "duration": 0.04189,
     "end_time": "2024-03-12T08:19:02.291516",
     "exception": false,
     "start_time": "2024-03-12T08:19:02.249626",
     "status": "completed"
    },
    "tags": []
   },
   "source": [
    "# Create Family_size\n",
    "\n",
    "It will represent the number of the family members"
   ]
  },
  {
   "cell_type": "code",
   "execution_count": 44,
   "id": "73120527",
   "metadata": {
    "execution": {
     "iopub.execute_input": "2024-03-12T08:19:02.379528Z",
     "iopub.status.busy": "2024-03-12T08:19:02.378686Z",
     "iopub.status.idle": "2024-03-12T08:19:02.386718Z",
     "shell.execute_reply": "2024-03-12T08:19:02.385490Z"
    },
    "papermill": {
     "duration": 0.056455,
     "end_time": "2024-03-12T08:19:02.389490",
     "exception": false,
     "start_time": "2024-03-12T08:19:02.333035",
     "status": "completed"
    },
    "tags": []
   },
   "outputs": [],
   "source": [
    "# We add together the person and his SibSp and Parch\n",
    "df['Family_size'] = 1 + df.SibSp + df.Parch"
   ]
  },
  {
   "cell_type": "markdown",
   "id": "76815cff",
   "metadata": {
    "papermill": {
     "duration": 0.038785,
     "end_time": "2024-03-12T08:19:02.470480",
     "exception": false,
     "start_time": "2024-03-12T08:19:02.431695",
     "status": "completed"
    },
    "tags": []
   },
   "source": [
    "# Create Family_survivers\n",
    "This feature can't be used for modeling as it would lead to target leakage, resulting in a good result on training data, but poor result on the test data.\n",
    "\n",
    "We will analyse it later to separate family groups that could have higher surviving chance."
   ]
  },
  {
   "cell_type": "code",
   "execution_count": 45,
   "id": "8cac9e24",
   "metadata": {
    "execution": {
     "iopub.execute_input": "2024-03-12T08:19:02.557290Z",
     "iopub.status.busy": "2024-03-12T08:19:02.554968Z",
     "iopub.status.idle": "2024-03-12T08:19:02.664549Z",
     "shell.execute_reply": "2024-03-12T08:19:02.662812Z"
    },
    "papermill": {
     "duration": 0.157125,
     "end_time": "2024-03-12T08:19:02.668455",
     "exception": false,
     "start_time": "2024-03-12T08:19:02.511330",
     "status": "completed"
    },
    "tags": []
   },
   "outputs": [],
   "source": [
    "# Create full data frame for analysis\n",
    "X = df[:X_max_index].copy()\n",
    "test_df = df[X_max_index:].copy()\n",
    "full_df = pd.concat([X, y], axis=1).copy()\n",
    "\n",
    "# Check for families that has survivers and create a dictionary with mean value of their family survivability\n",
    "family_survivers = full_df[['Lastname', 'Survived']].groupby('Lastname').mean().round(2).reset_index()\n",
    "family_survivers_dict = dict(zip(family_survivers.Lastname, family_survivers.Survived))\n",
    "\n",
    "# Reduce the dictionary to the list of families that are both in train and test data\n",
    "common_survivers = {}\n",
    "for lastname, survived in family_survivers_dict.items():\n",
    "    if lastname in list(test_df['Lastname'].unique()):\n",
    "        common_survivers[lastname] = survived\n",
    "\n",
    "# Create Family_survivers feature\n",
    "df['Family_survivers'] = df.Lastname.map(common_survivers)\n",
    "\n",
    "# For the families that are not present in both train and test we will impute the overall mean value\n",
    "df.Family_survivers = df.Family_survivers.fillna(df.Family_survivers.mean())"
   ]
  },
  {
   "cell_type": "markdown",
   "id": "6b216907",
   "metadata": {
    "papermill": {
     "duration": 0.039102,
     "end_time": "2024-03-12T08:19:02.744489",
     "exception": false,
     "start_time": "2024-03-12T08:19:02.705387",
     "status": "completed"
    },
    "tags": []
   },
   "source": [
    "# Clean data"
   ]
  },
  {
   "cell_type": "code",
   "execution_count": 46,
   "id": "5ea1ff13",
   "metadata": {
    "execution": {
     "iopub.execute_input": "2024-03-12T08:19:02.830249Z",
     "iopub.status.busy": "2024-03-12T08:19:02.828927Z",
     "iopub.status.idle": "2024-03-12T08:19:02.838274Z",
     "shell.execute_reply": "2024-03-12T08:19:02.836178Z"
    },
    "papermill": {
     "duration": 0.055982,
     "end_time": "2024-03-12T08:19:02.842790",
     "exception": false,
     "start_time": "2024-03-12T08:19:02.786808",
     "status": "completed"
    },
    "tags": []
   },
   "outputs": [],
   "source": [
    "# Change Pclass dtype to category as it's a classification feature\n",
    "df.Pclass = df.Pclass.astype('object')"
   ]
  },
  {
   "cell_type": "code",
   "execution_count": 47,
   "id": "15507750",
   "metadata": {
    "execution": {
     "iopub.execute_input": "2024-03-12T08:19:02.919489Z",
     "iopub.status.busy": "2024-03-12T08:19:02.918864Z",
     "iopub.status.idle": "2024-03-12T08:19:02.928467Z",
     "shell.execute_reply": "2024-03-12T08:19:02.926713Z"
    },
    "papermill": {
     "duration": 0.052217,
     "end_time": "2024-03-12T08:19:02.931785",
     "exception": false,
     "start_time": "2024-03-12T08:19:02.879568",
     "status": "completed"
    },
    "tags": []
   },
   "outputs": [],
   "source": [
    "# Drop further unused columns\n",
    "col_drop = ['Name', 'Ticket', 'Ticket_nr', 'Ticket_series', \n",
    "            'Fare', 'Cabin', 'Lastname', 'Passengers_ticket']\n",
    "df = df.drop(col_drop, axis=1)"
   ]
  },
  {
   "cell_type": "markdown",
   "id": "049a0404",
   "metadata": {
    "execution": {
     "iopub.execute_input": "2023-02-06T22:59:43.980076Z",
     "iopub.status.busy": "2023-02-06T22:59:43.979632Z",
     "iopub.status.idle": "2023-02-06T22:59:43.997049Z",
     "shell.execute_reply": "2023-02-06T22:59:43.994931Z",
     "shell.execute_reply.started": "2023-02-06T22:59:43.98004Z"
    },
    "papermill": {
     "duration": 0.039544,
     "end_time": "2024-03-12T08:19:03.009675",
     "exception": false,
     "start_time": "2024-03-12T08:19:02.970131",
     "status": "completed"
    },
    "tags": []
   },
   "source": [
    "# Impute and encode categoricals"
   ]
  },
  {
   "cell_type": "code",
   "execution_count": 48,
   "id": "9c54857b",
   "metadata": {
    "execution": {
     "iopub.execute_input": "2024-03-12T08:19:03.091502Z",
     "iopub.status.busy": "2024-03-12T08:19:03.090882Z",
     "iopub.status.idle": "2024-03-12T08:19:03.123809Z",
     "shell.execute_reply": "2024-03-12T08:19:03.122054Z"
    },
    "papermill": {
     "duration": 0.079372,
     "end_time": "2024-03-12T08:19:03.127845",
     "exception": false,
     "start_time": "2024-03-12T08:19:03.048473",
     "status": "completed"
    },
    "tags": []
   },
   "outputs": [],
   "source": [
    "# List of categorical columns\n",
    "categ_cols = list(df.select_dtypes(exclude=[np.number]).columns)\n",
    "\n",
    "# Impute categoricals with most frequent value\n",
    "cat_imputer = SimpleImputer(strategy='most_frequent')\n",
    "\n",
    "df_cat = pd.DataFrame(cat_imputer.fit_transform(df[categ_cols]), \n",
    "                      columns=df[categ_cols].columns)\n",
    "\n",
    "# Encode categorical\n",
    "df_cat = pd.get_dummies(df_cat)"
   ]
  },
  {
   "cell_type": "markdown",
   "id": "9ec14f47",
   "metadata": {
    "execution": {
     "iopub.status.busy": "2023-02-06T22:59:44.00643Z",
     "iopub.status.idle": "2023-02-06T22:59:44.006895Z",
     "shell.execute_reply": "2023-02-06T22:59:44.006708Z",
     "shell.execute_reply.started": "2023-02-06T22:59:44.006687Z"
    },
    "papermill": {
     "duration": 0.038851,
     "end_time": "2024-03-12T08:19:03.205745",
     "exception": false,
     "start_time": "2024-03-12T08:19:03.166894",
     "status": "completed"
    },
    "tags": []
   },
   "source": [
    "# Impute numericals"
   ]
  },
  {
   "cell_type": "code",
   "execution_count": 49,
   "id": "2b714193",
   "metadata": {
    "execution": {
     "iopub.execute_input": "2024-03-12T08:19:03.290150Z",
     "iopub.status.busy": "2024-03-12T08:19:03.289562Z",
     "iopub.status.idle": "2024-03-12T08:19:03.434234Z",
     "shell.execute_reply": "2024-03-12T08:19:03.431165Z"
    },
    "papermill": {
     "duration": 0.191359,
     "end_time": "2024-03-12T08:19:03.440041",
     "exception": false,
     "start_time": "2024-03-12T08:19:03.248682",
     "status": "completed"
    },
    "tags": []
   },
   "outputs": [],
   "source": [
    "# List of numerical columns\n",
    "num_cols = list(df.select_dtypes([np.number]).columns)\n",
    "\n",
    "# Impute numericals\n",
    "it_imp = IterativeImputer()\n",
    "\n",
    "df_num = pd.DataFrame(it_imp.fit_transform(df[num_cols]),\n",
    "                      columns=df[num_cols].columns)\n",
    "\n",
    "# Concatenate with encoded categorical columns\n",
    "df = pd.concat([df_cat, df_num], axis=1)"
   ]
  },
  {
   "cell_type": "markdown",
   "id": "80d7a020",
   "metadata": {
    "papermill": {
     "duration": 0.039561,
     "end_time": "2024-03-12T08:19:03.596559",
     "exception": false,
     "start_time": "2024-03-12T08:19:03.556998",
     "status": "completed"
    },
    "tags": []
   },
   "source": [
    "# Feature engineering"
   ]
  },
  {
   "cell_type": "code",
   "execution_count": 50,
   "id": "a74ff908",
   "metadata": {
    "execution": {
     "iopub.execute_input": "2024-03-12T08:19:03.673111Z",
     "iopub.status.busy": "2024-03-12T08:19:03.672597Z",
     "iopub.status.idle": "2024-03-12T08:19:03.684599Z",
     "shell.execute_reply": "2024-03-12T08:19:03.683153Z"
    },
    "papermill": {
     "duration": 0.052894,
     "end_time": "2024-03-12T08:19:03.687726",
     "exception": false,
     "start_time": "2024-03-12T08:19:03.634832",
     "status": "completed"
    },
    "tags": []
   },
   "outputs": [],
   "source": [
    "# Create a full data frame for analysis\n",
    "X = df[:X_max_index]\n",
    "full_df = pd.concat([X, y], axis=1)\n",
    "\n",
    "# Function for kde plotting\n",
    "def survive_chance_by(feature, xticks=None, xlim=None):\n",
    "    survived = full_df[full_df.Survived.eq(1)]\n",
    "    not_survived = full_df[full_df.Survived.eq(0)]\n",
    "\n",
    "    plt.figure(figsize=(10, 5))\n",
    "\n",
    "    survived[feature].plot(kind='kde', label='survived')\n",
    "    not_survived[feature].plot(kind='kde', label='not_survived')\n",
    "    \n",
    "    plt.xlim(xlim)\n",
    "    plt.xticks(xticks)\n",
    "    plt.legend()\n",
    "    plt.grid()\n",
    "    plt.xlabel(feature)\n",
    "    plt.show()"
   ]
  },
  {
   "cell_type": "markdown",
   "id": "60ca22d7",
   "metadata": {
    "execution": {
     "iopub.status.busy": "2023-02-06T22:59:44.021554Z",
     "iopub.status.idle": "2023-02-06T22:59:44.022458Z",
     "shell.execute_reply": "2023-02-06T22:59:44.022251Z",
     "shell.execute_reply.started": "2023-02-06T22:59:44.022224Z"
    },
    "papermill": {
     "duration": 0.038074,
     "end_time": "2024-03-12T08:19:03.764673",
     "exception": false,
     "start_time": "2024-03-12T08:19:03.726599",
     "status": "completed"
    },
    "tags": []
   },
   "source": [
    "# Create Age_group"
   ]
  },
  {
   "cell_type": "code",
   "execution_count": 51,
   "id": "34227fbe",
   "metadata": {
    "execution": {
     "iopub.execute_input": "2024-03-12T08:19:03.844625Z",
     "iopub.status.busy": "2024-03-12T08:19:03.843274Z",
     "iopub.status.idle": "2024-03-12T08:19:04.358733Z",
     "shell.execute_reply": "2024-03-12T08:19:04.356998Z"
    },
    "papermill": {
     "duration": 0.559434,
     "end_time": "2024-03-12T08:19:04.362643",
     "exception": false,
     "start_time": "2024-03-12T08:19:03.803209",
     "status": "completed"
    },
    "tags": []
   },
   "outputs": [
    {
     "data": {
      "image/png": "[encoded data removed]",
      "text/plain": [
       "<Figure size 1000x500 with 1 Axes>"
      ]
     },
     "metadata": {},
     "output_type": "display_data"
    }
   ],
   "source": [
    "# Survivers by Age\n",
    "survive_chance_by('Age', np.arange(0, 80, 5), (0, 80))"
   ]
  },
  {
   "cell_type": "markdown",
   "id": "2cea032b",
   "metadata": {
    "execution": {
     "iopub.execute_input": "2023-02-06T23:00:51.490531Z",
     "iopub.status.busy": "2023-02-06T23:00:51.489379Z",
     "iopub.status.idle": "2023-02-06T23:00:51.499884Z",
     "shell.execute_reply": "2023-02-06T23:00:51.497841Z",
     "shell.execute_reply.started": "2023-02-06T23:00:51.490487Z"
    },
    "papermill": {
     "duration": 0.036627,
     "end_time": "2024-03-12T08:19:04.438444",
     "exception": false,
     "start_time": "2024-03-12T08:19:04.401817",
     "status": "completed"
    },
    "tags": []
   },
   "source": [
    "By curves intersection points we can separate 5 age groups"
   ]
  },
  {
   "cell_type": "code",
   "execution_count": 52,
   "id": "2f65f3f7",
   "metadata": {
    "execution": {
     "iopub.execute_input": "2024-03-12T08:19:04.517471Z",
     "iopub.status.busy": "2024-03-12T08:19:04.516873Z",
     "iopub.status.idle": "2024-03-12T08:19:04.529099Z",
     "shell.execute_reply": "2024-03-12T08:19:04.527354Z"
    },
    "papermill": {
     "duration": 0.05569,
     "end_time": "2024-03-12T08:19:04.532687",
     "exception": false,
     "start_time": "2024-03-12T08:19:04.476997",
     "status": "completed"
    },
    "tags": []
   },
   "outputs": [],
   "source": [
    "df['Age_group'] = pd.cut(x=df.Age, labels=[5, 1, 4, 3, 2],\n",
    "                         bins=[-1, 15, 33, 45, 60, df.Age.max()]).astype('float')"
   ]
  },
  {
   "cell_type": "markdown",
   "id": "8b9d2e1a",
   "metadata": {
    "execution": {
     "iopub.status.busy": "2023-02-06T22:59:44.030628Z",
     "iopub.status.idle": "2023-02-06T22:59:44.031418Z",
     "shell.execute_reply": "2023-02-06T22:59:44.031221Z",
     "shell.execute_reply.started": "2023-02-06T22:59:44.031192Z"
    },
    "papermill": {
     "duration": 0.037902,
     "end_time": "2024-03-12T08:19:04.608818",
     "exception": false,
     "start_time": "2024-03-12T08:19:04.570916",
     "status": "completed"
    },
    "tags": []
   },
   "source": [
    "# Create Family_group"
   ]
  },
  {
   "cell_type": "code",
   "execution_count": 53,
   "id": "6835e89c",
   "metadata": {
    "execution": {
     "iopub.execute_input": "2024-03-12T08:19:04.688962Z",
     "iopub.status.busy": "2024-03-12T08:19:04.688408Z",
     "iopub.status.idle": "2024-03-12T08:19:05.318559Z",
     "shell.execute_reply": "2024-03-12T08:19:05.316712Z"
    },
    "papermill": {
     "duration": 0.674157,
     "end_time": "2024-03-12T08:19:05.321801",
     "exception": false,
     "start_time": "2024-03-12T08:19:04.647644",
     "status": "completed"
    },
    "tags": []
   },
   "outputs": [
    {
     "data": {
      "image/png": "[encoded data removed]",
      "text/plain": [
       "<Figure size 1000x500 with 1 Axes>"
      ]
     },
     "metadata": {},
     "output_type": "display_data"
    }
   ],
   "source": [
    "# Survivers by Family_size\n",
    "survive_chance_by('Family_size', np.arange(0, 10, 1), (0, 10))"
   ]
  },
  {
   "cell_type": "markdown",
   "id": "db85dad0",
   "metadata": {
    "execution": {
     "iopub.status.busy": "2023-02-06T23:00:51.508081Z",
     "iopub.status.idle": "2023-02-06T23:00:51.508891Z",
     "shell.execute_reply": "2023-02-06T23:00:51.508565Z",
     "shell.execute_reply.started": "2023-02-06T23:00:51.508529Z"
    },
    "papermill": {
     "duration": 0.039343,
     "end_time": "2024-03-12T08:19:05.400829",
     "exception": false,
     "start_time": "2024-03-12T08:19:05.361486",
     "status": "completed"
    },
    "tags": []
   },
   "source": [
    "Here we can separate 3 groups:\n",
    "\n",
    "    1. Single persons had lower chance to survive\n",
    "    2. 2-4 members families had higher chances, as they had some priority to safeboats with 1-2 children with them\n",
    "    3. 5 and more members families had almost equal chances"
   ]
  },
  {
   "cell_type": "code",
   "execution_count": 54,
   "id": "1f9b933b",
   "metadata": {
    "execution": {
     "iopub.execute_input": "2024-03-12T08:19:05.482053Z",
     "iopub.status.busy": "2024-03-12T08:19:05.481532Z",
     "iopub.status.idle": "2024-03-12T08:19:05.494457Z",
     "shell.execute_reply": "2024-03-12T08:19:05.492333Z"
    },
    "papermill": {
     "duration": 0.057648,
     "end_time": "2024-03-12T08:19:05.498229",
     "exception": false,
     "start_time": "2024-03-12T08:19:05.440581",
     "status": "completed"
    },
    "tags": []
   },
   "outputs": [],
   "source": [
    "# Create Family_group feature\n",
    "df['Family_group'] = pd.cut(x=df.Family_size, labels=[1, 3, 2], \n",
    "                            bins=[-1, 1, 4, df.Family_size.max()]).astype('float')"
   ]
  },
  {
   "cell_type": "markdown",
   "id": "648f0db6",
   "metadata": {
    "papermill": {
     "duration": 0.039794,
     "end_time": "2024-03-12T08:19:05.578808",
     "exception": false,
     "start_time": "2024-03-12T08:19:05.539014",
     "status": "completed"
    },
    "tags": []
   },
   "source": [
    "# Create Lucky_family\n",
    "To create this feature we analyse earlier created Family_survivers that used by itself would overfit the model"
   ]
  },
  {
   "cell_type": "code",
   "execution_count": 55,
   "id": "b204a979",
   "metadata": {
    "execution": {
     "iopub.execute_input": "2024-03-12T08:19:05.663116Z",
     "iopub.status.busy": "2024-03-12T08:19:05.662515Z",
     "iopub.status.idle": "2024-03-12T08:19:06.127055Z",
     "shell.execute_reply": "2024-03-12T08:19:06.125523Z"
    },
    "papermill": {
     "duration": 0.51101,
     "end_time": "2024-03-12T08:19:06.130766",
     "exception": false,
     "start_time": "2024-03-12T08:19:05.619756",
     "status": "completed"
    },
    "tags": []
   },
   "outputs": [
    {
     "data": {
      "image/png": "[encoded data removed]",
      "text/plain": [
       "<Figure size 1000x500 with 1 Axes>"
      ]
     },
     "metadata": {},
     "output_type": "display_data"
    }
   ],
   "source": [
    "# Survivers by Family_survivers\n",
    "survive_chance_by('Family_survivers', np.arange(0, 1, 0.1), (0, 1))"
   ]
  },
  {
   "cell_type": "markdown",
   "id": "cf71d442",
   "metadata": {
    "papermill": {
     "duration": 0.040103,
     "end_time": "2024-03-12T08:19:06.213962",
     "exception": false,
     "start_time": "2024-03-12T08:19:06.173859",
     "status": "completed"
    },
    "tags": []
   },
   "source": [
    "By curves intersection points we can separate 4 family groups with different chance to survive"
   ]
  },
  {
   "cell_type": "code",
   "execution_count": 56,
   "id": "2aada068",
   "metadata": {
    "execution": {
     "iopub.execute_input": "2024-03-12T08:19:06.300488Z",
     "iopub.status.busy": "2024-03-12T08:19:06.299587Z",
     "iopub.status.idle": "2024-03-12T08:19:06.310228Z",
     "shell.execute_reply": "2024-03-12T08:19:06.308961Z"
    },
    "papermill": {
     "duration": 0.057214,
     "end_time": "2024-03-12T08:19:06.313447",
     "exception": false,
     "start_time": "2024-03-12T08:19:06.256233",
     "status": "completed"
    },
    "tags": []
   },
   "outputs": [],
   "source": [
    "# Create Lucky_family feature\n",
    "df['Lucky_family'] = pd.cut(x=df.Family_survivers, labels=[2, 3, 1, 4],\n",
    "                            bins=[-1, 0.22, 0.35, 0.49, df.Family_survivers.max()]).astype('float')"
   ]
  },
  {
   "cell_type": "markdown",
   "id": "e9741bd4",
   "metadata": {
    "execution": {
     "iopub.status.busy": "2023-02-06T22:59:44.042968Z",
     "iopub.status.idle": "2023-02-06T22:59:44.043445Z",
     "shell.execute_reply": "2023-02-06T22:59:44.043231Z",
     "shell.execute_reply.started": "2023-02-06T22:59:44.04321Z"
    },
    "papermill": {
     "duration": 0.041352,
     "end_time": "2024-03-12T08:19:06.393170",
     "exception": false,
     "start_time": "2024-03-12T08:19:06.351818",
     "status": "completed"
    },
    "tags": []
   },
   "source": [
    "# Standardization"
   ]
  },
  {
   "cell_type": "code",
   "execution_count": 57,
   "id": "1c627186",
   "metadata": {
    "execution": {
     "iopub.execute_input": "2024-03-12T08:19:06.479368Z",
     "iopub.status.busy": "2024-03-12T08:19:06.478774Z",
     "iopub.status.idle": "2024-03-12T08:19:06.499203Z",
     "shell.execute_reply": "2024-03-12T08:19:06.497278Z"
    },
    "papermill": {
     "duration": 0.067881,
     "end_time": "2024-03-12T08:19:06.502637",
     "exception": false,
     "start_time": "2024-03-12T08:19:06.434756",
     "status": "completed"
    },
    "tags": []
   },
   "outputs": [],
   "source": [
    "# Apply np.log to normalize the skewed right Price\n",
    "df.Price = df.Price.apply(np.log1p)\n",
    "\n",
    "# Standardize \n",
    "std_scaler = StandardScaler()\n",
    "\n",
    "df_scaled = std_scaler.fit_transform(df)\n",
    "df = pd.DataFrame(df_scaled, columns=df.columns)"
   ]
  },
  {
   "cell_type": "code",
   "execution_count": 58,
   "id": "1889f9c9",
   "metadata": {
    "execution": {
     "iopub.execute_input": "2024-03-12T08:19:06.591924Z",
     "iopub.status.busy": "2024-03-12T08:19:06.589690Z",
     "iopub.status.idle": "2024-03-12T08:19:06.599892Z",
     "shell.execute_reply": "2024-03-12T08:19:06.598183Z"
    },
    "papermill": {
     "duration": 0.058224,
     "end_time": "2024-03-12T08:19:06.604168",
     "exception": false,
     "start_time": "2024-03-12T08:19:06.545944",
     "status": "completed"
    },
    "tags": []
   },
   "outputs": [],
   "source": [
    "# Drop features not used for modeling\n",
    "cols_to_drop = ['Family_survivers']\n",
    "df = df.drop(cols_to_drop, axis=1)"
   ]
  },
  {
   "cell_type": "markdown",
   "id": "7c882437",
   "metadata": {
    "execution": {
     "iopub.execute_input": "2023-02-06T23:01:18.326265Z",
     "iopub.status.busy": "2023-02-06T23:01:18.325562Z",
     "iopub.status.idle": "2023-02-06T23:01:18.338288Z",
     "shell.execute_reply": "2023-02-06T23:01:18.336437Z",
     "shell.execute_reply.started": "2023-02-06T23:01:18.326196Z"
    },
    "papermill": {
     "duration": 0.0395,
     "end_time": "2024-03-12T08:19:06.684532",
     "exception": false,
     "start_time": "2024-03-12T08:19:06.645032",
     "status": "completed"
    },
    "tags": []
   },
   "source": [
    "# Split train and test data"
   ]
  },
  {
   "cell_type": "code",
   "execution_count": 59,
   "id": "044421ea",
   "metadata": {
    "execution": {
     "iopub.execute_input": "2024-03-12T08:19:06.768939Z",
     "iopub.status.busy": "2024-03-12T08:19:06.767712Z",
     "iopub.status.idle": "2024-03-12T08:19:06.775607Z",
     "shell.execute_reply": "2024-03-12T08:19:06.774312Z"
    },
    "papermill": {
     "duration": 0.054472,
     "end_time": "2024-03-12T08:19:06.779216",
     "exception": false,
     "start_time": "2024-03-12T08:19:06.724744",
     "status": "completed"
    },
    "tags": []
   },
   "outputs": [],
   "source": [
    "X = df[:X_max_index]\n",
    "test_df = df[X_max_index:]"
   ]
  },
  {
   "cell_type": "markdown",
   "id": "57718223",
   "metadata": {
    "execution": {
     "iopub.status.busy": "2023-02-06T23:01:18.340647Z",
     "iopub.status.idle": "2023-02-06T23:01:18.341374Z",
     "shell.execute_reply": "2023-02-06T23:01:18.341057Z",
     "shell.execute_reply.started": "2023-02-06T23:01:18.341023Z"
    },
    "papermill": {
     "duration": 0.039626,
     "end_time": "2024-03-12T08:19:06.861497",
     "exception": false,
     "start_time": "2024-03-12T08:19:06.821871",
     "status": "completed"
    },
    "tags": []
   },
   "source": [
    "# Processed data correlation"
   ]
  },
  {
   "cell_type": "code",
   "execution_count": 60,
   "id": "f8f3b5a6",
   "metadata": {
    "execution": {
     "iopub.execute_input": "2024-03-12T08:19:06.949465Z",
     "iopub.status.busy": "2024-03-12T08:19:06.948369Z",
     "iopub.status.idle": "2024-03-12T08:19:07.468656Z",
     "shell.execute_reply": "2024-03-12T08:19:07.467009Z"
    },
    "papermill": {
     "duration": 0.568348,
     "end_time": "2024-03-12T08:19:07.472289",
     "exception": false,
     "start_time": "2024-03-12T08:19:06.903941",
     "status": "completed"
    },
    "tags": []
   },
   "outputs": [
    {
     "data": {
      "image/png": "[encoded data removed]",
      "text/plain": [
       "<Figure size 1000x500 with 1 Axes>"
      ]
     },
     "metadata": {},
     "output_type": "display_data"
    }
   ],
   "source": [
    "# Concatenate into a full dataset\n",
    "full_df = pd.concat([X, y], axis=1)\n",
    "\n",
    "correlation = full_df.corr()['Survived'].sort_values(ascending=False)\n",
    "\n",
    "# Correlation graph\n",
    "correlation[1:].plot(kind='bar', figsize=(10,5), title='Survivability dependency')\n",
    "plt.show()"
   ]
  },
  {
   "cell_type": "markdown",
   "id": "8751bf1d",
   "metadata": {
    "execution": {
     "iopub.status.busy": "2023-02-06T22:59:44.05844Z",
     "iopub.status.idle": "2023-02-06T22:59:44.058839Z",
     "shell.execute_reply": "2023-02-06T22:59:44.05867Z",
     "shell.execute_reply.started": "2023-02-06T22:59:44.058649Z"
    },
    "papermill": {
     "duration": 0.044062,
     "end_time": "2024-03-12T08:19:07.556572",
     "exception": false,
     "start_time": "2024-03-12T08:19:07.512510",
     "status": "completed"
    },
    "tags": []
   },
   "source": [
    "# Conclusion\n",
    "\n",
    "On the Titanic is better to not be an usual single adult male on a lower deck and embarked from Southampton with a cheap ticket in the pocket - RIP Jack Dawson :-("
   ]
  },
  {
   "cell_type": "markdown",
   "id": "b62ca7e4",
   "metadata": {
    "papermill": {
     "duration": 0.042435,
     "end_time": "2024-03-12T08:19:07.640738",
     "exception": false,
     "start_time": "2024-03-12T08:19:07.598303",
     "status": "completed"
    },
    "tags": []
   },
   "source": [
    "# CatBoost grid search parameter tuning\n",
    "This cell is commented out as it takes long time to run and the resulted parameters are shown further"
   ]
  },
  {
   "cell_type": "code",
   "execution_count": 61,
   "id": "6c661e5c",
   "metadata": {
    "execution": {
     "iopub.execute_input": "2024-03-12T08:19:07.728268Z",
     "iopub.status.busy": "2024-03-12T08:19:07.727043Z",
     "iopub.status.idle": "2024-03-12T08:19:07.733605Z",
     "shell.execute_reply": "2024-03-12T08:19:07.732281Z"
    },
    "papermill": {
     "duration": 0.054721,
     "end_time": "2024-03-12T08:19:07.737140",
     "exception": false,
     "start_time": "2024-03-12T08:19:07.682419",
     "status": "completed"
    },
    "tags": []
   },
   "outputs": [],
   "source": [
    "# # Define model\n",
    "# cat_model = CatBoostClassifier()\n",
    "\n",
    "# # Define parameters' grid\n",
    "# grid = {'verbose': [False],\n",
    "#         'thread_count': [-1],\n",
    "#         'depth': [3, 4, 5, 6],\n",
    "#         'iterations': [500, 1000, 2000, 3000],\n",
    "#         'learning_rate': [0.0001, 0.001, 0.01]}\n",
    "\n",
    "# # Define GridSearchCV\n",
    "# grid_cat = GridSearchCV(estimator=cat_model, param_grid=grid, cv=3, n_jobs=-1)\n",
    "# grid_cat.fit(X[final_features], y)\n",
    "\n",
    "# params = grid_cat.best_params_\n",
    "\n",
    "# print('\\n Best Score:\\n', grid_cat.best_score_)\n",
    "# print('\\n Best parameters:\\n', params)"
   ]
  },
  {
   "cell_type": "markdown",
   "id": "9e9f3086",
   "metadata": {
    "execution": {
     "iopub.status.busy": "2023-02-06T22:59:44.061203Z",
     "iopub.status.idle": "2023-02-06T22:59:44.061641Z",
     "shell.execute_reply": "2023-02-06T22:59:44.061463Z",
     "shell.execute_reply.started": "2023-02-06T22:59:44.061442Z"
    },
    "papermill": {
     "duration": 0.041448,
     "end_time": "2024-03-12T08:19:07.822582",
     "exception": false,
     "start_time": "2024-03-12T08:19:07.781134",
     "status": "completed"
    },
    "tags": []
   },
   "source": [
    "# CatBoost model"
   ]
  },
  {
   "cell_type": "code",
   "execution_count": 62,
   "id": "a25a7c73",
   "metadata": {
    "execution": {
     "iopub.execute_input": "2024-03-12T08:19:07.914076Z",
     "iopub.status.busy": "2024-03-12T08:19:07.912779Z",
     "iopub.status.idle": "2024-03-12T08:19:15.929838Z",
     "shell.execute_reply": "2024-03-12T08:19:15.928005Z"
    },
    "papermill": {
     "duration": 8.068816,
     "end_time": "2024-03-12T08:19:15.934536",
     "exception": false,
     "start_time": "2024-03-12T08:19:07.865720",
     "status": "completed"
    },
    "tags": []
   },
   "outputs": [
    {
     "name": "stdout",
     "output_type": "stream",
     "text": [
      "Best Testing Accuracy: 0.8811188811188811\n"
     ]
    }
   ],
   "source": [
    "import pandas as pd\n",
    "from sklearn.metrics import accuracy_score\n",
    "from sklearn.model_selection import StratifiedKFold\n",
    "from catboost import CatBoostClassifier\n",
    "import numpy as np\n",
    "import catboost\n",
    "from sklearn.model_selection import train_test_split\n",
    "\n",
    "# 假设你已经有一个 DataFrame df，其中 X_max_index 是分割数据的索引\n",
    "X = df.iloc[:X_max_index]\n",
    "test_df = df.iloc[X_max_index:]\n",
    "\n",
    "# 分割训练集和测试集\n",
    "X_train, X_test, y_train, y_test = train_test_split(X, y, test_size=0.2)\n",
    "\n",
    "# Set up CatBoost parameters\n",
    "catboost_params = {\n",
    "    'verbose': False,\n",
    "    'thread_count': -1,\n",
    "    'depth': 4, \n",
    "    'iterations': 1000, \n",
    "    'learning_rate': 0.0005,\n",
    "}\n",
    "\n",
    "# Perform cross-validation with CatBoost\n",
    "num_folds = 5\n",
    "kf = StratifiedKFold(n_splits=num_folds, shuffle=True, random_state=42)\n",
    "\n",
    "best_test_accuracy = 0\n",
    "best_test_predictions = []\n",
    "\n",
    "for train_index, test_index in kf.split(X_train, y_train):\n",
    "    X_train_fold, X_valid_fold = X_train.iloc[train_index], X_train.iloc[test_index]\n",
    "    y_train_fold, y_valid_fold = y_train.iloc[train_index], y_train.iloc[test_index]\n",
    "\n",
    "    # Create CatBoost datasets\n",
    "    train_data_fold = catboost.Pool(X_train_fold, label=y_train_fold)\n",
    "    valid_data_fold = catboost.Pool(X_valid_fold, label=y_valid_fold)\n",
    "\n",
    "    # Train the CatBoost model\n",
    "    model = CatBoostClassifier(**catboost_params)\n",
    "    model.fit(train_data_fold, eval_set=valid_data_fold, early_stopping_rounds=10)\n",
    "\n",
    "    # Make predictions on the validation set\n",
    "    valid_predictions_fold = model.predict(X_valid_fold)\n",
    "\n",
    "    # Calculate accuracy on the validation set\n",
    "    valid_accuracy_fold = accuracy_score(valid_predictions_fold, y_valid_fold)\n",
    "\n",
    "    # If the current model has a higher accuracy on the validation set, update the best model\n",
    "    if valid_accuracy_fold > best_test_accuracy:\n",
    "        best_test_accuracy = valid_accuracy_fold\n",
    "        best_test_predictions = model.predict(X_test)\n",
    "\n",
    "# Print best testing accuracy\n",
    "print(f'Best Testing Accuracy: {best_test_accuracy}')\n"
   ]
  },
  {
   "cell_type": "code",
   "execution_count": null,
   "id": "69eb981a",
   "metadata": {
    "papermill": {
     "duration": 0.042821,
     "end_time": "2024-03-12T08:19:16.019346",
     "exception": false,
     "start_time": "2024-03-12T08:19:15.976525",
     "status": "completed"
    },
    "tags": []
   },
   "outputs": [],
   "source": []
  },
  {
   "cell_type": "markdown",
   "id": "b26f598c",
   "metadata": {
    "execution": {
     "iopub.status.busy": "2023-02-06T22:59:44.065525Z",
     "iopub.status.idle": "2023-02-06T22:59:44.066348Z",
     "shell.execute_reply": "2023-02-06T22:59:44.066094Z",
     "shell.execute_reply.started": "2023-02-06T22:59:44.066054Z"
    },
    "papermill": {
     "duration": 0.047309,
     "end_time": "2024-03-12T08:19:16.111106",
     "exception": false,
     "start_time": "2024-03-12T08:19:16.063797",
     "status": "completed"
    },
    "tags": []
   },
   "source": [
    "# Submission"
   ]
  },
  {
   "cell_type": "code",
   "execution_count": 63,
   "id": "bcd2155c",
   "metadata": {
    "execution": {
     "iopub.execute_input": "2024-03-12T08:19:16.206865Z",
     "iopub.status.busy": "2024-03-12T08:19:16.206279Z",
     "iopub.status.idle": "2024-03-12T08:19:16.228114Z",
     "shell.execute_reply": "2024-03-12T08:19:16.226132Z"
    },
    "papermill": {
     "duration": 0.072742,
     "end_time": "2024-03-12T08:19:16.232047",
     "exception": false,
     "start_time": "2024-03-12T08:19:16.159305",
     "status": "completed"
    },
    "tags": []
   },
   "outputs": [],
   "source": [
    "# Make predictions which we will submit.\n",
    "test_preds = model.predict(test_df)\n",
    "\n",
    "# Save predictions in the format used for competition scoring\n",
    "output = pd.DataFrame({'PassengerId': test_pass_id,\n",
    "                       'Survived': test_preds})\n",
    "output.to_csv('submission_test.csv', index=False)"
   ]
  },
  {
   "cell_type": "code",
   "execution_count": null,
   "id": "57f46b8b",
   "metadata": {
    "papermill": {
     "duration": 0.046901,
     "end_time": "2024-03-12T08:19:16.325824",
     "exception": false,
     "start_time": "2024-03-12T08:19:16.278923",
     "status": "completed"
    },
    "tags": []
   },
   "outputs": [],
   "source": []
  },
  {
   "cell_type": "code",
   "execution_count": null,
   "id": "dcbbc9ac",
   "metadata": {
    "papermill": {
     "duration": 0.044475,
     "end_time": "2024-03-12T08:19:16.415343",
     "exception": false,
     "start_time": "2024-03-12T08:19:16.370868",
     "status": "completed"
    },
    "tags": []
   },
   "outputs": [],
   "source": []
  }
 ],
 "metadata": {
  "kaggle": {
   "accelerator": "none",
   "dataSources": [
    {
     "databundleVersionId": 26502,
     "sourceId": 3136,
     "sourceType": "competition"
    }
   ],
   "dockerImageVersionId": 30646,
   "isGpuEnabled": false,
   "isInternetEnabled": true,
   "language": "python",
   "sourceType": "notebook"
  },
  "kernelspec": {
   "display_name": "Python 3",
   "language": "python",
   "name": "python3"
  },
  "language_info": {
   "codemirror_mode": {
    "name": "ipython",
    "version": 3
   },
   "file_extension": ".py",
   "mimetype": "text/x-python",
   "name": "python",
   "nbconvert_exporter": "python",
   "pygments_lexer": "ipython3",
   "version": "3.12.2"
  },
  "papermill": {
   "default_parameters": {},
   "duration": 33.732925,
   "end_time": "2024-03-12T08:19:17.591199",
   "environment_variables": {},
   "exception": null,
   "input_path": "__notebook__.ipynb",
   "output_path": "__notebook__.ipynb",
   "parameters": {},
   "start_time": "2024-03-12T08:18:43.858274",
   "version": "2.5.0"
  }
 },
 "nbformat": 4,
 "nbformat_minor": 5
}

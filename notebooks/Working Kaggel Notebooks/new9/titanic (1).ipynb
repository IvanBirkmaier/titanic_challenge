{
 "cells": [
  {
   "cell_type": "code",
   "execution_count": 1,
   "id": "39e483a6",
   "metadata": {
    "_cell_guid": "b1076dfc-b9ad-4769-8c92-a6c4dae69d19",
    "_uuid": "8f2839f25d086af736a60e9eeb907d3b93b6e0e5",
    "execution": {
     "iopub.execute_input": "2024-01-25T03:21:07.178052Z",
     "iopub.status.busy": "2024-01-25T03:21:07.177049Z",
     "iopub.status.idle": "2024-01-25T03:21:08.503673Z",
     "shell.execute_reply": "2024-01-25T03:21:08.502559Z"
    },
    "papermill": {
     "duration": 1.335552,
     "end_time": "2024-01-25T03:21:08.506520",
     "exception": false,
     "start_time": "2024-01-25T03:21:07.170968",
     "status": "completed"
    },
    "tags": []
   },
   "outputs": [],
   "source": [
    "# This Python 3 environment comes with many helpful analytics libraries installed\n",
    "# It is defined by the kaggle/python Docker image: https://github.com/kaggle/docker-python\n",
    "# For example, here's several helpful packages to load\n",
    "\n",
    "import numpy as np # linear algebra\n",
    "import pandas as pd # data processing, CSV file I/O (e.g. pd.read_csv)\n",
    "\n",
    "# Input data files are available in the read-only \"../input/\" directory\n",
    "# For example, running this (by clicking run or pressing Shift+Enter) will list all files under the input directory\n",
    "\n",
    "import os\n",
    "for dirname, _, filenames in os.walk('/kaggle/input'):\n",
    "    for filename in filenames:\n",
    "        print(os.path.join(dirname, filename))\n",
    "\n",
    "# You can write up to 20GB to the current directory (/kaggle/working/) that gets preserved as output when you create a version using \"Save & Run All\" \n",
    "# You can also write temporary files to /kaggle/temp/, but they won't be saved outside of the current session"
   ]
  },
  {
   "cell_type": "markdown",
   "id": "9cb3770e",
   "metadata": {},
   "source": [
    "80.01 https://www.kaggle.com/code/jendoll/titanic/comments"
   ]
  },
  {
   "cell_type": "code",
   "execution_count": 2,
   "id": "fcd50e7b",
   "metadata": {
    "execution": {
     "iopub.execute_input": "2024-01-25T03:21:08.517594Z",
     "iopub.status.busy": "2024-01-25T03:21:08.517091Z",
     "iopub.status.idle": "2024-01-25T03:21:08.576922Z",
     "shell.execute_reply": "2024-01-25T03:21:08.575742Z"
    },
    "papermill": {
     "duration": 0.068086,
     "end_time": "2024-01-25T03:21:08.579539",
     "exception": false,
     "start_time": "2024-01-25T03:21:08.511453",
     "status": "completed"
    },
    "tags": []
   },
   "outputs": [
    {
     "data": {
      "text/html": [
       "<div>\n",
       "<style scoped>\n",
       "    .dataframe tbody tr th:only-of-type {\n",
       "        vertical-align: middle;\n",
       "    }\n",
       "\n",
       "    .dataframe tbody tr th {\n",
       "        vertical-align: top;\n",
       "    }\n",
       "\n",
       "    .dataframe thead th {\n",
       "        text-align: right;\n",
       "    }\n",
       "</style>\n",
       "<table border=\"1\" class=\"dataframe\">\n",
       "  <thead>\n",
       "    <tr style=\"text-align: right;\">\n",
       "      <th></th>\n",
       "      <th>PassengerId</th>\n",
       "      <th>Survived</th>\n",
       "      <th>Pclass</th>\n",
       "      <th>Name</th>\n",
       "      <th>Sex</th>\n",
       "      <th>Age</th>\n",
       "      <th>SibSp</th>\n",
       "      <th>Parch</th>\n",
       "      <th>Ticket</th>\n",
       "      <th>Fare</th>\n",
       "      <th>Cabin</th>\n",
       "      <th>Embarked</th>\n",
       "    </tr>\n",
       "  </thead>\n",
       "  <tbody>\n",
       "    <tr>\n",
       "      <th>0</th>\n",
       "      <td>1</td>\n",
       "      <td>0</td>\n",
       "      <td>3</td>\n",
       "      <td>Braund, Mr. Owen Harris</td>\n",
       "      <td>male</td>\n",
       "      <td>22.0</td>\n",
       "      <td>1</td>\n",
       "      <td>0</td>\n",
       "      <td>A/5 21171</td>\n",
       "      <td>7.2500</td>\n",
       "      <td>NaN</td>\n",
       "      <td>S</td>\n",
       "    </tr>\n",
       "    <tr>\n",
       "      <th>1</th>\n",
       "      <td>2</td>\n",
       "      <td>1</td>\n",
       "      <td>1</td>\n",
       "      <td>Cumings, Mrs. John Bradley (Florence Briggs Th...</td>\n",
       "      <td>female</td>\n",
       "      <td>38.0</td>\n",
       "      <td>1</td>\n",
       "      <td>0</td>\n",
       "      <td>PC 17599</td>\n",
       "      <td>71.2833</td>\n",
       "      <td>C85</td>\n",
       "      <td>C</td>\n",
       "    </tr>\n",
       "    <tr>\n",
       "      <th>2</th>\n",
       "      <td>3</td>\n",
       "      <td>1</td>\n",
       "      <td>3</td>\n",
       "      <td>Heikkinen, Miss. Laina</td>\n",
       "      <td>female</td>\n",
       "      <td>26.0</td>\n",
       "      <td>0</td>\n",
       "      <td>0</td>\n",
       "      <td>STON/O2. 3101282</td>\n",
       "      <td>7.9250</td>\n",
       "      <td>NaN</td>\n",
       "      <td>S</td>\n",
       "    </tr>\n",
       "    <tr>\n",
       "      <th>3</th>\n",
       "      <td>4</td>\n",
       "      <td>1</td>\n",
       "      <td>1</td>\n",
       "      <td>Futrelle, Mrs. Jacques Heath (Lily May Peel)</td>\n",
       "      <td>female</td>\n",
       "      <td>35.0</td>\n",
       "      <td>1</td>\n",
       "      <td>0</td>\n",
       "      <td>113803</td>\n",
       "      <td>53.1000</td>\n",
       "      <td>C123</td>\n",
       "      <td>S</td>\n",
       "    </tr>\n",
       "    <tr>\n",
       "      <th>4</th>\n",
       "      <td>5</td>\n",
       "      <td>0</td>\n",
       "      <td>3</td>\n",
       "      <td>Allen, Mr. William Henry</td>\n",
       "      <td>male</td>\n",
       "      <td>35.0</td>\n",
       "      <td>0</td>\n",
       "      <td>0</td>\n",
       "      <td>373450</td>\n",
       "      <td>8.0500</td>\n",
       "      <td>NaN</td>\n",
       "      <td>S</td>\n",
       "    </tr>\n",
       "  </tbody>\n",
       "</table>\n",
       "</div>"
      ],
      "text/plain": [
       "   PassengerId  Survived  Pclass  \\\n",
       "0            1         0       3   \n",
       "1            2         1       1   \n",
       "2            3         1       3   \n",
       "3            4         1       1   \n",
       "4            5         0       3   \n",
       "\n",
       "                                                Name     Sex   Age  SibSp  \\\n",
       "0                            Braund, Mr. Owen Harris    male  22.0      1   \n",
       "1  Cumings, Mrs. John Bradley (Florence Briggs Th...  female  38.0      1   \n",
       "2                             Heikkinen, Miss. Laina  female  26.0      0   \n",
       "3       Futrelle, Mrs. Jacques Heath (Lily May Peel)  female  35.0      1   \n",
       "4                           Allen, Mr. William Henry    male  35.0      0   \n",
       "\n",
       "   Parch            Ticket     Fare Cabin Embarked  \n",
       "0      0         A/5 21171   7.2500   NaN        S  \n",
       "1      0          PC 17599  71.2833   C85        C  \n",
       "2      0  STON/O2. 3101282   7.9250   NaN        S  \n",
       "3      0            113803  53.1000  C123        S  \n",
       "4      0            373450   8.0500   NaN        S  "
      ]
     },
     "execution_count": 2,
     "metadata": {},
     "output_type": "execute_result"
    }
   ],
   "source": [
    "train_data = pd.read_csv(\"train.csv\")\n",
    "train_data.head()"
   ]
  },
  {
   "cell_type": "code",
   "execution_count": 3,
   "id": "82e855c0",
   "metadata": {
    "execution": {
     "iopub.execute_input": "2024-01-25T03:21:08.590514Z",
     "iopub.status.busy": "2024-01-25T03:21:08.590166Z",
     "iopub.status.idle": "2024-01-25T03:21:08.613990Z",
     "shell.execute_reply": "2024-01-25T03:21:08.612941Z"
    },
    "papermill": {
     "duration": 0.031875,
     "end_time": "2024-01-25T03:21:08.616307",
     "exception": false,
     "start_time": "2024-01-25T03:21:08.584432",
     "status": "completed"
    },
    "tags": []
   },
   "outputs": [
    {
     "data": {
      "text/html": [
       "<div>\n",
       "<style scoped>\n",
       "    .dataframe tbody tr th:only-of-type {\n",
       "        vertical-align: middle;\n",
       "    }\n",
       "\n",
       "    .dataframe tbody tr th {\n",
       "        vertical-align: top;\n",
       "    }\n",
       "\n",
       "    .dataframe thead th {\n",
       "        text-align: right;\n",
       "    }\n",
       "</style>\n",
       "<table border=\"1\" class=\"dataframe\">\n",
       "  <thead>\n",
       "    <tr style=\"text-align: right;\">\n",
       "      <th></th>\n",
       "      <th>PassengerId</th>\n",
       "      <th>Pclass</th>\n",
       "      <th>Name</th>\n",
       "      <th>Sex</th>\n",
       "      <th>Age</th>\n",
       "      <th>SibSp</th>\n",
       "      <th>Parch</th>\n",
       "      <th>Ticket</th>\n",
       "      <th>Fare</th>\n",
       "      <th>Cabin</th>\n",
       "      <th>Embarked</th>\n",
       "    </tr>\n",
       "  </thead>\n",
       "  <tbody>\n",
       "    <tr>\n",
       "      <th>0</th>\n",
       "      <td>892</td>\n",
       "      <td>3</td>\n",
       "      <td>Kelly, Mr. James</td>\n",
       "      <td>male</td>\n",
       "      <td>34.5</td>\n",
       "      <td>0</td>\n",
       "      <td>0</td>\n",
       "      <td>330911</td>\n",
       "      <td>7.8292</td>\n",
       "      <td>NaN</td>\n",
       "      <td>Q</td>\n",
       "    </tr>\n",
       "    <tr>\n",
       "      <th>1</th>\n",
       "      <td>893</td>\n",
       "      <td>3</td>\n",
       "      <td>Wilkes, Mrs. James (Ellen Needs)</td>\n",
       "      <td>female</td>\n",
       "      <td>47.0</td>\n",
       "      <td>1</td>\n",
       "      <td>0</td>\n",
       "      <td>363272</td>\n",
       "      <td>7.0000</td>\n",
       "      <td>NaN</td>\n",
       "      <td>S</td>\n",
       "    </tr>\n",
       "    <tr>\n",
       "      <th>2</th>\n",
       "      <td>894</td>\n",
       "      <td>2</td>\n",
       "      <td>Myles, Mr. Thomas Francis</td>\n",
       "      <td>male</td>\n",
       "      <td>62.0</td>\n",
       "      <td>0</td>\n",
       "      <td>0</td>\n",
       "      <td>240276</td>\n",
       "      <td>9.6875</td>\n",
       "      <td>NaN</td>\n",
       "      <td>Q</td>\n",
       "    </tr>\n",
       "    <tr>\n",
       "      <th>3</th>\n",
       "      <td>895</td>\n",
       "      <td>3</td>\n",
       "      <td>Wirz, Mr. Albert</td>\n",
       "      <td>male</td>\n",
       "      <td>27.0</td>\n",
       "      <td>0</td>\n",
       "      <td>0</td>\n",
       "      <td>315154</td>\n",
       "      <td>8.6625</td>\n",
       "      <td>NaN</td>\n",
       "      <td>S</td>\n",
       "    </tr>\n",
       "    <tr>\n",
       "      <th>4</th>\n",
       "      <td>896</td>\n",
       "      <td>3</td>\n",
       "      <td>Hirvonen, Mrs. Alexander (Helga E Lindqvist)</td>\n",
       "      <td>female</td>\n",
       "      <td>22.0</td>\n",
       "      <td>1</td>\n",
       "      <td>1</td>\n",
       "      <td>3101298</td>\n",
       "      <td>12.2875</td>\n",
       "      <td>NaN</td>\n",
       "      <td>S</td>\n",
       "    </tr>\n",
       "  </tbody>\n",
       "</table>\n",
       "</div>"
      ],
      "text/plain": [
       "   PassengerId  Pclass                                          Name     Sex  \\\n",
       "0          892       3                              Kelly, Mr. James    male   \n",
       "1          893       3              Wilkes, Mrs. James (Ellen Needs)  female   \n",
       "2          894       2                     Myles, Mr. Thomas Francis    male   \n",
       "3          895       3                              Wirz, Mr. Albert    male   \n",
       "4          896       3  Hirvonen, Mrs. Alexander (Helga E Lindqvist)  female   \n",
       "\n",
       "    Age  SibSp  Parch   Ticket     Fare Cabin Embarked  \n",
       "0  34.5      0      0   330911   7.8292   NaN        Q  \n",
       "1  47.0      1      0   363272   7.0000   NaN        S  \n",
       "2  62.0      0      0   240276   9.6875   NaN        Q  \n",
       "3  27.0      0      0   315154   8.6625   NaN        S  \n",
       "4  22.0      1      1  3101298  12.2875   NaN        S  "
      ]
     },
     "execution_count": 3,
     "metadata": {},
     "output_type": "execute_result"
    }
   ],
   "source": [
    "test_data = pd.read_csv(\"test.csv\")\n",
    "test_data.head()"
   ]
  },
  {
   "cell_type": "code",
   "execution_count": 4,
   "id": "4d815d9e",
   "metadata": {
    "execution": {
     "iopub.execute_input": "2024-01-25T03:21:08.628044Z",
     "iopub.status.busy": "2024-01-25T03:21:08.627725Z",
     "iopub.status.idle": "2024-01-25T03:21:08.640891Z",
     "shell.execute_reply": "2024-01-25T03:21:08.639975Z"
    },
    "papermill": {
     "duration": 0.021634,
     "end_time": "2024-01-25T03:21:08.643082",
     "exception": false,
     "start_time": "2024-01-25T03:21:08.621448",
     "status": "completed"
    },
    "tags": []
   },
   "outputs": [
    {
     "name": "stdout",
     "output_type": "stream",
     "text": [
      "0.7420382165605095\n"
     ]
    }
   ],
   "source": [
    "women = train_data.loc[train_data.Sex == 'female']['Survived']\n",
    "women_survivors = women.sum()\n",
    "print(women_survivors/women.count())\n"
   ]
  },
  {
   "cell_type": "code",
   "execution_count": 5,
   "id": "3bf9f4de",
   "metadata": {
    "execution": {
     "iopub.execute_input": "2024-01-25T03:21:08.654290Z",
     "iopub.status.busy": "2024-01-25T03:21:08.653951Z",
     "iopub.status.idle": "2024-01-25T03:21:10.425041Z",
     "shell.execute_reply": "2024-01-25T03:21:10.424190Z"
    },
    "papermill": {
     "duration": 1.779251,
     "end_time": "2024-01-25T03:21:10.427364",
     "exception": false,
     "start_time": "2024-01-25T03:21:08.648113",
     "status": "completed"
    },
    "tags": []
   },
   "outputs": [],
   "source": [
    "from sklearn.model_selection import train_test_split\n",
    "y = train_data[\"Survived\"]\n",
    "\n",
    "features = [\"Pclass\", \"Sex\", \"SibSp\", \"Parch\", \"Age\", \"Fare\", \"Embarked\"]\n",
    "X = pd.get_dummies(train_data[features])\n",
    "X_test = pd.get_dummies(test_data[features])\n",
    "\n",
    "train_X, val_X, train_y, val_y = train_test_split(X,y, random_state=0)\n",
    "\n",
    "\n",
    "\n"
   ]
  },
  {
   "cell_type": "code",
   "execution_count": 6,
   "id": "da9eefe6",
   "metadata": {
    "execution": {
     "iopub.execute_input": "2024-01-25T03:21:10.439290Z",
     "iopub.status.busy": "2024-01-25T03:21:10.438528Z",
     "iopub.status.idle": "2024-01-25T03:21:10.913945Z",
     "shell.execute_reply": "2024-01-25T03:21:10.913020Z"
    },
    "papermill": {
     "duration": 0.483855,
     "end_time": "2024-01-25T03:21:10.916572",
     "exception": false,
     "start_time": "2024-01-25T03:21:10.432717",
     "status": "completed"
    },
    "tags": []
   },
   "outputs": [],
   "source": [
    "from sklearn.ensemble import RandomForestClassifier\n",
    "from sklearn.metrics import mean_absolute_error\n",
    "\n",
    "def get_mae(n_estimators, max_depth, random_state, train_X, val_X, train_y, val_y):\n",
    "    model = RandomForestClassifier(n_estimators=n_estimators, max_depth=max_depth, random_state=random_state)\n",
    "    model.fit(train_X, train_y)\n",
    "    preds_val = model.predict(val_X)\n",
    "    mae = mean_absolute_error(val_y, preds_val)\n",
    "    return(mae)"
   ]
  },
  {
   "cell_type": "code",
   "execution_count": 7,
   "id": "b7991e5d",
   "metadata": {
    "execution": {
     "iopub.execute_input": "2024-01-25T03:21:10.928070Z",
     "iopub.status.busy": "2024-01-25T03:21:10.927716Z",
     "iopub.status.idle": "2024-01-25T03:21:10.949348Z",
     "shell.execute_reply": "2024-01-25T03:21:10.948623Z"
    },
    "papermill": {
     "duration": 0.029622,
     "end_time": "2024-01-25T03:21:10.951320",
     "exception": false,
     "start_time": "2024-01-25T03:21:10.921698",
     "status": "completed"
    },
    "tags": []
   },
   "outputs": [],
   "source": [
    "from sklearn.impute import SimpleImputer\n",
    "\n",
    "my_imputer = SimpleImputer()\n",
    "final_X_train = pd.DataFrame(my_imputer.fit_transform(train_X))\n",
    "final_X_valid = pd.DataFrame(my_imputer.transform(val_X))"
   ]
  },
  {
   "cell_type": "code",
   "execution_count": null,
   "id": "5ada0d8e",
   "metadata": {
    "papermill": {
     "duration": 0.004109,
     "end_time": "2024-01-25T03:21:10.959991",
     "exception": false,
     "start_time": "2024-01-25T03:21:10.955882",
     "status": "completed"
    },
    "tags": []
   },
   "outputs": [],
   "source": []
  },
  {
   "cell_type": "code",
   "execution_count": 8,
   "id": "57f4dc2d",
   "metadata": {
    "execution": {
     "iopub.execute_input": "2024-01-25T03:21:10.970045Z",
     "iopub.status.busy": "2024-01-25T03:21:10.969752Z",
     "iopub.status.idle": "2024-01-25T03:21:21.166060Z",
     "shell.execute_reply": "2024-01-25T03:21:21.165064Z"
    },
    "papermill": {
     "duration": 10.204182,
     "end_time": "2024-01-25T03:21:21.168664",
     "exception": false,
     "start_time": "2024-01-25T03:21:10.964482",
     "status": "completed"
    },
    "tags": []
   },
   "outputs": [
    {
     "name": "stdout",
     "output_type": "stream",
     "text": [
      "No. Estimators: 100 \n",
      " Max Depth: 7 \n",
      " Random State: 3 Mean Absolute Error: 0.14798206278026907\n"
     ]
    }
   ],
   "source": [
    "n_estimators_list = [100,150,200]\n",
    "max_depth_list = [6,7,8]\n",
    "random_state_list = [3,4,5]\n",
    "mae_list = []\n",
    "for n_estimators in n_estimators_list:\n",
    "    for max_depth in max_depth_list:\n",
    "        for random_state in random_state_list:\n",
    "            mae = get_mae(n_estimators, max_depth, random_state, final_X_train, final_X_valid, train_y, val_y)\n",
    "            #print(f'No. Estimators: {n_estimators} \\t Max Depth: {max_depth} \\t Mean Absolute Error: {mae}')\n",
    "            mae_list.append([n_estimators, max_depth, random_state, mae])\n",
    "best_result = min(mae_list, key=lambda x:x[3])\n",
    "print(f\"No. Estimators: {best_result[0]} \\n Max Depth: {best_result[1]} \\n Random State: {best_result[2]} Mean Absolute Error: {best_result[3]}\")"
   ]
  },
  {
   "cell_type": "code",
   "execution_count": 9,
   "id": "81921cf7",
   "metadata": {
    "execution": {
     "iopub.execute_input": "2024-01-25T03:21:21.180115Z",
     "iopub.status.busy": "2024-01-25T03:21:21.179833Z",
     "iopub.status.idle": "2024-01-25T03:21:21.449164Z",
     "shell.execute_reply": "2024-01-25T03:21:21.448410Z"
    },
    "papermill": {
     "duration": 0.277323,
     "end_time": "2024-01-25T03:21:21.451246",
     "exception": false,
     "start_time": "2024-01-25T03:21:21.173923",
     "status": "completed"
    },
    "tags": []
   },
   "outputs": [],
   "source": [
    "#Final Model\n",
    "model = RandomForestClassifier(n_estimators=best_result[0], max_depth=best_result[1], random_state=best_result[2])\n",
    "model.fit(final_X_train,train_y)\n",
    "final_X_test = pd.DataFrame(my_imputer.fit_transform(X_test))\n",
    "predictions = model.predict(final_X_test)"
   ]
  },
  {
   "cell_type": "code",
   "execution_count": 10,
   "id": "4ed96e1d",
   "metadata": {
    "execution": {
     "iopub.execute_input": "2024-01-25T03:21:21.461914Z",
     "iopub.status.busy": "2024-01-25T03:21:21.461627Z",
     "iopub.status.idle": "2024-01-25T03:21:21.471147Z",
     "shell.execute_reply": "2024-01-25T03:21:21.470197Z"
    },
    "papermill": {
     "duration": 0.016979,
     "end_time": "2024-01-25T03:21:21.473092",
     "exception": false,
     "start_time": "2024-01-25T03:21:21.456113",
     "status": "completed"
    },
    "tags": []
   },
   "outputs": [
    {
     "name": "stdout",
     "output_type": "stream",
     "text": [
      "Your submission was successfully saved!\n"
     ]
    }
   ],
   "source": [
    "output = pd.DataFrame({'PassengerId': test_data.PassengerId, 'Survived': predictions})\n",
    "output.to_csv('submission_test.csv', index=False)\n",
    "print(\"Your submission was successfully saved!\")"
   ]
  }
 ],
 "metadata": {
  "kaggle": {
   "accelerator": "nvidiaTeslaT4",
   "dataSources": [
    {
     "databundleVersionId": 26502,
     "sourceId": 3136,
     "sourceType": "competition"
    }
   ],
   "dockerImageVersionId": 30636,
   "isGpuEnabled": true,
   "isInternetEnabled": true,
   "language": "python",
   "sourceType": "notebook"
  },
  "kernelspec": {
   "display_name": "Python 3",
   "language": "python",
   "name": "python3"
  },
  "language_info": {
   "codemirror_mode": {
    "name": "ipython",
    "version": 3
   },
   "file_extension": ".py",
   "mimetype": "text/x-python",
   "name": "python",
   "nbconvert_exporter": "python",
   "pygments_lexer": "ipython3",
   "version": "3.12.2"
  },
  "papermill": {
   "default_parameters": {},
   "duration": 19.645766,
   "end_time": "2024-01-25T03:21:21.895932",
   "environment_variables": {},
   "exception": null,
   "input_path": "__notebook__.ipynb",
   "output_path": "__notebook__.ipynb",
   "parameters": {},
   "start_time": "2024-01-25T03:21:02.250166",
   "version": "2.4.0"
  }
 },
 "nbformat": 4,
 "nbformat_minor": 5
}

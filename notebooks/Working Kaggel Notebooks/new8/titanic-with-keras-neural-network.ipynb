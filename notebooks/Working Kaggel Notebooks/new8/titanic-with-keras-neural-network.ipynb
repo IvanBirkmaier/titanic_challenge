{
 "cells": [
  {
   "cell_type": "markdown",
   "id": "aa0355e2",
   "metadata": {
    "papermill": {
     "duration": 0.007645,
     "end_time": "2024-02-01T02:22:22.554632",
     "exception": false,
     "start_time": "2024-02-01T02:22:22.546987",
     "status": "completed"
    },
    "tags": []
   },
   "source": [
    "# Titanic Survival Prediction"
   ]
  },
  {
   "cell_type": "markdown",
   "id": "dac2659b",
   "metadata": {
    "papermill": {
     "duration": 0.006691,
     "end_time": "2024-02-01T02:22:22.568385",
     "exception": false,
     "start_time": "2024-02-01T02:22:22.561694",
     "status": "completed"
    },
    "tags": []
   },
   "source": [
    "This project is Part 2 of my 'Titanic survival prediction' project. \n",
    "\n",
    "The result from part 1, I found that the best model is **Random Forest and eXtream Gradient Boosting Model** with public score 0.8062.\n",
    "\n",
    "The goal of part 2, I will try to Build a **Tensor Flow Keras Sequential Model** and see what the result is.\n",
    "\n",
    "\n",
    "The contents of this part, I will have a quick data cleaning and feature engineering. \n",
    "\n",
    "I will skip the part of data visualisation. \n",
    "\n",
    "If you want to see more details of all data preprocessing, you can go to my Titanic part 1 as link below:\n",
    "\n",
    "https://www.kaggle.com/code/kamalapousajja/titanic-survival-prediction-top4-score-0-8062\n",
    "\n",
    "Now Let's start to create Neural Network with Keras. "
   ]
  },
  {
   "cell_type": "markdown",
   "id": "8274313d",
   "metadata": {},
   "source": [
    "79.01 schlecht\n"
   ]
  },
  {
   "cell_type": "code",
   "execution_count": 1,
   "id": "8ae26e5d",
   "metadata": {
    "execution": {
     "iopub.execute_input": "2024-02-01T02:22:22.583927Z",
     "iopub.status.busy": "2024-02-01T02:22:22.583533Z",
     "iopub.status.idle": "2024-02-01T02:22:37.846421Z",
     "shell.execute_reply": "2024-02-01T02:22:37.845463Z"
    },
    "papermill": {
     "duration": 15.273639,
     "end_time": "2024-02-01T02:22:37.848958",
     "exception": false,
     "start_time": "2024-02-01T02:22:22.575319",
     "status": "completed"
    },
    "tags": []
   },
   "outputs": [],
   "source": [
    "# Import Libraries\n",
    "import numpy as np \n",
    "import pandas as pd \n",
    "import seaborn as sns\n",
    "\n",
    "# Visualisation\n",
    "import matplotlib.pyplot as plt\n",
    "import seaborn as sns\n",
    "%matplotlib inline\n",
    "\n",
    "# Data Preprocessing\n",
    "from sklearn.model_selection import train_test_split\n",
    "from sklearn.preprocessing import StandardScaler, MinMaxScaler\n",
    "from sklearn.preprocessing import OneHotEncoder, LabelEncoder\n",
    "from sklearn import metrics \n",
    "from sklearn.metrics import confusion_matrix,classification_report \n",
    "from sklearn.model_selection import cross_val_score,cross_val_predict\n",
    "from sklearn.model_selection import learning_curve\n",
    "from sklearn.model_selection import KFold,StratifiedShuffleSplit,StratifiedKFold\n",
    "\n",
    "# Import the necessary Keras functions\n",
    "import tensorflow as tf\n",
    "from tensorflow.keras.callbacks import EarlyStopping\n",
    "from sklearn.model_selection import GridSearchCV\n",
    "from tensorflow.keras.models import Sequential\n",
    "from tensorflow.keras.layers import Dense, Activation,Dropout\n",
    "from tensorflow.keras.constraints import max_norm\n",
    "from keras.layers import Dense, Activation, Dropout, Flatten, Conv2D,MaxPool2D\n",
    "\n",
    "# Warnings\n",
    "import warnings\n",
    "warnings.filterwarnings(\"ignore\")"
   ]
  },
  {
   "cell_type": "code",
   "execution_count": 2,
   "id": "10a65a30",
   "metadata": {
    "execution": {
     "iopub.execute_input": "2024-02-01T02:22:37.865492Z",
     "iopub.status.busy": "2024-02-01T02:22:37.864837Z",
     "iopub.status.idle": "2024-02-01T02:22:37.900007Z",
     "shell.execute_reply": "2024-02-01T02:22:37.898714Z"
    },
    "papermill": {
     "duration": 0.045914,
     "end_time": "2024-02-01T02:22:37.902312",
     "exception": false,
     "start_time": "2024-02-01T02:22:37.856398",
     "status": "completed"
    },
    "tags": []
   },
   "outputs": [],
   "source": [
    "# Read the data\n",
    "\n",
    "train = pd.read_csv('train.csv')\n",
    "test = pd.read_csv('test.csv')\n",
    "#sample_submission = pd.read_csv('/kaggle/input/titanic/gender_submission.csv')"
   ]
  },
  {
   "cell_type": "code",
   "execution_count": 3,
   "id": "48086991",
   "metadata": {
    "execution": {
     "iopub.execute_input": "2024-02-01T02:22:37.919966Z",
     "iopub.status.busy": "2024-02-01T02:22:37.919305Z",
     "iopub.status.idle": "2024-02-01T02:22:37.959689Z",
     "shell.execute_reply": "2024-02-01T02:22:37.958613Z"
    },
    "papermill": {
     "duration": 0.052452,
     "end_time": "2024-02-01T02:22:37.962140",
     "exception": false,
     "start_time": "2024-02-01T02:22:37.909688",
     "status": "completed"
    },
    "tags": []
   },
   "outputs": [
    {
     "data": {
      "text/html": [
       "<div>\n",
       "<style scoped>\n",
       "    .dataframe tbody tr th:only-of-type {\n",
       "        vertical-align: middle;\n",
       "    }\n",
       "\n",
       "    .dataframe tbody tr th {\n",
       "        vertical-align: top;\n",
       "    }\n",
       "\n",
       "    .dataframe thead th {\n",
       "        text-align: right;\n",
       "    }\n",
       "</style>\n",
       "<table border=\"1\" class=\"dataframe\">\n",
       "  <thead>\n",
       "    <tr style=\"text-align: right;\">\n",
       "      <th></th>\n",
       "      <th>PassengerId</th>\n",
       "      <th>Survived</th>\n",
       "      <th>Pclass</th>\n",
       "      <th>Name</th>\n",
       "      <th>Sex</th>\n",
       "      <th>Age</th>\n",
       "      <th>SibSp</th>\n",
       "      <th>Parch</th>\n",
       "      <th>Ticket</th>\n",
       "      <th>Fare</th>\n",
       "      <th>Cabin</th>\n",
       "      <th>Embarked</th>\n",
       "    </tr>\n",
       "  </thead>\n",
       "  <tbody>\n",
       "    <tr>\n",
       "      <th>0</th>\n",
       "      <td>1</td>\n",
       "      <td>0.0</td>\n",
       "      <td>3</td>\n",
       "      <td>Braund, Mr. Owen Harris</td>\n",
       "      <td>male</td>\n",
       "      <td>22.0</td>\n",
       "      <td>1</td>\n",
       "      <td>0</td>\n",
       "      <td>A/5 21171</td>\n",
       "      <td>7.2500</td>\n",
       "      <td>NaN</td>\n",
       "      <td>S</td>\n",
       "    </tr>\n",
       "    <tr>\n",
       "      <th>1</th>\n",
       "      <td>2</td>\n",
       "      <td>1.0</td>\n",
       "      <td>1</td>\n",
       "      <td>Cumings, Mrs. John Bradley (Florence Briggs Th...</td>\n",
       "      <td>female</td>\n",
       "      <td>38.0</td>\n",
       "      <td>1</td>\n",
       "      <td>0</td>\n",
       "      <td>PC 17599</td>\n",
       "      <td>71.2833</td>\n",
       "      <td>C85</td>\n",
       "      <td>C</td>\n",
       "    </tr>\n",
       "    <tr>\n",
       "      <th>2</th>\n",
       "      <td>3</td>\n",
       "      <td>1.0</td>\n",
       "      <td>3</td>\n",
       "      <td>Heikkinen, Miss. Laina</td>\n",
       "      <td>female</td>\n",
       "      <td>26.0</td>\n",
       "      <td>0</td>\n",
       "      <td>0</td>\n",
       "      <td>STON/O2. 3101282</td>\n",
       "      <td>7.9250</td>\n",
       "      <td>NaN</td>\n",
       "      <td>S</td>\n",
       "    </tr>\n",
       "    <tr>\n",
       "      <th>3</th>\n",
       "      <td>4</td>\n",
       "      <td>1.0</td>\n",
       "      <td>1</td>\n",
       "      <td>Futrelle, Mrs. Jacques Heath (Lily May Peel)</td>\n",
       "      <td>female</td>\n",
       "      <td>35.0</td>\n",
       "      <td>1</td>\n",
       "      <td>0</td>\n",
       "      <td>113803</td>\n",
       "      <td>53.1000</td>\n",
       "      <td>C123</td>\n",
       "      <td>S</td>\n",
       "    </tr>\n",
       "    <tr>\n",
       "      <th>4</th>\n",
       "      <td>5</td>\n",
       "      <td>0.0</td>\n",
       "      <td>3</td>\n",
       "      <td>Allen, Mr. William Henry</td>\n",
       "      <td>male</td>\n",
       "      <td>35.0</td>\n",
       "      <td>0</td>\n",
       "      <td>0</td>\n",
       "      <td>373450</td>\n",
       "      <td>8.0500</td>\n",
       "      <td>NaN</td>\n",
       "      <td>S</td>\n",
       "    </tr>\n",
       "  </tbody>\n",
       "</table>\n",
       "</div>"
      ],
      "text/plain": [
       "   PassengerId  Survived  Pclass  \\\n",
       "0            1       0.0       3   \n",
       "1            2       1.0       1   \n",
       "2            3       1.0       3   \n",
       "3            4       1.0       1   \n",
       "4            5       0.0       3   \n",
       "\n",
       "                                                Name     Sex   Age  SibSp  \\\n",
       "0                            Braund, Mr. Owen Harris    male  22.0      1   \n",
       "1  Cumings, Mrs. John Bradley (Florence Briggs Th...  female  38.0      1   \n",
       "2                             Heikkinen, Miss. Laina  female  26.0      0   \n",
       "3       Futrelle, Mrs. Jacques Heath (Lily May Peel)  female  35.0      1   \n",
       "4                           Allen, Mr. William Henry    male  35.0      0   \n",
       "\n",
       "   Parch            Ticket     Fare Cabin Embarked  \n",
       "0      0         A/5 21171   7.2500   NaN        S  \n",
       "1      0          PC 17599  71.2833   C85        C  \n",
       "2      0  STON/O2. 3101282   7.9250   NaN        S  \n",
       "3      0            113803  53.1000  C123        S  \n",
       "4      0            373450   8.0500   NaN        S  "
      ]
     },
     "execution_count": 3,
     "metadata": {},
     "output_type": "execute_result"
    }
   ],
   "source": [
    "# Merge train and test datasets \n",
    "\n",
    "all_data = pd.concat([train,test])\n",
    "\n",
    "all_data.head()"
   ]
  },
  {
   "cell_type": "markdown",
   "id": "e232b85e",
   "metadata": {
    "papermill": {
     "duration": 0.007672,
     "end_time": "2024-02-01T02:22:37.978220",
     "exception": false,
     "start_time": "2024-02-01T02:22:37.970548",
     "status": "completed"
    },
    "tags": []
   },
   "source": [
    "# Data Cleaning"
   ]
  },
  {
   "cell_type": "code",
   "execution_count": 4,
   "id": "96313f4b",
   "metadata": {
    "execution": {
     "iopub.execute_input": "2024-02-01T02:22:37.995815Z",
     "iopub.status.busy": "2024-02-01T02:22:37.995092Z",
     "iopub.status.idle": "2024-02-01T02:22:38.038379Z",
     "shell.execute_reply": "2024-02-01T02:22:38.037066Z"
    },
    "papermill": {
     "duration": 0.054535,
     "end_time": "2024-02-01T02:22:38.040489",
     "exception": false,
     "start_time": "2024-02-01T02:22:37.985954",
     "status": "completed"
    },
    "tags": []
   },
   "outputs": [
    {
     "data": {
      "text/html": [
       "<div>\n",
       "<style scoped>\n",
       "    .dataframe tbody tr th:only-of-type {\n",
       "        vertical-align: middle;\n",
       "    }\n",
       "\n",
       "    .dataframe tbody tr th {\n",
       "        vertical-align: top;\n",
       "    }\n",
       "\n",
       "    .dataframe thead th {\n",
       "        text-align: right;\n",
       "    }\n",
       "</style>\n",
       "<table border=\"1\" class=\"dataframe\">\n",
       "  <thead>\n",
       "    <tr style=\"text-align: right;\">\n",
       "      <th>Title</th>\n",
       "      <th>Master</th>\n",
       "      <th>Miss</th>\n",
       "      <th>Mr</th>\n",
       "      <th>Mrs</th>\n",
       "      <th>Officer</th>\n",
       "      <th>Royalty</th>\n",
       "    </tr>\n",
       "    <tr>\n",
       "      <th>Survived</th>\n",
       "      <th></th>\n",
       "      <th></th>\n",
       "      <th></th>\n",
       "      <th></th>\n",
       "      <th></th>\n",
       "      <th></th>\n",
       "    </tr>\n",
       "  </thead>\n",
       "  <tbody>\n",
       "    <tr>\n",
       "      <th>0.0</th>\n",
       "      <td>17</td>\n",
       "      <td>55</td>\n",
       "      <td>436</td>\n",
       "      <td>26</td>\n",
       "      <td>13</td>\n",
       "      <td>2</td>\n",
       "    </tr>\n",
       "    <tr>\n",
       "      <th>1.0</th>\n",
       "      <td>23</td>\n",
       "      <td>130</td>\n",
       "      <td>81</td>\n",
       "      <td>100</td>\n",
       "      <td>5</td>\n",
       "      <td>3</td>\n",
       "    </tr>\n",
       "  </tbody>\n",
       "</table>\n",
       "</div>"
      ],
      "text/plain": [
       "Title     Master  Miss   Mr  Mrs  Officer  Royalty\n",
       "Survived                                          \n",
       "0.0           17    55  436   26       13        2\n",
       "1.0           23   130   81  100        5        3"
      ]
     },
     "execution_count": 4,
     "metadata": {},
     "output_type": "execute_result"
    }
   ],
   "source": [
    "# Create 'Title' column from 'Name' column\n",
    "\n",
    "all_data['Title'] = all_data['Name'].apply(lambda x: x.split(',')[1].split('.')[0].strip())\n",
    "\n",
    "# Group the Title value\n",
    "all_data['Title'] = all_data['Title'].replace(['Miss','Ms', 'Mlle'], 'Miss')\n",
    "all_data['Title'] = all_data['Title'].replace(['Mrs', 'Mme'], 'Mrs')\n",
    "all_data['Title'] = all_data['Title'].replace(['Capt','Col', 'Major','Dr', 'Rev'], 'Officer')\n",
    "all_data['Title'] = all_data['Title'].replace(['Sir','Lady','the Countess','Jonkheer','Dona','Don'], 'Royalty')\n",
    "\n",
    "# Check the Title column\n",
    "pd.crosstab(all_data['Title'],all_data['Survived']).T"
   ]
  },
  {
   "cell_type": "code",
   "execution_count": 5,
   "id": "bac8ea06",
   "metadata": {
    "execution": {
     "iopub.execute_input": "2024-02-01T02:22:38.057274Z",
     "iopub.status.busy": "2024-02-01T02:22:38.056947Z",
     "iopub.status.idle": "2024-02-01T02:22:38.068016Z",
     "shell.execute_reply": "2024-02-01T02:22:38.067287Z"
    },
    "papermill": {
     "duration": 0.021405,
     "end_time": "2024-02-01T02:22:38.069621",
     "exception": false,
     "start_time": "2024-02-01T02:22:38.048216",
     "status": "completed"
    },
    "tags": []
   },
   "outputs": [],
   "source": [
    "#Filling the missing values of Age with mean values group by Title.\n",
    "\n",
    "all_data[\"Age\"].fillna(all_data.groupby(['Title'])['Age'].transform(\"mean\"), inplace=True)"
   ]
  },
  {
   "cell_type": "code",
   "execution_count": 6,
   "id": "e87e3c66",
   "metadata": {
    "execution": {
     "iopub.execute_input": "2024-02-01T02:22:38.086917Z",
     "iopub.status.busy": "2024-02-01T02:22:38.086505Z",
     "iopub.status.idle": "2024-02-01T02:22:38.093457Z",
     "shell.execute_reply": "2024-02-01T02:22:38.092714Z"
    },
    "papermill": {
     "duration": 0.01755,
     "end_time": "2024-02-01T02:22:38.095168",
     "exception": false,
     "start_time": "2024-02-01T02:22:38.077618",
     "status": "completed"
    },
    "tags": []
   },
   "outputs": [],
   "source": [
    "# Fill missing fare with median\n",
    "\n",
    "all_data['Fare'].fillna(all_data['Fare'].median(), inplace = True)"
   ]
  },
  {
   "cell_type": "code",
   "execution_count": 7,
   "id": "45be6728",
   "metadata": {
    "execution": {
     "iopub.execute_input": "2024-02-01T02:22:38.112801Z",
     "iopub.status.busy": "2024-02-01T02:22:38.112460Z",
     "iopub.status.idle": "2024-02-01T02:22:38.117936Z",
     "shell.execute_reply": "2024-02-01T02:22:38.117046Z"
    },
    "papermill": {
     "duration": 0.016088,
     "end_time": "2024-02-01T02:22:38.119741",
     "exception": false,
     "start_time": "2024-02-01T02:22:38.103653",
     "status": "completed"
    },
    "tags": []
   },
   "outputs": [],
   "source": [
    "# Change the label of Sex column\n",
    "\n",
    "label = LabelEncoder()\n",
    "\n",
    "all_data['Sex'] = label.fit_transform(all_data['Sex'])"
   ]
  },
  {
   "cell_type": "code",
   "execution_count": 8,
   "id": "20c978e5",
   "metadata": {
    "execution": {
     "iopub.execute_input": "2024-02-01T02:22:38.137545Z",
     "iopub.status.busy": "2024-02-01T02:22:38.136905Z",
     "iopub.status.idle": "2024-02-01T02:22:38.157274Z",
     "shell.execute_reply": "2024-02-01T02:22:38.156361Z"
    },
    "papermill": {
     "duration": 0.031312,
     "end_time": "2024-02-01T02:22:38.159263",
     "exception": false,
     "start_time": "2024-02-01T02:22:38.127951",
     "status": "completed"
    },
    "tags": []
   },
   "outputs": [
    {
     "data": {
      "text/html": [
       "<div>\n",
       "<style scoped>\n",
       "    .dataframe tbody tr th:only-of-type {\n",
       "        vertical-align: middle;\n",
       "    }\n",
       "\n",
       "    .dataframe tbody tr th {\n",
       "        vertical-align: top;\n",
       "    }\n",
       "\n",
       "    .dataframe thead th {\n",
       "        text-align: right;\n",
       "    }\n",
       "</style>\n",
       "<table border=\"1\" class=\"dataframe\">\n",
       "  <thead>\n",
       "    <tr style=\"text-align: right;\">\n",
       "      <th>FamilySize</th>\n",
       "      <th>1</th>\n",
       "      <th>2</th>\n",
       "      <th>3</th>\n",
       "      <th>4</th>\n",
       "      <th>5</th>\n",
       "      <th>6</th>\n",
       "      <th>7</th>\n",
       "      <th>8</th>\n",
       "      <th>11</th>\n",
       "    </tr>\n",
       "    <tr>\n",
       "      <th>Survived</th>\n",
       "      <th></th>\n",
       "      <th></th>\n",
       "      <th></th>\n",
       "      <th></th>\n",
       "      <th></th>\n",
       "      <th></th>\n",
       "      <th></th>\n",
       "      <th></th>\n",
       "      <th></th>\n",
       "    </tr>\n",
       "  </thead>\n",
       "  <tbody>\n",
       "    <tr>\n",
       "      <th>0.0</th>\n",
       "      <td>374</td>\n",
       "      <td>72</td>\n",
       "      <td>43</td>\n",
       "      <td>8</td>\n",
       "      <td>12</td>\n",
       "      <td>19</td>\n",
       "      <td>8</td>\n",
       "      <td>6</td>\n",
       "      <td>7</td>\n",
       "    </tr>\n",
       "    <tr>\n",
       "      <th>1.0</th>\n",
       "      <td>163</td>\n",
       "      <td>89</td>\n",
       "      <td>59</td>\n",
       "      <td>21</td>\n",
       "      <td>3</td>\n",
       "      <td>3</td>\n",
       "      <td>4</td>\n",
       "      <td>0</td>\n",
       "      <td>0</td>\n",
       "    </tr>\n",
       "  </tbody>\n",
       "</table>\n",
       "</div>"
      ],
      "text/plain": [
       "FamilySize   1   2   3   4   5   6   7   8   11\n",
       "Survived                                       \n",
       "0.0         374  72  43   8  12  19   8   6   7\n",
       "1.0         163  89  59  21   3   3   4   0   0"
      ]
     },
     "execution_count": 8,
     "metadata": {},
     "output_type": "execute_result"
    }
   ],
   "source": [
    "# Create 'Family size' column by combine 'Parent/Childern' and 'Siblings/Spouses' and plus 1 is yourself\n",
    "\n",
    "all_data['FamilySize'] = all_data['Parch'] + all_data['SibSp'] + 1\n",
    "\n",
    "pd.crosstab(all_data['FamilySize'],all_data['Survived']).T"
   ]
  },
  {
   "cell_type": "code",
   "execution_count": 9,
   "id": "aefb36bf",
   "metadata": {
    "execution": {
     "iopub.execute_input": "2024-02-01T02:22:38.177799Z",
     "iopub.status.busy": "2024-02-01T02:22:38.176490Z",
     "iopub.status.idle": "2024-02-01T02:22:38.186391Z",
     "shell.execute_reply": "2024-02-01T02:22:38.185482Z"
    },
    "papermill": {
     "duration": 0.020915,
     "end_time": "2024-02-01T02:22:38.188309",
     "exception": false,
     "start_time": "2024-02-01T02:22:38.167394",
     "status": "completed"
    },
    "tags": []
   },
   "outputs": [],
   "source": [
    "# Create 'LastName' column from 'Name' column\n",
    "\n",
    "all_data['LastName'] = all_data['Name'].str.split(',').str[0]"
   ]
  },
  {
   "cell_type": "code",
   "execution_count": 10,
   "id": "3328a320",
   "metadata": {
    "execution": {
     "iopub.execute_input": "2024-02-01T02:22:38.206617Z",
     "iopub.status.busy": "2024-02-01T02:22:38.206274Z",
     "iopub.status.idle": "2024-02-01T02:22:39.156559Z",
     "shell.execute_reply": "2024-02-01T02:22:39.155535Z"
    },
    "papermill": {
     "duration": 0.962025,
     "end_time": "2024-02-01T02:22:39.158801",
     "exception": false,
     "start_time": "2024-02-01T02:22:38.196776",
     "status": "completed"
    },
    "tags": []
   },
   "outputs": [
    {
     "data": {
      "text/plain": [
       "ConnectedSurvival\n",
       "0.0    0.225352\n",
       "0.5    0.297989\n",
       "1.0    0.727723\n",
       "Name: Survived, dtype: float64"
      ]
     },
     "execution_count": 10,
     "metadata": {},
     "output_type": "execute_result"
    }
   ],
   "source": [
    "# Create the 'ConnectedSurvival' column\n",
    "\n",
    "all_data['ConnectedSurvival'] = 0.5\n",
    "\n",
    "for _, data_same in all_data.groupby('Ticket'):\n",
    "    if (len(data_same) > 1):\n",
    "        for ind, row in data_same.iterrows():\n",
    "            smax = data_same.drop(ind)['Survived'].max()\n",
    "            smin = data_same.drop(ind)['Survived'].min()\n",
    "            passid = row['PassengerId']\n",
    "            \n",
    "            if (smax == 1):\n",
    "                all_data.loc[all_data['PassengerId'] == passid, 'ConnectedSurvival'] = 1\n",
    "            elif (smin == 0):\n",
    "                all_data.loc[all_data['PassengerId'] == passid, 'ConnectedSurvival'] = 0\n",
    "\n",
    "all_data.groupby('ConnectedSurvival')['Survived'].mean()"
   ]
  },
  {
   "cell_type": "code",
   "execution_count": 11,
   "id": "de11062b",
   "metadata": {
    "execution": {
     "iopub.execute_input": "2024-02-01T02:22:39.177210Z",
     "iopub.status.busy": "2024-02-01T02:22:39.176790Z",
     "iopub.status.idle": "2024-02-01T02:22:39.184079Z",
     "shell.execute_reply": "2024-02-01T02:22:39.182453Z"
    },
    "papermill": {
     "duration": 0.0193,
     "end_time": "2024-02-01T02:22:39.186506",
     "exception": false,
     "start_time": "2024-02-01T02:22:39.167206",
     "status": "completed"
    },
    "tags": []
   },
   "outputs": [
    {
     "data": {
      "text/plain": [
       "Index(['PassengerId', 'Survived', 'Pclass', 'Name', 'Sex', 'Age', 'SibSp',\n",
       "       'Parch', 'Ticket', 'Fare', 'Cabin', 'Embarked', 'Title', 'FamilySize',\n",
       "       'LastName', 'ConnectedSurvival'],\n",
       "      dtype='object')"
      ]
     },
     "execution_count": 11,
     "metadata": {},
     "output_type": "execute_result"
    }
   ],
   "source": [
    "# Check the column name\n",
    "\n",
    "all_data.columns"
   ]
  },
  {
   "cell_type": "code",
   "execution_count": 12,
   "id": "cadc9079",
   "metadata": {
    "execution": {
     "iopub.execute_input": "2024-02-01T02:22:39.204659Z",
     "iopub.status.busy": "2024-02-01T02:22:39.204314Z",
     "iopub.status.idle": "2024-02-01T02:22:39.220752Z",
     "shell.execute_reply": "2024-02-01T02:22:39.219371Z"
    },
    "papermill": {
     "duration": 0.028175,
     "end_time": "2024-02-01T02:22:39.223086",
     "exception": false,
     "start_time": "2024-02-01T02:22:39.194911",
     "status": "completed"
    },
    "tags": []
   },
   "outputs": [
    {
     "data": {
      "text/html": [
       "<div>\n",
       "<style scoped>\n",
       "    .dataframe tbody tr th:only-of-type {\n",
       "        vertical-align: middle;\n",
       "    }\n",
       "\n",
       "    .dataframe tbody tr th {\n",
       "        vertical-align: top;\n",
       "    }\n",
       "\n",
       "    .dataframe thead th {\n",
       "        text-align: right;\n",
       "    }\n",
       "</style>\n",
       "<table border=\"1\" class=\"dataframe\">\n",
       "  <thead>\n",
       "    <tr style=\"text-align: right;\">\n",
       "      <th></th>\n",
       "      <th>Survived</th>\n",
       "      <th>Pclass</th>\n",
       "      <th>Sex</th>\n",
       "      <th>Age</th>\n",
       "      <th>Fare</th>\n",
       "      <th>FamilySize</th>\n",
       "      <th>ConnectedSurvival</th>\n",
       "    </tr>\n",
       "  </thead>\n",
       "  <tbody>\n",
       "    <tr>\n",
       "      <th>0</th>\n",
       "      <td>0.0</td>\n",
       "      <td>3</td>\n",
       "      <td>1</td>\n",
       "      <td>22.0</td>\n",
       "      <td>7.2500</td>\n",
       "      <td>2</td>\n",
       "      <td>0.5</td>\n",
       "    </tr>\n",
       "    <tr>\n",
       "      <th>1</th>\n",
       "      <td>1.0</td>\n",
       "      <td>1</td>\n",
       "      <td>0</td>\n",
       "      <td>38.0</td>\n",
       "      <td>71.2833</td>\n",
       "      <td>2</td>\n",
       "      <td>0.5</td>\n",
       "    </tr>\n",
       "    <tr>\n",
       "      <th>2</th>\n",
       "      <td>1.0</td>\n",
       "      <td>3</td>\n",
       "      <td>0</td>\n",
       "      <td>26.0</td>\n",
       "      <td>7.9250</td>\n",
       "      <td>1</td>\n",
       "      <td>0.5</td>\n",
       "    </tr>\n",
       "    <tr>\n",
       "      <th>3</th>\n",
       "      <td>1.0</td>\n",
       "      <td>1</td>\n",
       "      <td>0</td>\n",
       "      <td>35.0</td>\n",
       "      <td>53.1000</td>\n",
       "      <td>2</td>\n",
       "      <td>0.0</td>\n",
       "    </tr>\n",
       "    <tr>\n",
       "      <th>4</th>\n",
       "      <td>0.0</td>\n",
       "      <td>3</td>\n",
       "      <td>1</td>\n",
       "      <td>35.0</td>\n",
       "      <td>8.0500</td>\n",
       "      <td>1</td>\n",
       "      <td>0.5</td>\n",
       "    </tr>\n",
       "  </tbody>\n",
       "</table>\n",
       "</div>"
      ],
      "text/plain": [
       "   Survived  Pclass  Sex   Age     Fare  FamilySize  ConnectedSurvival\n",
       "0       0.0       3    1  22.0   7.2500           2                0.5\n",
       "1       1.0       1    0  38.0  71.2833           2                0.5\n",
       "2       1.0       3    0  26.0   7.9250           1                0.5\n",
       "3       1.0       1    0  35.0  53.1000           2                0.0\n",
       "4       0.0       3    1  35.0   8.0500           1                0.5"
      ]
     },
     "execution_count": 12,
     "metadata": {},
     "output_type": "execute_result"
    }
   ],
   "source": [
    "# Delete unnecessary column\n",
    "\n",
    "data_final = all_data.drop(['PassengerId','Name','Title','SibSp','Parch', 'Ticket','Cabin', 'Embarked','LastName'], axis=1)\n",
    "\n",
    "data_final.head()"
   ]
  },
  {
   "cell_type": "code",
   "execution_count": 13,
   "id": "62239c3e",
   "metadata": {
    "execution": {
     "iopub.execute_input": "2024-02-01T02:22:39.242413Z",
     "iopub.status.busy": "2024-02-01T02:22:39.241959Z",
     "iopub.status.idle": "2024-02-01T02:22:39.248438Z",
     "shell.execute_reply": "2024-02-01T02:22:39.247393Z"
    },
    "papermill": {
     "duration": 0.018554,
     "end_time": "2024-02-01T02:22:39.250216",
     "exception": false,
     "start_time": "2024-02-01T02:22:39.231662",
     "status": "completed"
    },
    "tags": []
   },
   "outputs": [],
   "source": [
    "# Reform splits to train, test dataset\n",
    "\n",
    "df_train = data_final[:len(train)]\n",
    "df_test = data_final[len(train):]\n",
    "\n",
    "df_test.drop('Survived', axis=1, inplace=True)"
   ]
  },
  {
   "cell_type": "code",
   "execution_count": 14,
   "id": "50bd5bbe",
   "metadata": {
    "execution": {
     "iopub.execute_input": "2024-02-01T02:22:39.269652Z",
     "iopub.status.busy": "2024-02-01T02:22:39.269265Z",
     "iopub.status.idle": "2024-02-01T02:22:39.275145Z",
     "shell.execute_reply": "2024-02-01T02:22:39.274041Z"
    },
    "papermill": {
     "duration": 0.018344,
     "end_time": "2024-02-01T02:22:39.277444",
     "exception": false,
     "start_time": "2024-02-01T02:22:39.259100",
     "status": "completed"
    },
    "tags": []
   },
   "outputs": [],
   "source": [
    "# Set X and y variables of the features\n",
    "\n",
    "X = df_train.drop('Survived', axis=1)\n",
    "\n",
    "y = df_train['Survived']"
   ]
  },
  {
   "cell_type": "code",
   "execution_count": 15,
   "id": "3e9139f8",
   "metadata": {
    "execution": {
     "iopub.execute_input": "2024-02-01T02:22:39.295249Z",
     "iopub.status.busy": "2024-02-01T02:22:39.294805Z",
     "iopub.status.idle": "2024-02-01T02:22:39.303146Z",
     "shell.execute_reply": "2024-02-01T02:22:39.301338Z"
    },
    "papermill": {
     "duration": 0.019793,
     "end_time": "2024-02-01T02:22:39.305484",
     "exception": false,
     "start_time": "2024-02-01T02:22:39.285691",
     "status": "completed"
    },
    "tags": []
   },
   "outputs": [],
   "source": [
    "# Perform a train/test split \n",
    "\n",
    "X_train, X_valid, y_train, y_valid = train_test_split(X, y, test_size=0.20, random_state=0)"
   ]
  },
  {
   "cell_type": "code",
   "execution_count": 16,
   "id": "4c8deb86",
   "metadata": {
    "execution": {
     "iopub.execute_input": "2024-02-01T02:22:39.325133Z",
     "iopub.status.busy": "2024-02-01T02:22:39.324759Z",
     "iopub.status.idle": "2024-02-01T02:22:39.338707Z",
     "shell.execute_reply": "2024-02-01T02:22:39.337438Z"
    },
    "papermill": {
     "duration": 0.025208,
     "end_time": "2024-02-01T02:22:39.340637",
     "exception": false,
     "start_time": "2024-02-01T02:22:39.315429",
     "status": "completed"
    },
    "tags": []
   },
   "outputs": [],
   "source": [
    "# Normalizing the Data\n",
    "# Use a MinMaxScaler to normalize the feature data X_train and X_valid. \n",
    "# Recall we don't want data leakge from the test set so we only fit on the X_train data.\n",
    "    \n",
    "scaler = MinMaxScaler()\n",
    "\n",
    "X_train = scaler.fit_transform(X_train)\n",
    "X_valid = scaler.transform(X_valid)\n",
    "df_test = scaler.transform(df_test)"
   ]
  },
  {
   "cell_type": "markdown",
   "id": "bf0ffb9f",
   "metadata": {
    "papermill": {
     "duration": 0.007867,
     "end_time": "2024-02-01T02:22:39.356991",
     "exception": false,
     "start_time": "2024-02-01T02:22:39.349124",
     "status": "completed"
    },
    "tags": []
   },
   "source": [
    "# Create a Model"
   ]
  },
  {
   "cell_type": "markdown",
   "id": "a02329d1",
   "metadata": {
    "papermill": {
     "duration": 0.00842,
     "end_time": "2024-02-01T02:22:39.373561",
     "exception": false,
     "start_time": "2024-02-01T02:22:39.365141",
     "status": "completed"
    },
    "tags": []
   },
   "source": [
    "**Build a tf.keras.Sequential model:**\n",
    "\n",
    "Sequential is useful for stacking layers where each layer has one input tensor and one output tensor. \n",
    "\n",
    "Layers are functions with a known mathematical structure that can be reused and have trainable variables. \n",
    "\n",
    "Most TensorFlow models are composed of layers. \n",
    "\n",
    "This model uses the Flatten, Dense, and Dropout layers."
   ]
  },
  {
   "cell_type": "code",
   "execution_count": 17,
   "id": "45d46bcc",
   "metadata": {
    "execution": {
     "iopub.execute_input": "2024-02-01T02:22:39.391847Z",
     "iopub.status.busy": "2024-02-01T02:22:39.391449Z",
     "iopub.status.idle": "2024-02-01T02:22:39.398377Z",
     "shell.execute_reply": "2024-02-01T02:22:39.397021Z"
    },
    "papermill": {
     "duration": 0.018055,
     "end_time": "2024-02-01T02:22:39.400168",
     "exception": false,
     "start_time": "2024-02-01T02:22:39.382113",
     "status": "completed"
    },
    "tags": []
   },
   "outputs": [
    {
     "data": {
      "text/plain": [
       "(712, 6)"
      ]
     },
     "execution_count": 17,
     "metadata": {},
     "output_type": "execute_result"
    }
   ],
   "source": [
    "X_train.shape"
   ]
  },
  {
   "cell_type": "code",
   "execution_count": 18,
   "id": "204c2a23",
   "metadata": {
    "execution": {
     "iopub.execute_input": "2024-02-01T02:22:39.474905Z",
     "iopub.status.busy": "2024-02-01T02:22:39.474189Z",
     "iopub.status.idle": "2024-02-01T02:22:39.596753Z",
     "shell.execute_reply": "2024-02-01T02:22:39.595687Z"
    },
    "papermill": {
     "duration": 0.134369,
     "end_time": "2024-02-01T02:22:39.599022",
     "exception": false,
     "start_time": "2024-02-01T02:22:39.464653",
     "status": "completed"
    },
    "tags": []
   },
   "outputs": [],
   "source": [
    "# Build a sequential model to will be trained on the data.\n",
    "\n",
    "model = Sequential()\n",
    "\n",
    "# Flattens the data into a 1d array\n",
    "model.add(Flatten())\n",
    "\n",
    "# Input the first layer \n",
    "model.add(Dense(6, activation='relu'))\n",
    "\n",
    "#Drops 0.2 of the values from the next layer, so it does not over fit.\n",
    "model.add(Dropout(0.2))\n",
    "\n",
    "# Hidden layer\n",
    "model.add(Dense(40, activation='relu'))\n",
    "model.add(Dropout(0.2))\n",
    "\n",
    "# Hidden layer\n",
    "model.add(Dense(80, activation='relu'))\n",
    "model.add(Dropout(0.2))\n",
    "\n",
    "# Hidden layer\n",
    "model.add(Dense(40, activation='relu'))\n",
    "model.add(Dropout(0.2))\n",
    "\n",
    "# Hidden layer\n",
    "model.add(Dense(20, activation='relu'))\n",
    "model.add(Dropout(0.2))\n",
    "\n",
    "\n",
    "# Output layer that is binary [0,1]\n",
    "model.add(Dense(units=1,activation='sigmoid'))"
   ]
  },
  {
   "cell_type": "markdown",
   "id": "72bb53ca",
   "metadata": {
    "papermill": {
     "duration": 0.008317,
     "end_time": "2024-02-01T02:22:39.615974",
     "exception": false,
     "start_time": "2024-02-01T02:22:39.607657",
     "status": "completed"
    },
    "tags": []
   },
   "source": [
    "**Compile model**\n",
    "\n",
    "Before start training, configure and compile the model using Keras Model.compile. \n",
    "\n",
    "Set the loss to the 'binary_crossentropy' function, \n",
    "\n",
    "Set the optimizer class to adam, \n",
    "\n",
    "and specify a metric to be evaluated for the model by setting the metrics parameter to accuracy."
   ]
  },
  {
   "cell_type": "code",
   "execution_count": 19,
   "id": "4fa7f7a8",
   "metadata": {
    "execution": {
     "iopub.execute_input": "2024-02-01T02:22:39.634591Z",
     "iopub.status.busy": "2024-02-01T02:22:39.633949Z",
     "iopub.status.idle": "2024-02-01T02:22:39.663456Z",
     "shell.execute_reply": "2024-02-01T02:22:39.661887Z"
    },
    "papermill": {
     "duration": 0.041277,
     "end_time": "2024-02-01T02:22:39.665646",
     "exception": false,
     "start_time": "2024-02-01T02:22:39.624369",
     "status": "completed"
    },
    "tags": []
   },
   "outputs": [],
   "source": [
    "# Compile model\n",
    "\n",
    "model.compile(loss='binary_crossentropy', \n",
    "              optimizer='adam', \n",
    "              metrics=['accuracy'])"
   ]
  },
  {
   "cell_type": "code",
   "execution_count": 20,
   "id": "39048f50",
   "metadata": {
    "execution": {
     "iopub.execute_input": "2024-02-01T02:22:39.684470Z",
     "iopub.status.busy": "2024-02-01T02:22:39.684101Z",
     "iopub.status.idle": "2024-02-01T02:22:45.499304Z",
     "shell.execute_reply": "2024-02-01T02:22:45.498148Z"
    },
    "papermill": {
     "duration": 5.827486,
     "end_time": "2024-02-01T02:22:45.501774",
     "exception": false,
     "start_time": "2024-02-01T02:22:39.674288",
     "status": "completed"
    },
    "tags": []
   },
   "outputs": [],
   "source": [
    "# Train model\n",
    "# Also add in the validation data for later plotting. \n",
    "\n",
    "training = model.fit(X_train, y_train, \n",
    "                     epochs=50,\n",
    "                     batch_size=32,\n",
    "                     validation_data=(X_valid, y_valid), \n",
    "                     verbose=0)"
   ]
  },
  {
   "cell_type": "code",
   "execution_count": 21,
   "id": "506c6c64",
   "metadata": {
    "execution": {
     "iopub.execute_input": "2024-02-01T02:22:45.520466Z",
     "iopub.status.busy": "2024-02-01T02:22:45.520123Z",
     "iopub.status.idle": "2024-02-01T02:22:45.563750Z",
     "shell.execute_reply": "2024-02-01T02:22:45.562430Z"
    },
    "papermill": {
     "duration": 0.055283,
     "end_time": "2024-02-01T02:22:45.565718",
     "exception": false,
     "start_time": "2024-02-01T02:22:45.510435",
     "status": "completed"
    },
    "tags": []
   },
   "outputs": [
    {
     "data": {
      "text/html": [
       "<pre style=\"white-space:pre;overflow-x:auto;line-height:normal;font-family:Menlo,'DejaVu Sans Mono',consolas,'Courier New',monospace\"><span style=\"font-weight: bold\">Model: \"sequential\"</span>\n",
       "</pre>\n"
      ],
      "text/plain": [
       "\u001b[1mModel: \"sequential\"\u001b[0m\n"
      ]
     },
     "metadata": {},
     "output_type": "display_data"
    },
    {
     "data": {
      "text/html": [
       "<pre style=\"white-space:pre;overflow-x:auto;line-height:normal;font-family:Menlo,'DejaVu Sans Mono',consolas,'Courier New',monospace\">┏━━━━━━━━━━━━━━━━━━━━━━━━━━━━━━━━━┳━━━━━━━━━━━━━━━━━━━━━━━━┳━━━━━━━━━━━━━━━┓\n",
       "┃<span style=\"font-weight: bold\"> Layer (type)                    </span>┃<span style=\"font-weight: bold\"> Output Shape           </span>┃<span style=\"font-weight: bold\">       Param # </span>┃\n",
       "┡━━━━━━━━━━━━━━━━━━━━━━━━━━━━━━━━━╇━━━━━━━━━━━━━━━━━━━━━━━━╇━━━━━━━━━━━━━━━┩\n",
       "│ flatten (<span style=\"color: #0087ff; text-decoration-color: #0087ff\">Flatten</span>)               │ (<span style=\"color: #00d7ff; text-decoration-color: #00d7ff\">None</span>, <span style=\"color: #00af00; text-decoration-color: #00af00\">6</span>)              │             <span style=\"color: #00af00; text-decoration-color: #00af00\">0</span> │\n",
       "├─────────────────────────────────┼────────────────────────┼───────────────┤\n",
       "│ dense (<span style=\"color: #0087ff; text-decoration-color: #0087ff\">Dense</span>)                   │ (<span style=\"color: #00d7ff; text-decoration-color: #00d7ff\">None</span>, <span style=\"color: #00af00; text-decoration-color: #00af00\">6</span>)              │            <span style=\"color: #00af00; text-decoration-color: #00af00\">42</span> │\n",
       "├─────────────────────────────────┼────────────────────────┼───────────────┤\n",
       "│ dropout (<span style=\"color: #0087ff; text-decoration-color: #0087ff\">Dropout</span>)               │ (<span style=\"color: #00d7ff; text-decoration-color: #00d7ff\">None</span>, <span style=\"color: #00af00; text-decoration-color: #00af00\">6</span>)              │             <span style=\"color: #00af00; text-decoration-color: #00af00\">0</span> │\n",
       "├─────────────────────────────────┼────────────────────────┼───────────────┤\n",
       "│ dense_1 (<span style=\"color: #0087ff; text-decoration-color: #0087ff\">Dense</span>)                 │ (<span style=\"color: #00d7ff; text-decoration-color: #00d7ff\">None</span>, <span style=\"color: #00af00; text-decoration-color: #00af00\">40</span>)             │           <span style=\"color: #00af00; text-decoration-color: #00af00\">280</span> │\n",
       "├─────────────────────────────────┼────────────────────────┼───────────────┤\n",
       "│ dropout_1 (<span style=\"color: #0087ff; text-decoration-color: #0087ff\">Dropout</span>)             │ (<span style=\"color: #00d7ff; text-decoration-color: #00d7ff\">None</span>, <span style=\"color: #00af00; text-decoration-color: #00af00\">40</span>)             │             <span style=\"color: #00af00; text-decoration-color: #00af00\">0</span> │\n",
       "├─────────────────────────────────┼────────────────────────┼───────────────┤\n",
       "│ dense_2 (<span style=\"color: #0087ff; text-decoration-color: #0087ff\">Dense</span>)                 │ (<span style=\"color: #00d7ff; text-decoration-color: #00d7ff\">None</span>, <span style=\"color: #00af00; text-decoration-color: #00af00\">80</span>)             │         <span style=\"color: #00af00; text-decoration-color: #00af00\">3,280</span> │\n",
       "├─────────────────────────────────┼────────────────────────┼───────────────┤\n",
       "│ dropout_2 (<span style=\"color: #0087ff; text-decoration-color: #0087ff\">Dropout</span>)             │ (<span style=\"color: #00d7ff; text-decoration-color: #00d7ff\">None</span>, <span style=\"color: #00af00; text-decoration-color: #00af00\">80</span>)             │             <span style=\"color: #00af00; text-decoration-color: #00af00\">0</span> │\n",
       "├─────────────────────────────────┼────────────────────────┼───────────────┤\n",
       "│ dense_3 (<span style=\"color: #0087ff; text-decoration-color: #0087ff\">Dense</span>)                 │ (<span style=\"color: #00d7ff; text-decoration-color: #00d7ff\">None</span>, <span style=\"color: #00af00; text-decoration-color: #00af00\">40</span>)             │         <span style=\"color: #00af00; text-decoration-color: #00af00\">3,240</span> │\n",
       "├─────────────────────────────────┼────────────────────────┼───────────────┤\n",
       "│ dropout_3 (<span style=\"color: #0087ff; text-decoration-color: #0087ff\">Dropout</span>)             │ (<span style=\"color: #00d7ff; text-decoration-color: #00d7ff\">None</span>, <span style=\"color: #00af00; text-decoration-color: #00af00\">40</span>)             │             <span style=\"color: #00af00; text-decoration-color: #00af00\">0</span> │\n",
       "├─────────────────────────────────┼────────────────────────┼───────────────┤\n",
       "│ dense_4 (<span style=\"color: #0087ff; text-decoration-color: #0087ff\">Dense</span>)                 │ (<span style=\"color: #00d7ff; text-decoration-color: #00d7ff\">None</span>, <span style=\"color: #00af00; text-decoration-color: #00af00\">20</span>)             │           <span style=\"color: #00af00; text-decoration-color: #00af00\">820</span> │\n",
       "├─────────────────────────────────┼────────────────────────┼───────────────┤\n",
       "│ dropout_4 (<span style=\"color: #0087ff; text-decoration-color: #0087ff\">Dropout</span>)             │ (<span style=\"color: #00d7ff; text-decoration-color: #00d7ff\">None</span>, <span style=\"color: #00af00; text-decoration-color: #00af00\">20</span>)             │             <span style=\"color: #00af00; text-decoration-color: #00af00\">0</span> │\n",
       "├─────────────────────────────────┼────────────────────────┼───────────────┤\n",
       "│ dense_5 (<span style=\"color: #0087ff; text-decoration-color: #0087ff\">Dense</span>)                 │ (<span style=\"color: #00d7ff; text-decoration-color: #00d7ff\">None</span>, <span style=\"color: #00af00; text-decoration-color: #00af00\">1</span>)              │            <span style=\"color: #00af00; text-decoration-color: #00af00\">21</span> │\n",
       "└─────────────────────────────────┴────────────────────────┴───────────────┘\n",
       "</pre>\n"
      ],
      "text/plain": [
       "┏━━━━━━━━━━━━━━━━━━━━━━━━━━━━━━━━━┳━━━━━━━━━━━━━━━━━━━━━━━━┳━━━━━━━━━━━━━━━┓\n",
       "┃\u001b[1m \u001b[0m\u001b[1mLayer (type)                   \u001b[0m\u001b[1m \u001b[0m┃\u001b[1m \u001b[0m\u001b[1mOutput Shape          \u001b[0m\u001b[1m \u001b[0m┃\u001b[1m \u001b[0m\u001b[1m      Param #\u001b[0m\u001b[1m \u001b[0m┃\n",
       "┡━━━━━━━━━━━━━━━━━━━━━━━━━━━━━━━━━╇━━━━━━━━━━━━━━━━━━━━━━━━╇━━━━━━━━━━━━━━━┩\n",
       "│ flatten (\u001b[38;5;33mFlatten\u001b[0m)               │ (\u001b[38;5;45mNone\u001b[0m, \u001b[38;5;34m6\u001b[0m)              │             \u001b[38;5;34m0\u001b[0m │\n",
       "├─────────────────────────────────┼────────────────────────┼───────────────┤\n",
       "│ dense (\u001b[38;5;33mDense\u001b[0m)                   │ (\u001b[38;5;45mNone\u001b[0m, \u001b[38;5;34m6\u001b[0m)              │            \u001b[38;5;34m42\u001b[0m │\n",
       "├─────────────────────────────────┼────────────────────────┼───────────────┤\n",
       "│ dropout (\u001b[38;5;33mDropout\u001b[0m)               │ (\u001b[38;5;45mNone\u001b[0m, \u001b[38;5;34m6\u001b[0m)              │             \u001b[38;5;34m0\u001b[0m │\n",
       "├─────────────────────────────────┼────────────────────────┼───────────────┤\n",
       "│ dense_1 (\u001b[38;5;33mDense\u001b[0m)                 │ (\u001b[38;5;45mNone\u001b[0m, \u001b[38;5;34m40\u001b[0m)             │           \u001b[38;5;34m280\u001b[0m │\n",
       "├─────────────────────────────────┼────────────────────────┼───────────────┤\n",
       "│ dropout_1 (\u001b[38;5;33mDropout\u001b[0m)             │ (\u001b[38;5;45mNone\u001b[0m, \u001b[38;5;34m40\u001b[0m)             │             \u001b[38;5;34m0\u001b[0m │\n",
       "├─────────────────────────────────┼────────────────────────┼───────────────┤\n",
       "│ dense_2 (\u001b[38;5;33mDense\u001b[0m)                 │ (\u001b[38;5;45mNone\u001b[0m, \u001b[38;5;34m80\u001b[0m)             │         \u001b[38;5;34m3,280\u001b[0m │\n",
       "├─────────────────────────────────┼────────────────────────┼───────────────┤\n",
       "│ dropout_2 (\u001b[38;5;33mDropout\u001b[0m)             │ (\u001b[38;5;45mNone\u001b[0m, \u001b[38;5;34m80\u001b[0m)             │             \u001b[38;5;34m0\u001b[0m │\n",
       "├─────────────────────────────────┼────────────────────────┼───────────────┤\n",
       "│ dense_3 (\u001b[38;5;33mDense\u001b[0m)                 │ (\u001b[38;5;45mNone\u001b[0m, \u001b[38;5;34m40\u001b[0m)             │         \u001b[38;5;34m3,240\u001b[0m │\n",
       "├─────────────────────────────────┼────────────────────────┼───────────────┤\n",
       "│ dropout_3 (\u001b[38;5;33mDropout\u001b[0m)             │ (\u001b[38;5;45mNone\u001b[0m, \u001b[38;5;34m40\u001b[0m)             │             \u001b[38;5;34m0\u001b[0m │\n",
       "├─────────────────────────────────┼────────────────────────┼───────────────┤\n",
       "│ dense_4 (\u001b[38;5;33mDense\u001b[0m)                 │ (\u001b[38;5;45mNone\u001b[0m, \u001b[38;5;34m20\u001b[0m)             │           \u001b[38;5;34m820\u001b[0m │\n",
       "├─────────────────────────────────┼────────────────────────┼───────────────┤\n",
       "│ dropout_4 (\u001b[38;5;33mDropout\u001b[0m)             │ (\u001b[38;5;45mNone\u001b[0m, \u001b[38;5;34m20\u001b[0m)             │             \u001b[38;5;34m0\u001b[0m │\n",
       "├─────────────────────────────────┼────────────────────────┼───────────────┤\n",
       "│ dense_5 (\u001b[38;5;33mDense\u001b[0m)                 │ (\u001b[38;5;45mNone\u001b[0m, \u001b[38;5;34m1\u001b[0m)              │            \u001b[38;5;34m21\u001b[0m │\n",
       "└─────────────────────────────────┴────────────────────────┴───────────────┘\n"
      ]
     },
     "metadata": {},
     "output_type": "display_data"
    },
    {
     "data": {
      "text/html": [
       "<pre style=\"white-space:pre;overflow-x:auto;line-height:normal;font-family:Menlo,'DejaVu Sans Mono',consolas,'Courier New',monospace\"><span style=\"font-weight: bold\"> Total params: </span><span style=\"color: #00af00; text-decoration-color: #00af00\">23,051</span> (90.05 KB)\n",
       "</pre>\n"
      ],
      "text/plain": [
       "\u001b[1m Total params: \u001b[0m\u001b[38;5;34m23,051\u001b[0m (90.05 KB)\n"
      ]
     },
     "metadata": {},
     "output_type": "display_data"
    },
    {
     "data": {
      "text/html": [
       "<pre style=\"white-space:pre;overflow-x:auto;line-height:normal;font-family:Menlo,'DejaVu Sans Mono',consolas,'Courier New',monospace\"><span style=\"font-weight: bold\"> Trainable params: </span><span style=\"color: #00af00; text-decoration-color: #00af00\">7,683</span> (30.01 KB)\n",
       "</pre>\n"
      ],
      "text/plain": [
       "\u001b[1m Trainable params: \u001b[0m\u001b[38;5;34m7,683\u001b[0m (30.01 KB)\n"
      ]
     },
     "metadata": {},
     "output_type": "display_data"
    },
    {
     "data": {
      "text/html": [
       "<pre style=\"white-space:pre;overflow-x:auto;line-height:normal;font-family:Menlo,'DejaVu Sans Mono',consolas,'Courier New',monospace\"><span style=\"font-weight: bold\"> Non-trainable params: </span><span style=\"color: #00af00; text-decoration-color: #00af00\">0</span> (0.00 B)\n",
       "</pre>\n"
      ],
      "text/plain": [
       "\u001b[1m Non-trainable params: \u001b[0m\u001b[38;5;34m0\u001b[0m (0.00 B)\n"
      ]
     },
     "metadata": {},
     "output_type": "display_data"
    },
    {
     "data": {
      "text/html": [
       "<pre style=\"white-space:pre;overflow-x:auto;line-height:normal;font-family:Menlo,'DejaVu Sans Mono',consolas,'Courier New',monospace\"><span style=\"font-weight: bold\"> Optimizer params: </span><span style=\"color: #00af00; text-decoration-color: #00af00\">15,368</span> (60.04 KB)\n",
       "</pre>\n"
      ],
      "text/plain": [
       "\u001b[1m Optimizer params: \u001b[0m\u001b[38;5;34m15,368\u001b[0m (60.04 KB)\n"
      ]
     },
     "metadata": {},
     "output_type": "display_data"
    }
   ],
   "source": [
    "# Summary of the model\n",
    "\n",
    "model.summary()"
   ]
  },
  {
   "cell_type": "markdown",
   "id": "6ff75c99",
   "metadata": {
    "papermill": {
     "duration": 0.010742,
     "end_time": "2024-02-01T02:22:45.587217",
     "exception": false,
     "start_time": "2024-02-01T02:22:45.576475",
     "status": "completed"
    },
    "tags": []
   },
   "source": [
    "# Evaluate Model Performance"
   ]
  },
  {
   "cell_type": "code",
   "execution_count": 22,
   "id": "94567145",
   "metadata": {
    "execution": {
     "iopub.execute_input": "2024-02-01T02:22:45.611726Z",
     "iopub.status.busy": "2024-02-01T02:22:45.611362Z",
     "iopub.status.idle": "2024-02-01T02:22:45.801720Z",
     "shell.execute_reply": "2024-02-01T02:22:45.800823Z"
    },
    "papermill": {
     "duration": 0.204697,
     "end_time": "2024-02-01T02:22:45.803995",
     "exception": false,
     "start_time": "2024-02-01T02:22:45.599298",
     "status": "completed"
    },
    "tags": []
   },
   "outputs": [
    {
     "name": "stdout",
     "output_type": "stream",
     "text": [
      "\u001b[1m6/6\u001b[0m \u001b[32m━━━━━━━━━━━━━━━━━━━━\u001b[0m\u001b[37m\u001b[0m \u001b[1m0s\u001b[0m 9ms/step \n",
      "              precision    recall  f1-score   support\n",
      "\n",
      "         0.0       0.82      0.87      0.85       110\n",
      "         1.0       0.77      0.70      0.73        69\n",
      "\n",
      "    accuracy                           0.80       179\n",
      "   macro avg       0.80      0.78      0.79       179\n",
      "weighted avg       0.80      0.80      0.80       179\n",
      "\n"
     ]
    }
   ],
   "source": [
    "# Create predictions from the X_valid set\n",
    "\n",
    "predictions = (model.predict(X_valid) >= 0.5).astype(int)\n",
    "\n",
    "# Display a classification report \n",
    "\n",
    "print(classification_report(y_valid,predictions))"
   ]
  },
  {
   "cell_type": "code",
   "execution_count": 23,
   "id": "404a28d6",
   "metadata": {
    "execution": {
     "iopub.execute_input": "2024-02-01T02:22:45.826919Z",
     "iopub.status.busy": "2024-02-01T02:22:45.825796Z",
     "iopub.status.idle": "2024-02-01T02:22:46.078600Z",
     "shell.execute_reply": "2024-02-01T02:22:46.077176Z"
    },
    "papermill": {
     "duration": 0.266126,
     "end_time": "2024-02-01T02:22:46.080608",
     "exception": false,
     "start_time": "2024-02-01T02:22:45.814482",
     "status": "completed"
    },
    "tags": []
   },
   "outputs": [
    {
     "data": {
      "text/plain": [
       "<Axes: >"
      ]
     },
     "execution_count": 23,
     "metadata": {},
     "output_type": "execute_result"
    },
    {
     "data": {
      "image/png": "[encoded data removed]",
      "text/plain": [
       "<Figure size 640x480 with 2 Axes>"
      ]
     },
     "metadata": {},
     "output_type": "display_data"
    }
   ],
   "source": [
    "# Display a confusion matrix\n",
    "\n",
    "sns.heatmap(confusion_matrix(y_valid,predictions), annot = True, cmap = 'coolwarm')"
   ]
  },
  {
   "cell_type": "code",
   "execution_count": 24,
   "id": "a0e96887",
   "metadata": {
    "execution": {
     "iopub.execute_input": "2024-02-01T02:22:46.104371Z",
     "iopub.status.busy": "2024-02-01T02:22:46.103982Z",
     "iopub.status.idle": "2024-02-01T02:22:46.109625Z",
     "shell.execute_reply": "2024-02-01T02:22:46.108271Z"
    },
    "papermill": {
     "duration": 0.019787,
     "end_time": "2024-02-01T02:22:46.111538",
     "exception": false,
     "start_time": "2024-02-01T02:22:46.091751",
     "status": "completed"
    },
    "tags": []
   },
   "outputs": [
    {
     "name": "stdout",
     "output_type": "stream",
     "text": [
      "dict_keys(['accuracy', 'loss', 'val_accuracy', 'val_loss'])\n"
     ]
    }
   ],
   "source": [
    "# Check the keys in history\n",
    "\n",
    "print(training.history.keys())"
   ]
  },
  {
   "cell_type": "code",
   "execution_count": 25,
   "id": "3828bb9d",
   "metadata": {
    "execution": {
     "iopub.execute_input": "2024-02-01T02:22:46.135615Z",
     "iopub.status.busy": "2024-02-01T02:22:46.135086Z",
     "iopub.status.idle": "2024-02-01T02:22:46.141806Z",
     "shell.execute_reply": "2024-02-01T02:22:46.139933Z"
    },
    "papermill": {
     "duration": 0.02186,
     "end_time": "2024-02-01T02:22:46.144616",
     "exception": false,
     "start_time": "2024-02-01T02:22:46.122756",
     "status": "completed"
    },
    "tags": []
   },
   "outputs": [
    {
     "name": "stdout",
     "output_type": "stream",
     "text": [
      "\n",
      "val_accuracy: 78.67%\n"
     ]
    }
   ],
   "source": [
    "# Get the mean of val_accuracy\n",
    "\n",
    "val_accuracy = np.mean(training.history['val_accuracy'])\n",
    "\n",
    "print(\"\\n%s: %.2f%%\" % ('val_accuracy', val_accuracy*100))"
   ]
  },
  {
   "cell_type": "code",
   "execution_count": 26,
   "id": "78c582c3",
   "metadata": {
    "execution": {
     "iopub.execute_input": "2024-02-01T02:22:46.169569Z",
     "iopub.status.busy": "2024-02-01T02:22:46.168244Z",
     "iopub.status.idle": "2024-02-01T02:22:46.355304Z",
     "shell.execute_reply": "2024-02-01T02:22:46.354137Z"
    },
    "papermill": {
     "duration": 0.20149,
     "end_time": "2024-02-01T02:22:46.357446",
     "exception": false,
     "start_time": "2024-02-01T02:22:46.155956",
     "status": "completed"
    },
    "tags": []
   },
   "outputs": [
    {
     "data": {
      "image/png": "[encoded data removed]",
      "text/plain": [
       "<Figure size 640x480 with 1 Axes>"
      ]
     },
     "metadata": {},
     "output_type": "display_data"
    }
   ],
   "source": [
    "# Summarize history for Model accuracy\n",
    "\n",
    "plt.plot(training.history['accuracy'])\n",
    "plt.plot(training.history['val_accuracy'])\n",
    "\n",
    "# Label and title\n",
    "plt.title('Model accuracy')\n",
    "plt.ylabel('accuracy')\n",
    "plt.xlabel('epoch')\n",
    "plt.legend(['train', 'validation'], loc='upper left')\n",
    "plt.show()"
   ]
  },
  {
   "cell_type": "code",
   "execution_count": 27,
   "id": "d2501ac8",
   "metadata": {
    "execution": {
     "iopub.execute_input": "2024-02-01T02:22:46.383060Z",
     "iopub.status.busy": "2024-02-01T02:22:46.382686Z",
     "iopub.status.idle": "2024-02-01T02:22:46.575406Z",
     "shell.execute_reply": "2024-02-01T02:22:46.573944Z"
    },
    "papermill": {
     "duration": 0.208406,
     "end_time": "2024-02-01T02:22:46.577582",
     "exception": false,
     "start_time": "2024-02-01T02:22:46.369176",
     "status": "completed"
    },
    "tags": []
   },
   "outputs": [
    {
     "data": {
      "image/png": "[encoded data removed]",
      "text/plain": [
       "<Figure size 640x480 with 1 Axes>"
      ]
     },
     "metadata": {},
     "output_type": "display_data"
    }
   ],
   "source": [
    "# Summarize history for Model loss\n",
    "\n",
    "plt.plot(training.history['loss'])\n",
    "plt.plot(training.history['val_loss'])\n",
    "\n",
    "# Label and title\n",
    "plt.title('Model loss')\n",
    "plt.ylabel('loss')\n",
    "plt.xlabel('epoch')\n",
    "plt.legend(['train', 'validation'], loc='upper left')\n",
    "plt.show()"
   ]
  },
  {
   "cell_type": "markdown",
   "id": "76faf5cb",
   "metadata": {
    "papermill": {
     "duration": 0.011392,
     "end_time": "2024-02-01T02:22:46.601401",
     "exception": false,
     "start_time": "2024-02-01T02:22:46.590009",
     "status": "completed"
    },
    "tags": []
   },
   "source": [
    "# Make a submission"
   ]
  },
  {
   "cell_type": "code",
   "execution_count": 28,
   "id": "2258dcaf",
   "metadata": {
    "execution": {
     "iopub.execute_input": "2024-02-01T02:22:46.626758Z",
     "iopub.status.busy": "2024-02-01T02:22:46.625987Z",
     "iopub.status.idle": "2024-02-01T02:22:46.713694Z",
     "shell.execute_reply": "2024-02-01T02:22:46.712346Z"
    },
    "papermill": {
     "duration": 0.103235,
     "end_time": "2024-02-01T02:22:46.716307",
     "exception": false,
     "start_time": "2024-02-01T02:22:46.613072",
     "status": "completed"
    },
    "tags": []
   },
   "outputs": [
    {
     "name": "stdout",
     "output_type": "stream",
     "text": [
      "\u001b[1m14/14\u001b[0m \u001b[32m━━━━━━━━━━━━━━━━━━━━\u001b[0m\u001b[37m\u001b[0m \u001b[1m0s\u001b[0m 848us/step\n"
     ]
    }
   ],
   "source": [
    "# Make predictions on the test dataset\n",
    "\n",
    "predictions = model.predict(df_test)\n",
    "\n",
    "y_final = (predictions >= 0.5).astype(int).reshape(test.shape[0])\n"
   ]
  },
  {
   "cell_type": "code",
   "execution_count": 29,
   "id": "c6630b33",
   "metadata": {
    "execution": {
     "iopub.execute_input": "2024-02-01T02:22:46.743050Z",
     "iopub.status.busy": "2024-02-01T02:22:46.742636Z",
     "iopub.status.idle": "2024-02-01T02:22:46.759980Z",
     "shell.execute_reply": "2024-02-01T02:22:46.758517Z"
    },
    "papermill": {
     "duration": 0.033399,
     "end_time": "2024-02-01T02:22:46.761853",
     "exception": false,
     "start_time": "2024-02-01T02:22:46.728454",
     "status": "completed"
    },
    "tags": []
   },
   "outputs": [
    {
     "data": {
      "text/html": [
       "<div>\n",
       "<style scoped>\n",
       "    .dataframe tbody tr th:only-of-type {\n",
       "        vertical-align: middle;\n",
       "    }\n",
       "\n",
       "    .dataframe tbody tr th {\n",
       "        vertical-align: top;\n",
       "    }\n",
       "\n",
       "    .dataframe thead th {\n",
       "        text-align: right;\n",
       "    }\n",
       "</style>\n",
       "<table border=\"1\" class=\"dataframe\">\n",
       "  <thead>\n",
       "    <tr style=\"text-align: right;\">\n",
       "      <th></th>\n",
       "      <th>PassengerId</th>\n",
       "      <th>Survived</th>\n",
       "    </tr>\n",
       "  </thead>\n",
       "  <tbody>\n",
       "    <tr>\n",
       "      <th>0</th>\n",
       "      <td>892</td>\n",
       "      <td>0</td>\n",
       "    </tr>\n",
       "    <tr>\n",
       "      <th>1</th>\n",
       "      <td>893</td>\n",
       "      <td>1</td>\n",
       "    </tr>\n",
       "    <tr>\n",
       "      <th>2</th>\n",
       "      <td>894</td>\n",
       "      <td>0</td>\n",
       "    </tr>\n",
       "    <tr>\n",
       "      <th>3</th>\n",
       "      <td>895</td>\n",
       "      <td>0</td>\n",
       "    </tr>\n",
       "    <tr>\n",
       "      <th>4</th>\n",
       "      <td>896</td>\n",
       "      <td>1</td>\n",
       "    </tr>\n",
       "    <tr>\n",
       "      <th>...</th>\n",
       "      <td>...</td>\n",
       "      <td>...</td>\n",
       "    </tr>\n",
       "    <tr>\n",
       "      <th>413</th>\n",
       "      <td>1305</td>\n",
       "      <td>0</td>\n",
       "    </tr>\n",
       "    <tr>\n",
       "      <th>414</th>\n",
       "      <td>1306</td>\n",
       "      <td>1</td>\n",
       "    </tr>\n",
       "    <tr>\n",
       "      <th>415</th>\n",
       "      <td>1307</td>\n",
       "      <td>0</td>\n",
       "    </tr>\n",
       "    <tr>\n",
       "      <th>416</th>\n",
       "      <td>1308</td>\n",
       "      <td>0</td>\n",
       "    </tr>\n",
       "    <tr>\n",
       "      <th>417</th>\n",
       "      <td>1309</td>\n",
       "      <td>0</td>\n",
       "    </tr>\n",
       "  </tbody>\n",
       "</table>\n",
       "<p>418 rows × 2 columns</p>\n",
       "</div>"
      ],
      "text/plain": [
       "     PassengerId  Survived\n",
       "0            892         0\n",
       "1            893         1\n",
       "2            894         0\n",
       "3            895         0\n",
       "4            896         1\n",
       "..           ...       ...\n",
       "413         1305         0\n",
       "414         1306         1\n",
       "415         1307         0\n",
       "416         1308         0\n",
       "417         1309         0\n",
       "\n",
       "[418 rows x 2 columns]"
      ]
     },
     "execution_count": 29,
     "metadata": {},
     "output_type": "execute_result"
    }
   ],
   "source": [
    "# Create a submission file\n",
    "\n",
    "output = pd.DataFrame({'PassengerId': test['PassengerId'],\n",
    "                       'Survived': y_final})\n",
    "output.to_csv('submission_keras.csv', index=False)\n",
    "output"
   ]
  },
  {
   "cell_type": "markdown",
   "id": "5e622649",
   "metadata": {
    "papermill": {
     "duration": 0.011759,
     "end_time": "2024-02-01T02:22:46.786750",
     "exception": false,
     "start_time": "2024-02-01T02:22:46.774991",
     "status": "completed"
    },
    "tags": []
   },
   "source": [
    "**Conclusion:**\n",
    "\n",
    "After submission, the Neural Network with Sequential Model can get the public score = 0.78947 \n",
    "\n",
    "So the best model for my Titanic survival prediction still be Random Forest and eXtream Gradient Boosting Model. (Part 1 of my project)\n"
   ]
  }
 ],
 "metadata": {
  "kaggle": {
   "accelerator": "none",
   "dataSources": [
    {
     "databundleVersionId": 26502,
     "sourceId": 3136,
     "sourceType": "competition"
    }
   ],
   "dockerImageVersionId": 30635,
   "isGpuEnabled": false,
   "isInternetEnabled": true,
   "language": "python",
   "sourceType": "notebook"
  },
  "kernelspec": {
   "display_name": "Python 3",
   "language": "python",
   "name": "python3"
  },
  "language_info": {
   "codemirror_mode": {
    "name": "ipython",
    "version": 3
   },
   "file_extension": ".py",
   "mimetype": "text/x-python",
   "name": "python",
   "nbconvert_exporter": "python",
   "pygments_lexer": "ipython3",
   "version": "3.12.2"
  },
  "papermill": {
   "default_parameters": {},
   "duration": 29.660776,
   "end_time": "2024-02-01T02:22:48.423524",
   "environment_variables": {},
   "exception": null,
   "input_path": "__notebook__.ipynb",
   "output_path": "__notebook__.ipynb",
   "parameters": {},
   "start_time": "2024-02-01T02:22:18.762748",
   "version": "2.4.0"
  }
 },
 "nbformat": 4,
 "nbformat_minor": 5
}

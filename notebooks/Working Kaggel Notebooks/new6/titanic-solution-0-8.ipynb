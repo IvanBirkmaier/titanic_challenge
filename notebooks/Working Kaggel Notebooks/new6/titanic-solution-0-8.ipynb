{
 "cells": [
  {
   "cell_type": "code",
   "execution_count": 1,
   "id": "d16806ae",
   "metadata": {
    "ExecuteTime": {
     "end_time": "2024-01-13T13:34:24.927010Z",
     "start_time": "2024-01-13T13:34:24.923620Z"
    },
    "execution": {
     "iopub.execute_input": "2024-01-13T16:04:04.187430Z",
     "iopub.status.busy": "2024-01-13T16:04:04.187026Z",
     "iopub.status.idle": "2024-01-13T16:04:07.268803Z",
     "shell.execute_reply": "2024-01-13T16:04:07.267182Z"
    },
    "papermill": {
     "duration": 3.098669,
     "end_time": "2024-01-13T16:04:07.272910",
     "exception": false,
     "start_time": "2024-01-13T16:04:04.174241",
     "status": "completed"
    },
    "tags": []
   },
   "outputs": [],
   "source": [
    "import pandas as pd\n",
    "import numpy as np\n",
    "import matplotlib.pyplot as plt\n",
    "from xgboost import XGBClassifier\n",
    "from sklearn.model_selection import KFold\n",
    "from sklearn.metrics import accuracy_score\n",
    "import seaborn as sns"
   ]
  },
  {
   "cell_type": "markdown",
   "id": "2d16e983",
   "metadata": {},
   "source": [
    "80.03: https://www.kaggle.com/code/ivgusev/titanic-solution-0-8"
   ]
  },
  {
   "cell_type": "code",
   "execution_count": 2,
   "id": "e7ec198c",
   "metadata": {
    "ExecuteTime": {
     "end_time": "2024-01-13T13:34:25.231731Z",
     "start_time": "2024-01-13T13:34:25.221848Z"
    },
    "execution": {
     "iopub.execute_input": "2024-01-13T16:04:07.299751Z",
     "iopub.status.busy": "2024-01-13T16:04:07.297847Z",
     "iopub.status.idle": "2024-01-13T16:04:07.342575Z",
     "shell.execute_reply": "2024-01-13T16:04:07.340662Z"
    },
    "papermill": {
     "duration": 0.06163,
     "end_time": "2024-01-13T16:04:07.346281",
     "exception": false,
     "start_time": "2024-01-13T16:04:07.284651",
     "status": "completed"
    },
    "tags": []
   },
   "outputs": [],
   "source": [
    "train_data = pd.read_csv('train.csv')\n",
    "test_data = pd.read_csv('test.csv')"
   ]
  },
  {
   "cell_type": "code",
   "execution_count": 3,
   "id": "b72d7145",
   "metadata": {
    "ExecuteTime": {
     "end_time": "2024-01-13T13:34:25.554384Z",
     "start_time": "2024-01-13T13:34:25.546406Z"
    },
    "execution": {
     "iopub.execute_input": "2024-01-13T16:04:07.372320Z",
     "iopub.status.busy": "2024-01-13T16:04:07.370489Z",
     "iopub.status.idle": "2024-01-13T16:04:07.382420Z",
     "shell.execute_reply": "2024-01-13T16:04:07.380955Z"
    },
    "papermill": {
     "duration": 0.028052,
     "end_time": "2024-01-13T16:04:07.385841",
     "exception": false,
     "start_time": "2024-01-13T16:04:07.357789",
     "status": "completed"
    },
    "tags": []
   },
   "outputs": [],
   "source": [
    "def crossValidate(model, X, y):\n",
    "    n_splits = 10\n",
    "    kf = KFold(n_splits=n_splits, shuffle=True, random_state=13)\n",
    "    train_loss, test_loss = 0, 0\n",
    "    for train_index, test_index in kf.split(X):\n",
    "        X_train_cv = X.iloc[train_index]\n",
    "        y_train_cv = y[train_index]\n",
    "        X_test_cv = X.iloc[test_index]\n",
    "        y_test_cv = y[test_index]\n",
    "        model.fit(X_train_cv, y_train_cv)\n",
    "        y_test_pred = model.predict(X_test_cv)\n",
    "        y_train_pred = model.predict(X_train_cv)\n",
    "        train_loss += accuracy_score(y_train_cv, y_train_pred)\n",
    "        test_loss += accuracy_score(y_test_cv, y_test_pred)\n",
    "    return train_loss / n_splits, test_loss / n_splits\n",
    "\n",
    "def out(pred):\n",
    "    ids = test_data['PassengerId']\n",
    "    pred = pd.Series(pred, name='Survived')\n",
    "    out_data = pd.concat([ids, pred], axis=1)\n",
    "    out_data.to_csv('out.csv', index=False, sep=',')"
   ]
  },
  {
   "cell_type": "code",
   "execution_count": 4,
   "id": "59fe21d5",
   "metadata": {
    "ExecuteTime": {
     "end_time": "2024-01-13T13:34:25.912352Z",
     "start_time": "2024-01-13T13:34:25.907199Z"
    },
    "execution": {
     "iopub.execute_input": "2024-01-13T16:04:07.409481Z",
     "iopub.status.busy": "2024-01-13T16:04:07.408891Z",
     "iopub.status.idle": "2024-01-13T16:04:07.435400Z",
     "shell.execute_reply": "2024-01-13T16:04:07.433572Z"
    },
    "papermill": {
     "duration": 0.042384,
     "end_time": "2024-01-13T16:04:07.438969",
     "exception": false,
     "start_time": "2024-01-13T16:04:07.396585",
     "status": "completed"
    },
    "tags": []
   },
   "outputs": [],
   "source": [
    "train_data = train_data.drop(columns=['PassengerId'])\n",
    "X_test = test_data.drop(columns=['PassengerId'])"
   ]
  },
  {
   "cell_type": "code",
   "execution_count": 5,
   "id": "f9e7e900",
   "metadata": {
    "ExecuteTime": {
     "end_time": "2024-01-13T13:34:26.277207Z",
     "start_time": "2024-01-13T13:34:26.271444Z"
    },
    "execution": {
     "iopub.execute_input": "2024-01-13T16:04:07.463619Z",
     "iopub.status.busy": "2024-01-13T16:04:07.462180Z",
     "iopub.status.idle": "2024-01-13T16:04:07.470207Z",
     "shell.execute_reply": "2024-01-13T16:04:07.468758Z"
    },
    "papermill": {
     "duration": 0.023286,
     "end_time": "2024-01-13T16:04:07.473303",
     "exception": false,
     "start_time": "2024-01-13T16:04:07.450017",
     "status": "completed"
    },
    "tags": []
   },
   "outputs": [],
   "source": [
    "X_train = train_data.drop(columns=['Survived'])\n",
    "y_train = train_data['Survived']"
   ]
  },
  {
   "cell_type": "code",
   "execution_count": 6,
   "id": "675723bc",
   "metadata": {
    "ExecuteTime": {
     "end_time": "2024-01-13T13:34:26.744591Z",
     "start_time": "2024-01-13T13:34:26.653156Z"
    },
    "execution": {
     "iopub.execute_input": "2024-01-13T16:04:07.497569Z",
     "iopub.status.busy": "2024-01-13T16:04:07.496107Z",
     "iopub.status.idle": "2024-01-13T16:04:07.651276Z",
     "shell.execute_reply": "2024-01-13T16:04:07.649795Z"
    },
    "papermill": {
     "duration": 0.171078,
     "end_time": "2024-01-13T16:04:07.654892",
     "exception": false,
     "start_time": "2024-01-13T16:04:07.483814",
     "status": "completed"
    },
    "tags": []
   },
   "outputs": [
    {
     "data": {
      "text/plain": [
       "Mr        240\n",
       "Miss       78\n",
       "Mrs        72\n",
       "Master     21\n",
       "Col         2\n",
       "Rev         2\n",
       "Ms          1\n",
       "Dr          1\n",
       "Dona        1\n",
       "Name: count, dtype: int64"
      ]
     },
     "execution_count": 6,
     "metadata": {},
     "output_type": "execute_result"
    }
   ],
   "source": [
    "aba = X_train['Name'].str.find('.')\n",
    "z = []\n",
    "for i, point_pos in enumerate(aba):\n",
    "    rev_name = X_train.iloc[i]['Name'][:point_pos][::-1]\n",
    "    z.append(rev_name[:rev_name.find(' ')][::-1])\n",
    "z = pd.Series(z)\n",
    "bab = X_test['Name'].str.find('.')\n",
    "v = []\n",
    "for i, point_pos in enumerate(bab):\n",
    "    rev_name = X_test.iloc[i]['Name'][:point_pos][::-1]\n",
    "    v.append(rev_name[:rev_name.find(' ')][::-1])\n",
    "v = pd.Series(v)\n",
    "v.value_counts()"
   ]
  },
  {
   "cell_type": "code",
   "execution_count": 7,
   "id": "3b880167",
   "metadata": {
    "ExecuteTime": {
     "end_time": "2024-01-13T13:34:27.172205Z",
     "start_time": "2024-01-13T13:34:27.144837Z"
    },
    "execution": {
     "iopub.execute_input": "2024-01-13T16:04:07.680264Z",
     "iopub.status.busy": "2024-01-13T16:04:07.679480Z",
     "iopub.status.idle": "2024-01-13T16:04:07.729776Z",
     "shell.execute_reply": "2024-01-13T16:04:07.728489Z"
    },
    "papermill": {
     "duration": 0.066838,
     "end_time": "2024-01-13T16:04:07.732903",
     "exception": false,
     "start_time": "2024-01-13T16:04:07.666065",
     "status": "completed"
    },
    "tags": []
   },
   "outputs": [
    {
     "data": {
      "text/html": [
       "<div>\n",
       "<style scoped>\n",
       "    .dataframe tbody tr th:only-of-type {\n",
       "        vertical-align: middle;\n",
       "    }\n",
       "\n",
       "    .dataframe tbody tr th {\n",
       "        vertical-align: top;\n",
       "    }\n",
       "\n",
       "    .dataframe thead th {\n",
       "        text-align: right;\n",
       "    }\n",
       "</style>\n",
       "<table border=\"1\" class=\"dataframe\">\n",
       "  <thead>\n",
       "    <tr style=\"text-align: right;\">\n",
       "      <th></th>\n",
       "      <th>Pclass</th>\n",
       "      <th>Sex</th>\n",
       "      <th>Age</th>\n",
       "      <th>SibSp</th>\n",
       "      <th>Parch</th>\n",
       "      <th>Ticket</th>\n",
       "      <th>Fare</th>\n",
       "      <th>Cabin</th>\n",
       "      <th>Embarked</th>\n",
       "      <th>is_Mr.</th>\n",
       "      <th>is_Miss.</th>\n",
       "      <th>is_Mrs.</th>\n",
       "      <th>is_Master.</th>\n",
       "    </tr>\n",
       "  </thead>\n",
       "  <tbody>\n",
       "    <tr>\n",
       "      <th>0</th>\n",
       "      <td>3</td>\n",
       "      <td>male</td>\n",
       "      <td>34.5</td>\n",
       "      <td>0</td>\n",
       "      <td>0</td>\n",
       "      <td>330911</td>\n",
       "      <td>7.8292</td>\n",
       "      <td>NaN</td>\n",
       "      <td>Q</td>\n",
       "      <td>1</td>\n",
       "      <td>0</td>\n",
       "      <td>0</td>\n",
       "      <td>0</td>\n",
       "    </tr>\n",
       "    <tr>\n",
       "      <th>1</th>\n",
       "      <td>3</td>\n",
       "      <td>female</td>\n",
       "      <td>47.0</td>\n",
       "      <td>1</td>\n",
       "      <td>0</td>\n",
       "      <td>363272</td>\n",
       "      <td>7.0000</td>\n",
       "      <td>NaN</td>\n",
       "      <td>S</td>\n",
       "      <td>0</td>\n",
       "      <td>0</td>\n",
       "      <td>1</td>\n",
       "      <td>0</td>\n",
       "    </tr>\n",
       "    <tr>\n",
       "      <th>2</th>\n",
       "      <td>2</td>\n",
       "      <td>male</td>\n",
       "      <td>62.0</td>\n",
       "      <td>0</td>\n",
       "      <td>0</td>\n",
       "      <td>240276</td>\n",
       "      <td>9.6875</td>\n",
       "      <td>NaN</td>\n",
       "      <td>Q</td>\n",
       "      <td>1</td>\n",
       "      <td>0</td>\n",
       "      <td>0</td>\n",
       "      <td>0</td>\n",
       "    </tr>\n",
       "    <tr>\n",
       "      <th>3</th>\n",
       "      <td>3</td>\n",
       "      <td>male</td>\n",
       "      <td>27.0</td>\n",
       "      <td>0</td>\n",
       "      <td>0</td>\n",
       "      <td>315154</td>\n",
       "      <td>8.6625</td>\n",
       "      <td>NaN</td>\n",
       "      <td>S</td>\n",
       "      <td>1</td>\n",
       "      <td>0</td>\n",
       "      <td>0</td>\n",
       "      <td>0</td>\n",
       "    </tr>\n",
       "    <tr>\n",
       "      <th>4</th>\n",
       "      <td>3</td>\n",
       "      <td>female</td>\n",
       "      <td>22.0</td>\n",
       "      <td>1</td>\n",
       "      <td>1</td>\n",
       "      <td>3101298</td>\n",
       "      <td>12.2875</td>\n",
       "      <td>NaN</td>\n",
       "      <td>S</td>\n",
       "      <td>0</td>\n",
       "      <td>0</td>\n",
       "      <td>1</td>\n",
       "      <td>0</td>\n",
       "    </tr>\n",
       "    <tr>\n",
       "      <th>...</th>\n",
       "      <td>...</td>\n",
       "      <td>...</td>\n",
       "      <td>...</td>\n",
       "      <td>...</td>\n",
       "      <td>...</td>\n",
       "      <td>...</td>\n",
       "      <td>...</td>\n",
       "      <td>...</td>\n",
       "      <td>...</td>\n",
       "      <td>...</td>\n",
       "      <td>...</td>\n",
       "      <td>...</td>\n",
       "      <td>...</td>\n",
       "    </tr>\n",
       "    <tr>\n",
       "      <th>413</th>\n",
       "      <td>3</td>\n",
       "      <td>male</td>\n",
       "      <td>NaN</td>\n",
       "      <td>0</td>\n",
       "      <td>0</td>\n",
       "      <td>A.5. 3236</td>\n",
       "      <td>8.0500</td>\n",
       "      <td>NaN</td>\n",
       "      <td>S</td>\n",
       "      <td>1</td>\n",
       "      <td>0</td>\n",
       "      <td>0</td>\n",
       "      <td>0</td>\n",
       "    </tr>\n",
       "    <tr>\n",
       "      <th>414</th>\n",
       "      <td>1</td>\n",
       "      <td>female</td>\n",
       "      <td>39.0</td>\n",
       "      <td>0</td>\n",
       "      <td>0</td>\n",
       "      <td>PC 17758</td>\n",
       "      <td>108.9000</td>\n",
       "      <td>C105</td>\n",
       "      <td>C</td>\n",
       "      <td>0</td>\n",
       "      <td>0</td>\n",
       "      <td>0</td>\n",
       "      <td>0</td>\n",
       "    </tr>\n",
       "    <tr>\n",
       "      <th>415</th>\n",
       "      <td>3</td>\n",
       "      <td>male</td>\n",
       "      <td>38.5</td>\n",
       "      <td>0</td>\n",
       "      <td>0</td>\n",
       "      <td>SOTON/O.Q. 3101262</td>\n",
       "      <td>7.2500</td>\n",
       "      <td>NaN</td>\n",
       "      <td>S</td>\n",
       "      <td>1</td>\n",
       "      <td>0</td>\n",
       "      <td>0</td>\n",
       "      <td>0</td>\n",
       "    </tr>\n",
       "    <tr>\n",
       "      <th>416</th>\n",
       "      <td>3</td>\n",
       "      <td>male</td>\n",
       "      <td>NaN</td>\n",
       "      <td>0</td>\n",
       "      <td>0</td>\n",
       "      <td>359309</td>\n",
       "      <td>8.0500</td>\n",
       "      <td>NaN</td>\n",
       "      <td>S</td>\n",
       "      <td>1</td>\n",
       "      <td>0</td>\n",
       "      <td>0</td>\n",
       "      <td>0</td>\n",
       "    </tr>\n",
       "    <tr>\n",
       "      <th>417</th>\n",
       "      <td>3</td>\n",
       "      <td>male</td>\n",
       "      <td>NaN</td>\n",
       "      <td>1</td>\n",
       "      <td>1</td>\n",
       "      <td>2668</td>\n",
       "      <td>22.3583</td>\n",
       "      <td>NaN</td>\n",
       "      <td>C</td>\n",
       "      <td>0</td>\n",
       "      <td>0</td>\n",
       "      <td>0</td>\n",
       "      <td>1</td>\n",
       "    </tr>\n",
       "  </tbody>\n",
       "</table>\n",
       "<p>418 rows × 13 columns</p>\n",
       "</div>"
      ],
      "text/plain": [
       "     Pclass     Sex   Age  SibSp  Parch              Ticket      Fare Cabin  \\\n",
       "0         3    male  34.5      0      0              330911    7.8292   NaN   \n",
       "1         3  female  47.0      1      0              363272    7.0000   NaN   \n",
       "2         2    male  62.0      0      0              240276    9.6875   NaN   \n",
       "3         3    male  27.0      0      0              315154    8.6625   NaN   \n",
       "4         3  female  22.0      1      1             3101298   12.2875   NaN   \n",
       "..      ...     ...   ...    ...    ...                 ...       ...   ...   \n",
       "413       3    male   NaN      0      0           A.5. 3236    8.0500   NaN   \n",
       "414       1  female  39.0      0      0            PC 17758  108.9000  C105   \n",
       "415       3    male  38.5      0      0  SOTON/O.Q. 3101262    7.2500   NaN   \n",
       "416       3    male   NaN      0      0              359309    8.0500   NaN   \n",
       "417       3    male   NaN      1      1                2668   22.3583   NaN   \n",
       "\n",
       "    Embarked  is_Mr.  is_Miss.  is_Mrs.  is_Master.  \n",
       "0          Q       1         0        0           0  \n",
       "1          S       0         0        1           0  \n",
       "2          Q       1         0        0           0  \n",
       "3          S       1         0        0           0  \n",
       "4          S       0         0        1           0  \n",
       "..       ...     ...       ...      ...         ...  \n",
       "413        S       1         0        0           0  \n",
       "414        C       0         0        0           0  \n",
       "415        S       1         0        0           0  \n",
       "416        S       1         0        0           0  \n",
       "417        C       0         0        0           1  \n",
       "\n",
       "[418 rows x 13 columns]"
      ]
     },
     "execution_count": 7,
     "metadata": {},
     "output_type": "execute_result"
    }
   ],
   "source": [
    "X_train['is_Mr.'] = 0\n",
    "X_train.loc[z == 'Mr', 'is_Mr.'] = 1\n",
    "X_test['is_Mr.'] = 0\n",
    "X_test.loc[v == 'Mr', 'is_Mr.'] = 1\n",
    "X_train['is_Miss.'] = 0\n",
    "X_train.loc[z == 'Miss', 'is_Miss.'] = 1\n",
    "X_test['is_Miss.'] = 0\n",
    "X_test.loc[v == 'Miss', 'is_Miss.'] = 1\n",
    "X_train['is_Mrs.'] = 0\n",
    "X_train.loc[z == 'Mrs', 'is_Mrs.'] = 1\n",
    "X_test['is_Mrs.'] = 0\n",
    "X_test.loc[v == 'Mrs', 'is_Mrs.'] = 1\n",
    "X_train['is_Master.'] = 0\n",
    "X_train.loc[z == 'Master', 'is_Master.'] = 1\n",
    "X_test['is_Master.'] = 0\n",
    "X_test.loc[v == 'Master', 'is_Master.'] = 1\n",
    "X_train = X_train.drop(columns=['Name'])\n",
    "X_test = X_test.drop(columns=['Name'])\n",
    "X_test"
   ]
  },
  {
   "cell_type": "code",
   "execution_count": 8,
   "id": "aefbd3bd",
   "metadata": {
    "ExecuteTime": {
     "end_time": "2024-01-13T13:34:28.167477Z",
     "start_time": "2024-01-13T13:34:28.157873Z"
    },
    "execution": {
     "iopub.execute_input": "2024-01-13T16:04:07.763284Z",
     "iopub.status.busy": "2024-01-13T16:04:07.762712Z",
     "iopub.status.idle": "2024-01-13T16:04:07.785372Z",
     "shell.execute_reply": "2024-01-13T16:04:07.784108Z"
    },
    "papermill": {
     "duration": 0.04164,
     "end_time": "2024-01-13T16:04:07.788833",
     "exception": false,
     "start_time": "2024-01-13T16:04:07.747193",
     "status": "completed"
    },
    "tags": []
   },
   "outputs": [],
   "source": [
    "X_train['Embarked'] = X_train['Embarked'].fillna('S')\n",
    "train_embarked_ohe = pd.get_dummies(X_train.Embarked, prefix='Embarked', dtype=int)\n",
    "test_embarked_ohe = pd.get_dummies(X_test.Embarked, prefix='Embarked', dtype=int)\n",
    "train_sex_ohe = pd.get_dummies(X_train.Sex, prefix='Sex', dtype=int)\n",
    "test_sex_ohe = pd.get_dummies(X_test.Sex, prefix='Sex', dtype=int)\n",
    "X_train = pd.concat([X_train.drop(columns=['Embarked', 'Sex']), train_embarked_ohe, train_sex_ohe], axis=1)\n",
    "X_test = pd.concat([X_test.drop(columns=['Embarked', 'Sex']), test_embarked_ohe, test_sex_ohe], axis=1)"
   ]
  },
  {
   "cell_type": "code",
   "execution_count": 9,
   "id": "559aac93",
   "metadata": {
    "ExecuteTime": {
     "end_time": "2024-01-13T13:34:29.813780Z",
     "start_time": "2024-01-13T13:34:29.798614Z"
    },
    "execution": {
     "iopub.execute_input": "2024-01-13T16:04:07.815361Z",
     "iopub.status.busy": "2024-01-13T16:04:07.813893Z",
     "iopub.status.idle": "2024-01-13T16:04:07.844231Z",
     "shell.execute_reply": "2024-01-13T16:04:07.842198Z"
    },
    "papermill": {
     "duration": 0.047606,
     "end_time": "2024-01-13T16:04:07.847652",
     "exception": false,
     "start_time": "2024-01-13T16:04:07.800046",
     "status": "completed"
    },
    "tags": []
   },
   "outputs": [
    {
     "data": {
      "text/html": [
       "<div>\n",
       "<style scoped>\n",
       "    .dataframe tbody tr th:only-of-type {\n",
       "        vertical-align: middle;\n",
       "    }\n",
       "\n",
       "    .dataframe tbody tr th {\n",
       "        vertical-align: top;\n",
       "    }\n",
       "\n",
       "    .dataframe thead th {\n",
       "        text-align: right;\n",
       "    }\n",
       "</style>\n",
       "<table border=\"1\" class=\"dataframe\">\n",
       "  <thead>\n",
       "    <tr style=\"text-align: right;\">\n",
       "      <th></th>\n",
       "      <th>Pclass</th>\n",
       "      <th>Age</th>\n",
       "      <th>SibSp</th>\n",
       "      <th>Parch</th>\n",
       "      <th>Ticket</th>\n",
       "      <th>Fare</th>\n",
       "      <th>Cabin</th>\n",
       "      <th>is_Mr.</th>\n",
       "      <th>is_Miss.</th>\n",
       "      <th>is_Mrs.</th>\n",
       "      <th>is_Master.</th>\n",
       "      <th>Embarked_C</th>\n",
       "      <th>Embarked_Q</th>\n",
       "      <th>Embarked_S</th>\n",
       "      <th>Sex_female</th>\n",
       "      <th>Sex_male</th>\n",
       "    </tr>\n",
       "  </thead>\n",
       "  <tbody>\n",
       "    <tr>\n",
       "      <th>0</th>\n",
       "      <td>3</td>\n",
       "      <td>22.0</td>\n",
       "      <td>1</td>\n",
       "      <td>0</td>\n",
       "      <td>A/5 21171</td>\n",
       "      <td>7.2500</td>\n",
       "      <td>NaN</td>\n",
       "      <td>1</td>\n",
       "      <td>0</td>\n",
       "      <td>0</td>\n",
       "      <td>0</td>\n",
       "      <td>0</td>\n",
       "      <td>0</td>\n",
       "      <td>1</td>\n",
       "      <td>0</td>\n",
       "      <td>1</td>\n",
       "    </tr>\n",
       "    <tr>\n",
       "      <th>1</th>\n",
       "      <td>1</td>\n",
       "      <td>38.0</td>\n",
       "      <td>1</td>\n",
       "      <td>0</td>\n",
       "      <td>PC 17599</td>\n",
       "      <td>71.2833</td>\n",
       "      <td>C85</td>\n",
       "      <td>0</td>\n",
       "      <td>0</td>\n",
       "      <td>1</td>\n",
       "      <td>0</td>\n",
       "      <td>1</td>\n",
       "      <td>0</td>\n",
       "      <td>0</td>\n",
       "      <td>1</td>\n",
       "      <td>0</td>\n",
       "    </tr>\n",
       "    <tr>\n",
       "      <th>2</th>\n",
       "      <td>3</td>\n",
       "      <td>26.0</td>\n",
       "      <td>0</td>\n",
       "      <td>0</td>\n",
       "      <td>STON/O2. 3101282</td>\n",
       "      <td>7.9250</td>\n",
       "      <td>NaN</td>\n",
       "      <td>0</td>\n",
       "      <td>1</td>\n",
       "      <td>0</td>\n",
       "      <td>0</td>\n",
       "      <td>0</td>\n",
       "      <td>0</td>\n",
       "      <td>1</td>\n",
       "      <td>1</td>\n",
       "      <td>0</td>\n",
       "    </tr>\n",
       "    <tr>\n",
       "      <th>3</th>\n",
       "      <td>1</td>\n",
       "      <td>35.0</td>\n",
       "      <td>1</td>\n",
       "      <td>0</td>\n",
       "      <td>113803</td>\n",
       "      <td>53.1000</td>\n",
       "      <td>C123</td>\n",
       "      <td>0</td>\n",
       "      <td>0</td>\n",
       "      <td>1</td>\n",
       "      <td>0</td>\n",
       "      <td>0</td>\n",
       "      <td>0</td>\n",
       "      <td>1</td>\n",
       "      <td>1</td>\n",
       "      <td>0</td>\n",
       "    </tr>\n",
       "    <tr>\n",
       "      <th>4</th>\n",
       "      <td>3</td>\n",
       "      <td>35.0</td>\n",
       "      <td>0</td>\n",
       "      <td>0</td>\n",
       "      <td>373450</td>\n",
       "      <td>8.0500</td>\n",
       "      <td>NaN</td>\n",
       "      <td>1</td>\n",
       "      <td>0</td>\n",
       "      <td>0</td>\n",
       "      <td>0</td>\n",
       "      <td>0</td>\n",
       "      <td>0</td>\n",
       "      <td>1</td>\n",
       "      <td>0</td>\n",
       "      <td>1</td>\n",
       "    </tr>\n",
       "    <tr>\n",
       "      <th>...</th>\n",
       "      <td>...</td>\n",
       "      <td>...</td>\n",
       "      <td>...</td>\n",
       "      <td>...</td>\n",
       "      <td>...</td>\n",
       "      <td>...</td>\n",
       "      <td>...</td>\n",
       "      <td>...</td>\n",
       "      <td>...</td>\n",
       "      <td>...</td>\n",
       "      <td>...</td>\n",
       "      <td>...</td>\n",
       "      <td>...</td>\n",
       "      <td>...</td>\n",
       "      <td>...</td>\n",
       "      <td>...</td>\n",
       "    </tr>\n",
       "    <tr>\n",
       "      <th>886</th>\n",
       "      <td>2</td>\n",
       "      <td>27.0</td>\n",
       "      <td>0</td>\n",
       "      <td>0</td>\n",
       "      <td>211536</td>\n",
       "      <td>13.0000</td>\n",
       "      <td>NaN</td>\n",
       "      <td>0</td>\n",
       "      <td>0</td>\n",
       "      <td>0</td>\n",
       "      <td>0</td>\n",
       "      <td>0</td>\n",
       "      <td>0</td>\n",
       "      <td>1</td>\n",
       "      <td>0</td>\n",
       "      <td>1</td>\n",
       "    </tr>\n",
       "    <tr>\n",
       "      <th>887</th>\n",
       "      <td>1</td>\n",
       "      <td>19.0</td>\n",
       "      <td>0</td>\n",
       "      <td>0</td>\n",
       "      <td>112053</td>\n",
       "      <td>30.0000</td>\n",
       "      <td>B42</td>\n",
       "      <td>0</td>\n",
       "      <td>1</td>\n",
       "      <td>0</td>\n",
       "      <td>0</td>\n",
       "      <td>0</td>\n",
       "      <td>0</td>\n",
       "      <td>1</td>\n",
       "      <td>1</td>\n",
       "      <td>0</td>\n",
       "    </tr>\n",
       "    <tr>\n",
       "      <th>888</th>\n",
       "      <td>3</td>\n",
       "      <td>NaN</td>\n",
       "      <td>1</td>\n",
       "      <td>2</td>\n",
       "      <td>W./C. 6607</td>\n",
       "      <td>23.4500</td>\n",
       "      <td>NaN</td>\n",
       "      <td>0</td>\n",
       "      <td>1</td>\n",
       "      <td>0</td>\n",
       "      <td>0</td>\n",
       "      <td>0</td>\n",
       "      <td>0</td>\n",
       "      <td>1</td>\n",
       "      <td>1</td>\n",
       "      <td>0</td>\n",
       "    </tr>\n",
       "    <tr>\n",
       "      <th>889</th>\n",
       "      <td>1</td>\n",
       "      <td>26.0</td>\n",
       "      <td>0</td>\n",
       "      <td>0</td>\n",
       "      <td>111369</td>\n",
       "      <td>30.0000</td>\n",
       "      <td>C148</td>\n",
       "      <td>1</td>\n",
       "      <td>0</td>\n",
       "      <td>0</td>\n",
       "      <td>0</td>\n",
       "      <td>1</td>\n",
       "      <td>0</td>\n",
       "      <td>0</td>\n",
       "      <td>0</td>\n",
       "      <td>1</td>\n",
       "    </tr>\n",
       "    <tr>\n",
       "      <th>890</th>\n",
       "      <td>3</td>\n",
       "      <td>32.0</td>\n",
       "      <td>0</td>\n",
       "      <td>0</td>\n",
       "      <td>370376</td>\n",
       "      <td>7.7500</td>\n",
       "      <td>NaN</td>\n",
       "      <td>1</td>\n",
       "      <td>0</td>\n",
       "      <td>0</td>\n",
       "      <td>0</td>\n",
       "      <td>0</td>\n",
       "      <td>1</td>\n",
       "      <td>0</td>\n",
       "      <td>0</td>\n",
       "      <td>1</td>\n",
       "    </tr>\n",
       "  </tbody>\n",
       "</table>\n",
       "<p>891 rows × 16 columns</p>\n",
       "</div>"
      ],
      "text/plain": [
       "     Pclass   Age  SibSp  Parch            Ticket     Fare Cabin  is_Mr.  \\\n",
       "0         3  22.0      1      0         A/5 21171   7.2500   NaN       1   \n",
       "1         1  38.0      1      0          PC 17599  71.2833   C85       0   \n",
       "2         3  26.0      0      0  STON/O2. 3101282   7.9250   NaN       0   \n",
       "3         1  35.0      1      0            113803  53.1000  C123       0   \n",
       "4         3  35.0      0      0            373450   8.0500   NaN       1   \n",
       "..      ...   ...    ...    ...               ...      ...   ...     ...   \n",
       "886       2  27.0      0      0            211536  13.0000   NaN       0   \n",
       "887       1  19.0      0      0            112053  30.0000   B42       0   \n",
       "888       3   NaN      1      2        W./C. 6607  23.4500   NaN       0   \n",
       "889       1  26.0      0      0            111369  30.0000  C148       1   \n",
       "890       3  32.0      0      0            370376   7.7500   NaN       1   \n",
       "\n",
       "     is_Miss.  is_Mrs.  is_Master.  Embarked_C  Embarked_Q  Embarked_S  \\\n",
       "0           0        0           0           0           0           1   \n",
       "1           0        1           0           1           0           0   \n",
       "2           1        0           0           0           0           1   \n",
       "3           0        1           0           0           0           1   \n",
       "4           0        0           0           0           0           1   \n",
       "..        ...      ...         ...         ...         ...         ...   \n",
       "886         0        0           0           0           0           1   \n",
       "887         1        0           0           0           0           1   \n",
       "888         1        0           0           0           0           1   \n",
       "889         0        0           0           1           0           0   \n",
       "890         0        0           0           0           1           0   \n",
       "\n",
       "     Sex_female  Sex_male  \n",
       "0             0         1  \n",
       "1             1         0  \n",
       "2             1         0  \n",
       "3             1         0  \n",
       "4             0         1  \n",
       "..          ...       ...  \n",
       "886           0         1  \n",
       "887           1         0  \n",
       "888           1         0  \n",
       "889           0         1  \n",
       "890           0         1  \n",
       "\n",
       "[891 rows x 16 columns]"
      ]
     },
     "execution_count": 9,
     "metadata": {},
     "output_type": "execute_result"
    }
   ],
   "source": [
    "X_train"
   ]
  },
  {
   "cell_type": "code",
   "execution_count": 10,
   "id": "58df1260",
   "metadata": {
    "ExecuteTime": {
     "end_time": "2024-01-13T13:34:30.930169Z",
     "start_time": "2024-01-13T13:34:30.925076Z"
    },
    "execution": {
     "iopub.execute_input": "2024-01-13T16:04:07.873247Z",
     "iopub.status.busy": "2024-01-13T16:04:07.872803Z",
     "iopub.status.idle": "2024-01-13T16:04:07.882020Z",
     "shell.execute_reply": "2024-01-13T16:04:07.880548Z"
    },
    "papermill": {
     "duration": 0.026034,
     "end_time": "2024-01-13T16:04:07.885540",
     "exception": false,
     "start_time": "2024-01-13T16:04:07.859506",
     "status": "completed"
    },
    "tags": []
   },
   "outputs": [],
   "source": [
    "X_train = X_train.drop(columns=['Ticket', 'Cabin'])\n",
    "X_test = X_test.drop(columns=['Ticket', 'Cabin'])"
   ]
  },
  {
   "cell_type": "code",
   "execution_count": 11,
   "id": "9db8c60e",
   "metadata": {
    "ExecuteTime": {
     "end_time": "2024-01-13T13:34:31.743718Z",
     "start_time": "2024-01-13T13:34:31.727755Z"
    },
    "execution": {
     "iopub.execute_input": "2024-01-13T16:04:07.914305Z",
     "iopub.status.busy": "2024-01-13T16:04:07.913230Z",
     "iopub.status.idle": "2024-01-13T16:04:07.936251Z",
     "shell.execute_reply": "2024-01-13T16:04:07.935413Z"
    },
    "papermill": {
     "duration": 0.039477,
     "end_time": "2024-01-13T16:04:07.938757",
     "exception": false,
     "start_time": "2024-01-13T16:04:07.899280",
     "status": "completed"
    },
    "tags": []
   },
   "outputs": [
    {
     "data": {
      "text/html": [
       "<div>\n",
       "<style scoped>\n",
       "    .dataframe tbody tr th:only-of-type {\n",
       "        vertical-align: middle;\n",
       "    }\n",
       "\n",
       "    .dataframe tbody tr th {\n",
       "        vertical-align: top;\n",
       "    }\n",
       "\n",
       "    .dataframe thead th {\n",
       "        text-align: right;\n",
       "    }\n",
       "</style>\n",
       "<table border=\"1\" class=\"dataframe\">\n",
       "  <thead>\n",
       "    <tr style=\"text-align: right;\">\n",
       "      <th></th>\n",
       "      <th>Pclass</th>\n",
       "      <th>Age</th>\n",
       "      <th>SibSp</th>\n",
       "      <th>Parch</th>\n",
       "      <th>Fare</th>\n",
       "      <th>is_Mr.</th>\n",
       "      <th>is_Miss.</th>\n",
       "      <th>is_Mrs.</th>\n",
       "      <th>is_Master.</th>\n",
       "      <th>Embarked_C</th>\n",
       "      <th>Embarked_Q</th>\n",
       "      <th>Embarked_S</th>\n",
       "      <th>Sex_female</th>\n",
       "      <th>Sex_male</th>\n",
       "    </tr>\n",
       "  </thead>\n",
       "  <tbody>\n",
       "    <tr>\n",
       "      <th>0</th>\n",
       "      <td>3</td>\n",
       "      <td>34.5</td>\n",
       "      <td>0</td>\n",
       "      <td>0</td>\n",
       "      <td>7.8292</td>\n",
       "      <td>1</td>\n",
       "      <td>0</td>\n",
       "      <td>0</td>\n",
       "      <td>0</td>\n",
       "      <td>0</td>\n",
       "      <td>1</td>\n",
       "      <td>0</td>\n",
       "      <td>0</td>\n",
       "      <td>1</td>\n",
       "    </tr>\n",
       "    <tr>\n",
       "      <th>1</th>\n",
       "      <td>3</td>\n",
       "      <td>47.0</td>\n",
       "      <td>1</td>\n",
       "      <td>0</td>\n",
       "      <td>7.0000</td>\n",
       "      <td>0</td>\n",
       "      <td>0</td>\n",
       "      <td>1</td>\n",
       "      <td>0</td>\n",
       "      <td>0</td>\n",
       "      <td>0</td>\n",
       "      <td>1</td>\n",
       "      <td>1</td>\n",
       "      <td>0</td>\n",
       "    </tr>\n",
       "    <tr>\n",
       "      <th>2</th>\n",
       "      <td>2</td>\n",
       "      <td>62.0</td>\n",
       "      <td>0</td>\n",
       "      <td>0</td>\n",
       "      <td>9.6875</td>\n",
       "      <td>1</td>\n",
       "      <td>0</td>\n",
       "      <td>0</td>\n",
       "      <td>0</td>\n",
       "      <td>0</td>\n",
       "      <td>1</td>\n",
       "      <td>0</td>\n",
       "      <td>0</td>\n",
       "      <td>1</td>\n",
       "    </tr>\n",
       "    <tr>\n",
       "      <th>3</th>\n",
       "      <td>3</td>\n",
       "      <td>27.0</td>\n",
       "      <td>0</td>\n",
       "      <td>0</td>\n",
       "      <td>8.6625</td>\n",
       "      <td>1</td>\n",
       "      <td>0</td>\n",
       "      <td>0</td>\n",
       "      <td>0</td>\n",
       "      <td>0</td>\n",
       "      <td>0</td>\n",
       "      <td>1</td>\n",
       "      <td>0</td>\n",
       "      <td>1</td>\n",
       "    </tr>\n",
       "    <tr>\n",
       "      <th>4</th>\n",
       "      <td>3</td>\n",
       "      <td>22.0</td>\n",
       "      <td>1</td>\n",
       "      <td>1</td>\n",
       "      <td>12.2875</td>\n",
       "      <td>0</td>\n",
       "      <td>0</td>\n",
       "      <td>1</td>\n",
       "      <td>0</td>\n",
       "      <td>0</td>\n",
       "      <td>0</td>\n",
       "      <td>1</td>\n",
       "      <td>1</td>\n",
       "      <td>0</td>\n",
       "    </tr>\n",
       "    <tr>\n",
       "      <th>...</th>\n",
       "      <td>...</td>\n",
       "      <td>...</td>\n",
       "      <td>...</td>\n",
       "      <td>...</td>\n",
       "      <td>...</td>\n",
       "      <td>...</td>\n",
       "      <td>...</td>\n",
       "      <td>...</td>\n",
       "      <td>...</td>\n",
       "      <td>...</td>\n",
       "      <td>...</td>\n",
       "      <td>...</td>\n",
       "      <td>...</td>\n",
       "      <td>...</td>\n",
       "    </tr>\n",
       "    <tr>\n",
       "      <th>413</th>\n",
       "      <td>3</td>\n",
       "      <td>NaN</td>\n",
       "      <td>0</td>\n",
       "      <td>0</td>\n",
       "      <td>8.0500</td>\n",
       "      <td>1</td>\n",
       "      <td>0</td>\n",
       "      <td>0</td>\n",
       "      <td>0</td>\n",
       "      <td>0</td>\n",
       "      <td>0</td>\n",
       "      <td>1</td>\n",
       "      <td>0</td>\n",
       "      <td>1</td>\n",
       "    </tr>\n",
       "    <tr>\n",
       "      <th>414</th>\n",
       "      <td>1</td>\n",
       "      <td>39.0</td>\n",
       "      <td>0</td>\n",
       "      <td>0</td>\n",
       "      <td>108.9000</td>\n",
       "      <td>0</td>\n",
       "      <td>0</td>\n",
       "      <td>0</td>\n",
       "      <td>0</td>\n",
       "      <td>1</td>\n",
       "      <td>0</td>\n",
       "      <td>0</td>\n",
       "      <td>1</td>\n",
       "      <td>0</td>\n",
       "    </tr>\n",
       "    <tr>\n",
       "      <th>415</th>\n",
       "      <td>3</td>\n",
       "      <td>38.5</td>\n",
       "      <td>0</td>\n",
       "      <td>0</td>\n",
       "      <td>7.2500</td>\n",
       "      <td>1</td>\n",
       "      <td>0</td>\n",
       "      <td>0</td>\n",
       "      <td>0</td>\n",
       "      <td>0</td>\n",
       "      <td>0</td>\n",
       "      <td>1</td>\n",
       "      <td>0</td>\n",
       "      <td>1</td>\n",
       "    </tr>\n",
       "    <tr>\n",
       "      <th>416</th>\n",
       "      <td>3</td>\n",
       "      <td>NaN</td>\n",
       "      <td>0</td>\n",
       "      <td>0</td>\n",
       "      <td>8.0500</td>\n",
       "      <td>1</td>\n",
       "      <td>0</td>\n",
       "      <td>0</td>\n",
       "      <td>0</td>\n",
       "      <td>0</td>\n",
       "      <td>0</td>\n",
       "      <td>1</td>\n",
       "      <td>0</td>\n",
       "      <td>1</td>\n",
       "    </tr>\n",
       "    <tr>\n",
       "      <th>417</th>\n",
       "      <td>3</td>\n",
       "      <td>NaN</td>\n",
       "      <td>1</td>\n",
       "      <td>1</td>\n",
       "      <td>22.3583</td>\n",
       "      <td>0</td>\n",
       "      <td>0</td>\n",
       "      <td>0</td>\n",
       "      <td>1</td>\n",
       "      <td>1</td>\n",
       "      <td>0</td>\n",
       "      <td>0</td>\n",
       "      <td>0</td>\n",
       "      <td>1</td>\n",
       "    </tr>\n",
       "  </tbody>\n",
       "</table>\n",
       "<p>418 rows × 14 columns</p>\n",
       "</div>"
      ],
      "text/plain": [
       "     Pclass   Age  SibSp  Parch      Fare  is_Mr.  is_Miss.  is_Mrs.  \\\n",
       "0         3  34.5      0      0    7.8292       1         0        0   \n",
       "1         3  47.0      1      0    7.0000       0         0        1   \n",
       "2         2  62.0      0      0    9.6875       1         0        0   \n",
       "3         3  27.0      0      0    8.6625       1         0        0   \n",
       "4         3  22.0      1      1   12.2875       0         0        1   \n",
       "..      ...   ...    ...    ...       ...     ...       ...      ...   \n",
       "413       3   NaN      0      0    8.0500       1         0        0   \n",
       "414       1  39.0      0      0  108.9000       0         0        0   \n",
       "415       3  38.5      0      0    7.2500       1         0        0   \n",
       "416       3   NaN      0      0    8.0500       1         0        0   \n",
       "417       3   NaN      1      1   22.3583       0         0        0   \n",
       "\n",
       "     is_Master.  Embarked_C  Embarked_Q  Embarked_S  Sex_female  Sex_male  \n",
       "0             0           0           1           0           0         1  \n",
       "1             0           0           0           1           1         0  \n",
       "2             0           0           1           0           0         1  \n",
       "3             0           0           0           1           0         1  \n",
       "4             0           0           0           1           1         0  \n",
       "..          ...         ...         ...         ...         ...       ...  \n",
       "413           0           0           0           1           0         1  \n",
       "414           0           1           0           0           1         0  \n",
       "415           0           0           0           1           0         1  \n",
       "416           0           0           0           1           0         1  \n",
       "417           1           1           0           0           0         1  \n",
       "\n",
       "[418 rows x 14 columns]"
      ]
     },
     "execution_count": 11,
     "metadata": {},
     "output_type": "execute_result"
    }
   ],
   "source": [
    "X_test"
   ]
  },
  {
   "cell_type": "code",
   "execution_count": 12,
   "id": "264e90e6",
   "metadata": {
    "ExecuteTime": {
     "end_time": "2024-01-13T13:34:32.745716Z",
     "start_time": "2024-01-13T13:34:32.741529Z"
    },
    "execution": {
     "iopub.execute_input": "2024-01-13T16:04:07.965276Z",
     "iopub.status.busy": "2024-01-13T16:04:07.964548Z",
     "iopub.status.idle": "2024-01-13T16:04:07.971629Z",
     "shell.execute_reply": "2024-01-13T16:04:07.970736Z"
    },
    "papermill": {
     "duration": 0.022821,
     "end_time": "2024-01-13T16:04:07.974113",
     "exception": false,
     "start_time": "2024-01-13T16:04:07.951292",
     "status": "completed"
    },
    "tags": []
   },
   "outputs": [
    {
     "data": {
      "text/plain": [
       "29.69911764705882"
      ]
     },
     "execution_count": 12,
     "metadata": {},
     "output_type": "execute_result"
    }
   ],
   "source": [
    "X_train['Age'].mean()"
   ]
  },
  {
   "cell_type": "code",
   "execution_count": 13,
   "id": "cbd61c1b",
   "metadata": {
    "ExecuteTime": {
     "end_time": "2024-01-13T13:34:43.839473Z",
     "start_time": "2024-01-13T13:34:43.833982Z"
    },
    "execution": {
     "iopub.execute_input": "2024-01-13T16:04:08.000006Z",
     "iopub.status.busy": "2024-01-13T16:04:07.999225Z",
     "iopub.status.idle": "2024-01-13T16:04:08.006124Z",
     "shell.execute_reply": "2024-01-13T16:04:08.005116Z"
    },
    "papermill": {
     "duration": 0.022922,
     "end_time": "2024-01-13T16:04:08.008834",
     "exception": false,
     "start_time": "2024-01-13T16:04:07.985912",
     "status": "completed"
    },
    "tags": []
   },
   "outputs": [],
   "source": [
    "X_train['Age'] = X_train['Age'].fillna(X_train['Age'].mean())\n",
    "X_test['Age'] = X_test['Age'].fillna(X_test['Age'].mean())"
   ]
  },
  {
   "cell_type": "code",
   "execution_count": 14,
   "id": "caab9657",
   "metadata": {
    "ExecuteTime": {
     "end_time": "2024-01-13T13:34:44.972796Z",
     "start_time": "2024-01-13T13:34:44.329882Z"
    },
    "execution": {
     "iopub.execute_input": "2024-01-13T16:04:08.035284Z",
     "iopub.status.busy": "2024-01-13T16:04:08.034230Z",
     "iopub.status.idle": "2024-01-13T16:04:08.777883Z",
     "shell.execute_reply": "2024-01-13T16:04:08.775720Z"
    },
    "papermill": {
     "duration": 0.76058,
     "end_time": "2024-01-13T16:04:08.781293",
     "exception": false,
     "start_time": "2024-01-13T16:04:08.020713",
     "status": "completed"
    },
    "tags": []
   },
   "outputs": [
    {
     "data": {
      "text/plain": [
       "(0.8220466312371381, 0.8147690387016231)"
      ]
     },
     "execution_count": 14,
     "metadata": {},
     "output_type": "execute_result"
    }
   ],
   "source": [
    "model = XGBClassifier(min_child_weight=35, random_state=13)\n",
    "crossValidate(model, X_train, y_train)\n",
    "#35, no gamma"
   ]
  },
  {
   "cell_type": "code",
   "execution_count": 15,
   "id": "1a6df06d",
   "metadata": {
    "ExecuteTime": {
     "end_time": "2024-01-13T13:40:56.380135Z",
     "start_time": "2024-01-13T13:40:56.373645Z"
    },
    "execution": {
     "iopub.execute_input": "2024-01-13T16:04:08.819141Z",
     "iopub.status.busy": "2024-01-13T16:04:08.817583Z",
     "iopub.status.idle": "2024-01-13T16:04:08.825411Z",
     "shell.execute_reply": "2024-01-13T16:04:08.823977Z"
    },
    "papermill": {
     "duration": 0.025948,
     "end_time": "2024-01-13T16:04:08.828758",
     "exception": false,
     "start_time": "2024-01-13T16:04:08.802810",
     "status": "completed"
    },
    "tags": []
   },
   "outputs": [],
   "source": [
    "X_train['Age'] = train_data['Age']\n",
    "X_test['Age'] = test_data['Age']"
   ]
  },
  {
   "cell_type": "code",
   "execution_count": 16,
   "id": "e3ae4269",
   "metadata": {
    "ExecuteTime": {
     "end_time": "2024-01-13T13:40:56.742072Z",
     "start_time": "2024-01-13T13:40:56.736242Z"
    },
    "execution": {
     "iopub.execute_input": "2024-01-13T16:04:08.866549Z",
     "iopub.status.busy": "2024-01-13T16:04:08.866055Z",
     "iopub.status.idle": "2024-01-13T16:04:08.880501Z",
     "shell.execute_reply": "2024-01-13T16:04:08.878143Z"
    },
    "papermill": {
     "duration": 0.035683,
     "end_time": "2024-01-13T16:04:08.884092",
     "exception": false,
     "start_time": "2024-01-13T16:04:08.848409",
     "status": "completed"
    },
    "tags": []
   },
   "outputs": [
    {
     "data": {
      "text/plain": [
       "Pclass          0\n",
       "Age           177\n",
       "SibSp           0\n",
       "Parch           0\n",
       "Fare            0\n",
       "is_Mr.          0\n",
       "is_Miss.        0\n",
       "is_Mrs.         0\n",
       "is_Master.      0\n",
       "Embarked_C      0\n",
       "Embarked_Q      0\n",
       "Embarked_S      0\n",
       "Sex_female      0\n",
       "Sex_male        0\n",
       "dtype: int64"
      ]
     },
     "execution_count": 16,
     "metadata": {},
     "output_type": "execute_result"
    }
   ],
   "source": [
    "X_train.isna().sum()"
   ]
  },
  {
   "cell_type": "code",
   "execution_count": 17,
   "id": "283635b2",
   "metadata": {
    "ExecuteTime": {
     "end_time": "2024-01-13T13:40:57.526978Z",
     "start_time": "2024-01-13T13:40:57.514620Z"
    },
    "execution": {
     "iopub.execute_input": "2024-01-13T16:04:08.911061Z",
     "iopub.status.busy": "2024-01-13T16:04:08.910307Z",
     "iopub.status.idle": "2024-01-13T16:04:08.930236Z",
     "shell.execute_reply": "2024-01-13T16:04:08.928848Z"
    },
    "papermill": {
     "duration": 0.036381,
     "end_time": "2024-01-13T16:04:08.933084",
     "exception": false,
     "start_time": "2024-01-13T16:04:08.896703",
     "status": "completed"
    },
    "tags": []
   },
   "outputs": [
    {
     "data": {
      "text/plain": [
       "(Age    32.36809\n",
       " dtype: float64,\n",
       " Age    21.773973\n",
       " dtype: float64,\n",
       " Age    4.574167\n",
       " dtype: float64,\n",
       " Age    35.898148\n",
       " dtype: float64)"
      ]
     },
     "execution_count": 17,
     "metadata": {},
     "output_type": "execute_result"
    }
   ],
   "source": [
    "mr_age_mean = X_train.loc[X_train['is_Mr.'] == 1, ['Age']].mean()\n",
    "miss_age_mean = X_train.loc[X_train['is_Miss.'] == 1, ['Age']].mean()\n",
    "master_age_mean = X_train.loc[X_train['is_Master.'] == 1, ['Age']].mean()\n",
    "mrs_age_mean = X_train.loc[X_train['is_Mrs.'] == 1, ['Age']].mean()\n",
    "mr_age_mean, miss_age_mean, master_age_mean, mrs_age_mean"
   ]
  },
  {
   "cell_type": "code",
   "execution_count": 18,
   "id": "a1b1151d",
   "metadata": {
    "ExecuteTime": {
     "end_time": "2024-01-13T13:40:58.043884Z",
     "start_time": "2024-01-13T13:40:58.025981Z"
    },
    "execution": {
     "iopub.execute_input": "2024-01-13T16:04:08.961267Z",
     "iopub.status.busy": "2024-01-13T16:04:08.960438Z",
     "iopub.status.idle": "2024-01-13T16:04:08.984898Z",
     "shell.execute_reply": "2024-01-13T16:04:08.983544Z"
    },
    "papermill": {
     "duration": 0.042661,
     "end_time": "2024-01-13T16:04:08.988069",
     "exception": false,
     "start_time": "2024-01-13T16:04:08.945408",
     "status": "completed"
    },
    "tags": []
   },
   "outputs": [],
   "source": [
    "X_train.loc[X_train['is_Mr.'] == 1, 'Age'] = X_train.loc[X_train['is_Mr.'] == 1, 'Age'].fillna(32.36809)\n",
    "X_train.loc[X_train['is_Miss.'] == 1, 'Age'] = X_train.loc[X_train['is_Miss.'] == 1, 'Age'].fillna(21.773973)\n",
    "X_train.loc[X_train['is_Master.'] == 1, 'Age'] = X_train.loc[X_train['is_Master.'] == 1, 'Age'].fillna(4.574167)\n",
    "X_train.loc[X_train['is_Mrs.'] == 1, 'Age'] = X_train.loc[X_train['is_Mrs.'] == 1, 'Age'].fillna(35.898148)\n",
    "X_test.loc[X_test['is_Mr.'] == 1, 'Age'] = X_test.loc[X_test['is_Mr.'] == 1, 'Age'].fillna(32.36809)\n",
    "X_test.loc[X_test['is_Miss.'] == 1, 'Age'] = X_test.loc[X_test['is_Miss.'] == 1, 'Age'].fillna(21.773973)\n",
    "X_test.loc[X_test['is_Master.'] == 1, 'Age'] = X_test.loc[X_test['is_Master.'] == 1, 'Age'].fillna(4.574167)\n",
    "X_test.loc[X_test['is_Mrs.'] == 1, 'Age'] = X_test.loc[X_test['is_Mrs.'] == 1, 'Age'].fillna(35.898148)\n",
    "X_train['Age'] = X_train['Age'].fillna(X_train['Age'].mean())\n",
    "X_test['Age'] = X_test['Age'].fillna(X_test['Age'].mean())"
   ]
  },
  {
   "cell_type": "code",
   "execution_count": 19,
   "id": "57d36579",
   "metadata": {
    "ExecuteTime": {
     "end_time": "2024-01-13T13:42:08.169100Z",
     "start_time": "2024-01-13T13:42:08.164113Z"
    },
    "execution": {
     "iopub.execute_input": "2024-01-13T16:04:09.015844Z",
     "iopub.status.busy": "2024-01-13T16:04:09.015401Z",
     "iopub.status.idle": "2024-01-13T16:04:09.022856Z",
     "shell.execute_reply": "2024-01-13T16:04:09.021855Z"
    },
    "papermill": {
     "duration": 0.023869,
     "end_time": "2024-01-13T16:04:09.025143",
     "exception": false,
     "start_time": "2024-01-13T16:04:09.001274",
     "status": "completed"
    },
    "tags": []
   },
   "outputs": [],
   "source": [
    "X_test['Fare'] = X_test['Fare'].fillna(X_test.loc[X_test['Pclass'] == 3, 'Fare'].mean())"
   ]
  },
  {
   "cell_type": "code",
   "execution_count": 20,
   "id": "afa40e37",
   "metadata": {
    "ExecuteTime": {
     "end_time": "2024-01-13T13:42:59.590615Z",
     "start_time": "2024-01-13T13:42:58.949728Z"
    },
    "execution": {
     "iopub.execute_input": "2024-01-13T16:04:09.056716Z",
     "iopub.status.busy": "2024-01-13T16:04:09.055856Z",
     "iopub.status.idle": "2024-01-13T16:04:09.811917Z",
     "shell.execute_reply": "2024-01-13T16:04:09.810546Z"
    },
    "papermill": {
     "duration": 0.777298,
     "end_time": "2024-01-13T16:04:09.815416",
     "exception": false,
     "start_time": "2024-01-13T16:04:09.038118",
     "status": "completed"
    },
    "tags": []
   },
   "outputs": [
    {
     "data": {
      "text/plain": [
       "(0.8236680458653615, 0.8181148564294632)"
      ]
     },
     "execution_count": 20,
     "metadata": {},
     "output_type": "execute_result"
    }
   ],
   "source": [
    "model = XGBClassifier(min_child_weight=36, random_state=13)\n",
    "crossValidate(model, X_train, y_train)"
   ]
  },
  {
   "cell_type": "code",
   "execution_count": 21,
   "id": "13dd0cbd",
   "metadata": {
    "ExecuteTime": {
     "end_time": "2024-01-13T13:43:47.385351Z",
     "start_time": "2024-01-13T13:43:47.373384Z"
    },
    "execution": {
     "iopub.execute_input": "2024-01-13T16:04:09.843758Z",
     "iopub.status.busy": "2024-01-13T16:04:09.843293Z",
     "iopub.status.idle": "2024-01-13T16:04:09.861504Z",
     "shell.execute_reply": "2024-01-13T16:04:09.860434Z"
    },
    "papermill": {
     "duration": 0.035634,
     "end_time": "2024-01-13T16:04:09.865047",
     "exception": false,
     "start_time": "2024-01-13T16:04:09.829413",
     "status": "completed"
    },
    "tags": []
   },
   "outputs": [],
   "source": [
    "out(model.predict(X_test))"
   ]
  },
  {
   "cell_type": "code",
   "execution_count": 22,
   "id": "78f72a48",
   "metadata": {
    "ExecuteTime": {
     "end_time": "2024-01-13T15:02:15.468490Z",
     "start_time": "2024-01-13T15:02:15.453104Z"
    },
    "execution": {
     "iopub.execute_input": "2024-01-13T16:04:09.895021Z",
     "iopub.status.busy": "2024-01-13T16:04:09.893913Z",
     "iopub.status.idle": "2024-01-13T16:04:09.919918Z",
     "shell.execute_reply": "2024-01-13T16:04:09.918936Z"
    },
    "papermill": {
     "duration": 0.043578,
     "end_time": "2024-01-13T16:04:09.922437",
     "exception": false,
     "start_time": "2024-01-13T16:04:09.878859",
     "status": "completed"
    },
    "tags": []
   },
   "outputs": [
    {
     "data": {
      "text/html": [
       "<div>\n",
       "<style scoped>\n",
       "    .dataframe tbody tr th:only-of-type {\n",
       "        vertical-align: middle;\n",
       "    }\n",
       "\n",
       "    .dataframe tbody tr th {\n",
       "        vertical-align: top;\n",
       "    }\n",
       "\n",
       "    .dataframe thead th {\n",
       "        text-align: right;\n",
       "    }\n",
       "</style>\n",
       "<table border=\"1\" class=\"dataframe\">\n",
       "  <thead>\n",
       "    <tr style=\"text-align: right;\">\n",
       "      <th></th>\n",
       "      <th>Pclass</th>\n",
       "      <th>Age</th>\n",
       "      <th>SibSp</th>\n",
       "      <th>Parch</th>\n",
       "      <th>Fare</th>\n",
       "      <th>is_Mr.</th>\n",
       "      <th>is_Miss.</th>\n",
       "      <th>is_Mrs.</th>\n",
       "      <th>is_Master.</th>\n",
       "      <th>Embarked_C</th>\n",
       "      <th>Embarked_Q</th>\n",
       "      <th>Embarked_S</th>\n",
       "      <th>Sex_female</th>\n",
       "      <th>Sex_male</th>\n",
       "      <th>Pclass_+_Age</th>\n",
       "    </tr>\n",
       "  </thead>\n",
       "  <tbody>\n",
       "    <tr>\n",
       "      <th>0</th>\n",
       "      <td>3</td>\n",
       "      <td>22.000000</td>\n",
       "      <td>1</td>\n",
       "      <td>0</td>\n",
       "      <td>7.2500</td>\n",
       "      <td>1</td>\n",
       "      <td>0</td>\n",
       "      <td>0</td>\n",
       "      <td>0</td>\n",
       "      <td>0</td>\n",
       "      <td>0</td>\n",
       "      <td>1</td>\n",
       "      <td>0</td>\n",
       "      <td>1</td>\n",
       "      <td>25.000000</td>\n",
       "    </tr>\n",
       "    <tr>\n",
       "      <th>1</th>\n",
       "      <td>1</td>\n",
       "      <td>38.000000</td>\n",
       "      <td>1</td>\n",
       "      <td>0</td>\n",
       "      <td>71.2833</td>\n",
       "      <td>0</td>\n",
       "      <td>0</td>\n",
       "      <td>1</td>\n",
       "      <td>0</td>\n",
       "      <td>1</td>\n",
       "      <td>0</td>\n",
       "      <td>0</td>\n",
       "      <td>1</td>\n",
       "      <td>0</td>\n",
       "      <td>39.000000</td>\n",
       "    </tr>\n",
       "    <tr>\n",
       "      <th>2</th>\n",
       "      <td>3</td>\n",
       "      <td>26.000000</td>\n",
       "      <td>0</td>\n",
       "      <td>0</td>\n",
       "      <td>7.9250</td>\n",
       "      <td>0</td>\n",
       "      <td>1</td>\n",
       "      <td>0</td>\n",
       "      <td>0</td>\n",
       "      <td>0</td>\n",
       "      <td>0</td>\n",
       "      <td>1</td>\n",
       "      <td>1</td>\n",
       "      <td>0</td>\n",
       "      <td>29.000000</td>\n",
       "    </tr>\n",
       "    <tr>\n",
       "      <th>3</th>\n",
       "      <td>1</td>\n",
       "      <td>35.000000</td>\n",
       "      <td>1</td>\n",
       "      <td>0</td>\n",
       "      <td>53.1000</td>\n",
       "      <td>0</td>\n",
       "      <td>0</td>\n",
       "      <td>1</td>\n",
       "      <td>0</td>\n",
       "      <td>0</td>\n",
       "      <td>0</td>\n",
       "      <td>1</td>\n",
       "      <td>1</td>\n",
       "      <td>0</td>\n",
       "      <td>36.000000</td>\n",
       "    </tr>\n",
       "    <tr>\n",
       "      <th>4</th>\n",
       "      <td>3</td>\n",
       "      <td>35.000000</td>\n",
       "      <td>0</td>\n",
       "      <td>0</td>\n",
       "      <td>8.0500</td>\n",
       "      <td>1</td>\n",
       "      <td>0</td>\n",
       "      <td>0</td>\n",
       "      <td>0</td>\n",
       "      <td>0</td>\n",
       "      <td>0</td>\n",
       "      <td>1</td>\n",
       "      <td>0</td>\n",
       "      <td>1</td>\n",
       "      <td>38.000000</td>\n",
       "    </tr>\n",
       "    <tr>\n",
       "      <th>...</th>\n",
       "      <td>...</td>\n",
       "      <td>...</td>\n",
       "      <td>...</td>\n",
       "      <td>...</td>\n",
       "      <td>...</td>\n",
       "      <td>...</td>\n",
       "      <td>...</td>\n",
       "      <td>...</td>\n",
       "      <td>...</td>\n",
       "      <td>...</td>\n",
       "      <td>...</td>\n",
       "      <td>...</td>\n",
       "      <td>...</td>\n",
       "      <td>...</td>\n",
       "      <td>...</td>\n",
       "    </tr>\n",
       "    <tr>\n",
       "      <th>886</th>\n",
       "      <td>2</td>\n",
       "      <td>27.000000</td>\n",
       "      <td>0</td>\n",
       "      <td>0</td>\n",
       "      <td>13.0000</td>\n",
       "      <td>0</td>\n",
       "      <td>0</td>\n",
       "      <td>0</td>\n",
       "      <td>0</td>\n",
       "      <td>0</td>\n",
       "      <td>0</td>\n",
       "      <td>1</td>\n",
       "      <td>0</td>\n",
       "      <td>1</td>\n",
       "      <td>29.000000</td>\n",
       "    </tr>\n",
       "    <tr>\n",
       "      <th>887</th>\n",
       "      <td>1</td>\n",
       "      <td>19.000000</td>\n",
       "      <td>0</td>\n",
       "      <td>0</td>\n",
       "      <td>30.0000</td>\n",
       "      <td>0</td>\n",
       "      <td>1</td>\n",
       "      <td>0</td>\n",
       "      <td>0</td>\n",
       "      <td>0</td>\n",
       "      <td>0</td>\n",
       "      <td>1</td>\n",
       "      <td>1</td>\n",
       "      <td>0</td>\n",
       "      <td>20.000000</td>\n",
       "    </tr>\n",
       "    <tr>\n",
       "      <th>888</th>\n",
       "      <td>3</td>\n",
       "      <td>21.773973</td>\n",
       "      <td>1</td>\n",
       "      <td>2</td>\n",
       "      <td>23.4500</td>\n",
       "      <td>0</td>\n",
       "      <td>1</td>\n",
       "      <td>0</td>\n",
       "      <td>0</td>\n",
       "      <td>0</td>\n",
       "      <td>0</td>\n",
       "      <td>1</td>\n",
       "      <td>1</td>\n",
       "      <td>0</td>\n",
       "      <td>24.773973</td>\n",
       "    </tr>\n",
       "    <tr>\n",
       "      <th>889</th>\n",
       "      <td>1</td>\n",
       "      <td>26.000000</td>\n",
       "      <td>0</td>\n",
       "      <td>0</td>\n",
       "      <td>30.0000</td>\n",
       "      <td>1</td>\n",
       "      <td>0</td>\n",
       "      <td>0</td>\n",
       "      <td>0</td>\n",
       "      <td>1</td>\n",
       "      <td>0</td>\n",
       "      <td>0</td>\n",
       "      <td>0</td>\n",
       "      <td>1</td>\n",
       "      <td>27.000000</td>\n",
       "    </tr>\n",
       "    <tr>\n",
       "      <th>890</th>\n",
       "      <td>3</td>\n",
       "      <td>32.000000</td>\n",
       "      <td>0</td>\n",
       "      <td>0</td>\n",
       "      <td>7.7500</td>\n",
       "      <td>1</td>\n",
       "      <td>0</td>\n",
       "      <td>0</td>\n",
       "      <td>0</td>\n",
       "      <td>0</td>\n",
       "      <td>1</td>\n",
       "      <td>0</td>\n",
       "      <td>0</td>\n",
       "      <td>1</td>\n",
       "      <td>35.000000</td>\n",
       "    </tr>\n",
       "  </tbody>\n",
       "</table>\n",
       "<p>891 rows × 15 columns</p>\n",
       "</div>"
      ],
      "text/plain": [
       "     Pclass        Age  SibSp  Parch     Fare  is_Mr.  is_Miss.  is_Mrs.  \\\n",
       "0         3  22.000000      1      0   7.2500       1         0        0   \n",
       "1         1  38.000000      1      0  71.2833       0         0        1   \n",
       "2         3  26.000000      0      0   7.9250       0         1        0   \n",
       "3         1  35.000000      1      0  53.1000       0         0        1   \n",
       "4         3  35.000000      0      0   8.0500       1         0        0   \n",
       "..      ...        ...    ...    ...      ...     ...       ...      ...   \n",
       "886       2  27.000000      0      0  13.0000       0         0        0   \n",
       "887       1  19.000000      0      0  30.0000       0         1        0   \n",
       "888       3  21.773973      1      2  23.4500       0         1        0   \n",
       "889       1  26.000000      0      0  30.0000       1         0        0   \n",
       "890       3  32.000000      0      0   7.7500       1         0        0   \n",
       "\n",
       "     is_Master.  Embarked_C  Embarked_Q  Embarked_S  Sex_female  Sex_male  \\\n",
       "0             0           0           0           1           0         1   \n",
       "1             0           1           0           0           1         0   \n",
       "2             0           0           0           1           1         0   \n",
       "3             0           0           0           1           1         0   \n",
       "4             0           0           0           1           0         1   \n",
       "..          ...         ...         ...         ...         ...       ...   \n",
       "886           0           0           0           1           0         1   \n",
       "887           0           0           0           1           1         0   \n",
       "888           0           0           0           1           1         0   \n",
       "889           0           1           0           0           0         1   \n",
       "890           0           0           1           0           0         1   \n",
       "\n",
       "     Pclass_+_Age  \n",
       "0       25.000000  \n",
       "1       39.000000  \n",
       "2       29.000000  \n",
       "3       36.000000  \n",
       "4       38.000000  \n",
       "..            ...  \n",
       "886     29.000000  \n",
       "887     20.000000  \n",
       "888     24.773973  \n",
       "889     27.000000  \n",
       "890     35.000000  \n",
       "\n",
       "[891 rows x 15 columns]"
      ]
     },
     "execution_count": 22,
     "metadata": {},
     "output_type": "execute_result"
    }
   ],
   "source": [
    "X_train1 = X_train.copy()\n",
    "X_train1['Pclass_+_Age'] = X_train1['Pclass'] + X_train1['Age']\n",
    "X_train1"
   ]
  },
  {
   "cell_type": "code",
   "execution_count": 23,
   "id": "cb49826f",
   "metadata": {
    "ExecuteTime": {
     "end_time": "2024-01-13T15:56:35.325333Z",
     "start_time": "2024-01-13T15:56:34.678629Z"
    },
    "execution": {
     "iopub.execute_input": "2024-01-13T16:04:09.952480Z",
     "iopub.status.busy": "2024-01-13T16:04:09.951816Z",
     "iopub.status.idle": "2024-01-13T16:04:10.635419Z",
     "shell.execute_reply": "2024-01-13T16:04:10.634418Z"
    },
    "papermill": {
     "duration": 0.701874,
     "end_time": "2024-01-13T16:04:10.639091",
     "exception": false,
     "start_time": "2024-01-13T16:04:09.937217",
     "status": "completed"
    },
    "tags": []
   },
   "outputs": [
    {
     "data": {
      "text/plain": [
       "(0.8269105637902745, 0.8226092384519351)"
      ]
     },
     "execution_count": 23,
     "metadata": {},
     "output_type": "execute_result"
    }
   ],
   "source": [
    "model = XGBClassifier(gamma=0.15, min_child_weight=35, random_state=13)\n",
    "crossValidate(model, X_train1, y_train)"
   ]
  },
  {
   "cell_type": "code",
   "execution_count": 24,
   "id": "20dfc94a",
   "metadata": {
    "ExecuteTime": {
     "end_time": "2024-01-13T15:56:38.070193Z",
     "start_time": "2024-01-13T15:56:38.057325Z"
    },
    "execution": {
     "iopub.execute_input": "2024-01-13T16:04:10.670230Z",
     "iopub.status.busy": "2024-01-13T16:04:10.669807Z",
     "iopub.status.idle": "2024-01-13T16:04:10.692070Z",
     "shell.execute_reply": "2024-01-13T16:04:10.690911Z"
    },
    "papermill": {
     "duration": 0.040034,
     "end_time": "2024-01-13T16:04:10.695219",
     "exception": false,
     "start_time": "2024-01-13T16:04:10.655185",
     "status": "completed"
    },
    "tags": []
   },
   "outputs": [],
   "source": [
    "X_test1 = X_test.copy()\n",
    "X_test1['Pclass_+_Age'] = X_test1['Pclass'] + X_test1['Age']\n",
    "out(model.predict(X_test1))"
   ]
  }
 ],
 "metadata": {
  "kaggle": {
   "accelerator": "none",
   "dataSources": [
    {
     "databundleVersionId": 26502,
     "sourceId": 3136,
     "sourceType": "competition"
    }
   ],
   "dockerImageVersionId": 30635,
   "isGpuEnabled": false,
   "isInternetEnabled": true,
   "language": "python",
   "sourceType": "notebook"
  },
  "kernelspec": {
   "display_name": "Python 3",
   "language": "python",
   "name": "python3"
  },
  "language_info": {
   "codemirror_mode": {
    "name": "ipython",
    "version": 3
   },
   "file_extension": ".py",
   "mimetype": "text/x-python",
   "name": "python",
   "nbconvert_exporter": "python",
   "pygments_lexer": "ipython3",
   "version": "3.12.2"
  },
  "nbTranslate": {
   "displayLangs": [
    "*"
   ],
   "hotkey": "alt-t",
   "langInMainMenu": true,
   "sourceLang": "en",
   "targetLang": "fr",
   "useGoogleTranslate": true
  },
  "papermill": {
   "default_parameters": {},
   "duration": 11.634621,
   "end_time": "2024-01-13T16:04:11.434188",
   "environment_variables": {},
   "exception": null,
   "input_path": "__notebook__.ipynb",
   "output_path": "__notebook__.ipynb",
   "parameters": {},
   "start_time": "2024-01-13T16:03:59.799567",
   "version": "2.4.0"
  },
  "toc": {
   "base_numbering": 1,
   "nav_menu": {},
   "number_sections": true,
   "sideBar": true,
   "skip_h1_title": false,
   "title_cell": "Table of Contents",
   "title_sidebar": "Contents",
   "toc_cell": false,
   "toc_position": {},
   "toc_section_display": true,
   "toc_window_display": false
  },
  "varInspector": {
   "cols": {
    "lenName": 16,
    "lenType": 16,
    "lenVar": 40
   },
   "kernels_config": {
    "python": {
     "delete_cmd_postfix": "",
     "delete_cmd_prefix": "del ",
     "library": "var_list.py",
     "varRefreshCmd": "print(var_dic_list())"
    },
    "r": {
     "delete_cmd_postfix": ") ",
     "delete_cmd_prefix": "rm(",
     "library": "var_list.r",
     "varRefreshCmd": "cat(var_dic_list()) "
    }
   },
   "types_to_exclude": [
    "module",
    "function",
    "builtin_function_or_method",
    "instance",
    "_Feature"
   ],
   "window_display": false
  }
 },
 "nbformat": 4,
 "nbformat_minor": 5
}

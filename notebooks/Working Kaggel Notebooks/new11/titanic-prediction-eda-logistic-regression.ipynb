{
 "cells": [
  {
   "cell_type": "code",
   "execution_count": 23,
   "id": "07e115f6",
   "metadata": {
    "execution": {
     "iopub.execute_input": "2024-01-23T05:05:59.136118Z",
     "iopub.status.busy": "2024-01-23T05:05:59.135659Z",
     "iopub.status.idle": "2024-01-23T05:05:59.146546Z",
     "shell.execute_reply": "2024-01-23T05:05:59.145765Z"
    },
    "papermill": {
     "duration": 0.022891,
     "end_time": "2024-01-23T05:05:59.148637",
     "exception": false,
     "start_time": "2024-01-23T05:05:59.125746",
     "status": "completed"
    },
    "tags": []
   },
   "outputs": [],
   "source": [
    "import warnings\n",
    "warnings.filterwarnings(\"ignore\")"
   ]
  },
  {
   "cell_type": "markdown",
   "id": "bef4c1dd",
   "metadata": {},
   "source": [
    "80.8 =https://www.kaggle.com/code/escape2free/titanic-prediction-eda-logistic-regression"
   ]
  },
  {
   "cell_type": "markdown",
   "id": "b6bdff1f",
   "metadata": {
    "papermill": {
     "duration": 0.007114,
     "end_time": "2024-01-23T05:05:59.163445",
     "exception": false,
     "start_time": "2024-01-23T05:05:59.156331",
     "status": "completed"
    },
    "tags": []
   },
   "source": [
    "# Step 1: Load Dataset"
   ]
  },
  {
   "cell_type": "code",
   "execution_count": 24,
   "id": "179a2408",
   "metadata": {
    "execution": {
     "iopub.execute_input": "2024-01-23T05:05:59.180177Z",
     "iopub.status.busy": "2024-01-23T05:05:59.179499Z",
     "iopub.status.idle": "2024-01-23T05:06:00.122467Z",
     "shell.execute_reply": "2024-01-23T05:06:00.121438Z"
    },
    "papermill": {
     "duration": 0.954085,
     "end_time": "2024-01-23T05:06:00.124978",
     "exception": false,
     "start_time": "2024-01-23T05:05:59.170893",
     "status": "completed"
    },
    "tags": []
   },
   "outputs": [
    {
     "data": {
      "text/html": [
       "<div>\n",
       "<style scoped>\n",
       "    .dataframe tbody tr th:only-of-type {\n",
       "        vertical-align: middle;\n",
       "    }\n",
       "\n",
       "    .dataframe tbody tr th {\n",
       "        vertical-align: top;\n",
       "    }\n",
       "\n",
       "    .dataframe thead th {\n",
       "        text-align: right;\n",
       "    }\n",
       "</style>\n",
       "<table border=\"1\" class=\"dataframe\">\n",
       "  <thead>\n",
       "    <tr style=\"text-align: right;\">\n",
       "      <th></th>\n",
       "      <th>PassengerId</th>\n",
       "      <th>Survived</th>\n",
       "      <th>Pclass</th>\n",
       "      <th>Name</th>\n",
       "      <th>Sex</th>\n",
       "      <th>Age</th>\n",
       "      <th>SibSp</th>\n",
       "      <th>Parch</th>\n",
       "      <th>Ticket</th>\n",
       "      <th>Fare</th>\n",
       "      <th>Cabin</th>\n",
       "      <th>Embarked</th>\n",
       "    </tr>\n",
       "  </thead>\n",
       "  <tbody>\n",
       "    <tr>\n",
       "      <th>495</th>\n",
       "      <td>496</td>\n",
       "      <td>0</td>\n",
       "      <td>3</td>\n",
       "      <td>Yousseff, Mr. Gerious</td>\n",
       "      <td>male</td>\n",
       "      <td>NaN</td>\n",
       "      <td>0</td>\n",
       "      <td>0</td>\n",
       "      <td>2627</td>\n",
       "      <td>14.4583</td>\n",
       "      <td>NaN</td>\n",
       "      <td>C</td>\n",
       "    </tr>\n",
       "    <tr>\n",
       "      <th>648</th>\n",
       "      <td>649</td>\n",
       "      <td>0</td>\n",
       "      <td>3</td>\n",
       "      <td>Willey, Mr. Edward</td>\n",
       "      <td>male</td>\n",
       "      <td>NaN</td>\n",
       "      <td>0</td>\n",
       "      <td>0</td>\n",
       "      <td>S.O./P.P. 751</td>\n",
       "      <td>7.5500</td>\n",
       "      <td>NaN</td>\n",
       "      <td>S</td>\n",
       "    </tr>\n",
       "    <tr>\n",
       "      <th>278</th>\n",
       "      <td>279</td>\n",
       "      <td>0</td>\n",
       "      <td>3</td>\n",
       "      <td>Rice, Master. Eric</td>\n",
       "      <td>male</td>\n",
       "      <td>7.0</td>\n",
       "      <td>4</td>\n",
       "      <td>1</td>\n",
       "      <td>382652</td>\n",
       "      <td>29.1250</td>\n",
       "      <td>NaN</td>\n",
       "      <td>Q</td>\n",
       "    </tr>\n",
       "    <tr>\n",
       "      <th>31</th>\n",
       "      <td>32</td>\n",
       "      <td>1</td>\n",
       "      <td>1</td>\n",
       "      <td>Spencer, Mrs. William Augustus (Marie Eugenie)</td>\n",
       "      <td>female</td>\n",
       "      <td>NaN</td>\n",
       "      <td>1</td>\n",
       "      <td>0</td>\n",
       "      <td>PC 17569</td>\n",
       "      <td>146.5208</td>\n",
       "      <td>B78</td>\n",
       "      <td>C</td>\n",
       "    </tr>\n",
       "    <tr>\n",
       "      <th>255</th>\n",
       "      <td>256</td>\n",
       "      <td>1</td>\n",
       "      <td>3</td>\n",
       "      <td>Touma, Mrs. Darwis (Hanne Youssef Razi)</td>\n",
       "      <td>female</td>\n",
       "      <td>29.0</td>\n",
       "      <td>0</td>\n",
       "      <td>2</td>\n",
       "      <td>2650</td>\n",
       "      <td>15.2458</td>\n",
       "      <td>NaN</td>\n",
       "      <td>C</td>\n",
       "    </tr>\n",
       "  </tbody>\n",
       "</table>\n",
       "</div>"
      ],
      "text/plain": [
       "     PassengerId  Survived  Pclass  \\\n",
       "495          496         0       3   \n",
       "648          649         0       3   \n",
       "278          279         0       3   \n",
       "31            32         1       1   \n",
       "255          256         1       3   \n",
       "\n",
       "                                               Name     Sex   Age  SibSp  \\\n",
       "495                           Yousseff, Mr. Gerious    male   NaN      0   \n",
       "648                              Willey, Mr. Edward    male   NaN      0   \n",
       "278                              Rice, Master. Eric    male   7.0      4   \n",
       "31   Spencer, Mrs. William Augustus (Marie Eugenie)  female   NaN      1   \n",
       "255         Touma, Mrs. Darwis (Hanne Youssef Razi)  female  29.0      0   \n",
       "\n",
       "     Parch         Ticket      Fare Cabin Embarked  \n",
       "495      0           2627   14.4583   NaN        C  \n",
       "648      0  S.O./P.P. 751    7.5500   NaN        S  \n",
       "278      1         382652   29.1250   NaN        Q  \n",
       "31       0       PC 17569  146.5208   B78        C  \n",
       "255      2           2650   15.2458   NaN        C  "
      ]
     },
     "execution_count": 24,
     "metadata": {},
     "output_type": "execute_result"
    }
   ],
   "source": [
    "import pandas as pd\n",
    "\n",
    "df = pd.read_csv(\"train.csv\")\n",
    "df.sample(5, random_state=0)"
   ]
  },
  {
   "cell_type": "markdown",
   "id": "ae5ea007",
   "metadata": {
    "papermill": {
     "duration": 0.007407,
     "end_time": "2024-01-23T05:06:00.140398",
     "exception": false,
     "start_time": "2024-01-23T05:06:00.132991",
     "status": "completed"
    },
    "tags": []
   },
   "source": [
    "# Step 2: Exploratory Data Analysis"
   ]
  },
  {
   "cell_type": "code",
   "execution_count": 25,
   "id": "fa98186b",
   "metadata": {
    "execution": {
     "iopub.execute_input": "2024-01-23T05:06:00.157635Z",
     "iopub.status.busy": "2024-01-23T05:06:00.157239Z",
     "iopub.status.idle": "2024-01-23T05:06:00.184147Z",
     "shell.execute_reply": "2024-01-23T05:06:00.182784Z"
    },
    "papermill": {
     "duration": 0.039168,
     "end_time": "2024-01-23T05:06:00.187237",
     "exception": false,
     "start_time": "2024-01-23T05:06:00.148069",
     "status": "completed"
    },
    "tags": []
   },
   "outputs": [
    {
     "name": "stdout",
     "output_type": "stream",
     "text": [
      "<class 'pandas.core.frame.DataFrame'>\n",
      "RangeIndex: 891 entries, 0 to 890\n",
      "Data columns (total 12 columns):\n",
      " #   Column       Non-Null Count  Dtype  \n",
      "---  ------       --------------  -----  \n",
      " 0   PassengerId  891 non-null    int64  \n",
      " 1   Survived     891 non-null    int64  \n",
      " 2   Pclass       891 non-null    int64  \n",
      " 3   Name         891 non-null    object \n",
      " 4   Sex          891 non-null    object \n",
      " 5   Age          714 non-null    float64\n",
      " 6   SibSp        891 non-null    int64  \n",
      " 7   Parch        891 non-null    int64  \n",
      " 8   Ticket       891 non-null    object \n",
      " 9   Fare         891 non-null    float64\n",
      " 10  Cabin        204 non-null    object \n",
      " 11  Embarked     889 non-null    object \n",
      "dtypes: float64(2), int64(5), object(5)\n",
      "memory usage: 83.7+ KB\n"
     ]
    }
   ],
   "source": [
    "df.info()"
   ]
  },
  {
   "cell_type": "markdown",
   "id": "b06bca2d",
   "metadata": {
    "papermill": {
     "duration": 0.007803,
     "end_time": "2024-01-23T05:06:00.203743",
     "exception": false,
     "start_time": "2024-01-23T05:06:00.195940",
     "status": "completed"
    },
    "tags": []
   },
   "source": [
    "## Feature-Target Visualization"
   ]
  },
  {
   "cell_type": "code",
   "execution_count": 26,
   "id": "1381d725",
   "metadata": {
    "execution": {
     "iopub.execute_input": "2024-01-23T05:06:00.222621Z",
     "iopub.status.busy": "2024-01-23T05:06:00.221896Z",
     "iopub.status.idle": "2024-01-23T05:06:03.340970Z",
     "shell.execute_reply": "2024-01-23T05:06:03.339998Z"
    },
    "papermill": {
     "duration": 3.131013,
     "end_time": "2024-01-23T05:06:03.343290",
     "exception": false,
     "start_time": "2024-01-23T05:06:00.212277",
     "status": "completed"
    },
    "tags": []
   },
   "outputs": [
    {
     "data": {
      "image/png": "[encoded data removed]",
      "text/plain": [
       "<Figure size 1500x300 with 5 Axes>"
      ]
     },
     "metadata": {},
     "output_type": "display_data"
    }
   ],
   "source": [
    "from matplotlib import pyplot as plt\n",
    "import seaborn as sns\n",
    "\n",
    "features = [\"Pclass\", \"Age\", \"SibSp\", \"Parch\", \"Fare\"]\n",
    "fig, axes = plt.subplots(1, 5, figsize=(15, 3), tight_layout=True)\n",
    "for feature, ax in zip(features, axes):\n",
    "    plt.sca(ax)\n",
    "    sns.kdeplot(df.loc[df[\"Survived\"] == 1, feature], label=\"1\", fill=True)\n",
    "    sns.kdeplot(df.loc[df[\"Survived\"] == 0, feature], label=\"0\", fill=True)\n",
    "    plt.legend(title=\"Survived\")\n",
    "plt.show()"
   ]
  },
  {
   "cell_type": "markdown",
   "id": "178ac32d",
   "metadata": {
    "papermill": {
     "duration": 0.009084,
     "end_time": "2024-01-23T05:06:03.362342",
     "exception": false,
     "start_time": "2024-01-23T05:06:03.353258",
     "status": "completed"
    },
    "tags": []
   },
   "source": [
    "## Missing Data Analysis"
   ]
  },
  {
   "cell_type": "code",
   "execution_count": 27,
   "id": "863faf6e",
   "metadata": {
    "execution": {
     "iopub.execute_input": "2024-01-23T05:06:03.383619Z",
     "iopub.status.busy": "2024-01-23T05:06:03.382554Z",
     "iopub.status.idle": "2024-01-23T05:06:03.391285Z",
     "shell.execute_reply": "2024-01-23T05:06:03.390263Z"
    },
    "papermill": {
     "duration": 0.021959,
     "end_time": "2024-01-23T05:06:03.393575",
     "exception": false,
     "start_time": "2024-01-23T05:06:03.371616",
     "status": "completed"
    },
    "tags": []
   },
   "outputs": [
    {
     "data": {
      "text/plain": [
       "PassengerId      0\n",
       "Survived         0\n",
       "Pclass           0\n",
       "Name             0\n",
       "Sex              0\n",
       "Age            177\n",
       "SibSp            0\n",
       "Parch            0\n",
       "Ticket           0\n",
       "Fare             0\n",
       "Cabin          687\n",
       "Embarked         2\n",
       "dtype: int64"
      ]
     },
     "execution_count": 27,
     "metadata": {},
     "output_type": "execute_result"
    }
   ],
   "source": [
    "df.isnull().sum()"
   ]
  },
  {
   "cell_type": "code",
   "execution_count": 28,
   "id": "1f8899ed",
   "metadata": {
    "execution": {
     "iopub.execute_input": "2024-01-23T05:06:03.415417Z",
     "iopub.status.busy": "2024-01-23T05:06:03.414657Z",
     "iopub.status.idle": "2024-01-23T05:06:03.797667Z",
     "shell.execute_reply": "2024-01-23T05:06:03.796384Z"
    },
    "papermill": {
     "duration": 0.397356,
     "end_time": "2024-01-23T05:06:03.800443",
     "exception": false,
     "start_time": "2024-01-23T05:06:03.403087",
     "status": "completed"
    },
    "tags": []
   },
   "outputs": [
    {
     "data": {
      "image/png": "[encoded data removed]",
      "text/plain": [
       "<Figure size 640x480 with 1 Axes>"
      ]
     },
     "metadata": {},
     "output_type": "display_data"
    }
   ],
   "source": [
    "# Drop the missing values\n",
    "data = df['Age'].dropna()\n",
    "# plot a histogram\n",
    "sns.histplot(data, kde=True, color='skyblue', label='Histogram', stat='density')\n",
    "# plot a normal distribution curve\n",
    "sns.kdeplot(data, color='r', label='Normal Distribution')\n",
    "plt.legend()\n",
    "plt.show()"
   ]
  },
  {
   "cell_type": "code",
   "execution_count": 29,
   "id": "ef5e3eeb",
   "metadata": {
    "execution": {
     "iopub.execute_input": "2024-01-23T05:06:03.823533Z",
     "iopub.status.busy": "2024-01-23T05:06:03.823106Z",
     "iopub.status.idle": "2024-01-23T05:06:03.831267Z",
     "shell.execute_reply": "2024-01-23T05:06:03.830024Z"
    },
    "papermill": {
     "duration": 0.022302,
     "end_time": "2024-01-23T05:06:03.833600",
     "exception": false,
     "start_time": "2024-01-23T05:06:03.811298",
     "status": "completed"
    },
    "tags": []
   },
   "outputs": [
    {
     "data": {
      "text/plain": [
       "0.7710437710437711"
      ]
     },
     "execution_count": 29,
     "metadata": {},
     "output_type": "execute_result"
    }
   ],
   "source": [
    "sum(df['Cabin'].isnull()) / len(df)"
   ]
  },
  {
   "cell_type": "code",
   "execution_count": 30,
   "id": "7c605493",
   "metadata": {
    "execution": {
     "iopub.execute_input": "2024-01-23T05:06:03.855882Z",
     "iopub.status.busy": "2024-01-23T05:06:03.855466Z",
     "iopub.status.idle": "2024-01-23T05:06:03.973926Z",
     "shell.execute_reply": "2024-01-23T05:06:03.972753Z"
    },
    "papermill": {
     "duration": 0.132596,
     "end_time": "2024-01-23T05:06:03.976404",
     "exception": false,
     "start_time": "2024-01-23T05:06:03.843808",
     "status": "completed"
    },
    "tags": []
   },
   "outputs": [
    {
     "data": {
      "image/png": "[encoded data removed]",
      "text/plain": [
       "<Figure size 640x480 with 1 Axes>"
      ]
     },
     "metadata": {},
     "output_type": "display_data"
    }
   ],
   "source": [
    "plt.pie(x=df['Embarked'].value_counts().values, labels=df['Embarked'].value_counts().index, autopct='%1.1f%%')\n",
    "plt.show()"
   ]
  },
  {
   "cell_type": "markdown",
   "id": "6f58d410",
   "metadata": {
    "papermill": {
     "duration": 0.010781,
     "end_time": "2024-01-23T05:06:03.998292",
     "exception": false,
     "start_time": "2024-01-23T05:06:03.987511",
     "status": "completed"
    },
    "tags": []
   },
   "source": [
    "- Strategies for handling missing values\n",
    "    - As Age approximates a normal distribution, assign the mean value to Age based on the titles in the Name column.\n",
    "    - Cabin has a missing value percentage of 77%, which is too much. Delete that column.\n",
    "    - There are 2 missing values in Embarked. Fill them with the most common value 'S' based on its percentage."
   ]
  },
  {
   "cell_type": "markdown",
   "id": "dbd2301b",
   "metadata": {
    "papermill": {
     "duration": 0.010074,
     "end_time": "2024-01-23T05:06:04.018922",
     "exception": false,
     "start_time": "2024-01-23T05:06:04.008848",
     "status": "completed"
    },
    "tags": []
   },
   "source": [
    "# Step 3: Data Preprocessing"
   ]
  },
  {
   "cell_type": "markdown",
   "id": "a6f8dfed",
   "metadata": {
    "papermill": {
     "duration": 0.010372,
     "end_time": "2024-01-23T05:06:04.039883",
     "exception": false,
     "start_time": "2024-01-23T05:06:04.029511",
     "status": "completed"
    },
    "tags": []
   },
   "source": [
    "## Data Cleaning"
   ]
  },
  {
   "cell_type": "markdown",
   "id": "c849f8aa",
   "metadata": {
    "papermill": {
     "duration": 0.010165,
     "end_time": "2024-01-23T05:06:04.060583",
     "exception": false,
     "start_time": "2024-01-23T05:06:04.050418",
     "status": "completed"
    },
    "tags": []
   },
   "source": [
    "### Missing Data Handling"
   ]
  },
  {
   "cell_type": "code",
   "execution_count": 31,
   "id": "3de8267c",
   "metadata": {
    "execution": {
     "iopub.execute_input": "2024-01-23T05:06:04.083426Z",
     "iopub.status.busy": "2024-01-23T05:06:04.083034Z",
     "iopub.status.idle": "2024-01-23T05:06:04.093794Z",
     "shell.execute_reply": "2024-01-23T05:06:04.092699Z"
    },
    "papermill": {
     "duration": 0.024928,
     "end_time": "2024-01-23T05:06:04.096094",
     "exception": false,
     "start_time": "2024-01-23T05:06:04.071166",
     "status": "completed"
    },
    "tags": []
   },
   "outputs": [
    {
     "data": {
      "text/plain": [
       "Name\n",
       "Mr          517\n",
       "Miss        182\n",
       "Mrs         125\n",
       "Master       40\n",
       "Dr            7\n",
       "Rev           6\n",
       "Mlle          2\n",
       "Major         2\n",
       "Col           2\n",
       "Countess      1\n",
       "Capt          1\n",
       "Ms            1\n",
       "Sir           1\n",
       "Lady          1\n",
       "Mme           1\n",
       "Don           1\n",
       "Jonkheer      1\n",
       "Name: count, dtype: int64"
      ]
     },
     "execution_count": 31,
     "metadata": {},
     "output_type": "execute_result"
    }
   ],
   "source": [
    "import re\n",
    "\n",
    "def name_title(x):\n",
    "    return x.split('.')[0].split(' ')[-1]\n",
    "\n",
    "df['Name'].apply(name_title).value_counts()"
   ]
  },
  {
   "cell_type": "code",
   "execution_count": 32,
   "id": "13578eb0",
   "metadata": {
    "execution": {
     "iopub.execute_input": "2024-01-23T05:06:04.120661Z",
     "iopub.status.busy": "2024-01-23T05:06:04.119469Z",
     "iopub.status.idle": "2024-01-23T05:06:04.138353Z",
     "shell.execute_reply": "2024-01-23T05:06:04.137565Z"
    },
    "papermill": {
     "duration": 0.033503,
     "end_time": "2024-01-23T05:06:04.140341",
     "exception": false,
     "start_time": "2024-01-23T05:06:04.106838",
     "status": "completed"
    },
    "tags": []
   },
   "outputs": [
    {
     "data": {
      "text/html": [
       "<div>\n",
       "<style scoped>\n",
       "    .dataframe tbody tr th:only-of-type {\n",
       "        vertical-align: middle;\n",
       "    }\n",
       "\n",
       "    .dataframe tbody tr th {\n",
       "        vertical-align: top;\n",
       "    }\n",
       "\n",
       "    .dataframe thead th {\n",
       "        text-align: right;\n",
       "    }\n",
       "</style>\n",
       "<table border=\"1\" class=\"dataframe\">\n",
       "  <thead>\n",
       "    <tr style=\"text-align: right;\">\n",
       "      <th></th>\n",
       "      <th>PassengerId</th>\n",
       "      <th>Survived</th>\n",
       "      <th>Pclass</th>\n",
       "      <th>Name</th>\n",
       "      <th>Sex</th>\n",
       "      <th>Age</th>\n",
       "      <th>SibSp</th>\n",
       "      <th>Parch</th>\n",
       "      <th>Ticket</th>\n",
       "      <th>Fare</th>\n",
       "      <th>Cabin</th>\n",
       "      <th>Embarked</th>\n",
       "      <th>NameTitle</th>\n",
       "    </tr>\n",
       "  </thead>\n",
       "  <tbody>\n",
       "    <tr>\n",
       "      <th>495</th>\n",
       "      <td>496</td>\n",
       "      <td>0</td>\n",
       "      <td>3</td>\n",
       "      <td>Yousseff, Mr. Gerious</td>\n",
       "      <td>male</td>\n",
       "      <td>NaN</td>\n",
       "      <td>0</td>\n",
       "      <td>0</td>\n",
       "      <td>2627</td>\n",
       "      <td>14.4583</td>\n",
       "      <td>NaN</td>\n",
       "      <td>C</td>\n",
       "      <td>Mr</td>\n",
       "    </tr>\n",
       "    <tr>\n",
       "      <th>648</th>\n",
       "      <td>649</td>\n",
       "      <td>0</td>\n",
       "      <td>3</td>\n",
       "      <td>Willey, Mr. Edward</td>\n",
       "      <td>male</td>\n",
       "      <td>NaN</td>\n",
       "      <td>0</td>\n",
       "      <td>0</td>\n",
       "      <td>S.O./P.P. 751</td>\n",
       "      <td>7.5500</td>\n",
       "      <td>NaN</td>\n",
       "      <td>S</td>\n",
       "      <td>Mr</td>\n",
       "    </tr>\n",
       "    <tr>\n",
       "      <th>278</th>\n",
       "      <td>279</td>\n",
       "      <td>0</td>\n",
       "      <td>3</td>\n",
       "      <td>Rice, Master. Eric</td>\n",
       "      <td>male</td>\n",
       "      <td>7.0</td>\n",
       "      <td>4</td>\n",
       "      <td>1</td>\n",
       "      <td>382652</td>\n",
       "      <td>29.1250</td>\n",
       "      <td>NaN</td>\n",
       "      <td>Q</td>\n",
       "      <td>Master</td>\n",
       "    </tr>\n",
       "    <tr>\n",
       "      <th>31</th>\n",
       "      <td>32</td>\n",
       "      <td>1</td>\n",
       "      <td>1</td>\n",
       "      <td>Spencer, Mrs. William Augustus (Marie Eugenie)</td>\n",
       "      <td>female</td>\n",
       "      <td>NaN</td>\n",
       "      <td>1</td>\n",
       "      <td>0</td>\n",
       "      <td>PC 17569</td>\n",
       "      <td>146.5208</td>\n",
       "      <td>B78</td>\n",
       "      <td>C</td>\n",
       "      <td>Mrs</td>\n",
       "    </tr>\n",
       "    <tr>\n",
       "      <th>255</th>\n",
       "      <td>256</td>\n",
       "      <td>1</td>\n",
       "      <td>3</td>\n",
       "      <td>Touma, Mrs. Darwis (Hanne Youssef Razi)</td>\n",
       "      <td>female</td>\n",
       "      <td>29.0</td>\n",
       "      <td>0</td>\n",
       "      <td>2</td>\n",
       "      <td>2650</td>\n",
       "      <td>15.2458</td>\n",
       "      <td>NaN</td>\n",
       "      <td>C</td>\n",
       "      <td>Mrs</td>\n",
       "    </tr>\n",
       "  </tbody>\n",
       "</table>\n",
       "</div>"
      ],
      "text/plain": [
       "     PassengerId  Survived  Pclass  \\\n",
       "495          496         0       3   \n",
       "648          649         0       3   \n",
       "278          279         0       3   \n",
       "31            32         1       1   \n",
       "255          256         1       3   \n",
       "\n",
       "                                               Name     Sex   Age  SibSp  \\\n",
       "495                           Yousseff, Mr. Gerious    male   NaN      0   \n",
       "648                              Willey, Mr. Edward    male   NaN      0   \n",
       "278                              Rice, Master. Eric    male   7.0      4   \n",
       "31   Spencer, Mrs. William Augustus (Marie Eugenie)  female   NaN      1   \n",
       "255         Touma, Mrs. Darwis (Hanne Youssef Razi)  female  29.0      0   \n",
       "\n",
       "     Parch         Ticket      Fare Cabin Embarked NameTitle  \n",
       "495      0           2627   14.4583   NaN        C        Mr  \n",
       "648      0  S.O./P.P. 751    7.5500   NaN        S        Mr  \n",
       "278      1         382652   29.1250   NaN        Q    Master  \n",
       "31       0       PC 17569  146.5208   B78        C       Mrs  \n",
       "255      2           2650   15.2458   NaN        C       Mrs  "
      ]
     },
     "execution_count": 32,
     "metadata": {},
     "output_type": "execute_result"
    }
   ],
   "source": [
    "df['NameTitle'] = df['Name'].apply(name_title)\n",
    "df.sample(5, random_state=0)"
   ]
  },
  {
   "cell_type": "code",
   "execution_count": 33,
   "id": "730ffa7f",
   "metadata": {
    "execution": {
     "iopub.execute_input": "2024-01-23T05:06:04.166439Z",
     "iopub.status.busy": "2024-01-23T05:06:04.165449Z",
     "iopub.status.idle": "2024-01-23T05:06:04.191320Z",
     "shell.execute_reply": "2024-01-23T05:06:04.190265Z"
    },
    "papermill": {
     "duration": 0.041783,
     "end_time": "2024-01-23T05:06:04.193440",
     "exception": false,
     "start_time": "2024-01-23T05:06:04.151657",
     "status": "completed"
    },
    "tags": []
   },
   "outputs": [
    {
     "data": {
      "text/html": [
       "<div>\n",
       "<style scoped>\n",
       "    .dataframe tbody tr th:only-of-type {\n",
       "        vertical-align: middle;\n",
       "    }\n",
       "\n",
       "    .dataframe tbody tr th {\n",
       "        vertical-align: top;\n",
       "    }\n",
       "\n",
       "    .dataframe thead th {\n",
       "        text-align: right;\n",
       "    }\n",
       "</style>\n",
       "<table border=\"1\" class=\"dataframe\">\n",
       "  <thead>\n",
       "    <tr style=\"text-align: right;\">\n",
       "      <th></th>\n",
       "      <th>PassengerId</th>\n",
       "      <th>Survived</th>\n",
       "      <th>Pclass</th>\n",
       "      <th>Name</th>\n",
       "      <th>Sex</th>\n",
       "      <th>Age</th>\n",
       "      <th>SibSp</th>\n",
       "      <th>Parch</th>\n",
       "      <th>Ticket</th>\n",
       "      <th>Fare</th>\n",
       "      <th>Embarked</th>\n",
       "      <th>NameTitle</th>\n",
       "    </tr>\n",
       "  </thead>\n",
       "  <tbody>\n",
       "    <tr>\n",
       "      <th>495</th>\n",
       "      <td>496</td>\n",
       "      <td>0</td>\n",
       "      <td>3</td>\n",
       "      <td>Yousseff, Mr. Gerious</td>\n",
       "      <td>male</td>\n",
       "      <td>32.368090</td>\n",
       "      <td>0</td>\n",
       "      <td>0</td>\n",
       "      <td>2627</td>\n",
       "      <td>14.4583</td>\n",
       "      <td>C</td>\n",
       "      <td>Mr</td>\n",
       "    </tr>\n",
       "    <tr>\n",
       "      <th>648</th>\n",
       "      <td>649</td>\n",
       "      <td>0</td>\n",
       "      <td>3</td>\n",
       "      <td>Willey, Mr. Edward</td>\n",
       "      <td>male</td>\n",
       "      <td>32.368090</td>\n",
       "      <td>0</td>\n",
       "      <td>0</td>\n",
       "      <td>S.O./P.P. 751</td>\n",
       "      <td>7.5500</td>\n",
       "      <td>S</td>\n",
       "      <td>Mr</td>\n",
       "    </tr>\n",
       "    <tr>\n",
       "      <th>278</th>\n",
       "      <td>279</td>\n",
       "      <td>0</td>\n",
       "      <td>3</td>\n",
       "      <td>Rice, Master. Eric</td>\n",
       "      <td>male</td>\n",
       "      <td>7.000000</td>\n",
       "      <td>4</td>\n",
       "      <td>1</td>\n",
       "      <td>382652</td>\n",
       "      <td>29.1250</td>\n",
       "      <td>Q</td>\n",
       "      <td>Master</td>\n",
       "    </tr>\n",
       "    <tr>\n",
       "      <th>31</th>\n",
       "      <td>32</td>\n",
       "      <td>1</td>\n",
       "      <td>1</td>\n",
       "      <td>Spencer, Mrs. William Augustus (Marie Eugenie)</td>\n",
       "      <td>female</td>\n",
       "      <td>35.898148</td>\n",
       "      <td>1</td>\n",
       "      <td>0</td>\n",
       "      <td>PC 17569</td>\n",
       "      <td>146.5208</td>\n",
       "      <td>C</td>\n",
       "      <td>Mrs</td>\n",
       "    </tr>\n",
       "    <tr>\n",
       "      <th>255</th>\n",
       "      <td>256</td>\n",
       "      <td>1</td>\n",
       "      <td>3</td>\n",
       "      <td>Touma, Mrs. Darwis (Hanne Youssef Razi)</td>\n",
       "      <td>female</td>\n",
       "      <td>29.000000</td>\n",
       "      <td>0</td>\n",
       "      <td>2</td>\n",
       "      <td>2650</td>\n",
       "      <td>15.2458</td>\n",
       "      <td>C</td>\n",
       "      <td>Mrs</td>\n",
       "    </tr>\n",
       "  </tbody>\n",
       "</table>\n",
       "</div>"
      ],
      "text/plain": [
       "     PassengerId  Survived  Pclass  \\\n",
       "495          496         0       3   \n",
       "648          649         0       3   \n",
       "278          279         0       3   \n",
       "31            32         1       1   \n",
       "255          256         1       3   \n",
       "\n",
       "                                               Name     Sex        Age  SibSp  \\\n",
       "495                           Yousseff, Mr. Gerious    male  32.368090      0   \n",
       "648                              Willey, Mr. Edward    male  32.368090      0   \n",
       "278                              Rice, Master. Eric    male   7.000000      4   \n",
       "31   Spencer, Mrs. William Augustus (Marie Eugenie)  female  35.898148      1   \n",
       "255         Touma, Mrs. Darwis (Hanne Youssef Razi)  female  29.000000      0   \n",
       "\n",
       "     Parch         Ticket      Fare Embarked NameTitle  \n",
       "495      0           2627   14.4583        C        Mr  \n",
       "648      0  S.O./P.P. 751    7.5500        S        Mr  \n",
       "278      1         382652   29.1250        Q    Master  \n",
       "31       0       PC 17569  146.5208        C       Mrs  \n",
       "255      2           2650   15.2458        C       Mrs  "
      ]
     },
     "execution_count": 33,
     "metadata": {},
     "output_type": "execute_result"
    }
   ],
   "source": [
    "# Calculate the mean value based on grouping\n",
    "group_means = df.groupby('NameTitle')['Age'].mean()\n",
    "\n",
    "# Fill in missing values\n",
    "df['Age'] = df['Age'].fillna(df['NameTitle'].map(group_means))\n",
    "df.drop('Cabin', axis=1, inplace=True)\n",
    "df['Embarked'].fillna('S', inplace=True)\n",
    "df.sample(5, random_state=0)"
   ]
  },
  {
   "cell_type": "code",
   "execution_count": 34,
   "id": "43fcd332",
   "metadata": {
    "execution": {
     "iopub.execute_input": "2024-01-23T05:06:04.218161Z",
     "iopub.status.busy": "2024-01-23T05:06:04.217698Z",
     "iopub.status.idle": "2024-01-23T05:06:04.229429Z",
     "shell.execute_reply": "2024-01-23T05:06:04.228306Z"
    },
    "papermill": {
     "duration": 0.026681,
     "end_time": "2024-01-23T05:06:04.231476",
     "exception": false,
     "start_time": "2024-01-23T05:06:04.204795",
     "status": "completed"
    },
    "tags": []
   },
   "outputs": [
    {
     "data": {
      "text/plain": [
       "{' ', '\"', \"'\", '(', ')', ',', '-', '.', '/'}"
      ]
     },
     "execution_count": 34,
     "metadata": {},
     "output_type": "execute_result"
    }
   ],
   "source": [
    "# Extract non-alphabetic characters from each cell\n",
    "symbols_per_cell = df['Name'].apply(lambda x: ''.join([char for char in x if not char.isalpha()]))\n",
    "\n",
    "# Get all distinct symbols\n",
    "unique_symbols = set(''.join(symbols_per_cell))\n",
    "unique_symbols"
   ]
  },
  {
   "cell_type": "markdown",
   "id": "75674fa4",
   "metadata": {
    "papermill": {
     "duration": 0.011043,
     "end_time": "2024-01-23T05:06:04.253935",
     "exception": false,
     "start_time": "2024-01-23T05:06:04.242892",
     "status": "completed"
    },
    "tags": []
   },
   "source": [
    "### Remove Noise and Standardize Text Content"
   ]
  },
  {
   "cell_type": "code",
   "execution_count": 35,
   "id": "c4f8e7cd",
   "metadata": {
    "execution": {
     "iopub.execute_input": "2024-01-23T05:06:04.278764Z",
     "iopub.status.busy": "2024-01-23T05:06:04.278333Z",
     "iopub.status.idle": "2024-01-23T05:06:04.311575Z",
     "shell.execute_reply": "2024-01-23T05:06:04.310271Z"
    },
    "papermill": {
     "duration": 0.048738,
     "end_time": "2024-01-23T05:06:04.314198",
     "exception": false,
     "start_time": "2024-01-23T05:06:04.265460",
     "status": "completed"
    },
    "tags": []
   },
   "outputs": [
    {
     "data": {
      "text/html": [
       "<div>\n",
       "<style scoped>\n",
       "    .dataframe tbody tr th:only-of-type {\n",
       "        vertical-align: middle;\n",
       "    }\n",
       "\n",
       "    .dataframe tbody tr th {\n",
       "        vertical-align: top;\n",
       "    }\n",
       "\n",
       "    .dataframe thead th {\n",
       "        text-align: right;\n",
       "    }\n",
       "</style>\n",
       "<table border=\"1\" class=\"dataframe\">\n",
       "  <thead>\n",
       "    <tr style=\"text-align: right;\">\n",
       "      <th></th>\n",
       "      <th>PassengerId</th>\n",
       "      <th>Survived</th>\n",
       "      <th>Pclass</th>\n",
       "      <th>Name</th>\n",
       "      <th>Sex</th>\n",
       "      <th>Age</th>\n",
       "      <th>SibSp</th>\n",
       "      <th>Parch</th>\n",
       "      <th>Ticket</th>\n",
       "      <th>Fare</th>\n",
       "      <th>Embarked</th>\n",
       "      <th>NameTitle</th>\n",
       "      <th>TicketPref</th>\n",
       "      <th>TicketID</th>\n",
       "    </tr>\n",
       "  </thead>\n",
       "  <tbody>\n",
       "    <tr>\n",
       "      <th>495</th>\n",
       "      <td>496</td>\n",
       "      <td>0</td>\n",
       "      <td>3</td>\n",
       "      <td>Yousseff Mr Gerious</td>\n",
       "      <td>male</td>\n",
       "      <td>32.368090</td>\n",
       "      <td>0</td>\n",
       "      <td>0</td>\n",
       "      <td>2627</td>\n",
       "      <td>14.4583</td>\n",
       "      <td>C</td>\n",
       "      <td>Mr</td>\n",
       "      <td>nan</td>\n",
       "      <td>2627</td>\n",
       "    </tr>\n",
       "    <tr>\n",
       "      <th>648</th>\n",
       "      <td>649</td>\n",
       "      <td>0</td>\n",
       "      <td>3</td>\n",
       "      <td>Willey Mr Edward</td>\n",
       "      <td>male</td>\n",
       "      <td>32.368090</td>\n",
       "      <td>0</td>\n",
       "      <td>0</td>\n",
       "      <td>S.O./P.P. 751</td>\n",
       "      <td>7.5500</td>\n",
       "      <td>S</td>\n",
       "      <td>Mr</td>\n",
       "      <td>sopp</td>\n",
       "      <td>751</td>\n",
       "    </tr>\n",
       "    <tr>\n",
       "      <th>278</th>\n",
       "      <td>279</td>\n",
       "      <td>0</td>\n",
       "      <td>3</td>\n",
       "      <td>Rice Master Eric</td>\n",
       "      <td>male</td>\n",
       "      <td>7.000000</td>\n",
       "      <td>4</td>\n",
       "      <td>1</td>\n",
       "      <td>382652</td>\n",
       "      <td>29.1250</td>\n",
       "      <td>Q</td>\n",
       "      <td>Master</td>\n",
       "      <td>nan</td>\n",
       "      <td>382652</td>\n",
       "    </tr>\n",
       "    <tr>\n",
       "      <th>31</th>\n",
       "      <td>32</td>\n",
       "      <td>1</td>\n",
       "      <td>1</td>\n",
       "      <td>Spencer Mrs William Augustus Marie Eugenie</td>\n",
       "      <td>female</td>\n",
       "      <td>35.898148</td>\n",
       "      <td>1</td>\n",
       "      <td>0</td>\n",
       "      <td>PC 17569</td>\n",
       "      <td>146.5208</td>\n",
       "      <td>C</td>\n",
       "      <td>Mrs</td>\n",
       "      <td>pc</td>\n",
       "      <td>17569</td>\n",
       "    </tr>\n",
       "    <tr>\n",
       "      <th>255</th>\n",
       "      <td>256</td>\n",
       "      <td>1</td>\n",
       "      <td>3</td>\n",
       "      <td>Touma Mrs Darwis Hanne Youssef Razi</td>\n",
       "      <td>female</td>\n",
       "      <td>29.000000</td>\n",
       "      <td>0</td>\n",
       "      <td>2</td>\n",
       "      <td>2650</td>\n",
       "      <td>15.2458</td>\n",
       "      <td>C</td>\n",
       "      <td>Mrs</td>\n",
       "      <td>nan</td>\n",
       "      <td>2650</td>\n",
       "    </tr>\n",
       "  </tbody>\n",
       "</table>\n",
       "</div>"
      ],
      "text/plain": [
       "     PassengerId  Survived  Pclass  \\\n",
       "495          496         0       3   \n",
       "648          649         0       3   \n",
       "278          279         0       3   \n",
       "31            32         1       1   \n",
       "255          256         1       3   \n",
       "\n",
       "                                           Name     Sex        Age  SibSp  \\\n",
       "495                         Yousseff Mr Gerious    male  32.368090      0   \n",
       "648                            Willey Mr Edward    male  32.368090      0   \n",
       "278                            Rice Master Eric    male   7.000000      4   \n",
       "31   Spencer Mrs William Augustus Marie Eugenie  female  35.898148      1   \n",
       "255         Touma Mrs Darwis Hanne Youssef Razi  female  29.000000      0   \n",
       "\n",
       "     Parch         Ticket      Fare Embarked NameTitle TicketPref  TicketID  \n",
       "495      0           2627   14.4583        C        Mr        nan      2627  \n",
       "648      0  S.O./P.P. 751    7.5500        S        Mr       sopp       751  \n",
       "278      1         382652   29.1250        Q    Master        nan    382652  \n",
       "31       0       PC 17569  146.5208        C       Mrs         pc     17569  \n",
       "255      2           2650   15.2458        C       Mrs        nan      2650  "
      ]
     },
     "execution_count": 35,
     "metadata": {},
     "output_type": "execute_result"
    }
   ],
   "source": [
    "def remove_noise(x):\n",
    "    return re.sub(r'[\".,()]+', '', x)\n",
    "\n",
    "def ticket_pref(x):\n",
    "    if len(x.split(' ')) == 1:\n",
    "        return 'nan'\n",
    "    else:\n",
    "        x = \".\".join(x.split(' ')[:-1])\n",
    "        return re.sub(r'[./]+', '', x).lower()\n",
    "\n",
    "def ticket_ID(x):\n",
    "    x = x.split(' ')[-1]\n",
    "    return int(x) if x.isdigit() else 0\n",
    "\n",
    "df['Name'] = df['Name'].apply(remove_noise)\n",
    "df['TicketPref'] = df['Ticket'].apply(ticket_pref)\n",
    "df['TicketID'] = df['Ticket'].apply(ticket_ID)\n",
    "df.sample(5, random_state=0)"
   ]
  },
  {
   "cell_type": "code",
   "execution_count": 36,
   "id": "e2d61bdc",
   "metadata": {
    "execution": {
     "iopub.execute_input": "2024-01-23T05:06:04.340391Z",
     "iopub.status.busy": "2024-01-23T05:06:04.339368Z",
     "iopub.status.idle": "2024-01-23T05:06:04.357558Z",
     "shell.execute_reply": "2024-01-23T05:06:04.356407Z"
    },
    "papermill": {
     "duration": 0.033551,
     "end_time": "2024-01-23T05:06:04.360119",
     "exception": false,
     "start_time": "2024-01-23T05:06:04.326568",
     "status": "completed"
    },
    "tags": []
   },
   "outputs": [
    {
     "data": {
      "text/html": [
       "<div>\n",
       "<style scoped>\n",
       "    .dataframe tbody tr th:only-of-type {\n",
       "        vertical-align: middle;\n",
       "    }\n",
       "\n",
       "    .dataframe tbody tr th {\n",
       "        vertical-align: top;\n",
       "    }\n",
       "\n",
       "    .dataframe thead th {\n",
       "        text-align: right;\n",
       "    }\n",
       "</style>\n",
       "<table border=\"1\" class=\"dataframe\">\n",
       "  <thead>\n",
       "    <tr style=\"text-align: right;\">\n",
       "      <th></th>\n",
       "      <th>Pclass</th>\n",
       "      <th>Name</th>\n",
       "      <th>Sex</th>\n",
       "      <th>Age</th>\n",
       "      <th>SibSp</th>\n",
       "      <th>Parch</th>\n",
       "      <th>Fare</th>\n",
       "      <th>Embarked</th>\n",
       "      <th>TicketPref</th>\n",
       "      <th>TicketID</th>\n",
       "    </tr>\n",
       "  </thead>\n",
       "  <tbody>\n",
       "    <tr>\n",
       "      <th>495</th>\n",
       "      <td>3</td>\n",
       "      <td>Yousseff Mr Gerious</td>\n",
       "      <td>male</td>\n",
       "      <td>32.368090</td>\n",
       "      <td>0</td>\n",
       "      <td>0</td>\n",
       "      <td>14.4583</td>\n",
       "      <td>C</td>\n",
       "      <td>nan</td>\n",
       "      <td>2627</td>\n",
       "    </tr>\n",
       "    <tr>\n",
       "      <th>648</th>\n",
       "      <td>3</td>\n",
       "      <td>Willey Mr Edward</td>\n",
       "      <td>male</td>\n",
       "      <td>32.368090</td>\n",
       "      <td>0</td>\n",
       "      <td>0</td>\n",
       "      <td>7.5500</td>\n",
       "      <td>S</td>\n",
       "      <td>sopp</td>\n",
       "      <td>751</td>\n",
       "    </tr>\n",
       "    <tr>\n",
       "      <th>278</th>\n",
       "      <td>3</td>\n",
       "      <td>Rice Master Eric</td>\n",
       "      <td>male</td>\n",
       "      <td>7.000000</td>\n",
       "      <td>4</td>\n",
       "      <td>1</td>\n",
       "      <td>29.1250</td>\n",
       "      <td>Q</td>\n",
       "      <td>nan</td>\n",
       "      <td>382652</td>\n",
       "    </tr>\n",
       "    <tr>\n",
       "      <th>31</th>\n",
       "      <td>1</td>\n",
       "      <td>Spencer Mrs William Augustus Marie Eugenie</td>\n",
       "      <td>female</td>\n",
       "      <td>35.898148</td>\n",
       "      <td>1</td>\n",
       "      <td>0</td>\n",
       "      <td>146.5208</td>\n",
       "      <td>C</td>\n",
       "      <td>pc</td>\n",
       "      <td>17569</td>\n",
       "    </tr>\n",
       "    <tr>\n",
       "      <th>255</th>\n",
       "      <td>3</td>\n",
       "      <td>Touma Mrs Darwis Hanne Youssef Razi</td>\n",
       "      <td>female</td>\n",
       "      <td>29.000000</td>\n",
       "      <td>0</td>\n",
       "      <td>2</td>\n",
       "      <td>15.2458</td>\n",
       "      <td>C</td>\n",
       "      <td>nan</td>\n",
       "      <td>2650</td>\n",
       "    </tr>\n",
       "  </tbody>\n",
       "</table>\n",
       "</div>"
      ],
      "text/plain": [
       "     Pclass                                        Name     Sex        Age  \\\n",
       "495       3                         Yousseff Mr Gerious    male  32.368090   \n",
       "648       3                            Willey Mr Edward    male  32.368090   \n",
       "278       3                            Rice Master Eric    male   7.000000   \n",
       "31        1  Spencer Mrs William Augustus Marie Eugenie  female  35.898148   \n",
       "255       3         Touma Mrs Darwis Hanne Youssef Razi  female  29.000000   \n",
       "\n",
       "     SibSp  Parch      Fare Embarked TicketPref  TicketID  \n",
       "495      0      0   14.4583        C        nan      2627  \n",
       "648      0      0    7.5500        S       sopp       751  \n",
       "278      4      1   29.1250        Q        nan    382652  \n",
       "31       1      0  146.5208        C         pc     17569  \n",
       "255      0      2   15.2458        C        nan      2650  "
      ]
     },
     "execution_count": 36,
     "metadata": {},
     "output_type": "execute_result"
    }
   ],
   "source": [
    "y = df['Survived']\n",
    "X = df.drop(['PassengerId', 'Survived', 'Ticket', 'NameTitle'], axis=1)\n",
    "X.sample(5, random_state=0)"
   ]
  },
  {
   "cell_type": "code",
   "execution_count": 37,
   "id": "f064e14a",
   "metadata": {
    "execution": {
     "iopub.execute_input": "2024-01-23T05:06:04.386166Z",
     "iopub.status.busy": "2024-01-23T05:06:04.385106Z",
     "iopub.status.idle": "2024-01-23T05:06:04.399766Z",
     "shell.execute_reply": "2024-01-23T05:06:04.397925Z"
    },
    "papermill": {
     "duration": 0.02997,
     "end_time": "2024-01-23T05:06:04.401965",
     "exception": false,
     "start_time": "2024-01-23T05:06:04.371995",
     "status": "completed"
    },
    "tags": []
   },
   "outputs": [
    {
     "name": "stdout",
     "output_type": "stream",
     "text": [
      "<class 'pandas.core.frame.DataFrame'>\n",
      "RangeIndex: 891 entries, 0 to 890\n",
      "Data columns (total 10 columns):\n",
      " #   Column      Non-Null Count  Dtype  \n",
      "---  ------      --------------  -----  \n",
      " 0   Pclass      891 non-null    int64  \n",
      " 1   Name        891 non-null    object \n",
      " 2   Sex         891 non-null    object \n",
      " 3   Age         891 non-null    float64\n",
      " 4   SibSp       891 non-null    int64  \n",
      " 5   Parch       891 non-null    int64  \n",
      " 6   Fare        891 non-null    float64\n",
      " 7   Embarked    891 non-null    object \n",
      " 8   TicketPref  891 non-null    object \n",
      " 9   TicketID    891 non-null    int64  \n",
      "dtypes: float64(2), int64(4), object(4)\n",
      "memory usage: 69.7+ KB\n"
     ]
    }
   ],
   "source": [
    "X.info()"
   ]
  },
  {
   "cell_type": "markdown",
   "id": "255c6add",
   "metadata": {
    "papermill": {
     "duration": 0.01143,
     "end_time": "2024-01-23T05:06:04.425307",
     "exception": false,
     "start_time": "2024-01-23T05:06:04.413877",
     "status": "completed"
    },
    "tags": []
   },
   "source": [
    "## Data Transformation"
   ]
  },
  {
   "cell_type": "markdown",
   "id": "6c995038",
   "metadata": {
    "papermill": {
     "duration": 0.011911,
     "end_time": "2024-01-23T05:06:04.511363",
     "exception": false,
     "start_time": "2024-01-23T05:06:04.499452",
     "status": "completed"
    },
    "tags": []
   },
   "source": [
    "- Text Data Processing\n",
    "    - For the \"Name\" column, perform feature extraction using TF-IDF (Term Frequency-Inverse Document Frequency).\n",
    "    - Encode features for \"Sex,\" \"Embarked,\" and \"TicketPref\" using one-hot encoding."
   ]
  },
  {
   "cell_type": "code",
   "execution_count": 38,
   "id": "5b28a5ad",
   "metadata": {
    "execution": {
     "iopub.execute_input": "2024-01-23T05:06:04.538336Z",
     "iopub.status.busy": "2024-01-23T05:06:04.537542Z",
     "iopub.status.idle": "2024-01-23T05:06:05.110036Z",
     "shell.execute_reply": "2024-01-23T05:06:05.108305Z"
    },
    "papermill": {
     "duration": 0.589116,
     "end_time": "2024-01-23T05:06:05.112784",
     "exception": false,
     "start_time": "2024-01-23T05:06:04.523668",
     "status": "completed"
    },
    "tags": []
   },
   "outputs": [],
   "source": [
    "from sklearn.compose import ColumnTransformer\n",
    "from sklearn.pipeline import Pipeline\n",
    "from sklearn.feature_extraction.text import TfidfVectorizer\n",
    "from sklearn.preprocessing import OneHotEncoder, StandardScaler\n",
    "from sklearn.impute import SimpleImputer\n",
    "from sklearn.compose import make_column_selector as selector\n",
    "\n",
    "# Extracting columns with numerical features\n",
    "numeric_columns = selector(dtype_include='number')\n",
    "\n",
    "# Define each step in the pipeline\n",
    "text_transformer = Pipeline(steps=[\n",
    "    ('tfidf', TfidfVectorizer())\n",
    "])\n",
    "\n",
    "categorical_transformer = Pipeline(steps=[\n",
    "    ('onehot', OneHotEncoder(handle_unknown='ignore'))\n",
    "])\n",
    "\n",
    "numeric_transformer = Pipeline(steps=[\n",
    "    ('scaler', StandardScaler())\n",
    "])\n",
    "\n",
    "# Use ColumnTransformer to specify the processing method for each column\n",
    "preprocessor = ColumnTransformer(\n",
    "    transformers=[\n",
    "        ('text', text_transformer, 'Name'),\n",
    "        ('categorical', categorical_transformer, ['Sex', 'Embarked', 'TicketPref']),\n",
    "        ('numeric', numeric_transformer, numeric_columns)\n",
    "    ])\n",
    "\n",
    "# Create a complete pipeline\n",
    "pipeline = Pipeline(steps=[('preprocessor', preprocessor)])\n",
    "\n",
    "# Use a pipeline to process data\n",
    "X_processed = pipeline.fit_transform(X)"
   ]
  },
  {
   "cell_type": "markdown",
   "id": "ce9b3c70",
   "metadata": {
    "papermill": {
     "duration": 0.011895,
     "end_time": "2024-01-23T05:06:05.137205",
     "exception": false,
     "start_time": "2024-01-23T05:06:05.125310",
     "status": "completed"
    },
    "tags": []
   },
   "source": [
    "# Step 4: Data Splitting"
   ]
  },
  {
   "cell_type": "code",
   "execution_count": 39,
   "id": "78ad3bf9",
   "metadata": {
    "execution": {
     "iopub.execute_input": "2024-01-23T05:06:05.163488Z",
     "iopub.status.busy": "2024-01-23T05:06:05.162711Z",
     "iopub.status.idle": "2024-01-23T05:06:05.172774Z",
     "shell.execute_reply": "2024-01-23T05:06:05.171781Z"
    },
    "papermill": {
     "duration": 0.025609,
     "end_time": "2024-01-23T05:06:05.174934",
     "exception": false,
     "start_time": "2024-01-23T05:06:05.149325",
     "status": "completed"
    },
    "tags": []
   },
   "outputs": [
    {
     "data": {
      "text/plain": [
       "((712, 1549), (179, 1549), (712,), (179,))"
      ]
     },
     "execution_count": 39,
     "metadata": {},
     "output_type": "execute_result"
    }
   ],
   "source": [
    "from sklearn.model_selection import train_test_split\n",
    "\n",
    "# Splitting the training set and test set\n",
    "X_train, X_test, y_train, y_test = train_test_split(X_processed, y, test_size=0.2, random_state=0)\n",
    "X_train.shape, X_test.shape, y_train.shape, y_test.shape"
   ]
  },
  {
   "cell_type": "markdown",
   "id": "414df77e",
   "metadata": {
    "papermill": {
     "duration": 0.012147,
     "end_time": "2024-01-23T05:06:05.199781",
     "exception": false,
     "start_time": "2024-01-23T05:06:05.187634",
     "status": "completed"
    },
    "tags": []
   },
   "source": [
    "# Step 5: Modeling"
   ]
  },
  {
   "cell_type": "code",
   "execution_count": 40,
   "id": "173f5ff3",
   "metadata": {
    "execution": {
     "iopub.execute_input": "2024-01-23T05:06:05.226242Z",
     "iopub.status.busy": "2024-01-23T05:06:05.225726Z",
     "iopub.status.idle": "2024-01-23T05:06:31.440556Z",
     "shell.execute_reply": "2024-01-23T05:06:31.439219Z"
    },
    "papermill": {
     "duration": 26.231286,
     "end_time": "2024-01-23T05:06:31.443385",
     "exception": false,
     "start_time": "2024-01-23T05:06:05.212099",
     "status": "completed"
    },
    "tags": []
   },
   "outputs": [
    {
     "name": "stdout",
     "output_type": "stream",
     "text": [
      "Best Parameters:  {'C': 10.0, 'max_iter': 38}\n",
      "Accuracy: 0.8379888268156425\n",
      "              precision    recall  f1-score   support\n",
      "\n",
      "           0       0.86      0.88      0.87       110\n",
      "           1       0.80      0.77      0.79        69\n",
      "\n",
      "    accuracy                           0.84       179\n",
      "   macro avg       0.83      0.82      0.83       179\n",
      "weighted avg       0.84      0.84      0.84       179\n",
      "\n"
     ]
    }
   ],
   "source": [
    "from sklearn.linear_model import LogisticRegression\n",
    "from sklearn.model_selection import GridSearchCV\n",
    "from sklearn.metrics import make_scorer, accuracy_score, classification_report\n",
    "import numpy as np\n",
    "\n",
    "# Create Logistic Regression \n",
    "lr = LogisticRegression()\n",
    "\n",
    "# Define parameter grid\n",
    "param_grid = {\n",
    "    'C': np.logspace(-3, 3, 7),\n",
    "    'max_iter': list(range(5, 50, 1)),\n",
    "}\n",
    "\n",
    "# Set the scoring metric\n",
    "scorer = make_scorer(accuracy_score)\n",
    "\n",
    "# Create GridSearchCV object\n",
    "grid_search = GridSearchCV(\n",
    "    estimator=lr,\n",
    "    param_grid=param_grid,\n",
    "    scoring=scorer,\n",
    "    cv=5 # Using 5-fold cross-validation\n",
    ")\n",
    "\n",
    "# Run grid search\n",
    "grid_search.fit(X_train, y_train)\n",
    "\n",
    "# Output the best parameters\n",
    "print(\"Best Parameters: \", grid_search.best_params_)\n",
    "\n",
    "# Evaluate the model on the test set\n",
    "lr_model = grid_search.best_estimator_\n",
    "y_pred = lr_model.predict(X_test)\n",
    "\n",
    "# Evaluation\n",
    "accuracy = accuracy_score(y_test, y_pred)\n",
    "print(f\"Accuracy: {accuracy}\")\n",
    "print(classification_report(y_test, y_pred))"
   ]
  },
  {
   "cell_type": "code",
   "execution_count": 41,
   "id": "3db25105",
   "metadata": {
    "execution": {
     "iopub.execute_input": "2024-01-23T05:06:31.470603Z",
     "iopub.status.busy": "2024-01-23T05:06:31.470155Z",
     "iopub.status.idle": "2024-01-23T05:06:31.977242Z",
     "shell.execute_reply": "2024-01-23T05:06:31.975979Z"
    },
    "papermill": {
     "duration": 0.523287,
     "end_time": "2024-01-23T05:06:31.979526",
     "exception": false,
     "start_time": "2024-01-23T05:06:31.456239",
     "status": "completed"
    },
    "tags": []
   },
   "outputs": [
    {
     "data": {
      "image/png": "[encoded data removed]",
      "text/plain": [
       "<Figure size 900x400 with 3 Axes>"
      ]
     },
     "metadata": {},
     "output_type": "display_data"
    }
   ],
   "source": [
    "from sklearn.metrics import roc_curve, roc_auc_score\n",
    "from sklearn.metrics import confusion_matrix\n",
    "\n",
    "# Predicted probability scores\n",
    "y_scores = lr_model.predict_proba(X_test)[:, 1]\n",
    "\n",
    "fig, axes = plt.subplots(1, 2, figsize=(9, 4), gridspec_kw={'wspace': 0.3, 'top':0.85})\n",
    "fig.suptitle('ROC Curve & Confusion matrix')\n",
    "\n",
    "# Calculate the values of the ROC curve\n",
    "fpr, tpr, thresholds = roc_curve(y_test, y_scores)\n",
    "# Calculate AUC（Area Under the Curve）\n",
    "auc = roc_auc_score(y_test, y_scores)\n",
    "\n",
    "plt.sca(axes[0])\n",
    "plt.plot(fpr, tpr, label=f'AUC = {auc:.2f}')\n",
    "plt.plot([0, 1], [0, 1], 'k--', label='Random')\n",
    "plt.xlabel('False Positive Rate')\n",
    "plt.ylabel('True Positive Rate')\n",
    "plt.title('Logistic Regression ')\n",
    "plt.legend()\n",
    "\n",
    "plt.sca(axes[1])\n",
    "y_pred = lr_model.predict(X_test)\n",
    "cm = confusion_matrix(y_test, y_pred)\n",
    "sns.heatmap(cm, annot=True, cmap='Blues', fmt='g', linewidths=.5)\n",
    "plt.title('Logistic Regression ')\n",
    "plt.xlabel('Predicted Labels')\n",
    "plt.ylabel('Real Labels')\n",
    "plt.show()"
   ]
  },
  {
   "cell_type": "markdown",
   "id": "b58b4e28",
   "metadata": {
    "papermill": {
     "duration": 0.013346,
     "end_time": "2024-01-23T05:06:32.007019",
     "exception": false,
     "start_time": "2024-01-23T05:06:31.993673",
     "status": "completed"
    },
    "tags": []
   },
   "source": [
    "# Step 6: Predicting"
   ]
  },
  {
   "cell_type": "code",
   "execution_count": 42,
   "id": "26f0fc57",
   "metadata": {
    "execution": {
     "iopub.execute_input": "2024-01-23T05:06:32.036762Z",
     "iopub.status.busy": "2024-01-23T05:06:32.036301Z",
     "iopub.status.idle": "2024-01-23T05:06:32.072495Z",
     "shell.execute_reply": "2024-01-23T05:06:32.071363Z"
    },
    "papermill": {
     "duration": 0.053643,
     "end_time": "2024-01-23T05:06:32.075032",
     "exception": false,
     "start_time": "2024-01-23T05:06:32.021389",
     "status": "completed"
    },
    "tags": []
   },
   "outputs": [
    {
     "data": {
      "text/html": [
       "<div>\n",
       "<style scoped>\n",
       "    .dataframe tbody tr th:only-of-type {\n",
       "        vertical-align: middle;\n",
       "    }\n",
       "\n",
       "    .dataframe tbody tr th {\n",
       "        vertical-align: top;\n",
       "    }\n",
       "\n",
       "    .dataframe thead th {\n",
       "        text-align: right;\n",
       "    }\n",
       "</style>\n",
       "<table border=\"1\" class=\"dataframe\">\n",
       "  <thead>\n",
       "    <tr style=\"text-align: right;\">\n",
       "      <th></th>\n",
       "      <th>Pclass</th>\n",
       "      <th>Name</th>\n",
       "      <th>Sex</th>\n",
       "      <th>Age</th>\n",
       "      <th>SibSp</th>\n",
       "      <th>Parch</th>\n",
       "      <th>Fare</th>\n",
       "      <th>Embarked</th>\n",
       "      <th>TicketPref</th>\n",
       "      <th>TicketID</th>\n",
       "    </tr>\n",
       "  </thead>\n",
       "  <tbody>\n",
       "    <tr>\n",
       "      <th>360</th>\n",
       "      <td>3</td>\n",
       "      <td>Sage Master William Henry</td>\n",
       "      <td>male</td>\n",
       "      <td>14.500000</td>\n",
       "      <td>8</td>\n",
       "      <td>2</td>\n",
       "      <td>69.5500</td>\n",
       "      <td>S</td>\n",
       "      <td>ca</td>\n",
       "      <td>2343</td>\n",
       "    </tr>\n",
       "    <tr>\n",
       "      <th>170</th>\n",
       "      <td>3</td>\n",
       "      <td>Lithman Mr Simon</td>\n",
       "      <td>male</td>\n",
       "      <td>32.000000</td>\n",
       "      <td>0</td>\n",
       "      <td>0</td>\n",
       "      <td>7.5500</td>\n",
       "      <td>S</td>\n",
       "      <td>sopp</td>\n",
       "      <td>251</td>\n",
       "    </tr>\n",
       "    <tr>\n",
       "      <th>224</th>\n",
       "      <td>1</td>\n",
       "      <td>Candee Mrs Edward Helen Churchill Hungerford</td>\n",
       "      <td>female</td>\n",
       "      <td>53.000000</td>\n",
       "      <td>0</td>\n",
       "      <td>0</td>\n",
       "      <td>27.4458</td>\n",
       "      <td>C</td>\n",
       "      <td>pc</td>\n",
       "      <td>17606</td>\n",
       "    </tr>\n",
       "    <tr>\n",
       "      <th>358</th>\n",
       "      <td>3</td>\n",
       "      <td>O'Keefe Mr Patrick</td>\n",
       "      <td>male</td>\n",
       "      <td>21.774844</td>\n",
       "      <td>0</td>\n",
       "      <td>0</td>\n",
       "      <td>7.7500</td>\n",
       "      <td>Q</td>\n",
       "      <td>nan</td>\n",
       "      <td>368402</td>\n",
       "    </tr>\n",
       "    <tr>\n",
       "      <th>309</th>\n",
       "      <td>3</td>\n",
       "      <td>Hansen Mrs Claus Peter Jennie L Howard</td>\n",
       "      <td>female</td>\n",
       "      <td>45.000000</td>\n",
       "      <td>1</td>\n",
       "      <td>0</td>\n",
       "      <td>14.1083</td>\n",
       "      <td>S</td>\n",
       "      <td>nan</td>\n",
       "      <td>350026</td>\n",
       "    </tr>\n",
       "  </tbody>\n",
       "</table>\n",
       "</div>"
      ],
      "text/plain": [
       "     Pclass                                          Name     Sex        Age  \\\n",
       "360       3                     Sage Master William Henry    male  14.500000   \n",
       "170       3                              Lithman Mr Simon    male  32.000000   \n",
       "224       1  Candee Mrs Edward Helen Churchill Hungerford  female  53.000000   \n",
       "358       3                            O'Keefe Mr Patrick    male  21.774844   \n",
       "309       3        Hansen Mrs Claus Peter Jennie L Howard  female  45.000000   \n",
       "\n",
       "     SibSp  Parch     Fare Embarked TicketPref  TicketID  \n",
       "360      8      2  69.5500        S         ca      2343  \n",
       "170      0      0   7.5500        S       sopp       251  \n",
       "224      0      0  27.4458        C         pc     17606  \n",
       "358      0      0   7.7500        Q        nan    368402  \n",
       "309      1      0  14.1083        S        nan    350026  "
      ]
     },
     "execution_count": 42,
     "metadata": {},
     "output_type": "execute_result"
    }
   ],
   "source": [
    "# Load the test set\n",
    "test = pd.read_csv(\"test.csv\")\n",
    "\n",
    "# Data preprocessing\n",
    "test['NameTitle'] = test['Name'].apply(name_title)\n",
    "group_means = test.groupby('NameTitle')['Age'].mean()\n",
    "test['Age'].fillna(df['NameTitle'].map(group_means), inplace=True)\n",
    "test['Fare'].fillna(test['Fare'].mean(), inplace=True)\n",
    "test['Name'] = test['Name'].apply(remove_noise)\n",
    "test['TicketPref'] = test['Ticket'].apply(ticket_pref)\n",
    "test['TicketID'] = test['Ticket'].apply(ticket_ID)\n",
    "test.drop(['PassengerId', 'Ticket', 'Cabin', 'NameTitle'], axis=1, inplace=True)\n",
    "test.sample(5, random_state=0)\n"
   ]
  },
  {
   "cell_type": "code",
   "execution_count": 43,
   "id": "1b4e4134",
   "metadata": {
    "execution": {
     "iopub.execute_input": "2024-01-23T05:06:32.104400Z",
     "iopub.status.busy": "2024-01-23T05:06:32.103968Z",
     "iopub.status.idle": "2024-01-23T05:06:32.123531Z",
     "shell.execute_reply": "2024-01-23T05:06:32.122197Z"
    },
    "papermill": {
     "duration": 0.037717,
     "end_time": "2024-01-23T05:06:32.126170",
     "exception": false,
     "start_time": "2024-01-23T05:06:32.088453",
     "status": "completed"
    },
    "tags": []
   },
   "outputs": [
    {
     "data": {
      "text/plain": [
       "(418, 1549)"
      ]
     },
     "execution_count": 43,
     "metadata": {},
     "output_type": "execute_result"
    }
   ],
   "source": [
    "# Data Transformation\n",
    "X_test_processed = pipeline.transform(test)\n",
    "X_test_processed.shape"
   ]
  },
  {
   "cell_type": "code",
   "execution_count": 44,
   "id": "006d05cd",
   "metadata": {
    "execution": {
     "iopub.execute_input": "2024-01-23T05:06:32.155976Z",
     "iopub.status.busy": "2024-01-23T05:06:32.154915Z",
     "iopub.status.idle": "2024-01-23T05:06:32.171366Z",
     "shell.execute_reply": "2024-01-23T05:06:32.170062Z"
    },
    "papermill": {
     "duration": 0.033877,
     "end_time": "2024-01-23T05:06:32.173982",
     "exception": false,
     "start_time": "2024-01-23T05:06:32.140105",
     "status": "completed"
    },
    "tags": []
   },
   "outputs": [
    {
     "name": "stdout",
     "output_type": "stream",
     "text": [
      "Your submission was successfully saved!\n"
     ]
    }
   ],
   "source": [
    "# Predicting\n",
    "val = lr_model.predict(X_test_processed)\n",
    "sub = pd.read_csv(\"gender_submission.csv\")\n",
    "sub['Survived'] = val\n",
    "sub.to_csv('submission.csv', index=False)\n",
    "print(\"Your submission was successfully saved!\")"
   ]
  }
 ],
 "metadata": {
  "kaggle": {
   "accelerator": "none",
   "dataSources": [
    {
     "databundleVersionId": 26502,
     "sourceId": 3136,
     "sourceType": "competition"
    }
   ],
   "dockerImageVersionId": 30635,
   "isGpuEnabled": false,
   "isInternetEnabled": true,
   "language": "python",
   "sourceType": "notebook"
  },
  "kernelspec": {
   "display_name": "Python 3",
   "language": "python",
   "name": "python3"
  },
  "language_info": {
   "codemirror_mode": {
    "name": "ipython",
    "version": 3
   },
   "file_extension": ".py",
   "mimetype": "text/x-python",
   "name": "python",
   "nbconvert_exporter": "python",
   "pygments_lexer": "ipython3",
   "version": "3.12.2"
  },
  "papermill": {
   "default_parameters": {},
   "duration": 38.397369,
   "end_time": "2024-01-23T05:06:32.908757",
   "environment_variables": {},
   "exception": null,
   "input_path": "__notebook__.ipynb",
   "output_path": "__notebook__.ipynb",
   "parameters": {},
   "start_time": "2024-01-23T05:05:54.511388",
   "version": "2.4.0"
  }
 },
 "nbformat": 4,
 "nbformat_minor": 5
}
